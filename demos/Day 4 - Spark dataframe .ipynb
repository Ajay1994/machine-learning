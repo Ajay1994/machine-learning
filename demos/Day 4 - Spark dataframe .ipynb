{
 "cells": [
  {
   "cell_type": "code",
   "execution_count": 1,
   "metadata": {},
   "outputs": [
    {
     "data": {
      "text/html": [
       "\n",
       "            <div>\n",
       "                <p><b>SparkSession - hive</b></p>\n",
       "                \n",
       "        <div>\n",
       "            <p><b>SparkContext</b></p>\n",
       "\n",
       "            <p><a href=\"http://10.0.2.15:4040\">Spark UI</a></p>\n",
       "\n",
       "            <dl>\n",
       "              <dt>Version</dt>\n",
       "                <dd><code>v2.3.0</code></dd>\n",
       "              <dt>Master</dt>\n",
       "                <dd><code>local[*]</code></dd>\n",
       "              <dt>AppName</dt>\n",
       "                <dd><code>PySparkShell</code></dd>\n",
       "            </dl>\n",
       "        </div>\n",
       "        \n",
       "            </div>\n",
       "        "
      ],
      "text/plain": [
       "<pyspark.sql.session.SparkSession at 0x7f62c0cf5be0>"
      ]
     },
     "execution_count": 1,
     "metadata": {},
     "output_type": "execute_result"
    }
   ],
   "source": [
    "spark"
   ]
  },
  {
   "cell_type": "code",
   "execution_count": 5,
   "metadata": {},
   "outputs": [
    {
     "name": "stdout",
     "output_type": "stream",
     "text": [
      "+-------+--------------------+--------------------+\n",
      "|movieId|               title|              genres|\n",
      "+-------+--------------------+--------------------+\n",
      "|      1|    Toy Story (1995)|Adventure|Animati...|\n",
      "|      2|      Jumanji (1995)|Adventure|Childre...|\n",
      "|      3|Grumpier Old Men ...|      Comedy|Romance|\n",
      "|      4|Waiting to Exhale...|Comedy|Drama|Romance|\n",
      "|      5|Father of the Bri...|              Comedy|\n",
      "|      6|         Heat (1995)|Action|Crime|Thri...|\n",
      "|      7|      Sabrina (1995)|      Comedy|Romance|\n",
      "|      8| Tom and Huck (1995)|  Adventure|Children|\n",
      "|      9| Sudden Death (1995)|              Action|\n",
      "|     10|    GoldenEye (1995)|Action|Adventure|...|\n",
      "|     11|American Presiden...|Comedy|Drama|Romance|\n",
      "|     12|Dracula: Dead and...|       Comedy|Horror|\n",
      "|     13|        Balto (1995)|Adventure|Animati...|\n",
      "|     14|        Nixon (1995)|               Drama|\n",
      "|     15|Cutthroat Island ...|Action|Adventure|...|\n",
      "|     16|       Casino (1995)|         Crime|Drama|\n",
      "|     17|Sense and Sensibi...|       Drama|Romance|\n",
      "|     18|   Four Rooms (1995)|              Comedy|\n",
      "|     19|Ace Ventura: When...|              Comedy|\n",
      "|     20|  Money Train (1995)|Action|Comedy|Cri...|\n",
      "+-------+--------------------+--------------------+\n",
      "only showing top 20 rows\n",
      "\n"
     ]
    }
   ],
   "source": [
    "movies = spark.read.format(\"csv\").option(\"header\", True).option(\"inferSchema\", True).load(\"/data/movielens/movies.csv\")\n",
    "movies.show()"
   ]
  },
  {
   "cell_type": "code",
   "execution_count": 6,
   "metadata": {},
   "outputs": [
    {
     "name": "stdout",
     "output_type": "stream",
     "text": [
      "root\n",
      " |-- movieId: integer (nullable = true)\n",
      " |-- title: string (nullable = true)\n",
      " |-- genres: string (nullable = true)\n",
      "\n"
     ]
    }
   ],
   "source": [
    "movies.printSchema()"
   ]
  },
  {
   "cell_type": "code",
   "execution_count": 7,
   "metadata": {},
   "outputs": [
    {
     "name": "stdout",
     "output_type": "stream",
     "text": [
      "+------+-------+------+----------+\n",
      "|userId|movieId|rating| timestamp|\n",
      "+------+-------+------+----------+\n",
      "|     1|     16|   4.0|1217897793|\n",
      "|     1|     24|   1.5|1217895807|\n",
      "|     1|     32|   4.0|1217896246|\n",
      "|     1|     47|   4.0|1217896556|\n",
      "|     1|     50|   4.0|1217896523|\n",
      "|     1|    110|   4.0|1217896150|\n",
      "|     1|    150|   3.0|1217895940|\n",
      "|     1|    161|   4.0|1217897864|\n",
      "|     1|    165|   3.0|1217897135|\n",
      "|     1|    204|   0.5|1217895786|\n",
      "|     1|    223|   4.0|1217897795|\n",
      "|     1|    256|   0.5|1217895764|\n",
      "|     1|    260|   4.5|1217895864|\n",
      "|     1|    261|   1.5|1217895750|\n",
      "|     1|    277|   0.5|1217895772|\n",
      "|     1|    296|   4.0|1217896125|\n",
      "|     1|    318|   4.0|1217895860|\n",
      "|     1|    349|   4.5|1217897058|\n",
      "|     1|    356|   3.0|1217896231|\n",
      "|     1|    377|   2.5|1217896373|\n",
      "+------+-------+------+----------+\n",
      "only showing top 20 rows\n",
      "\n"
     ]
    }
   ],
   "source": [
    "ratings = spark.read.format(\"csv\").option(\"header\", True).option(\"inferSchema\", True).load(\"/data/movielens/ratings.csv\")\n",
    "ratings.show()"
   ]
  },
  {
   "cell_type": "code",
   "execution_count": 8,
   "metadata": {},
   "outputs": [
    {
     "name": "stdout",
     "output_type": "stream",
     "text": [
      "root\n",
      " |-- userId: integer (nullable = true)\n",
      " |-- movieId: integer (nullable = true)\n",
      " |-- rating: double (nullable = true)\n",
      " |-- timestamp: integer (nullable = true)\n",
      "\n"
     ]
    }
   ],
   "source": [
    "ratings.printSchema()"
   ]
  },
  {
   "cell_type": "markdown",
   "metadata": {},
   "source": [
    "# Dataframe DSL ... these are functions simiar to pandas dataframe ... another way will be to use sql .. that will see next"
   ]
  },
  {
   "cell_type": "code",
   "execution_count": 9,
   "metadata": {},
   "outputs": [],
   "source": [
    "from pyspark.sql.functions import * "
   ]
  },
  {
   "cell_type": "code",
   "execution_count": 17,
   "metadata": {},
   "outputs": [
    {
     "name": "stdout",
     "output_type": "stream",
     "text": [
      "+------------------+-------+--------------------------------------+\n",
      "|avg_rating        |movieId|title                                 |\n",
      "+------------------+-------+--------------------------------------+\n",
      "|4.454545454545454 |318    |Shawshank Redemption, The (1994)      |\n",
      "|4.392857142857143 |858    |Godfather, The (1972)                 |\n",
      "|4.328947368421052 |50     |Usual Suspects, The (1995)            |\n",
      "|4.3019480519480515|1136   |Monty Python and the Holy Grail (1975)|\n",
      "|4.296370967741935 |527    |Schindler's List (1993)               |\n",
      "|4.2727272727272725|1193   |One Flew Over the Cuckoo's Nest (1975)|\n",
      "|4.2711442786069655|608    |Fargo (1996)                          |\n",
      "|4.264367816091954 |2571   |Matrix, The (1999)                    |\n",
      "|4.260714285714286 |1221   |Godfather: Part II, The (1974)        |\n",
      "|4.2592592592592595|1213   |Goodfellas (1990)                     |\n",
      "+------------------+-------+--------------------------------------+\n",
      "\n"
     ]
    }
   ],
   "source": [
    "(ratings\n",
    " .groupBy(\"movieId\")\n",
    " .agg(avg(\"rating\").alias(\"avg_rating\"), count(\"rating\").alias(\"rating_count\"))\n",
    " .filter(\"rating_count>=100\")\n",
    " .alias(\"t1\")\n",
    " .join(movies.alias(\"t2\"), col(\"t1.movieId\")==col(\"t2.movieId\"))\n",
    " .select(\"avg_rating\", \"t1.movieId\", \"t2.title\")\n",
    " .orderBy(desc(\"avg_rating\"))\n",
    " .limit(10)\n",
    ").show(10, False)"
   ]
  },
  {
   "cell_type": "markdown",
   "metadata": {},
   "source": [
    "# Spark SQL"
   ]
  },
  {
   "cell_type": "code",
   "execution_count": 18,
   "metadata": {},
   "outputs": [],
   "source": [
    "movies.createOrReplaceTempView(\"movies\")\n",
    "ratings.createOrReplaceTempView(\"ratings\")"
   ]
  },
  {
   "cell_type": "code",
   "execution_count": 19,
   "metadata": {},
   "outputs": [
    {
     "name": "stdout",
     "output_type": "stream",
     "text": [
      "+--------+---------+-----------+\n",
      "|database|tableName|isTemporary|\n",
      "+--------+---------+-----------+\n",
      "|        |   movies|       true|\n",
      "|        |  ratings|       true|\n",
      "+--------+---------+-----------+\n",
      "\n"
     ]
    }
   ],
   "source": [
    "sql(\"show tables\").show()"
   ]
  },
  {
   "cell_type": "code",
   "execution_count": 20,
   "metadata": {},
   "outputs": [
    {
     "name": "stdout",
     "output_type": "stream",
     "text": [
      "+-------+--------------------------------------+------------------+\n",
      "|movieId|title                                 |avg_rating        |\n",
      "+-------+--------------------------------------+------------------+\n",
      "|318    |Shawshank Redemption, The (1994)      |4.454545454545454 |\n",
      "|858    |Godfather, The (1972)                 |4.392857142857143 |\n",
      "|50     |Usual Suspects, The (1995)            |4.328947368421052 |\n",
      "|1136   |Monty Python and the Holy Grail (1975)|4.3019480519480515|\n",
      "|527    |Schindler's List (1993)               |4.296370967741935 |\n",
      "|1193   |One Flew Over the Cuckoo's Nest (1975)|4.2727272727272725|\n",
      "|608    |Fargo (1996)                          |4.2711442786069655|\n",
      "|2571   |Matrix, The (1999)                    |4.264367816091954 |\n",
      "|1221   |Godfather: Part II, The (1974)        |4.260714285714286 |\n",
      "|1213   |Goodfellas (1990)                     |4.2592592592592595|\n",
      "+-------+--------------------------------------+------------------+\n",
      "\n"
     ]
    }
   ],
   "source": [
    "sql(\"\"\"\n",
    "\n",
    "select \n",
    "\n",
    "t1.movieId, t1.title,avg(t2.rating) avg_rating\n",
    "from movies t1 join ratings t2 on t1.movieId = t2.movieId\n",
    "group by t1.movieId, t1.title\n",
    "having count(*)>100\n",
    "order by avg_rating desc\n",
    "limit 10\n",
    "\n",
    "\"\"\").show(100, False)"
   ]
  },
  {
   "cell_type": "code",
   "execution_count": null,
   "metadata": {},
   "outputs": [],
   "source": []
  }
 ],
 "metadata": {
  "kernelspec": {
   "display_name": "Python 3",
   "language": "python",
   "name": "python3"
  },
  "language_info": {
   "codemirror_mode": {
    "name": "ipython",
    "version": 3
   },
   "file_extension": ".py",
   "mimetype": "text/x-python",
   "name": "python",
   "nbconvert_exporter": "python",
   "pygments_lexer": "ipython3",
   "version": "3.6.5"
  }
 },
 "nbformat": 4,
 "nbformat_minor": 2
}
