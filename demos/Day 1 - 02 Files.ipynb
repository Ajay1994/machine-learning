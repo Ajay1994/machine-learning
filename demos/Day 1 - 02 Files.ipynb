{
 "cells": [
  {
   "cell_type": "markdown",
   "metadata": {},
   "source": [
    "File source:\n",
    "https://raw.githubusercontent.com/abulbasar/data/master/stocks.small.csv"
   ]
  },
  {
   "cell_type": "code",
   "execution_count": 101,
   "metadata": {},
   "outputs": [],
   "source": [
    "f = open(\"/Users/abulbasar/Downloads/stocks.small.csv\", \"r\")"
   ]
  },
  {
   "cell_type": "code",
   "execution_count": 102,
   "metadata": {},
   "outputs": [
    {
     "data": {
      "text/plain": [
       "'date,open,high,low,close,volume,adjclose,symbol\\n'"
      ]
     },
     "execution_count": 102,
     "metadata": {},
     "output_type": "execute_result"
    }
   ],
   "source": [
    "f.readline()"
   ]
  },
  {
   "cell_type": "code",
   "execution_count": 103,
   "metadata": {},
   "outputs": [
    {
     "data": {
      "text/plain": [
       "'2000-07-18,144.8125,144.828125,141.4375,143.0,5.06836E7,50.155473,INTC\\n'"
      ]
     },
     "execution_count": 103,
     "metadata": {},
     "output_type": "execute_result"
    }
   ],
   "source": [
    "f.readline()"
   ]
  },
  {
   "cell_type": "code",
   "execution_count": 104,
   "metadata": {
    "scrolled": false
   },
   "outputs": [
    {
     "data": {
      "text/plain": [
       "['2000-07-20,32.93751,34.25001,32.8125,33.75,3288300.0,8.789734,BEN\\n',\n",
       " '2000-07-24,64.25,67.312477,64.187523,64.75,948800.0,7.689567,APH\\n',\n",
       " '2000-07-26,21.875,22.125,20.9375,20.9375,1464300.0,15.61832,SHW\\n',\n",
       " '2000-07-26,42.0,42.312481,41.625,41.875,1397600.0,9.402721,STJ\\n',\n",
       " '2000-07-31,33.937519,33.999986,33.75,33.875011,273400.0,5.063753,GGP\\n',\n",
       " '2000-08-07,41.375038,43.0,40.812481,42.812481,2.43376E7,4.869542,SBUX\\n',\n",
       " '2000-08-09,55.562481,55.625,54.5,55.0,387600.0,10.495977,EQT\\n',\n",
       " '2000-08-10,49.0,52.625,48.75,52.125,1511600.0,22.539051,BCR\\n',\n",
       " '2000-08-15,35.68749,35.68749,34.875,34.875,1246500.0,9.082726,BEN\\n',\n",
       " '2000-08-23,41.125,41.375,40.187519,40.25,1.96864E7,4.203095,NKE\\n']"
      ]
     },
     "execution_count": 104,
     "metadata": {},
     "output_type": "execute_result"
    }
   ],
   "source": [
    "f.readlines()[:10]"
   ]
  },
  {
   "cell_type": "code",
   "execution_count": 105,
   "metadata": {},
   "outputs": [],
   "source": [
    "f.close()"
   ]
  },
  {
   "cell_type": "code",
   "execution_count": 106,
   "metadata": {},
   "outputs": [
    {
     "data": {
      "text/plain": [
       "True"
      ]
     },
     "execution_count": 106,
     "metadata": {},
     "output_type": "execute_result"
    }
   ],
   "source": [
    "f.closed"
   ]
  },
  {
   "cell_type": "code",
   "execution_count": 7,
   "metadata": {},
   "outputs": [],
   "source": [
    "with open(\"/Users/abulbasar/Downloads/stocks.small.csv\", \"r\") as f:\n",
    "    lines = f.readlines()"
   ]
  },
  {
   "cell_type": "code",
   "execution_count": 9,
   "metadata": {
    "scrolled": false
   },
   "outputs": [
    {
     "data": {
      "text/plain": [
       "['date,open,high,low,close,volume,adjclose,symbol\\n',\n",
       " '2000-07-18,144.8125,144.828125,141.4375,143.0,5.06836E7,50.155473,INTC\\n',\n",
       " '2000-07-20,32.93751,34.25001,32.8125,33.75,3288300.0,8.789734,BEN\\n',\n",
       " '2000-07-24,64.25,67.312477,64.187523,64.75,948800.0,7.689567,APH\\n',\n",
       " '2000-07-26,21.875,22.125,20.9375,20.9375,1464300.0,15.61832,SHW\\n',\n",
       " '2000-07-26,42.0,42.312481,41.625,41.875,1397600.0,9.402721,STJ\\n',\n",
       " '2000-07-31,33.937519,33.999986,33.75,33.875011,273400.0,5.063753,GGP\\n',\n",
       " '2000-08-07,41.375038,43.0,40.812481,42.812481,2.43376E7,4.869542,SBUX\\n',\n",
       " '2000-08-09,55.562481,55.625,54.5,55.0,387600.0,10.495977,EQT\\n',\n",
       " '2000-08-10,49.0,52.625,48.75,52.125,1511600.0,22.539051,BCR\\n']"
      ]
     },
     "execution_count": 9,
     "metadata": {},
     "output_type": "execute_result"
    }
   ],
   "source": [
    "lines[:10]"
   ]
  },
  {
   "cell_type": "code",
   "execution_count": 11,
   "metadata": {},
   "outputs": [
    {
     "data": {
      "text/plain": [
       "1847"
      ]
     },
     "execution_count": 11,
     "metadata": {},
     "output_type": "execute_result"
    }
   ],
   "source": [
    "# Find total number of records\n",
    "len(lines)"
   ]
  },
  {
   "cell_type": "code",
   "execution_count": 13,
   "metadata": {},
   "outputs": [
    {
     "data": {
      "text/plain": [
       "['2000-07-18,144.8125,144.828125,141.4375,143.0,5.06836E7,50.155473,INTC\\n',\n",
       " '2000-07-20,32.93751,34.25001,32.8125,33.75,3288300.0,8.789734,BEN\\n',\n",
       " '2000-07-24,64.25,67.312477,64.187523,64.75,948800.0,7.689567,APH\\n',\n",
       " '2000-07-26,21.875,22.125,20.9375,20.9375,1464300.0,15.61832,SHW\\n',\n",
       " '2000-07-26,42.0,42.312481,41.625,41.875,1397600.0,9.402721,STJ\\n',\n",
       " '2000-07-31,33.937519,33.999986,33.75,33.875011,273400.0,5.063753,GGP\\n',\n",
       " '2000-08-07,41.375038,43.0,40.812481,42.812481,2.43376E7,4.869542,SBUX\\n',\n",
       " '2000-08-09,55.562481,55.625,54.5,55.0,387600.0,10.495977,EQT\\n',\n",
       " '2000-08-10,49.0,52.625,48.75,52.125,1511600.0,22.539051,BCR\\n',\n",
       " '2000-08-15,35.68749,35.68749,34.875,34.875,1246500.0,9.082726,BEN\\n']"
      ]
     },
     "execution_count": 13,
     "metadata": {},
     "output_type": "execute_result"
    }
   ],
   "source": [
    "data = lines[1:]\n",
    "data[:10]"
   ]
  },
  {
   "cell_type": "code",
   "execution_count": 14,
   "metadata": {},
   "outputs": [
    {
     "data": {
      "text/plain": [
       "1846"
      ]
     },
     "execution_count": 14,
     "metadata": {},
     "output_type": "execute_result"
    }
   ],
   "source": [
    "len(data)"
   ]
  },
  {
   "cell_type": "code",
   "execution_count": 16,
   "metadata": {},
   "outputs": [],
   "source": [
    "line = data[0]"
   ]
  },
  {
   "cell_type": "code",
   "execution_count": 17,
   "metadata": {},
   "outputs": [
    {
     "data": {
      "text/plain": [
       "'2000-07-18,144.8125,144.828125,141.4375,143.0,5.06836E7,50.155473,INTC\\n'"
      ]
     },
     "execution_count": 17,
     "metadata": {},
     "output_type": "execute_result"
    }
   ],
   "source": [
    "line"
   ]
  },
  {
   "cell_type": "code",
   "execution_count": 18,
   "metadata": {},
   "outputs": [
    {
     "data": {
      "text/plain": [
       "['2000-07-18',\n",
       " '144.8125',\n",
       " '144.828125',\n",
       " '141.4375',\n",
       " '143.0',\n",
       " '5.06836E7',\n",
       " '50.155473',\n",
       " 'INTC\\n']"
      ]
     },
     "execution_count": 18,
     "metadata": {},
     "output_type": "execute_result"
    }
   ],
   "source": [
    "line.split(\",\")"
   ]
  },
  {
   "cell_type": "code",
   "execution_count": 19,
   "metadata": {},
   "outputs": [
    {
     "data": {
      "text/plain": [
       "'INTC\\n'"
      ]
     },
     "execution_count": 19,
     "metadata": {},
     "output_type": "execute_result"
    }
   ],
   "source": [
    "line.split(\",\")[-1]"
   ]
  },
  {
   "cell_type": "code",
   "execution_count": 20,
   "metadata": {},
   "outputs": [
    {
     "data": {
      "text/plain": [
       "'INTC'"
      ]
     },
     "execution_count": 20,
     "metadata": {},
     "output_type": "execute_result"
    }
   ],
   "source": [
    "line.split(\",\")[-1].replace(\"\\n\", \"\")"
   ]
  },
  {
   "cell_type": "code",
   "execution_count": 24,
   "metadata": {
    "scrolled": true
   },
   "outputs": [
    {
     "data": {
      "text/plain": [
       "['INTC', 'BEN', 'APH', 'SHW', 'STJ', 'GGP', 'SBUX', 'EQT', 'BCR', 'BEN']"
      ]
     },
     "execution_count": 24,
     "metadata": {},
     "output_type": "execute_result"
    }
   ],
   "source": [
    "symbols = [line.split(\",\")[-1].replace(\"\\n\", \"\") for line in data]\n",
    "symbols[:10]"
   ]
  },
  {
   "cell_type": "code",
   "execution_count": 26,
   "metadata": {},
   "outputs": [],
   "source": [
    "result = {} # dict()\n",
    "for v in symbols:\n",
    "    if v in result:\n",
    "        result[v] += 1\n",
    "    else:\n",
    "        result[v] = 1"
   ]
  },
  {
   "cell_type": "code",
   "execution_count": 28,
   "metadata": {
    "scrolled": false
   },
   "outputs": [
    {
     "data": {
      "text/plain": [
       "{'INTC': 4,\n",
       " 'BEN': 6,\n",
       " 'APH': 3,\n",
       " 'SHW': 5,\n",
       " 'STJ': 3,\n",
       " 'GGP': 5,\n",
       " 'SBUX': 6,\n",
       " 'EQT': 7,\n",
       " 'BCR': 6,\n",
       " 'NKE': 8,\n",
       " 'IPG': 5,\n",
       " 'EXC': 4,\n",
       " 'BXP': 5,\n",
       " 'BIIB': 7,\n",
       " 'DD': 1,\n",
       " 'NUE': 8,\n",
       " 'ALK': 7,\n",
       " 'COG': 6,\n",
       " 'ETN': 8,\n",
       " 'DO': 5,\n",
       " 'BSX': 4,\n",
       " 'UPS': 11,\n",
       " 'ENDP': 5,\n",
       " 'WBA': 4,\n",
       " 'PXD': 4,\n",
       " 'STI': 5,\n",
       " 'FDX': 6,\n",
       " 'LLTC': 3,\n",
       " 'RHT': 6,\n",
       " 'O': 5,\n",
       " 'RAI': 5,\n",
       " 'BWA': 4,\n",
       " 'FLIR': 9,\n",
       " 'MET': 5,\n",
       " 'XLNX': 6,\n",
       " 'FCX': 4,\n",
       " 'FOX': 4,\n",
       " 'EMC': 3,\n",
       " 'RHI': 3,\n",
       " 'FISV': 3,\n",
       " 'CINF': 7,\n",
       " 'AGN': 5,\n",
       " 'IP': 7,\n",
       " 'KSS': 5,\n",
       " 'EBAY': 3,\n",
       " 'CMS': 7,\n",
       " 'TROW': 5,\n",
       " 'KR': 9,\n",
       " 'R': 6,\n",
       " 'PNC': 5,\n",
       " 'ED': 7,\n",
       " 'KEY': 1,\n",
       " 'USB': 2,\n",
       " 'MCO': 5,\n",
       " 'HES': 3,\n",
       " 'RCL': 1,\n",
       " 'HON': 3,\n",
       " 'REGN': 5,\n",
       " 'FLR': 3,\n",
       " 'MSI': 3,\n",
       " 'ISRG': 5,\n",
       " 'MYL': 5,\n",
       " 'LEG': 6,\n",
       " 'MOS': 6,\n",
       " 'WMT': 8,\n",
       " 'HD': 3,\n",
       " 'COF': 9,\n",
       " 'MLM': 6,\n",
       " 'ADBE': 2,\n",
       " 'OKE': 5,\n",
       " 'SRE': 3,\n",
       " 'CTAS': 4,\n",
       " 'MMC': 6,\n",
       " 'FMC': 8,\n",
       " 'LLL': 4,\n",
       " 'VMC': 4,\n",
       " 'SLB': 3,\n",
       " 'LRCX': 5,\n",
       " 'SCG': 5,\n",
       " 'SYK': 4,\n",
       " 'BLL': 3,\n",
       " 'CERN': 3,\n",
       " 'ECL': 3,\n",
       " 'HST': 4,\n",
       " 'GILD': 4,\n",
       " 'XL': 3,\n",
       " 'CTXS': 4,\n",
       " 'AIV': 3,\n",
       " 'GLW': 5,\n",
       " 'GE': 7,\n",
       " 'SJM': 5,\n",
       " 'LLY': 7,\n",
       " 'DE': 6,\n",
       " 'HUM': 7,\n",
       " 'EMN': 4,\n",
       " 'F': 3,\n",
       " 'COH': 4,\n",
       " 'MRK': 7,\n",
       " 'PGR': 5,\n",
       " 'AMZN': 7,\n",
       " 'OXY': 4,\n",
       " 'DTE': 4,\n",
       " 'ATVI': 3,\n",
       " 'YUM': 6,\n",
       " 'YHOO': 5,\n",
       " 'NTRS': 5,\n",
       " 'SLG': 6,\n",
       " 'MTB': 7,\n",
       " 'COL': 2,\n",
       " 'GS': 2,\n",
       " 'CNP': 3,\n",
       " 'IFF': 8,\n",
       " 'ETFC': 4,\n",
       " 'MU': 7,\n",
       " 'MKC': 6,\n",
       " 'EA': 3,\n",
       " 'CCL': 6,\n",
       " 'LMT': 4,\n",
       " 'AIG': 5,\n",
       " 'SWK': 5,\n",
       " 'HCP': 5,\n",
       " 'DGX': 5,\n",
       " 'M': 6,\n",
       " 'NEM': 7,\n",
       " 'HOLX': 5,\n",
       " 'LNC': 7,\n",
       " 'CA': 6,\n",
       " 'CCI': 3,\n",
       " 'NFX': 7,\n",
       " 'PHM': 9,\n",
       " 'BBBY': 7,\n",
       " 'EXPD': 6,\n",
       " 'PEG': 6,\n",
       " 'KMB': 8,\n",
       " 'CTSH': 2,\n",
       " 'CAT': 5,\n",
       " 'XRAY': 5,\n",
       " 'PBI': 4,\n",
       " 'BMY': 7,\n",
       " 'WAT': 7,\n",
       " 'CNC': 3,\n",
       " 'UNH': 4,\n",
       " 'SWN': 5,\n",
       " 'DVN': 4,\n",
       " 'VZ': 7,\n",
       " 'DOV': 4,\n",
       " 'SRCL': 1,\n",
       " 'HRS': 4,\n",
       " 'EQR': 5,\n",
       " 'CELG': 3,\n",
       " 'STT': 4,\n",
       " 'JNJ': 8,\n",
       " 'AEE': 4,\n",
       " 'D': 9,\n",
       " 'HSIC': 2,\n",
       " 'CL': 3,\n",
       " 'SCHW': 7,\n",
       " 'AZO': 3,\n",
       " 'MDT': 6,\n",
       " 'ALB': 5,\n",
       " 'PCAR': 3,\n",
       " 'ESS': 4,\n",
       " 'PPL': 4,\n",
       " 'PPG': 8,\n",
       " 'RRC': 4,\n",
       " 'PDCO': 4,\n",
       " 'ROST': 1,\n",
       " 'LH': 2,\n",
       " 'PVH': 6,\n",
       " 'PFG': 6,\n",
       " 'HBAN': 2,\n",
       " 'AMGN': 4,\n",
       " 'APC': 7,\n",
       " 'TSN': 4,\n",
       " 'XRX': 1,\n",
       " 'TYC': 2,\n",
       " 'VRSN': 6,\n",
       " 'HPQ': 6,\n",
       " 'ADM': 6,\n",
       " 'GPN': 5,\n",
       " 'K': 10,\n",
       " 'ADI': 6,\n",
       " 'CHRW': 3,\n",
       " 'WHR': 5,\n",
       " 'JPM': 6,\n",
       " 'TXT': 4,\n",
       " 'PNW': 4,\n",
       " 'MAR': 4,\n",
       " 'SIG': 8,\n",
       " 'AME': 6,\n",
       " 'WY': 3,\n",
       " 'HP': 4,\n",
       " 'WMB': 5,\n",
       " 'ABT': 6,\n",
       " 'AYI': 5,\n",
       " 'AXP': 3,\n",
       " 'AON': 5,\n",
       " 'DOW': 4,\n",
       " 'ORCL': 1,\n",
       " 'CVX': 5,\n",
       " 'PRU': 2,\n",
       " 'WM': 6,\n",
       " 'PCLN': 2,\n",
       " 'HRB': 2,\n",
       " 'GRMN': 5,\n",
       " 'AES': 7,\n",
       " 'ACN': 2,\n",
       " 'MCD': 2,\n",
       " 'AEP': 3,\n",
       " 'LNT': 3,\n",
       " 'CHK': 5,\n",
       " 'MHK': 3,\n",
       " 'STX': 2,\n",
       " 'CLX': 3,\n",
       " 'NBL': 5,\n",
       " 'ROP': 5,\n",
       " 'KSU': 5,\n",
       " 'DRI': 4,\n",
       " 'EOG': 6,\n",
       " 'CSX': 4,\n",
       " 'DHI': 5,\n",
       " 'CTL': 3,\n",
       " 'RSG': 3,\n",
       " 'EL': 4,\n",
       " 'URI': 2,\n",
       " 'MNST': 4,\n",
       " 'MON': 4,\n",
       " 'TIF': 3,\n",
       " 'BBY': 4,\n",
       " 'BK': 5,\n",
       " 'HAR': 7,\n",
       " 'VLO': 2,\n",
       " 'FTR': 6,\n",
       " 'WDC': 7,\n",
       " 'ROK': 6,\n",
       " 'QCOM': 4,\n",
       " 'BAX': 4,\n",
       " 'MCK': 3,\n",
       " 'FFIV': 4,\n",
       " 'EFX': 3,\n",
       " 'HIG': 3,\n",
       " 'AMAT': 3,\n",
       " 'MSFT': 5,\n",
       " 'AMT': 4,\n",
       " 'ILMN': 5,\n",
       " 'BLK': 5,\n",
       " 'AKAM': 4,\n",
       " 'TSO': 3,\n",
       " 'XOM': 3,\n",
       " 'EW': 2,\n",
       " 'MDLZ': 3,\n",
       " 'LUV': 3,\n",
       " 'IVZ': 4,\n",
       " 'GT': 4,\n",
       " 'LKQ': 4,\n",
       " 'SWKS': 5,\n",
       " 'FE': 2,\n",
       " 'UNP': 5,\n",
       " 'WEC': 2,\n",
       " 'VTR': 6,\n",
       " 'MMM': 2,\n",
       " 'ES': 4,\n",
       " 'CI': 4,\n",
       " 'JWN': 3,\n",
       " 'TSS': 2,\n",
       " 'ESRX': 2,\n",
       " 'ZBH': 11,\n",
       " 'MAS': 5,\n",
       " 'LUK': 5,\n",
       " 'WYNN': 6,\n",
       " 'AA': 5,\n",
       " 'SYY': 7,\n",
       " 'JBHT': 3,\n",
       " 'BBT': 3,\n",
       " 'AET': 5,\n",
       " 'MO': 2,\n",
       " 'PLD': 4,\n",
       " 'EMR': 2,\n",
       " 'CHD': 6,\n",
       " 'AIZ': 4,\n",
       " 'ALL': 3,\n",
       " 'C': 4,\n",
       " 'TRV': 3,\n",
       " 'DLTR': 3,\n",
       " 'GWW': 4,\n",
       " 'APA': 4,\n",
       " 'DLR': 6,\n",
       " 'TAP': 3,\n",
       " 'PG': 5,\n",
       " 'EQIX': 4,\n",
       " 'IR': 3,\n",
       " 'PCG': 4,\n",
       " 'PSA': 6,\n",
       " 'SYMC': 3,\n",
       " 'NTAP': 1,\n",
       " 'WFM': 3,\n",
       " 'ADSK': 4,\n",
       " 'MRO': 3,\n",
       " 'CRM': 3,\n",
       " 'RL': 7,\n",
       " 'DVA': 7,\n",
       " 'KLAC': 4,\n",
       " 'NRG': 2,\n",
       " 'ETR': 5,\n",
       " 'LOW': 5,\n",
       " 'URBN': 6,\n",
       " 'SO': 5,\n",
       " 'CB': 3,\n",
       " 'DUK': 3,\n",
       " 'EXR': 8,\n",
       " 'TMO': 5,\n",
       " 'DNB': 3,\n",
       " 'VRTX': 2,\n",
       " 'NFLX': 2,\n",
       " 'AVB': 4,\n",
       " 'AFL': 3,\n",
       " 'OI': 1,\n",
       " 'CMCSA': 1,\n",
       " 'CAH': 5,\n",
       " 'UHS': 3,\n",
       " 'GOOGL': 1,\n",
       " 'VIAB': 4,\n",
       " 'APD': 4,\n",
       " 'HOT': 3,\n",
       " 'HOG': 4,\n",
       " 'CMI': 8,\n",
       " 'HAL': 3,\n",
       " 'BA': 4,\n",
       " 'GD': 5,\n",
       " 'PX': 7,\n",
       " 'CBS': 3,\n",
       " 'FLS': 4,\n",
       " 'ANTM': 2,\n",
       " 'GPS': 3,\n",
       " 'UTX': 4,\n",
       " 'PFE': 3,\n",
       " 'FOXA': 7,\n",
       " 'NSC': 4,\n",
       " 'KMX': 3,\n",
       " 'XEL': 2,\n",
       " 'ITW': 4,\n",
       " 'AAP': 5,\n",
       " 'EIX': 6,\n",
       " 'AAL': 1,\n",
       " 'TXN': 1,\n",
       " 'INTU': 1,\n",
       " 'MS': 5,\n",
       " 'JNPR': 2,\n",
       " 'AAPL': 3,\n",
       " 'VFC': 2,\n",
       " 'HBI': 1,\n",
       " 'WYN': 5,\n",
       " 'MAT': 2,\n",
       " 'A': 2,\n",
       " 'DHR': 1,\n",
       " 'RF': 2,\n",
       " 'TGNA': 6,\n",
       " 'IBM': 3,\n",
       " 'WFC': 7,\n",
       " 'JCI': 2,\n",
       " 'STZ': 4,\n",
       " 'SPLS': 4,\n",
       " 'MAC': 4,\n",
       " 'TDG': 3,\n",
       " 'UDR': 3,\n",
       " 'WU': 2,\n",
       " 'NI': 4,\n",
       " 'COP': 4,\n",
       " 'SNA': 4,\n",
       " 'TGT': 5,\n",
       " 'XEC': 3,\n",
       " 'GPC': 3,\n",
       " 'DIS': 3,\n",
       " 'HRL': 3,\n",
       " 'VNO': 3,\n",
       " 'IRM': 3,\n",
       " 'PBCT': 5,\n",
       " 'PRGO': 5,\n",
       " 'NOV': 4,\n",
       " 'FAST': 1,\n",
       " 'FL': 4,\n",
       " 'FTI': 2,\n",
       " 'VAR': 3,\n",
       " 'NVDA': 1,\n",
       " 'PEP': 3,\n",
       " 'NWL': 4,\n",
       " 'OMC': 1,\n",
       " 'FRT': 4,\n",
       " 'SE': 3,\n",
       " 'FSLR': 5,\n",
       " 'DFS': 3,\n",
       " 'LM': 2,\n",
       " 'BDX': 2,\n",
       " 'CVS': 2,\n",
       " 'COST': 1,\n",
       " 'HCN': 2,\n",
       " 'AWK': 4,\n",
       " 'GOOG': 3,\n",
       " 'HAS': 3,\n",
       " 'NOC': 3,\n",
       " 'CF': 2,\n",
       " 'TDC': 1,\n",
       " 'MJN': 2,\n",
       " 'AVGO': 3,\n",
       " 'ICE': 2,\n",
       " 'LB': 5,\n",
       " 'FIS': 2,\n",
       " 'TJX': 3,\n",
       " 'RTN': 4,\n",
       " 'CAG': 2,\n",
       " 'ULTA': 1,\n",
       " 'DAL': 2,\n",
       " 'ALXN': 1,\n",
       " 'LYB': 3,\n",
       " 'ABC': 2,\n",
       " 'BAC': 2,\n",
       " 'TEL': 2,\n",
       " 'EXPE': 2,\n",
       " 'ZION': 2,\n",
       " 'UNM': 2,\n",
       " 'ORLY': 2,\n",
       " 'DG': 3,\n",
       " 'CMG': 1,\n",
       " 'MA': 2,\n",
       " 'UAL': 2,\n",
       " 'GIS': 3,\n",
       " 'DISCK': 1,\n",
       " 'CPB': 3,\n",
       " 'L': 1,\n",
       " 'V': 2,\n",
       " 'HSY': 2,\n",
       " 'CXO': 3,\n",
       " 'XYL': 2,\n",
       " 'CSCO': 2,\n",
       " 'AMP': 2,\n",
       " 'UA': 1,\n",
       " 'PNR': 1,\n",
       " 'TWX': 1,\n",
       " 'ADS': 3,\n",
       " 'MUR': 1,\n",
       " 'T': 1,\n",
       " 'PSX': 2,\n",
       " 'KORS': 1,\n",
       " 'SNI': 3,\n",
       " 'GM': 2,\n",
       " 'FBHS': 3,\n",
       " 'KIM': 3,\n",
       " 'PM': 1,\n",
       " 'PKI': 3,\n",
       " 'HCA': 2,\n",
       " 'TSCO': 1,\n",
       " 'SEE': 1,\n",
       " 'FB': 1,\n",
       " 'CME': 1,\n",
       " 'ADP': 1,\n",
       " 'LEN': 2,\n",
       " 'TRIP': 1,\n",
       " 'MPC': 1,\n",
       " 'VRSK': 1,\n",
       " 'LVLT': 1,\n",
       " 'NWS': 2,\n",
       " 'JEC': 3,\n",
       " 'CBG': 1,\n",
       " 'RIG': 1,\n",
       " 'SPGI': 1,\n",
       " 'CMA': 1,\n",
       " 'AMG': 2,\n",
       " 'PWR': 1,\n",
       " 'WRK': 1,\n",
       " 'ALLE': 1,\n",
       " 'MNK': 1}"
      ]
     },
     "execution_count": 28,
     "metadata": {},
     "output_type": "execute_result"
    }
   ],
   "source": [
    "result"
   ]
  },
  {
   "cell_type": "code",
   "execution_count": 29,
   "metadata": {},
   "outputs": [],
   "source": [
    "from collections import Counter"
   ]
  },
  {
   "cell_type": "code",
   "execution_count": 31,
   "metadata": {
    "scrolled": false
   },
   "outputs": [
    {
     "data": {
      "text/plain": [
       "Counter({'INTC': 4,\n",
       "         'BEN': 6,\n",
       "         'APH': 3,\n",
       "         'SHW': 5,\n",
       "         'STJ': 3,\n",
       "         'GGP': 5,\n",
       "         'SBUX': 6,\n",
       "         'EQT': 7,\n",
       "         'BCR': 6,\n",
       "         'NKE': 8,\n",
       "         'IPG': 5,\n",
       "         'EXC': 4,\n",
       "         'BXP': 5,\n",
       "         'BIIB': 7,\n",
       "         'DD': 1,\n",
       "         'NUE': 8,\n",
       "         'ALK': 7,\n",
       "         'COG': 6,\n",
       "         'ETN': 8,\n",
       "         'DO': 5,\n",
       "         'BSX': 4,\n",
       "         'UPS': 11,\n",
       "         'ENDP': 5,\n",
       "         'WBA': 4,\n",
       "         'PXD': 4,\n",
       "         'STI': 5,\n",
       "         'FDX': 6,\n",
       "         'LLTC': 3,\n",
       "         'RHT': 6,\n",
       "         'O': 5,\n",
       "         'RAI': 5,\n",
       "         'BWA': 4,\n",
       "         'FLIR': 9,\n",
       "         'MET': 5,\n",
       "         'XLNX': 6,\n",
       "         'FCX': 4,\n",
       "         'FOX': 4,\n",
       "         'EMC': 3,\n",
       "         'RHI': 3,\n",
       "         'FISV': 3,\n",
       "         'CINF': 7,\n",
       "         'AGN': 5,\n",
       "         'IP': 7,\n",
       "         'KSS': 5,\n",
       "         'EBAY': 3,\n",
       "         'CMS': 7,\n",
       "         'TROW': 5,\n",
       "         'KR': 9,\n",
       "         'R': 6,\n",
       "         'PNC': 5,\n",
       "         'ED': 7,\n",
       "         'KEY': 1,\n",
       "         'USB': 2,\n",
       "         'MCO': 5,\n",
       "         'HES': 3,\n",
       "         'RCL': 1,\n",
       "         'HON': 3,\n",
       "         'REGN': 5,\n",
       "         'FLR': 3,\n",
       "         'MSI': 3,\n",
       "         'ISRG': 5,\n",
       "         'MYL': 5,\n",
       "         'LEG': 6,\n",
       "         'MOS': 6,\n",
       "         'WMT': 8,\n",
       "         'HD': 3,\n",
       "         'COF': 9,\n",
       "         'MLM': 6,\n",
       "         'ADBE': 2,\n",
       "         'OKE': 5,\n",
       "         'SRE': 3,\n",
       "         'CTAS': 4,\n",
       "         'MMC': 6,\n",
       "         'FMC': 8,\n",
       "         'LLL': 4,\n",
       "         'VMC': 4,\n",
       "         'SLB': 3,\n",
       "         'LRCX': 5,\n",
       "         'SCG': 5,\n",
       "         'SYK': 4,\n",
       "         'BLL': 3,\n",
       "         'CERN': 3,\n",
       "         'ECL': 3,\n",
       "         'HST': 4,\n",
       "         'GILD': 4,\n",
       "         'XL': 3,\n",
       "         'CTXS': 4,\n",
       "         'AIV': 3,\n",
       "         'GLW': 5,\n",
       "         'GE': 7,\n",
       "         'SJM': 5,\n",
       "         'LLY': 7,\n",
       "         'DE': 6,\n",
       "         'HUM': 7,\n",
       "         'EMN': 4,\n",
       "         'F': 3,\n",
       "         'COH': 4,\n",
       "         'MRK': 7,\n",
       "         'PGR': 5,\n",
       "         'AMZN': 7,\n",
       "         'OXY': 4,\n",
       "         'DTE': 4,\n",
       "         'ATVI': 3,\n",
       "         'YUM': 6,\n",
       "         'YHOO': 5,\n",
       "         'NTRS': 5,\n",
       "         'SLG': 6,\n",
       "         'MTB': 7,\n",
       "         'COL': 2,\n",
       "         'GS': 2,\n",
       "         'CNP': 3,\n",
       "         'IFF': 8,\n",
       "         'ETFC': 4,\n",
       "         'MU': 7,\n",
       "         'MKC': 6,\n",
       "         'EA': 3,\n",
       "         'CCL': 6,\n",
       "         'LMT': 4,\n",
       "         'AIG': 5,\n",
       "         'SWK': 5,\n",
       "         'HCP': 5,\n",
       "         'DGX': 5,\n",
       "         'M': 6,\n",
       "         'NEM': 7,\n",
       "         'HOLX': 5,\n",
       "         'LNC': 7,\n",
       "         'CA': 6,\n",
       "         'CCI': 3,\n",
       "         'NFX': 7,\n",
       "         'PHM': 9,\n",
       "         'BBBY': 7,\n",
       "         'EXPD': 6,\n",
       "         'PEG': 6,\n",
       "         'KMB': 8,\n",
       "         'CTSH': 2,\n",
       "         'CAT': 5,\n",
       "         'XRAY': 5,\n",
       "         'PBI': 4,\n",
       "         'BMY': 7,\n",
       "         'WAT': 7,\n",
       "         'CNC': 3,\n",
       "         'UNH': 4,\n",
       "         'SWN': 5,\n",
       "         'DVN': 4,\n",
       "         'VZ': 7,\n",
       "         'DOV': 4,\n",
       "         'SRCL': 1,\n",
       "         'HRS': 4,\n",
       "         'EQR': 5,\n",
       "         'CELG': 3,\n",
       "         'STT': 4,\n",
       "         'JNJ': 8,\n",
       "         'AEE': 4,\n",
       "         'D': 9,\n",
       "         'HSIC': 2,\n",
       "         'CL': 3,\n",
       "         'SCHW': 7,\n",
       "         'AZO': 3,\n",
       "         'MDT': 6,\n",
       "         'ALB': 5,\n",
       "         'PCAR': 3,\n",
       "         'ESS': 4,\n",
       "         'PPL': 4,\n",
       "         'PPG': 8,\n",
       "         'RRC': 4,\n",
       "         'PDCO': 4,\n",
       "         'ROST': 1,\n",
       "         'LH': 2,\n",
       "         'PVH': 6,\n",
       "         'PFG': 6,\n",
       "         'HBAN': 2,\n",
       "         'AMGN': 4,\n",
       "         'APC': 7,\n",
       "         'TSN': 4,\n",
       "         'XRX': 1,\n",
       "         'TYC': 2,\n",
       "         'VRSN': 6,\n",
       "         'HPQ': 6,\n",
       "         'ADM': 6,\n",
       "         'GPN': 5,\n",
       "         'K': 10,\n",
       "         'ADI': 6,\n",
       "         'CHRW': 3,\n",
       "         'WHR': 5,\n",
       "         'JPM': 6,\n",
       "         'TXT': 4,\n",
       "         'PNW': 4,\n",
       "         'MAR': 4,\n",
       "         'SIG': 8,\n",
       "         'AME': 6,\n",
       "         'WY': 3,\n",
       "         'HP': 4,\n",
       "         'WMB': 5,\n",
       "         'ABT': 6,\n",
       "         'AYI': 5,\n",
       "         'AXP': 3,\n",
       "         'AON': 5,\n",
       "         'DOW': 4,\n",
       "         'ORCL': 1,\n",
       "         'CVX': 5,\n",
       "         'PRU': 2,\n",
       "         'WM': 6,\n",
       "         'PCLN': 2,\n",
       "         'HRB': 2,\n",
       "         'GRMN': 5,\n",
       "         'AES': 7,\n",
       "         'ACN': 2,\n",
       "         'MCD': 2,\n",
       "         'AEP': 3,\n",
       "         'LNT': 3,\n",
       "         'CHK': 5,\n",
       "         'MHK': 3,\n",
       "         'STX': 2,\n",
       "         'CLX': 3,\n",
       "         'NBL': 5,\n",
       "         'ROP': 5,\n",
       "         'KSU': 5,\n",
       "         'DRI': 4,\n",
       "         'EOG': 6,\n",
       "         'CSX': 4,\n",
       "         'DHI': 5,\n",
       "         'CTL': 3,\n",
       "         'RSG': 3,\n",
       "         'EL': 4,\n",
       "         'URI': 2,\n",
       "         'MNST': 4,\n",
       "         'MON': 4,\n",
       "         'TIF': 3,\n",
       "         'BBY': 4,\n",
       "         'BK': 5,\n",
       "         'HAR': 7,\n",
       "         'VLO': 2,\n",
       "         'FTR': 6,\n",
       "         'WDC': 7,\n",
       "         'ROK': 6,\n",
       "         'QCOM': 4,\n",
       "         'BAX': 4,\n",
       "         'MCK': 3,\n",
       "         'FFIV': 4,\n",
       "         'EFX': 3,\n",
       "         'HIG': 3,\n",
       "         'AMAT': 3,\n",
       "         'MSFT': 5,\n",
       "         'AMT': 4,\n",
       "         'ILMN': 5,\n",
       "         'BLK': 5,\n",
       "         'AKAM': 4,\n",
       "         'TSO': 3,\n",
       "         'XOM': 3,\n",
       "         'EW': 2,\n",
       "         'MDLZ': 3,\n",
       "         'LUV': 3,\n",
       "         'IVZ': 4,\n",
       "         'GT': 4,\n",
       "         'LKQ': 4,\n",
       "         'SWKS': 5,\n",
       "         'FE': 2,\n",
       "         'UNP': 5,\n",
       "         'WEC': 2,\n",
       "         'VTR': 6,\n",
       "         'MMM': 2,\n",
       "         'ES': 4,\n",
       "         'CI': 4,\n",
       "         'JWN': 3,\n",
       "         'TSS': 2,\n",
       "         'ESRX': 2,\n",
       "         'ZBH': 11,\n",
       "         'MAS': 5,\n",
       "         'LUK': 5,\n",
       "         'WYNN': 6,\n",
       "         'AA': 5,\n",
       "         'SYY': 7,\n",
       "         'JBHT': 3,\n",
       "         'BBT': 3,\n",
       "         'AET': 5,\n",
       "         'MO': 2,\n",
       "         'PLD': 4,\n",
       "         'EMR': 2,\n",
       "         'CHD': 6,\n",
       "         'AIZ': 4,\n",
       "         'ALL': 3,\n",
       "         'C': 4,\n",
       "         'TRV': 3,\n",
       "         'DLTR': 3,\n",
       "         'GWW': 4,\n",
       "         'APA': 4,\n",
       "         'DLR': 6,\n",
       "         'TAP': 3,\n",
       "         'PG': 5,\n",
       "         'EQIX': 4,\n",
       "         'IR': 3,\n",
       "         'PCG': 4,\n",
       "         'PSA': 6,\n",
       "         'SYMC': 3,\n",
       "         'NTAP': 1,\n",
       "         'WFM': 3,\n",
       "         'ADSK': 4,\n",
       "         'MRO': 3,\n",
       "         'CRM': 3,\n",
       "         'RL': 7,\n",
       "         'DVA': 7,\n",
       "         'KLAC': 4,\n",
       "         'NRG': 2,\n",
       "         'ETR': 5,\n",
       "         'LOW': 5,\n",
       "         'URBN': 6,\n",
       "         'SO': 5,\n",
       "         'CB': 3,\n",
       "         'DUK': 3,\n",
       "         'EXR': 8,\n",
       "         'TMO': 5,\n",
       "         'DNB': 3,\n",
       "         'VRTX': 2,\n",
       "         'NFLX': 2,\n",
       "         'AVB': 4,\n",
       "         'AFL': 3,\n",
       "         'OI': 1,\n",
       "         'CMCSA': 1,\n",
       "         'CAH': 5,\n",
       "         'UHS': 3,\n",
       "         'GOOGL': 1,\n",
       "         'VIAB': 4,\n",
       "         'APD': 4,\n",
       "         'HOT': 3,\n",
       "         'HOG': 4,\n",
       "         'CMI': 8,\n",
       "         'HAL': 3,\n",
       "         'BA': 4,\n",
       "         'GD': 5,\n",
       "         'PX': 7,\n",
       "         'CBS': 3,\n",
       "         'FLS': 4,\n",
       "         'ANTM': 2,\n",
       "         'GPS': 3,\n",
       "         'UTX': 4,\n",
       "         'PFE': 3,\n",
       "         'FOXA': 7,\n",
       "         'NSC': 4,\n",
       "         'KMX': 3,\n",
       "         'XEL': 2,\n",
       "         'ITW': 4,\n",
       "         'AAP': 5,\n",
       "         'EIX': 6,\n",
       "         'AAL': 1,\n",
       "         'TXN': 1,\n",
       "         'INTU': 1,\n",
       "         'MS': 5,\n",
       "         'JNPR': 2,\n",
       "         'AAPL': 3,\n",
       "         'VFC': 2,\n",
       "         'HBI': 1,\n",
       "         'WYN': 5,\n",
       "         'MAT': 2,\n",
       "         'A': 2,\n",
       "         'DHR': 1,\n",
       "         'RF': 2,\n",
       "         'TGNA': 6,\n",
       "         'IBM': 3,\n",
       "         'WFC': 7,\n",
       "         'JCI': 2,\n",
       "         'STZ': 4,\n",
       "         'SPLS': 4,\n",
       "         'MAC': 4,\n",
       "         'TDG': 3,\n",
       "         'UDR': 3,\n",
       "         'WU': 2,\n",
       "         'NI': 4,\n",
       "         'COP': 4,\n",
       "         'SNA': 4,\n",
       "         'TGT': 5,\n",
       "         'XEC': 3,\n",
       "         'GPC': 3,\n",
       "         'DIS': 3,\n",
       "         'HRL': 3,\n",
       "         'VNO': 3,\n",
       "         'IRM': 3,\n",
       "         'PBCT': 5,\n",
       "         'PRGO': 5,\n",
       "         'NOV': 4,\n",
       "         'FAST': 1,\n",
       "         'FL': 4,\n",
       "         'FTI': 2,\n",
       "         'VAR': 3,\n",
       "         'NVDA': 1,\n",
       "         'PEP': 3,\n",
       "         'NWL': 4,\n",
       "         'OMC': 1,\n",
       "         'FRT': 4,\n",
       "         'SE': 3,\n",
       "         'FSLR': 5,\n",
       "         'DFS': 3,\n",
       "         'LM': 2,\n",
       "         'BDX': 2,\n",
       "         'CVS': 2,\n",
       "         'COST': 1,\n",
       "         'HCN': 2,\n",
       "         'AWK': 4,\n",
       "         'GOOG': 3,\n",
       "         'HAS': 3,\n",
       "         'NOC': 3,\n",
       "         'CF': 2,\n",
       "         'TDC': 1,\n",
       "         'MJN': 2,\n",
       "         'AVGO': 3,\n",
       "         'ICE': 2,\n",
       "         'LB': 5,\n",
       "         'FIS': 2,\n",
       "         'TJX': 3,\n",
       "         'RTN': 4,\n",
       "         'CAG': 2,\n",
       "         'ULTA': 1,\n",
       "         'DAL': 2,\n",
       "         'ALXN': 1,\n",
       "         'LYB': 3,\n",
       "         'ABC': 2,\n",
       "         'BAC': 2,\n",
       "         'TEL': 2,\n",
       "         'EXPE': 2,\n",
       "         'ZION': 2,\n",
       "         'UNM': 2,\n",
       "         'ORLY': 2,\n",
       "         'DG': 3,\n",
       "         'CMG': 1,\n",
       "         'MA': 2,\n",
       "         'UAL': 2,\n",
       "         'GIS': 3,\n",
       "         'DISCK': 1,\n",
       "         'CPB': 3,\n",
       "         'L': 1,\n",
       "         'V': 2,\n",
       "         'HSY': 2,\n",
       "         'CXO': 3,\n",
       "         'XYL': 2,\n",
       "         'CSCO': 2,\n",
       "         'AMP': 2,\n",
       "         'UA': 1,\n",
       "         'PNR': 1,\n",
       "         'TWX': 1,\n",
       "         'ADS': 3,\n",
       "         'MUR': 1,\n",
       "         'T': 1,\n",
       "         'PSX': 2,\n",
       "         'KORS': 1,\n",
       "         'SNI': 3,\n",
       "         'GM': 2,\n",
       "         'FBHS': 3,\n",
       "         'KIM': 3,\n",
       "         'PM': 1,\n",
       "         'PKI': 3,\n",
       "         'HCA': 2,\n",
       "         'TSCO': 1,\n",
       "         'SEE': 1,\n",
       "         'FB': 1,\n",
       "         'CME': 1,\n",
       "         'ADP': 1,\n",
       "         'LEN': 2,\n",
       "         'TRIP': 1,\n",
       "         'MPC': 1,\n",
       "         'VRSK': 1,\n",
       "         'LVLT': 1,\n",
       "         'NWS': 2,\n",
       "         'JEC': 3,\n",
       "         'CBG': 1,\n",
       "         'RIG': 1,\n",
       "         'SPGI': 1,\n",
       "         'CMA': 1,\n",
       "         'AMG': 2,\n",
       "         'PWR': 1,\n",
       "         'WRK': 1,\n",
       "         'ALLE': 1,\n",
       "         'MNK': 1})"
      ]
     },
     "execution_count": 31,
     "metadata": {},
     "output_type": "execute_result"
    }
   ],
   "source": [
    "Counter(symbols)"
   ]
  },
  {
   "cell_type": "markdown",
   "metadata": {},
   "source": [
    "# Exercise: Find avg volume per stock symbol"
   ]
  },
  {
   "cell_type": "code",
   "execution_count": 33,
   "metadata": {},
   "outputs": [
    {
     "data": {
      "text/plain": [
       "'date,open,high,low,close,volume,adjclose,symbol\\n'"
      ]
     },
     "execution_count": 33,
     "metadata": {},
     "output_type": "execute_result"
    }
   ],
   "source": [
    "header = lines[0]\n",
    "header"
   ]
  },
  {
   "cell_type": "code",
   "execution_count": 34,
   "metadata": {},
   "outputs": [
    {
     "data": {
      "text/plain": [
       "['2000-07-18,144.8125,144.828125,141.4375,143.0,5.06836E7,50.155473,INTC\\n',\n",
       " '2000-07-20,32.93751,34.25001,32.8125,33.75,3288300.0,8.789734,BEN\\n',\n",
       " '2000-07-24,64.25,67.312477,64.187523,64.75,948800.0,7.689567,APH\\n',\n",
       " '2000-07-26,21.875,22.125,20.9375,20.9375,1464300.0,15.61832,SHW\\n',\n",
       " '2000-07-26,42.0,42.312481,41.625,41.875,1397600.0,9.402721,STJ\\n',\n",
       " '2000-07-31,33.937519,33.999986,33.75,33.875011,273400.0,5.063753,GGP\\n',\n",
       " '2000-08-07,41.375038,43.0,40.812481,42.812481,2.43376E7,4.869542,SBUX\\n',\n",
       " '2000-08-09,55.562481,55.625,54.5,55.0,387600.0,10.495977,EQT\\n',\n",
       " '2000-08-10,49.0,52.625,48.75,52.125,1511600.0,22.539051,BCR\\n',\n",
       " '2000-08-15,35.68749,35.68749,34.875,34.875,1246500.0,9.082726,BEN\\n']"
      ]
     },
     "execution_count": 34,
     "metadata": {},
     "output_type": "execute_result"
    }
   ],
   "source": [
    "data[:10]"
   ]
  },
  {
   "cell_type": "code",
   "execution_count": 40,
   "metadata": {},
   "outputs": [
    {
     "data": {
      "text/plain": [
       "('INTC', 50683600.0)"
      ]
     },
     "execution_count": 40,
     "metadata": {},
     "output_type": "execute_result"
    }
   ],
   "source": [
    "volumes = [line.split(\",\") for line in data]\n",
    "volumes = [(tokens[7].replace(\"\\n\", \"\"), float(tokens[5])) for tokens in volumes]\n",
    "volumes[0]"
   ]
  },
  {
   "cell_type": "code",
   "execution_count": 44,
   "metadata": {},
   "outputs": [],
   "source": [
    "def avg(values):\n",
    "    total = 0\n",
    "    for v in values:\n",
    "        total += v\n",
    "    return total/len(values)"
   ]
  },
  {
   "cell_type": "code",
   "execution_count": 45,
   "metadata": {},
   "outputs": [],
   "source": [
    "result = {}\n",
    "for pair in volumes:\n",
    "    symbol, volume = pair\n",
    "    if symbol in result:\n",
    "        result[symbol].append(volume)\n",
    "    else:\n",
    "        result[symbol] = [volume]\n",
    "\n",
    "for symbol in result:\n",
    "    volumes_per_symbol = result[symbol]\n",
    "    result[symbol] = avg(volumes_per_symbol)"
   ]
  },
  {
   "cell_type": "code",
   "execution_count": 46,
   "metadata": {
    "scrolled": false
   },
   "outputs": [
    {
     "data": {
      "text/plain": [
       "{'INTC': 74368550.0,\n",
       " 'BEN': 3317050.0,\n",
       " 'APH': 1573366.6666666667,\n",
       " 'SHW': 1028760.0,\n",
       " 'STJ': 1341333.3333333333,\n",
       " 'GGP': 961020.0,\n",
       " 'SBUX': 21040233.333333332,\n",
       " 'EQT': 988628.5714285715,\n",
       " 'BCR': 1557300.0,\n",
       " 'NKE': 13730375.0,\n",
       " 'IPG': 3774960.0,\n",
       " 'EXC': 4272625.0,\n",
       " 'BXP': 561860.0,\n",
       " 'BIIB': 2678871.4285714286,\n",
       " 'DD': 6005600.0,\n",
       " 'NUE': 2655587.5,\n",
       " 'ALK': 2896700.0,\n",
       " 'COG': 4203033.333333333,\n",
       " 'ETN': 2120087.5,\n",
       " 'DO': 1929440.0,\n",
       " 'BSX': 4953450.0,\n",
       " 'UPS': 3431600.0,\n",
       " 'ENDP': 1364540.0,\n",
       " 'WBA': 4418425.0,\n",
       " 'PXD': 1205650.0,\n",
       " 'STI': 4397600.0,\n",
       " 'FDX': 2076366.6666666667,\n",
       " 'LLTC': 4596966.666666667,\n",
       " 'RHT': 2198866.6666666665,\n",
       " 'O': 923700.0,\n",
       " 'RAI': 9824660.0,\n",
       " 'BWA': 1606150.0,\n",
       " 'FLIR': 1176022.2222222222,\n",
       " 'MET': 5447520.0,\n",
       " 'XLNX': 6288650.0,\n",
       " 'FCX': 9204975.0,\n",
       " 'FOX': 2188475.0,\n",
       " 'EMC': 15612966.666666666,\n",
       " 'RHI': 1558700.0,\n",
       " 'FISV': 2424133.3333333335,\n",
       " 'CINF': 511871.4285714286,\n",
       " 'AGN': 1079380.0,\n",
       " 'IP': 3418514.285714286,\n",
       " 'KSS': 3495000.0,\n",
       " 'EBAY': 37022033.333333336,\n",
       " 'CMS': 1328642.857142857,\n",
       " 'TROW': 1943600.0,\n",
       " 'KR': 7185777.777777778,\n",
       " 'R': 577216.6666666666,\n",
       " 'PNC': 1240160.0,\n",
       " 'ED': 1465328.5714285714,\n",
       " 'KEY': 678700.0,\n",
       " 'USB': 20442200.0,\n",
       " 'MCO': 2209460.0,\n",
       " 'HES': 3321400.0,\n",
       " 'RCL': 288900.0,\n",
       " 'HON': 5339766.666666667,\n",
       " 'REGN': 443940.0,\n",
       " 'FLR': 1141266.6666666667,\n",
       " 'MSI': 2858900.0,\n",
       " 'ISRG': 313800.0,\n",
       " 'MYL': 3810540.0,\n",
       " 'LEG': 947050.0,\n",
       " 'MOS': 4765900.0,\n",
       " 'WMT': 12165262.5,\n",
       " 'HD': 5665166.666666667,\n",
       " 'COF': 2539388.888888889,\n",
       " 'MLM': 446933.3333333333,\n",
       " 'ADBE': 4725700.0,\n",
       " 'OKE': 721880.0,\n",
       " 'SRE': 977100.0,\n",
       " 'CTAS': 894150.0,\n",
       " 'MMC': 3433633.3333333335,\n",
       " 'FMC': 1508087.5,\n",
       " 'LLL': 969275.0,\n",
       " 'VMC': 305925.0,\n",
       " 'SLB': 8118533.333333333,\n",
       " 'LRCX': 1732480.0,\n",
       " 'SCG': 509640.0,\n",
       " 'SYK': 1123375.0,\n",
       " 'BLL': 1395600.0,\n",
       " 'CERN': 3339600.0,\n",
       " 'ECL': 727400.0,\n",
       " 'HST': 3896200.0,\n",
       " 'GILD': 17849725.0,\n",
       " 'XL': 706733.3333333334,\n",
       " 'CTXS': 3383825.0,\n",
       " 'AIV': 861200.0,\n",
       " 'GLW': 16825400.0,\n",
       " 'GE': 19689071.42857143,\n",
       " 'SJM': 241580.0,\n",
       " 'LLY': 7320228.571428572,\n",
       " 'DE': 2677016.6666666665,\n",
       " 'HUM': 1194328.5714285714,\n",
       " 'EMN': 1940450.0,\n",
       " 'F': 45860100.0,\n",
       " 'COH': 3772225.0,\n",
       " 'MRK': 12649328.57142857,\n",
       " 'PGR': 4806280.0,\n",
       " 'AMZN': 4936485.714285715,\n",
       " 'OXY': 2683850.0,\n",
       " 'DTE': 717400.0,\n",
       " 'ATVI': 13833733.333333334,\n",
       " 'YUM': 1796916.6666666667,\n",
       " 'YHOO': 23084140.0,\n",
       " 'NTRS': 957440.0,\n",
       " 'SLG': 568800.0,\n",
       " 'MTB': 558000.0,\n",
       " 'COL': 987500.0,\n",
       " 'GS': 3028100.0,\n",
       " 'CNP': 2052466.6666666667,\n",
       " 'IFF': 793962.5,\n",
       " 'ETFC': 3250800.0,\n",
       " 'MU': 15643985.714285715,\n",
       " 'MKC': 697616.6666666666,\n",
       " 'EA': 4029900.0,\n",
       " 'CCL': 4375633.333333333,\n",
       " 'LMT': 2461850.0,\n",
       " 'AIG': 3441720.0,\n",
       " 'SWK': 307360.0,\n",
       " 'HCP': 1020300.0,\n",
       " 'DGX': 2458240.0,\n",
       " 'M': 7819616.666666667,\n",
       " 'NEM': 5721928.571428572,\n",
       " 'HOLX': 1601900.0,\n",
       " 'LNC': 1297542.857142857,\n",
       " 'CA': 4638866.666666667,\n",
       " 'CCI': 2052700.0,\n",
       " 'NFX': 4696585.714285715,\n",
       " 'PHM': 6032566.666666667,\n",
       " 'BBBY': 3099514.285714286,\n",
       " 'EXPD': 1720783.3333333333,\n",
       " 'PEG': 2246566.6666666665,\n",
       " 'KMB': 2134387.5,\n",
       " 'CTSH': 4570400.0,\n",
       " 'CAT': 5437440.0,\n",
       " 'XRAY': 1117300.0,\n",
       " 'PBI': 1205125.0,\n",
       " 'BMY': 10851785.714285715,\n",
       " 'WAT': 1269814.2857142857,\n",
       " 'CNC': 686500.0,\n",
       " 'UNH': 5839525.0,\n",
       " 'SWN': 3471840.0,\n",
       " 'DVN': 2998025.0,\n",
       " 'VZ': 13361771.42857143,\n",
       " 'DOV': 1831675.0,\n",
       " 'SRCL': 2415200.0,\n",
       " 'HRS': 807550.0,\n",
       " 'EQR': 2271100.0,\n",
       " 'CELG': 6731666.666666667,\n",
       " 'STT': 2446100.0,\n",
       " 'JNJ': 7240887.5,\n",
       " 'AEE': 935075.0,\n",
       " 'D': 3944966.6666666665,\n",
       " 'HSIC': 423950.0,\n",
       " 'CL': 5279600.0,\n",
       " 'SCHW': 10880000.0,\n",
       " 'AZO': 1324266.6666666667,\n",
       " 'MDT': 8162916.666666667,\n",
       " 'ALB': 517520.0,\n",
       " 'PCAR': 4456366.666666667,\n",
       " 'ESS': 256350.0,\n",
       " 'PPL': 3513350.0,\n",
       " 'PPG': 1646537.5,\n",
       " 'RRC': 1164175.0,\n",
       " 'PDCO': 2020525.0,\n",
       " 'ROST': 11695200.0,\n",
       " 'LH': 6923700.0,\n",
       " 'PVH': 485500.0,\n",
       " 'PFG': 1820766.6666666667,\n",
       " 'HBAN': 3287250.0,\n",
       " 'AMGN': 8087750.0,\n",
       " 'APC': 5562571.428571428,\n",
       " 'TSN': 2545950.0,\n",
       " 'XRX': 3019200.0,\n",
       " 'TYC': 4874950.0,\n",
       " 'VRSN': 3255733.3333333335,\n",
       " 'HPQ': 36499666.666666664,\n",
       " 'ADM': 4904966.666666667,\n",
       " 'GPN': 1404440.0,\n",
       " 'K': 1819700.0,\n",
       " 'ADI': 2909116.6666666665,\n",
       " 'CHRW': 923433.3333333334,\n",
       " 'WHR': 993280.0,\n",
       " 'JPM': 28355466.666666668,\n",
       " 'TXT': 6431025.0,\n",
       " 'PNW': 776750.0,\n",
       " 'MAR': 2316200.0,\n",
       " 'SIG': 522512.5,\n",
       " 'AME': 1078566.6666666667,\n",
       " 'WY': 1098333.3333333333,\n",
       " 'HP': 1234400.0,\n",
       " 'WMB': 7113100.0,\n",
       " 'ABT': 13140216.666666666,\n",
       " 'AYI': 469540.0,\n",
       " 'AXP': 7597666.666666667,\n",
       " 'AON': 1938700.0,\n",
       " 'DOW': 7248850.0,\n",
       " 'ORCL': 33763500.0,\n",
       " 'CVX': 12557460.0,\n",
       " 'PRU': 2156300.0,\n",
       " 'WM': 2534883.3333333335,\n",
       " 'PCLN': 337700.0,\n",
       " 'HRB': 2871100.0,\n",
       " 'GRMN': 1430320.0,\n",
       " 'AES': 4188585.714285714,\n",
       " 'ACN': 3198850.0,\n",
       " 'MCD': 4023650.0,\n",
       " 'AEP': 1866266.6666666667,\n",
       " 'LNT': 777266.6666666666,\n",
       " 'CHK': 11088000.0,\n",
       " 'MHK': 488166.6666666667,\n",
       " 'STX': 10067050.0,\n",
       " 'CLX': 1308400.0,\n",
       " 'NBL': 2301400.0,\n",
       " 'ROP': 437740.0,\n",
       " 'KSU': 748280.0,\n",
       " 'DRI': 1837225.0,\n",
       " 'EOG': 5887300.0,\n",
       " 'CSX': 12397625.0,\n",
       " 'DHI': 5309640.0,\n",
       " 'CTL': 2446566.6666666665,\n",
       " 'RSG': 1852533.3333333333,\n",
       " 'EL': 1617300.0,\n",
       " 'URI': 242300.0,\n",
       " 'MNST': 1535725.0,\n",
       " 'MON': 4839450.0,\n",
       " 'TIF': 2388533.3333333335,\n",
       " 'BBY': 6257575.0,\n",
       " 'BK': 5108660.0,\n",
       " 'HAR': 384728.5714285714,\n",
       " 'VLO': 7212950.0,\n",
       " 'FTR': 1515016.6666666667,\n",
       " 'WDC': 3105371.4285714286,\n",
       " 'ROK': 965450.0,\n",
       " 'QCOM': 18619800.0,\n",
       " 'BAX': 4606925.0,\n",
       " 'MCK': 1622833.3333333333,\n",
       " 'FFIV': 3853475.0,\n",
       " 'EFX': 960666.6666666666,\n",
       " 'HIG': 1976600.0,\n",
       " 'AMAT': 24336933.333333332,\n",
       " 'MSFT': 41910000.0,\n",
       " 'AMT': 1705000.0,\n",
       " 'ILMN': 600180.0,\n",
       " 'BLK': 428300.0,\n",
       " 'AKAM': 3719875.0,\n",
       " 'TSO': 2181900.0,\n",
       " 'XOM': 27768266.666666668,\n",
       " 'EW': 1601100.0,\n",
       " 'MDLZ': 4347733.333333333,\n",
       " 'LUV': 5567400.0,\n",
       " 'IVZ': 1678425.0,\n",
       " 'GT': 5868025.0,\n",
       " 'LKQ': 1739425.0,\n",
       " 'SWKS': 3889460.0,\n",
       " 'FE': 1210600.0,\n",
       " 'UNP': 4734840.0,\n",
       " 'WEC': 650600.0,\n",
       " 'VTR': 1545000.0,\n",
       " 'MMM': 1826750.0,\n",
       " 'ES': 833175.0,\n",
       " 'CI': 2258075.0,\n",
       " 'JWN': 4782600.0,\n",
       " 'TSS': 820150.0,\n",
       " 'ESRX': 6818900.0,\n",
       " 'ZBH': 1616663.6363636365,\n",
       " 'MAS': 3825620.0,\n",
       " 'LUK': 850760.0,\n",
       " 'WYNN': 3704533.3333333335,\n",
       " 'AA': 21779920.0,\n",
       " 'SYY': 2600685.714285714,\n",
       " 'JBHT': 1140533.3333333333,\n",
       " 'BBT': 3995333.3333333335,\n",
       " 'AET': 5830220.0,\n",
       " 'MO': 12236150.0,\n",
       " 'PLD': 865625.0,\n",
       " 'EMR': 2216700.0,\n",
       " 'CHD': 1024566.6666666666,\n",
       " 'AIZ': 1017925.0,\n",
       " 'ALL': 2904833.3333333335,\n",
       " 'C': 30418400.0,\n",
       " 'TRV': 1547433.3333333333,\n",
       " 'DLTR': 3600733.3333333335,\n",
       " 'GWW': 617975.0,\n",
       " 'APA': 3231675.0,\n",
       " 'DLR': 970933.3333333334,\n",
       " 'TAP': 1464633.3333333333,\n",
       " 'PG': 7123520.0,\n",
       " 'EQIX': 657000.0,\n",
       " 'IR': 2430333.3333333335,\n",
       " 'PCG': 2195725.0,\n",
       " 'PSA': 1536233.3333333333,\n",
       " 'SYMC': 12164733.333333334,\n",
       " 'NTAP': 5664400.0,\n",
       " 'WFM': 4218266.666666667,\n",
       " 'ADSK': 3393800.0,\n",
       " 'MRO': 7989433.333333333,\n",
       " 'CRM': 3919400.0,\n",
       " 'RL': 965371.4285714285,\n",
       " 'DVA': 1617957.142857143,\n",
       " 'KLAC': 6398500.0,\n",
       " 'NRG': 1849950.0,\n",
       " 'ETR': 1577280.0,\n",
       " 'LOW': 12245260.0,\n",
       " 'URBN': 2584266.6666666665,\n",
       " 'SO': 4457060.0,\n",
       " 'CB': 1464700.0,\n",
       " 'DUK': 1975900.0,\n",
       " 'EXR': 766675.0,\n",
       " 'TMO': 1875040.0,\n",
       " 'DNB': 336266.6666666667,\n",
       " 'VRTX': 1641950.0,\n",
       " 'NFLX': 11445350.0,\n",
       " 'AVB': 950200.0,\n",
       " 'AFL': 1896633.3333333333,\n",
       " 'OI': 3161100.0,\n",
       " 'CMCSA': 14453500.0,\n",
       " 'CAH': 1818380.0,\n",
       " 'UHS': 1216600.0,\n",
       " 'GOOGL': 30898200.0,\n",
       " 'VIAB': 5036050.0,\n",
       " 'APD': 1177850.0,\n",
       " 'HOT': 2395933.3333333335,\n",
       " 'HOG': 3821700.0,\n",
       " 'CMI': 3091300.0,\n",
       " 'HAL': 13008866.666666666,\n",
       " 'BA': 4745475.0,\n",
       " 'GD': 1153600.0,\n",
       " 'PX': 1509771.4285714286,\n",
       " 'CBS': 5528166.666666667,\n",
       " 'FLS': 3702975.0,\n",
       " 'ANTM': 3568150.0,\n",
       " 'GPS': 6559233.333333333,\n",
       " 'UTX': 3248425.0,\n",
       " 'PFE': 25643266.666666668,\n",
       " 'FOXA': 9871314.285714285,\n",
       " 'NSC': 2028425.0,\n",
       " 'KMX': 1134533.3333333333,\n",
       " 'XEL': 1071800.0,\n",
       " 'ITW': 2187175.0,\n",
       " 'AAP': 1274240.0,\n",
       " 'EIX': 2322216.6666666665,\n",
       " 'AAL': 2598900.0,\n",
       " 'TXN': 19349200.0,\n",
       " 'INTU': 1918800.0,\n",
       " 'MS': 15517940.0,\n",
       " 'JNPR': 8632750.0,\n",
       " 'AAPL': 166366233.33333334,\n",
       " 'VFC': 2186600.0,\n",
       " 'HBI': 889200.0,\n",
       " 'WYN': 1353540.0,\n",
       " 'MAT': 4054450.0,\n",
       " 'A': 4817800.0,\n",
       " 'DHR': 7628600.0,\n",
       " 'RF': 10235750.0,\n",
       " 'TGNA': 5026883.333333333,\n",
       " 'IBM': 6646900.0,\n",
       " 'WFC': 21810371.42857143,\n",
       " 'JCI': 4317550.0,\n",
       " 'STZ': 2411750.0,\n",
       " 'SPLS': 9147125.0,\n",
       " 'MAC': 1391550.0,\n",
       " 'TDG': 278066.6666666667,\n",
       " 'UDR': 1451866.6666666667,\n",
       " 'WU': 4839500.0,\n",
       " 'NI': 3975425.0,\n",
       " 'COP': 9714225.0,\n",
       " 'SNA': 309300.0,\n",
       " 'TGT': 8144020.0,\n",
       " 'XEC': 1375533.3333333333,\n",
       " 'GPC': 1335533.3333333333,\n",
       " 'DIS': 11843800.0,\n",
       " 'HRL': 1676933.3333333333,\n",
       " 'VNO': 1131200.0,\n",
       " 'IRM': 1202800.0,\n",
       " 'PBCT': 3017960.0,\n",
       " 'PRGO': 1555160.0,\n",
       " 'NOV': 7148625.0,\n",
       " 'FAST': 2375800.0,\n",
       " 'FL': 1979875.0,\n",
       " 'FTI': 4667600.0,\n",
       " 'VAR': 1460900.0,\n",
       " 'NVDA': 20536700.0,\n",
       " 'PEP': 16809966.666666668,\n",
       " 'NWL': 2480075.0,\n",
       " 'OMC': 3241900.0,\n",
       " 'FRT': 1055850.0,\n",
       " 'SE': 3644400.0,\n",
       " 'FSLR': 3052760.0,\n",
       " 'DFS': 7089633.333333333,\n",
       " 'LM': 2529400.0,\n",
       " 'BDX': 1230550.0,\n",
       " 'CVS': 8769950.0,\n",
       " 'COST': 3293000.0,\n",
       " 'HCN': 1490500.0,\n",
       " 'AWK': 1057775.0,\n",
       " 'GOOG': 3965933.3333333335,\n",
       " 'HAS': 1097366.6666666667,\n",
       " 'NOC': 1001200.0,\n",
       " 'CF': 6879500.0,\n",
       " 'TDC': 1737600.0,\n",
       " 'MJN': 1530000.0,\n",
       " 'AVGO': 1899500.0,\n",
       " 'ICE': 757400.0,\n",
       " 'LB': 3098360.0,\n",
       " 'FIS': 2564700.0,\n",
       " 'TJX': 6441666.666666667,\n",
       " 'RTN': 2358850.0,\n",
       " 'CAG': 3291700.0,\n",
       " 'ULTA': 299400.0,\n",
       " 'DAL': 23105000.0,\n",
       " 'ALXN': 1463200.0,\n",
       " 'LYB': 5160866.666666667,\n",
       " 'ABC': 1828200.0,\n",
       " 'BAC': 185000000.0,\n",
       " 'TEL': 4100100.0,\n",
       " 'EXPE': 3929400.0,\n",
       " 'ZION': 3220250.0,\n",
       " 'UNM': 1367550.0,\n",
       " 'ORLY': 1272700.0,\n",
       " 'DG': 1723900.0,\n",
       " 'CMG': 880100.0,\n",
       " 'MA': 7753150.0,\n",
       " 'UAL': 5146450.0,\n",
       " 'GIS': 5997066.666666667,\n",
       " 'DISCK': 1641800.0,\n",
       " 'CPB': 2938166.6666666665,\n",
       " 'L': 1721900.0,\n",
       " 'V': 12193200.0,\n",
       " 'HSY': 1194800.0,\n",
       " 'CXO': 1011933.3333333334,\n",
       " 'XYL': 720950.0,\n",
       " 'CSCO': 34010800.0,\n",
       " 'AMP': 1965750.0,\n",
       " 'UA': 9841600.0,\n",
       " 'PNR': 1110100.0,\n",
       " 'TWX': 7694600.0,\n",
       " 'ADS': 764200.0,\n",
       " 'MUR': 1420900.0,\n",
       " 'T': 38323500.0,\n",
       " 'PSX': 3495000.0,\n",
       " 'KORS': 7858600.0,\n",
       " 'SNI': 569900.0,\n",
       " 'GM': 13861050.0,\n",
       " 'FBHS': 870366.6666666666,\n",
       " 'KIM': 3991400.0,\n",
       " 'PM': 3035900.0,\n",
       " 'PKI': 1071766.6666666667,\n",
       " 'HCA': 3425900.0,\n",
       " 'TSCO': 640400.0,\n",
       " 'SEE': 1540100.0,\n",
       " 'FB': 59999900.0,\n",
       " 'CME': 1689600.0,\n",
       " 'ADP': 1074600.0,\n",
       " 'LEN': 4413150.0,\n",
       " 'TRIP': 4832300.0,\n",
       " 'MPC': 7134400.0,\n",
       " 'VRSK': 656400.0,\n",
       " 'LVLT': 1506300.0,\n",
       " 'NWS': 799700.0,\n",
       " 'JEC': 867166.6666666666,\n",
       " 'CBG': 1904500.0,\n",
       " 'RIG': 4777400.0,\n",
       " 'SPGI': 1899100.0,\n",
       " 'CMA': 2502700.0,\n",
       " 'AMG': 500500.0,\n",
       " 'PWR': 5706700.0,\n",
       " 'WRK': 2397300.0,\n",
       " 'ALLE': 471100.0,\n",
       " 'MNK': 1596400.0}"
      ]
     },
     "execution_count": 46,
     "metadata": {},
     "output_type": "execute_result"
    }
   ],
   "source": [
    "result"
   ]
  },
  {
   "cell_type": "code",
   "execution_count": 47,
   "metadata": {},
   "outputs": [],
   "source": [
    "x = [3, 4, 5]"
   ]
  },
  {
   "cell_type": "code",
   "execution_count": 48,
   "metadata": {},
   "outputs": [],
   "source": [
    "x.append(6)"
   ]
  },
  {
   "cell_type": "code",
   "execution_count": 49,
   "metadata": {},
   "outputs": [
    {
     "data": {
      "text/plain": [
       "[3, 4, 5, 6]"
      ]
     },
     "execution_count": 49,
     "metadata": {},
     "output_type": "execute_result"
    }
   ],
   "source": [
    "x"
   ]
  },
  {
   "cell_type": "code",
   "execution_count": 50,
   "metadata": {},
   "outputs": [],
   "source": [
    "t = (\"GE\", 23.4)"
   ]
  },
  {
   "cell_type": "code",
   "execution_count": 51,
   "metadata": {},
   "outputs": [
    {
     "data": {
      "text/plain": [
       "'GE'"
      ]
     },
     "execution_count": 51,
     "metadata": {},
     "output_type": "execute_result"
    }
   ],
   "source": [
    "symbol = t[0]\n",
    "symbol"
   ]
  },
  {
   "cell_type": "code",
   "execution_count": 52,
   "metadata": {},
   "outputs": [
    {
     "data": {
      "text/plain": [
       "23.4"
      ]
     },
     "execution_count": 52,
     "metadata": {},
     "output_type": "execute_result"
    }
   ],
   "source": [
    "volume = t[1]\n",
    "volume"
   ]
  },
  {
   "cell_type": "code",
   "execution_count": 53,
   "metadata": {},
   "outputs": [],
   "source": [
    "symbol, volume = t"
   ]
  },
  {
   "cell_type": "code",
   "execution_count": 54,
   "metadata": {},
   "outputs": [
    {
     "data": {
      "text/plain": [
       "('GE', 23.4)"
      ]
     },
     "execution_count": 54,
     "metadata": {},
     "output_type": "execute_result"
    }
   ],
   "source": [
    "symbol, volume"
   ]
  },
  {
   "cell_type": "code",
   "execution_count": 56,
   "metadata": {},
   "outputs": [
    {
     "data": {
      "text/plain": [
       "True"
      ]
     },
     "execution_count": 56,
     "metadata": {},
     "output_type": "execute_result"
    }
   ],
   "source": [
    "result = {\"GE\": []}\n",
    "\"GE\" in result"
   ]
  },
  {
   "cell_type": "code",
   "execution_count": 57,
   "metadata": {},
   "outputs": [
    {
     "data": {
      "text/plain": [
       "[23.4]"
      ]
     },
     "execution_count": 57,
     "metadata": {},
     "output_type": "execute_result"
    }
   ],
   "source": [
    "result = {\"GE\": [23.4]}\n",
    "result[\"GE\"]"
   ]
  },
  {
   "cell_type": "code",
   "execution_count": 58,
   "metadata": {},
   "outputs": [
    {
     "data": {
      "text/plain": [
       "[23.4, 25.2]"
      ]
     },
     "execution_count": 58,
     "metadata": {},
     "output_type": "execute_result"
    }
   ],
   "source": [
    "result = {\"GE\": [23.4]}\n",
    "result[\"GE\"].append(25.2)\n",
    "result[\"GE\"]"
   ]
  },
  {
   "cell_type": "code",
   "execution_count": 60,
   "metadata": {},
   "outputs": [],
   "source": [
    "if not \"Siemens\" in result:\n",
    "    result[\"Siemens\"] = [50.9]"
   ]
  },
  {
   "cell_type": "code",
   "execution_count": 61,
   "metadata": {},
   "outputs": [
    {
     "data": {
      "text/plain": [
       "{'GE': [23.4, 25.2], 'Siemens': [50.9]}"
      ]
     },
     "execution_count": 61,
     "metadata": {},
     "output_type": "execute_result"
    }
   ],
   "source": [
    "result"
   ]
  },
  {
   "cell_type": "code",
   "execution_count": 62,
   "metadata": {},
   "outputs": [
    {
     "name": "stdout",
     "output_type": "stream",
     "text": [
      "GE\n",
      "Siemens\n"
     ]
    }
   ],
   "source": [
    "for symbol in result:\n",
    "    print(symbol)"
   ]
  },
  {
   "cell_type": "markdown",
   "metadata": {},
   "source": [
    "# Exercise: Find symbol and date that has highest intra day pct change in price\n",
    "\n",
    "pct change intra day = (closing price - opening price)/ opening price"
   ]
  },
  {
   "cell_type": "code",
   "execution_count": 64,
   "metadata": {},
   "outputs": [
    {
     "data": {
      "text/plain": [
       "['2000-07-18,144.8125,144.828125,141.4375,143.0,5.06836E7,50.155473,INTC\\n',\n",
       " '2000-07-20,32.93751,34.25001,32.8125,33.75,3288300.0,8.789734,BEN\\n',\n",
       " '2000-07-24,64.25,67.312477,64.187523,64.75,948800.0,7.689567,APH\\n',\n",
       " '2000-07-26,21.875,22.125,20.9375,20.9375,1464300.0,15.61832,SHW\\n',\n",
       " '2000-07-26,42.0,42.312481,41.625,41.875,1397600.0,9.402721,STJ\\n',\n",
       " '2000-07-31,33.937519,33.999986,33.75,33.875011,273400.0,5.063753,GGP\\n',\n",
       " '2000-08-07,41.375038,43.0,40.812481,42.812481,2.43376E7,4.869542,SBUX\\n',\n",
       " '2000-08-09,55.562481,55.625,54.5,55.0,387600.0,10.495977,EQT\\n',\n",
       " '2000-08-10,49.0,52.625,48.75,52.125,1511600.0,22.539051,BCR\\n',\n",
       " '2000-08-15,35.68749,35.68749,34.875,34.875,1246500.0,9.082726,BEN\\n']"
      ]
     },
     "execution_count": 64,
     "metadata": {},
     "output_type": "execute_result"
    }
   ],
   "source": [
    "data[:10]"
   ]
  },
  {
   "cell_type": "code",
   "execution_count": 67,
   "metadata": {},
   "outputs": [
    {
     "data": {
      "text/plain": [
       "'date,open,high,low,close,volume,adjclose,symbol\\n'"
      ]
     },
     "execution_count": 67,
     "metadata": {},
     "output_type": "execute_result"
    }
   ],
   "source": [
    "header"
   ]
  },
  {
   "cell_type": "code",
   "execution_count": 70,
   "metadata": {},
   "outputs": [
    {
     "data": {
      "text/plain": [
       "[('2000-07-18', 'INTC\\n', '144.8125', '143.0'),\n",
       " ('2000-07-20', 'BEN\\n', '32.93751', '33.75'),\n",
       " ('2000-07-24', 'APH\\n', '64.25', '64.75'),\n",
       " ('2000-07-26', 'SHW\\n', '21.875', '20.9375'),\n",
       " ('2000-07-26', 'STJ\\n', '42.0', '41.875'),\n",
       " ('2000-07-31', 'GGP\\n', '33.937519', '33.875011'),\n",
       " ('2000-08-07', 'SBUX\\n', '41.375038', '42.812481'),\n",
       " ('2000-08-09', 'EQT\\n', '55.562481', '55.0'),\n",
       " ('2000-08-10', 'BCR\\n', '49.0', '52.125'),\n",
       " ('2000-08-15', 'BEN\\n', '35.68749', '34.875')]"
      ]
     },
     "execution_count": 70,
     "metadata": {},
     "output_type": "execute_result"
    }
   ],
   "source": [
    "result = [line.split(\",\") for line in data]\n",
    "result = [(tokens[0], tokens[7], tokens[1], tokens[4]) for tokens in result]\n",
    "result[:10]"
   ]
  },
  {
   "cell_type": "code",
   "execution_count": 73,
   "metadata": {},
   "outputs": [
    {
     "data": {
      "text/plain": [
       "[('2000-07-18', 'INTC\\n', 0.012516184721622789),\n",
       " ('2000-07-20', 'BEN\\n', -0.02466762059427069),\n",
       " ('2000-07-24', 'APH\\n', -0.007782101167315175),\n",
       " ('2000-07-26', 'SHW\\n', 0.04285714285714286),\n",
       " ('2000-07-26', 'STJ\\n', 0.002976190476190476),\n",
       " ('2000-07-31', 'GGP\\n', 0.0018418553224235723),\n",
       " ('2000-08-07', 'SBUX\\n', -0.03474179286554358),\n",
       " ('2000-08-09', 'EQT\\n', 0.010123396037696701),\n",
       " ('2000-08-10', 'BCR\\n', -0.06377551020408163),\n",
       " ('2000-08-15', 'BEN\\n', 0.022766801475811185)]"
      ]
     },
     "execution_count": 73,
     "metadata": {},
     "output_type": "execute_result"
    }
   ],
   "source": [
    "result = [line.split(\",\") for line in data]\n",
    "result = [(tokens[0], tokens[7], (float(tokens[1]) - float(tokens[4]))/float(tokens[1])) for tokens in result]\n",
    "\n",
    "result[:10]"
   ]
  },
  {
   "cell_type": "code",
   "execution_count": 74,
   "metadata": {},
   "outputs": [],
   "source": [
    "import math"
   ]
  },
  {
   "cell_type": "code",
   "execution_count": 84,
   "metadata": {},
   "outputs": [
    {
     "data": {
      "text/plain": [
       "(10, 8)"
      ]
     },
     "execution_count": 84,
     "metadata": {},
     "output_type": "execute_result"
    }
   ],
   "source": [
    "def abs(x):\n",
    "    return x if x >= 0 else -x\n",
    "abs(10), abs(-8)"
   ]
  },
  {
   "cell_type": "code",
   "execution_count": 89,
   "metadata": {},
   "outputs": [
    {
     "data": {
      "text/plain": [
       "[('2000-07-18', 'INTC', 0.012516184721622789),\n",
       " ('2000-07-20', 'BEN', 0.02466762059427069),\n",
       " ('2000-07-24', 'APH', 0.007782101167315175),\n",
       " ('2000-07-26', 'SHW', 0.04285714285714286),\n",
       " ('2000-07-26', 'STJ', 0.002976190476190476),\n",
       " ('2000-07-31', 'GGP', 0.0018418553224235723),\n",
       " ('2000-08-07', 'SBUX', 0.03474179286554358),\n",
       " ('2000-08-09', 'EQT', 0.010123396037696701),\n",
       " ('2000-08-10', 'BCR', 0.06377551020408163),\n",
       " ('2000-08-15', 'BEN', 0.022766801475811185)]"
      ]
     },
     "execution_count": 89,
     "metadata": {},
     "output_type": "execute_result"
    }
   ],
   "source": [
    "result = [line.split(\",\") for line in data]\n",
    "result = [(tokens[0]\n",
    "               , tokens[7].replace(\"\\n\", \"\")\n",
    "               , abs(float(tokens[1]) - float(tokens[4]))/float(tokens[1])) \n",
    "              for tokens in result]\n",
    "result[:10]"
   ]
  },
  {
   "cell_type": "code",
   "execution_count": 90,
   "metadata": {
    "scrolled": false
   },
   "outputs": [
    {
     "data": {
      "text/plain": [
       "[('2000-11-28', 'RHT', 0.12109375),\n",
       " ('2008-10-13', 'ALK', 0.1161616725334179),\n",
       " ('2009-04-07', 'TGNA', 0.11513157894736845),\n",
       " ('2008-10-09', 'TGNA', 0.1092604930046636),\n",
       " ('2000-10-02', 'BIIB', 0.10921994326241129),\n",
       " ('2008-07-16', 'CCL', 0.10515807338296429),\n",
       " ('2001-12-05', 'ETFC', 0.09999999999999996),\n",
       " ('2001-01-02', 'RHI', 0.09669811320754718),\n",
       " ('2000-12-13', 'XLNX', 0.09174311926605505),\n",
       " ('2000-12-11', 'FLIR', 0.09090274383858127)]"
      ]
     },
     "execution_count": 90,
     "metadata": {},
     "output_type": "execute_result"
    }
   ],
   "source": [
    "result = sorted(result, key = lambda v: v[2], reverse=True)\n",
    "result[:10]"
   ]
  },
  {
   "cell_type": "markdown",
   "metadata": {},
   "source": [
    "# Exercise: Find distinct count of symbol."
   ]
  },
  {
   "cell_type": "code",
   "execution_count": 94,
   "metadata": {},
   "outputs": [
    {
     "data": {
      "text/plain": [
       "471"
      ]
     },
     "execution_count": 94,
     "metadata": {},
     "output_type": "execute_result"
    }
   ],
   "source": [
    "len(set([line.split(\",\")[-1][:-1] for line in data]))"
   ]
  },
  {
   "cell_type": "code",
   "execution_count": 99,
   "metadata": {},
   "outputs": [
    {
     "data": {
      "text/plain": [
       "'INTC'"
      ]
     },
     "execution_count": 99,
     "metadata": {},
     "output_type": "execute_result"
    }
   ],
   "source": [
    "line = data[0]\n",
    "line.split(\",\")[-1][:-1]"
   ]
  },
  {
   "cell_type": "code",
   "execution_count": null,
   "metadata": {},
   "outputs": [],
   "source": []
  }
 ],
 "metadata": {
  "kernelspec": {
   "display_name": "Python 3",
   "language": "python",
   "name": "python3"
  },
  "language_info": {
   "codemirror_mode": {
    "name": "ipython",
    "version": 3
   },
   "file_extension": ".py",
   "mimetype": "text/x-python",
   "name": "python",
   "nbconvert_exporter": "python",
   "pygments_lexer": "ipython3",
   "version": "3.6.6"
  }
 },
 "nbformat": 4,
 "nbformat_minor": 2
}
