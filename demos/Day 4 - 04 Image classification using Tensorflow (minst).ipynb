{
 "cells": [
  {
   "cell_type": "code",
   "execution_count": 2,
   "metadata": {},
   "outputs": [],
   "source": [
    "import pandas as pd\n",
    "import numpy as np\n",
    "import matplotlib.pyplot as plt\n",
    "from sklearn import * \n",
    "pd.options.display.max_columns = 1000\n",
    "\n",
    "import tensorflow as tf\n",
    "\n",
    "%matplotlib inline"
   ]
  },
  {
   "cell_type": "code",
   "execution_count": 7,
   "metadata": {},
   "outputs": [],
   "source": [
    "df_train = pd.read_csv(\"/data/MNIST/mnist_train.csv\", header=None)\n",
    "df_test = pd.read_csv(\"/data/MNIST/mnist_test.csv\", header=None)\n",
    "\n",
    "X_train = df_train.iloc[:, 1:].values/255\n",
    "X_test = df_test.iloc[:, 1:].values/255\n",
    "y_train = df_train.iloc[:, 0].values\n",
    "y_test = df_test.iloc[:, 0].values"
   ]
  },
  {
   "cell_type": "code",
   "execution_count": 17,
   "metadata": {},
   "outputs": [],
   "source": [
    "import requests\n",
    "url = \"https://raw.githubusercontent.com/abulbasar/machine-learning/master/Utils.py\"\n",
    "exec(requests.get(url).text)"
   ]
  },
  {
   "cell_type": "code",
   "execution_count": 20,
   "metadata": {},
   "outputs": [
    {
     "name": "stdout",
     "output_type": "stream",
     "text": [
      "X Tensor(\"Placeholder:0\", shape=(?, 784), dtype=float32)\n",
      "y Tensor(\"Placeholder_1:0\", shape=(?,), dtype=int32)\n",
      "y_oh Tensor(\"one_hot:0\", shape=(?, 10), dtype=float32)\n",
      "W <tf.Variable 'Variable:0' shape=(784, 10) dtype=float32_ref>\n",
      "b <tf.Variable 'Variable_1:0' shape=(10,) dtype=float32_ref>\n",
      "Z Tensor(\"add:0\", shape=(?, 10), dtype=float32)\n",
      "y_pred Tensor(\"ArgMax:0\", shape=(?,), dtype=int32)\n",
      "accuracy Tensor(\"Mean:0\", shape=(), dtype=float32)\n",
      "cost Tensor(\"Mean_1:0\", shape=(), dtype=float32)\n",
      "0 Training accuracy 0.179 Test accuracy 0.1885\n",
      "1 Training accuracy 0.30781665 Test accuracy 0.3194\n",
      "2 Training accuracy 0.46285 Test accuracy 0.4724\n",
      "3 Training accuracy 0.58388335 Test accuracy 0.5979\n",
      "4 Training accuracy 0.6485 Test accuracy 0.6636\n",
      "5 Training accuracy 0.7000167 Test accuracy 0.7114\n",
      "6 Training accuracy 0.7335167 Test accuracy 0.7487\n",
      "7 Training accuracy 0.7482833 Test accuracy 0.7644\n",
      "8 Training accuracy 0.75663334 Test accuracy 0.7709\n",
      "9 Training accuracy 0.76528335 Test accuracy 0.7831\n",
      "10 Training accuracy 0.7766333 Test accuracy 0.7936\n",
      "11 Training accuracy 0.78548336 Test accuracy 0.8007\n",
      "12 Training accuracy 0.79075 Test accuracy 0.8062\n",
      "13 Training accuracy 0.79468334 Test accuracy 0.8072\n",
      "14 Training accuracy 0.8025333 Test accuracy 0.8151\n",
      "15 Training accuracy 0.81313336 Test accuracy 0.8233\n",
      "16 Training accuracy 0.82375 Test accuracy 0.8339\n",
      "17 Training accuracy 0.82955 Test accuracy 0.8388\n",
      "18 Training accuracy 0.8328 Test accuracy 0.8399\n",
      "19 Training accuracy 0.8344833 Test accuracy 0.8391\n",
      "99 Training accuracy 0.8975 Test accuracy 0.9028\n"
     ]
    }
   ],
   "source": [
    "tf.reset_default_graph()\n",
    "tf.set_random_seed(1)\n",
    "n_x = 784\n",
    "n_y = 10\n",
    "max_iters = 100\n",
    "\n",
    "X = tf.placeholder(dtype=tf.float32, shape=(None, n_x))\n",
    "y = tf.placeholder(dtype=tf.int32, shape=(None,))\n",
    "print(\"X\",X)\n",
    "print(\"y\", y)\n",
    "\n",
    "y_oh = tf.one_hot(indices=y, depth=n_y)\n",
    "print(\"y_oh\", y_oh)\n",
    "\n",
    "\n",
    "W = tf.Variable(initial_value=tf.truncated_normal(shape=[n_x, n_y], stddev=0.1))\n",
    "b = tf.Variable(initial_value=tf.zeros([n_y]))\n",
    "\n",
    "print(\"W\", W)\n",
    "print(\"b\", b)\n",
    "\n",
    "# Forward prop\n",
    "\n",
    "Z = tf.matmul(X, W) + b\n",
    "print(\"Z\", Z)\n",
    "\n",
    "y_pred = tf.argmax(Z, axis=1, output_type=tf.int32)\n",
    "print(\"y_pred\", y_pred)\n",
    "\n",
    "accuracy = tf.reduce_mean(tf.cast(tf.equal(y, y_pred), tf.float32))\n",
    "print(\"accuracy\", accuracy)\n",
    "\n",
    "\n",
    "cost = tf.reduce_mean(tf.nn.softmax_cross_entropy_with_logits_v2(logits=Z, labels=y_oh))\n",
    "print(\"cost\", cost)\n",
    "\n",
    "op = tf.train.AdamOptimizer(learning_rate=0.01).minimize(cost)\n",
    "\n",
    "\n",
    "init = tf.global_variables_initializer()\n",
    "\n",
    "with tf.Session() as sess:\n",
    "    sess.run(init)\n",
    "    \n",
    "    batchable = Batchable(X_train, y_train)\n",
    "    \n",
    "    scores = {}\n",
    "    for i in range(max_iters): \n",
    "        X_batch, y_batch = batchable.next()\n",
    "        _, cost_ = sess.run([op, cost]\n",
    "                            , feed_dict = {X: X_batch, y: y_batch})\n",
    "        scores[i] = cost_\n",
    "        \n",
    "        if i % max_iters//20 == 0 or i == max_iters - 1:\n",
    "            training_accuracy_ = sess.run(accuracy, feed_dict={X: X_train, y: y_train})\n",
    "            testing_accuracy_ = sess.run(accuracy, feed_dict={X: X_test, y: y_test})\n",
    "            print(i,\"Training accuracy\", training_accuracy_,\n",
    "                 \"Test accuracy\", testing_accuracy_)\n"
   ]
  },
  {
   "cell_type": "code",
   "execution_count": 21,
   "metadata": {},
   "outputs": [
    {
     "data": {
      "text/plain": [
       "<matplotlib.axes._subplots.AxesSubplot at 0x10b35c6a0>"
      ]
     },
     "execution_count": 21,
     "metadata": {},
     "output_type": "execute_result"
    },
    {
     "data": {
      "image/png": "[encoded data removed]",
      "text/plain": [
       "<matplotlib.figure.Figure at 0x1a1b576f60>"
      ]
     },
     "metadata": {},
     "output_type": "display_data"
    }
   ],
   "source": [
    "pd.Series(scores).plot()"
   ]
  },
  {
   "cell_type": "code",
   "execution_count": null,
   "metadata": {},
   "outputs": [
    {
     "name": "stdout",
     "output_type": "stream",
     "text": [
      "X Tensor(\"Placeholder:0\", shape=(?, 784), dtype=float32)\n",
      "y Tensor(\"Placeholder_1:0\", shape=(?,), dtype=int32)\n",
      "y_oh Tensor(\"one_hot:0\", shape=(?, 10), dtype=float32)\n",
      "W1 <tf.Variable 'Variable:0' shape=(784, 100) dtype=float32_ref>\n",
      "b1 <tf.Variable 'Variable_1:0' shape=(100,) dtype=float32_ref>\n",
      "Z Tensor(\"add:0\", shape=(?, 100), dtype=float32)\n",
      "A1 Tensor(\"Relu:0\", shape=(?, 100), dtype=float32)\n",
      "W2 <tf.Variable 'Variable_2:0' shape=(100, 10) dtype=float32_ref>\n",
      "b2 <tf.Variable 'Variable_3:0' shape=(10,) dtype=float32_ref>\n",
      "Z2 Tensor(\"add_1:0\", shape=(?, 10), dtype=float32)\n",
      "y_pred Tensor(\"ArgMax:0\", shape=(?,), dtype=int32)\n",
      "accuracy Tensor(\"Mean:0\", shape=(), dtype=float32)\n",
      "cost Tensor(\"Mean_1:0\", shape=(), dtype=float32)\n",
      "0 Training accuracy 0.23646666 Test accuracy 0.2433\n",
      "1 Training accuracy 0.43091667 Test accuracy 0.4426\n"
     ]
    }
   ],
   "source": [
    "tf.reset_default_graph()\n",
    "tf.set_random_seed(1)\n",
    "n_x = 784\n",
    "n_y = 10\n",
    "n_h = 100\n",
    "max_iters = 1000\n",
    "\n",
    "X = tf.placeholder(dtype=tf.float32, shape=(None, n_x))\n",
    "y = tf.placeholder(dtype=tf.int32, shape=(None,))\n",
    "print(\"X\",X)\n",
    "print(\"y\", y)\n",
    "\n",
    "y_oh = tf.one_hot(indices=y, depth=n_y)\n",
    "print(\"y_oh\", y_oh)\n",
    "\n",
    "\n",
    "W1 = tf.Variable(initial_value=tf.truncated_normal(shape=[n_x, n_h], stddev=0.1))\n",
    "b1 = tf.Variable(initial_value=tf.zeros([n_h]))\n",
    "\n",
    "print(\"W1\", W1)\n",
    "print(\"b1\", b1)\n",
    "\n",
    "# Forward prop\n",
    "\n",
    "Z1 = tf.matmul(X, W1) + b1\n",
    "print(\"Z\", Z1)\n",
    "\n",
    "A1 = tf.nn.relu(Z1)\n",
    "print(\"A1\", A1)\n",
    "\n",
    "\n",
    "W2 = tf.Variable(initial_value=tf.truncated_normal(shape=[n_h, n_y], stddev=0.1))\n",
    "b2 = tf.Variable(initial_value=tf.zeros([n_y]))\n",
    "\n",
    "print(\"W2\", W2)\n",
    "print(\"b2\", b2)\n",
    "\n",
    "# Forward prop\n",
    "\n",
    "Z2 = tf.matmul(A1, W2) + b2\n",
    "print(\"Z2\", Z2)\n",
    "\n",
    "\n",
    "y_pred = tf.argmax(Z2, axis=1, output_type=tf.int32)\n",
    "print(\"y_pred\", y_pred)\n",
    "\n",
    "accuracy = tf.reduce_mean(tf.cast(tf.equal(y, y_pred), tf.float32))\n",
    "print(\"accuracy\", accuracy)\n",
    "\n",
    "\n",
    "cost = tf.reduce_mean(tf.nn.softmax_cross_entropy_with_logits_v2(logits=Z2, labels=y_oh))\n",
    "print(\"cost\", cost)\n",
    "\n",
    "op = tf.train.AdamOptimizer(learning_rate=0.01).minimize(cost)\n",
    "\n",
    "\n",
    "init = tf.global_variables_initializer()\n",
    "\n",
    "with tf.Session() as sess:\n",
    "    sess.run(init)\n",
    "    \n",
    "    batchable = Batchable(X_train, y_train)\n",
    "    \n",
    "    scores = {}\n",
    "    for i in range(max_iters): \n",
    "        X_batch, y_batch = batchable.next()\n",
    "        _, cost_ = sess.run([op, cost]\n",
    "                            , feed_dict = {X: X_batch, y: y_batch})\n",
    "        scores[i] = cost_\n",
    "        \n",
    "        if i % max_iters//20 == 0 or i == max_iters - 1:\n",
    "            training_accuracy_ = sess.run(accuracy, feed_dict={X: X_train, y: y_train})\n",
    "            testing_accuracy_ = sess.run(accuracy, feed_dict={X: X_test, y: y_test})\n",
    "            print(i,\"Training accuracy\", training_accuracy_,\n",
    "                 \"Test accuracy\", testing_accuracy_)\n"
   ]
  },
  {
   "cell_type": "code",
   "execution_count": null,
   "metadata": {},
   "outputs": [],
   "source": [
    "pd.Series(scores).plot()"
   ]
  },
  {
   "cell_type": "code",
   "execution_count": null,
   "metadata": {},
   "outputs": [],
   "source": []
  }
 ],
 "metadata": {
  "kernelspec": {
   "display_name": "Python 3",
   "language": "python",
   "name": "python3"
  },
  "language_info": {
   "codemirror_mode": {
    "name": "ipython",
    "version": 3
   },
   "file_extension": ".py",
   "mimetype": "text/x-python",
   "name": "python",
   "nbconvert_exporter": "python",
   "pygments_lexer": "ipython3",
   "version": "3.6.4"
  }
 },
 "nbformat": 4,
 "nbformat_minor": 2
}
