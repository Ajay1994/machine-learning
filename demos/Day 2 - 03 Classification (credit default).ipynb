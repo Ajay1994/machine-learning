{
 "cells": [
  {
   "cell_type": "code",
   "execution_count": 1,
   "metadata": {},
   "outputs": [
    {
     "name": "stderr",
     "output_type": "stream",
     "text": [
      "/Users/abulbasar/anaconda3/lib/python3.6/site-packages/sklearn/cross_validation.py:41: DeprecationWarning: This module was deprecated in version 0.18 in favor of the model_selection module into which all the refactored classes and functions are moved. Also note that the interface of the new CV iterators are different from that of this module. This module will be removed in 0.20.\n",
      "  \"This module will be removed in 0.20.\", DeprecationWarning)\n",
      "/Users/abulbasar/anaconda3/lib/python3.6/site-packages/sklearn/grid_search.py:42: DeprecationWarning: This module was deprecated in version 0.18 in favor of the model_selection module into which all the refactored classes and functions are moved. This module will be removed in 0.20.\n",
      "  DeprecationWarning)\n",
      "/Users/abulbasar/anaconda3/lib/python3.6/site-packages/sklearn/learning_curve.py:22: DeprecationWarning: This module was deprecated in version 0.18 in favor of the model_selection module into which all the functions are moved. This module will be removed in 0.20\n",
      "  DeprecationWarning)\n"
     ]
    }
   ],
   "source": [
    "import pandas as pd\n",
    "import numpy as np\n",
    "\n",
    "import matplotlib.pyplot as plt\n",
    "\n",
    "from sklearn import * "
   ]
  },
  {
   "cell_type": "code",
   "execution_count": 2,
   "metadata": {},
   "outputs": [
    {
     "name": "stdout",
     "output_type": "stream",
     "text": [
      "<class 'pandas.core.frame.DataFrame'>\n",
      "RangeIndex: 1000 entries, 0 to 999\n",
      "Data columns (total 21 columns):\n",
      "checking_balance        1000 non-null object\n",
      "months_loan_duration    1000 non-null int64\n",
      "credit_history          1000 non-null object\n",
      "purpose                 1000 non-null object\n",
      "amount                  1000 non-null int64\n",
      "savings_balance         1000 non-null object\n",
      "employment_length       1000 non-null object\n",
      "installment_rate        1000 non-null int64\n",
      "personal_status         1000 non-null object\n",
      "other_debtors           1000 non-null object\n",
      "residence_history       1000 non-null int64\n",
      "property                1000 non-null object\n",
      "age                     1000 non-null int64\n",
      "installment_plan        1000 non-null object\n",
      "housing                 1000 non-null object\n",
      "existing_credits        1000 non-null int64\n",
      "default                 1000 non-null int64\n",
      "dependents              1000 non-null int64\n",
      "telephone               1000 non-null object\n",
      "foreign_worker          1000 non-null object\n",
      "job                     1000 non-null object\n",
      "dtypes: int64(8), object(13)\n",
      "memory usage: 164.1+ KB\n"
     ]
    }
   ],
   "source": [
    "df = pd.read_csv(\"/data/credit-default.csv\")\n",
    "df.info()"
   ]
  },
  {
   "cell_type": "code",
   "execution_count": 3,
   "metadata": {},
   "outputs": [
    {
     "data": {
      "text/html": [
       "<div>\n",
       "<style scoped>\n",
       "    .dataframe tbody tr th:only-of-type {\n",
       "        vertical-align: middle;\n",
       "    }\n",
       "\n",
       "    .dataframe tbody tr th {\n",
       "        vertical-align: top;\n",
       "    }\n",
       "\n",
       "    .dataframe thead th {\n",
       "        text-align: right;\n",
       "    }\n",
       "</style>\n",
       "<table border=\"1\" class=\"dataframe\">\n",
       "  <thead>\n",
       "    <tr style=\"text-align: right;\">\n",
       "      <th></th>\n",
       "      <th>checking_balance</th>\n",
       "      <th>months_loan_duration</th>\n",
       "      <th>credit_history</th>\n",
       "      <th>purpose</th>\n",
       "      <th>amount</th>\n",
       "      <th>savings_balance</th>\n",
       "      <th>employment_length</th>\n",
       "      <th>installment_rate</th>\n",
       "      <th>personal_status</th>\n",
       "      <th>other_debtors</th>\n",
       "      <th>...</th>\n",
       "      <th>property</th>\n",
       "      <th>age</th>\n",
       "      <th>installment_plan</th>\n",
       "      <th>housing</th>\n",
       "      <th>existing_credits</th>\n",
       "      <th>default</th>\n",
       "      <th>dependents</th>\n",
       "      <th>telephone</th>\n",
       "      <th>foreign_worker</th>\n",
       "      <th>job</th>\n",
       "    </tr>\n",
       "  </thead>\n",
       "  <tbody>\n",
       "    <tr>\n",
       "      <th>0</th>\n",
       "      <td>&lt; 0 DM</td>\n",
       "      <td>6</td>\n",
       "      <td>critical</td>\n",
       "      <td>radio/tv</td>\n",
       "      <td>1169</td>\n",
       "      <td>unknown</td>\n",
       "      <td>&gt; 7 yrs</td>\n",
       "      <td>4</td>\n",
       "      <td>single male</td>\n",
       "      <td>none</td>\n",
       "      <td>...</td>\n",
       "      <td>real estate</td>\n",
       "      <td>67</td>\n",
       "      <td>none</td>\n",
       "      <td>own</td>\n",
       "      <td>2</td>\n",
       "      <td>1</td>\n",
       "      <td>1</td>\n",
       "      <td>yes</td>\n",
       "      <td>yes</td>\n",
       "      <td>skilled employee</td>\n",
       "    </tr>\n",
       "    <tr>\n",
       "      <th>1</th>\n",
       "      <td>1 - 200 DM</td>\n",
       "      <td>48</td>\n",
       "      <td>repaid</td>\n",
       "      <td>radio/tv</td>\n",
       "      <td>5951</td>\n",
       "      <td>&lt; 100 DM</td>\n",
       "      <td>1 - 4 yrs</td>\n",
       "      <td>2</td>\n",
       "      <td>female</td>\n",
       "      <td>none</td>\n",
       "      <td>...</td>\n",
       "      <td>real estate</td>\n",
       "      <td>22</td>\n",
       "      <td>none</td>\n",
       "      <td>own</td>\n",
       "      <td>1</td>\n",
       "      <td>2</td>\n",
       "      <td>1</td>\n",
       "      <td>none</td>\n",
       "      <td>yes</td>\n",
       "      <td>skilled employee</td>\n",
       "    </tr>\n",
       "    <tr>\n",
       "      <th>2</th>\n",
       "      <td>unknown</td>\n",
       "      <td>12</td>\n",
       "      <td>critical</td>\n",
       "      <td>education</td>\n",
       "      <td>2096</td>\n",
       "      <td>&lt; 100 DM</td>\n",
       "      <td>4 - 7 yrs</td>\n",
       "      <td>2</td>\n",
       "      <td>single male</td>\n",
       "      <td>none</td>\n",
       "      <td>...</td>\n",
       "      <td>real estate</td>\n",
       "      <td>49</td>\n",
       "      <td>none</td>\n",
       "      <td>own</td>\n",
       "      <td>1</td>\n",
       "      <td>1</td>\n",
       "      <td>2</td>\n",
       "      <td>none</td>\n",
       "      <td>yes</td>\n",
       "      <td>unskilled resident</td>\n",
       "    </tr>\n",
       "    <tr>\n",
       "      <th>3</th>\n",
       "      <td>&lt; 0 DM</td>\n",
       "      <td>42</td>\n",
       "      <td>repaid</td>\n",
       "      <td>furniture</td>\n",
       "      <td>7882</td>\n",
       "      <td>&lt; 100 DM</td>\n",
       "      <td>4 - 7 yrs</td>\n",
       "      <td>2</td>\n",
       "      <td>single male</td>\n",
       "      <td>guarantor</td>\n",
       "      <td>...</td>\n",
       "      <td>building society savings</td>\n",
       "      <td>45</td>\n",
       "      <td>none</td>\n",
       "      <td>for free</td>\n",
       "      <td>1</td>\n",
       "      <td>1</td>\n",
       "      <td>2</td>\n",
       "      <td>none</td>\n",
       "      <td>yes</td>\n",
       "      <td>skilled employee</td>\n",
       "    </tr>\n",
       "    <tr>\n",
       "      <th>4</th>\n",
       "      <td>&lt; 0 DM</td>\n",
       "      <td>24</td>\n",
       "      <td>delayed</td>\n",
       "      <td>car (new)</td>\n",
       "      <td>4870</td>\n",
       "      <td>&lt; 100 DM</td>\n",
       "      <td>1 - 4 yrs</td>\n",
       "      <td>3</td>\n",
       "      <td>single male</td>\n",
       "      <td>none</td>\n",
       "      <td>...</td>\n",
       "      <td>unknown/none</td>\n",
       "      <td>53</td>\n",
       "      <td>none</td>\n",
       "      <td>for free</td>\n",
       "      <td>2</td>\n",
       "      <td>2</td>\n",
       "      <td>2</td>\n",
       "      <td>none</td>\n",
       "      <td>yes</td>\n",
       "      <td>skilled employee</td>\n",
       "    </tr>\n",
       "  </tbody>\n",
       "</table>\n",
       "<p>5 rows × 21 columns</p>\n",
       "</div>"
      ],
      "text/plain": [
       "  checking_balance  months_loan_duration credit_history    purpose  amount  \\\n",
       "0           < 0 DM                     6       critical   radio/tv    1169   \n",
       "1       1 - 200 DM                    48         repaid   radio/tv    5951   \n",
       "2          unknown                    12       critical  education    2096   \n",
       "3           < 0 DM                    42         repaid  furniture    7882   \n",
       "4           < 0 DM                    24        delayed  car (new)    4870   \n",
       "\n",
       "  savings_balance employment_length  installment_rate personal_status  \\\n",
       "0         unknown           > 7 yrs                 4     single male   \n",
       "1        < 100 DM         1 - 4 yrs                 2          female   \n",
       "2        < 100 DM         4 - 7 yrs                 2     single male   \n",
       "3        < 100 DM         4 - 7 yrs                 2     single male   \n",
       "4        < 100 DM         1 - 4 yrs                 3     single male   \n",
       "\n",
       "  other_debtors         ...                          property age  \\\n",
       "0          none         ...                       real estate  67   \n",
       "1          none         ...                       real estate  22   \n",
       "2          none         ...                       real estate  49   \n",
       "3     guarantor         ...          building society savings  45   \n",
       "4          none         ...                      unknown/none  53   \n",
       "\n",
       "   installment_plan   housing existing_credits  default  dependents  \\\n",
       "0              none       own                2        1           1   \n",
       "1              none       own                1        2           1   \n",
       "2              none       own                1        1           2   \n",
       "3              none  for free                1        1           2   \n",
       "4              none  for free                2        2           2   \n",
       "\n",
       "   telephone foreign_worker                 job  \n",
       "0        yes            yes    skilled employee  \n",
       "1       none            yes    skilled employee  \n",
       "2       none            yes  unskilled resident  \n",
       "3       none            yes    skilled employee  \n",
       "4       none            yes    skilled employee  \n",
       "\n",
       "[5 rows x 21 columns]"
      ]
     },
     "execution_count": 3,
     "metadata": {},
     "output_type": "execute_result"
    }
   ],
   "source": [
    "df.head()"
   ]
  },
  {
   "cell_type": "code",
   "execution_count": 4,
   "metadata": {},
   "outputs": [
    {
     "data": {
      "text/plain": [
       "<matplotlib.axes._subplots.AxesSubplot at 0x1a0ab38588>"
      ]
     },
     "execution_count": 4,
     "metadata": {},
     "output_type": "execute_result"
    },
    {
     "data": {
      "image/png": "[encoded data removed]",
      "text/plain": [
       "<matplotlib.figure.Figure at 0x103320748>"
      ]
     },
     "metadata": {},
     "output_type": "display_data"
    }
   ],
   "source": [
    "df.default.value_counts().plot.bar()"
   ]
  },
  {
   "cell_type": "code",
   "execution_count": 5,
   "metadata": {},
   "outputs": [
    {
     "data": {
      "text/plain": [
       "1    0.7\n",
       "2    0.3\n",
       "Name: default, dtype: float64"
      ]
     },
     "execution_count": 5,
     "metadata": {},
     "output_type": "execute_result"
    }
   ],
   "source": [
    "df.default.value_counts() / len(df.default)"
   ]
  },
  {
   "cell_type": "code",
   "execution_count": 6,
   "metadata": {
    "scrolled": true
   },
   "outputs": [
    {
     "data": {
      "text/plain": [
       "Pipeline(memory=None,\n",
       "     steps=[('scaler', StandardScaler(copy=True, with_mean=True, with_std=True)), ('poly', PolynomialFeatures(degree=2, include_bias=False, interaction_only=False)), ('est', LogisticRegression(C=1.0, class_weight=None, dual=False, fit_intercept=True,\n",
       "          intercept_scaling=1, max_iter=100, multi_class='ovr', n_jobs=1,\n",
       "          penalty='l2', random_state=None, solver='liblinear', tol=0.0001,\n",
       "          verbose=0, warm_start=False))])"
      ]
     },
     "execution_count": 6,
     "metadata": {},
     "output_type": "execute_result"
    }
   ],
   "source": [
    "target = \"default\"\n",
    "y = np.where(df.default == 2, 1, 0)\n",
    "X = df.copy()\n",
    "del X[target]\n",
    "\n",
    "X_dummy = pd.get_dummies(X)\n",
    "\n",
    "X_train, X_test, y_train, y_test = model_selection.train_test_split(X_dummy,\n",
    "                            y, test_size = 0.3, random_state = 1)\n",
    "\n",
    "pipe = pipeline.Pipeline([\n",
    "    (\"scaler\", preprocessing.StandardScaler()),\n",
    "    (\"poly\", preprocessing.PolynomialFeatures(degree = 2, include_bias=False)),\n",
    "    (\"est\", linear_model.LogisticRegression())\n",
    "])\n",
    "\n",
    "pipe.fit(X_train, y_train)\n",
    "\n"
   ]
  },
  {
   "cell_type": "code",
   "execution_count": 18,
   "metadata": {},
   "outputs": [
    {
     "name": "stdout",
     "output_type": "stream",
     "text": [
      "<class 'pandas.core.frame.DataFrame'>\n",
      "RangeIndex: 1000 entries, 0 to 999\n",
      "Data columns (total 61 columns):\n",
      "months_loan_duration                     1000 non-null int64\n",
      "amount                                   1000 non-null int64\n",
      "installment_rate                         1000 non-null int64\n",
      "residence_history                        1000 non-null int64\n",
      "age                                      1000 non-null int64\n",
      "existing_credits                         1000 non-null int64\n",
      "dependents                               1000 non-null int64\n",
      "checking_balance_1 - 200 DM              1000 non-null uint8\n",
      "checking_balance_< 0 DM                  1000 non-null uint8\n",
      "checking_balance_> 200 DM                1000 non-null uint8\n",
      "checking_balance_unknown                 1000 non-null uint8\n",
      "credit_history_critical                  1000 non-null uint8\n",
      "credit_history_delayed                   1000 non-null uint8\n",
      "credit_history_fully repaid              1000 non-null uint8\n",
      "credit_history_fully repaid this bank    1000 non-null uint8\n",
      "credit_history_repaid                    1000 non-null uint8\n",
      "purpose_business                         1000 non-null uint8\n",
      "purpose_car (new)                        1000 non-null uint8\n",
      "purpose_car (used)                       1000 non-null uint8\n",
      "purpose_domestic appliances              1000 non-null uint8\n",
      "purpose_education                        1000 non-null uint8\n",
      "purpose_furniture                        1000 non-null uint8\n",
      "purpose_others                           1000 non-null uint8\n",
      "purpose_radio/tv                         1000 non-null uint8\n",
      "purpose_repairs                          1000 non-null uint8\n",
      "purpose_retraining                       1000 non-null uint8\n",
      "savings_balance_101 - 500 DM             1000 non-null uint8\n",
      "savings_balance_501 - 1000 DM            1000 non-null uint8\n",
      "savings_balance_< 100 DM                 1000 non-null uint8\n",
      "savings_balance_> 1000 DM                1000 non-null uint8\n",
      "savings_balance_unknown                  1000 non-null uint8\n",
      "employment_length_0 - 1 yrs              1000 non-null uint8\n",
      "employment_length_1 - 4 yrs              1000 non-null uint8\n",
      "employment_length_4 - 7 yrs              1000 non-null uint8\n",
      "employment_length_> 7 yrs                1000 non-null uint8\n",
      "employment_length_unemployed             1000 non-null uint8\n",
      "personal_status_divorced male            1000 non-null uint8\n",
      "personal_status_female                   1000 non-null uint8\n",
      "personal_status_married male             1000 non-null uint8\n",
      "personal_status_single male              1000 non-null uint8\n",
      "other_debtors_co-applicant               1000 non-null uint8\n",
      "other_debtors_guarantor                  1000 non-null uint8\n",
      "other_debtors_none                       1000 non-null uint8\n",
      "property_building society savings        1000 non-null uint8\n",
      "property_other                           1000 non-null uint8\n",
      "property_real estate                     1000 non-null uint8\n",
      "property_unknown/none                    1000 non-null uint8\n",
      "installment_plan_bank                    1000 non-null uint8\n",
      "installment_plan_none                    1000 non-null uint8\n",
      "installment_plan_stores                  1000 non-null uint8\n",
      "housing_for free                         1000 non-null uint8\n",
      "housing_own                              1000 non-null uint8\n",
      "housing_rent                             1000 non-null uint8\n",
      "telephone_none                           1000 non-null uint8\n",
      "telephone_yes                            1000 non-null uint8\n",
      "foreign_worker_no                        1000 non-null uint8\n",
      "foreign_worker_yes                       1000 non-null uint8\n",
      "job_mangement self-employed              1000 non-null uint8\n",
      "job_skilled employee                     1000 non-null uint8\n",
      "job_unemployed non-resident              1000 non-null uint8\n",
      "job_unskilled resident                   1000 non-null uint8\n",
      "dtypes: int64(7), uint8(54)\n",
      "memory usage: 107.5 KB\n"
     ]
    }
   ],
   "source": [
    "X_dummy.info()"
   ]
  },
  {
   "cell_type": "code",
   "execution_count": 7,
   "metadata": {},
   "outputs": [
    {
     "data": {
      "text/plain": [
       "0.7"
      ]
     },
     "execution_count": 7,
     "metadata": {},
     "output_type": "execute_result"
    }
   ],
   "source": [
    "y_test_pred = pipe.predict(X_test)\n",
    "metrics.accuracy_score(y_test, y_test_pred)"
   ]
  },
  {
   "cell_type": "code",
   "execution_count": 8,
   "metadata": {},
   "outputs": [],
   "source": [
    "from mlxtend.plotting import plot_confusion_matrix"
   ]
  },
  {
   "cell_type": "code",
   "execution_count": 9,
   "metadata": {},
   "outputs": [
    {
     "data": {
      "text/plain": [
       "(<matplotlib.figure.Figure at 0x1a0abf2ba8>,\n",
       " <matplotlib.axes._subplots.AxesSubplot at 0x1a0ac36f60>)"
      ]
     },
     "execution_count": 9,
     "metadata": {},
     "output_type": "execute_result"
    },
    {
     "data": {
      "image/png": "[encoded data removed]",
      "text/plain": [
       "<matplotlib.figure.Figure at 0x1a0abf2ba8>"
      ]
     },
     "metadata": {},
     "output_type": "display_data"
    }
   ],
   "source": [
    " plot_confusion_matrix(metrics.confusion_matrix(y_test, y_test_pred))"
   ]
  },
  {
   "cell_type": "code",
   "execution_count": 16,
   "metadata": {},
   "outputs": [
    {
     "data": {
      "text/html": [
       "<div>\n",
       "<style scoped>\n",
       "    .dataframe tbody tr th:only-of-type {\n",
       "        vertical-align: middle;\n",
       "    }\n",
       "\n",
       "    .dataframe tbody tr th {\n",
       "        vertical-align: top;\n",
       "    }\n",
       "\n",
       "    .dataframe thead th {\n",
       "        text-align: right;\n",
       "    }\n",
       "</style>\n",
       "<table border=\"1\" class=\"dataframe\">\n",
       "  <thead>\n",
       "    <tr style=\"text-align: right;\">\n",
       "      <th></th>\n",
       "      <th>P(y=0)</th>\n",
       "      <th>P(y=1)</th>\n",
       "    </tr>\n",
       "  </thead>\n",
       "  <tbody>\n",
       "    <tr>\n",
       "      <th>0</th>\n",
       "      <td>0.994141</td>\n",
       "      <td>0.005859</td>\n",
       "    </tr>\n",
       "    <tr>\n",
       "      <th>1</th>\n",
       "      <td>0.000013</td>\n",
       "      <td>0.999987</td>\n",
       "    </tr>\n",
       "    <tr>\n",
       "      <th>2</th>\n",
       "      <td>0.364044</td>\n",
       "      <td>0.635956</td>\n",
       "    </tr>\n",
       "    <tr>\n",
       "      <th>3</th>\n",
       "      <td>0.004376</td>\n",
       "      <td>0.995624</td>\n",
       "    </tr>\n",
       "    <tr>\n",
       "      <th>4</th>\n",
       "      <td>0.903513</td>\n",
       "      <td>0.096487</td>\n",
       "    </tr>\n",
       "  </tbody>\n",
       "</table>\n",
       "</div>"
      ],
      "text/plain": [
       "     P(y=0)    P(y=1)\n",
       "0  0.994141  0.005859\n",
       "1  0.000013  0.999987\n",
       "2  0.364044  0.635956\n",
       "3  0.004376  0.995624\n",
       "4  0.903513  0.096487"
      ]
     },
     "execution_count": 16,
     "metadata": {},
     "output_type": "execute_result"
    }
   ],
   "source": [
    "pd.DataFrame(pipe.predict_proba(X_test), columns=[\"P(y=0)\", \"P(y=1)\"]).head()"
   ]
  },
  {
   "cell_type": "code",
   "execution_count": 10,
   "metadata": {
    "scrolled": false
   },
   "outputs": [
    {
     "data": {
      "text/plain": [
       "(<matplotlib.figure.Figure at 0x1a0ac59a20>,\n",
       " <matplotlib.axes._subplots.AxesSubplot at 0x1a0ac52cf8>)"
      ]
     },
     "execution_count": 10,
     "metadata": {},
     "output_type": "execute_result"
    },
    {
     "data": {
      "image/png": "[encoded data removed]",
      "text/plain": [
       "<matplotlib.figure.Figure at 0x1a0ac59a20>"
      ]
     },
     "metadata": {},
     "output_type": "display_data"
    }
   ],
   "source": [
    "y_test_prob = pipe.predict_proba(X_test)[:, 1]\n",
    "y_test_pred = np.where(y_test_prob>=0.5, 1, 0)\n",
    "plot_confusion_matrix(metrics.confusion_matrix(y_test, y_test_pred))"
   ]
  },
  {
   "cell_type": "code",
   "execution_count": 11,
   "metadata": {},
   "outputs": [
    {
     "data": {
      "text/plain": [
       "(<matplotlib.figure.Figure at 0x1a0acd3a20>,\n",
       " <matplotlib.axes._subplots.AxesSubplot at 0x1a0ac596a0>)"
      ]
     },
     "execution_count": 11,
     "metadata": {},
     "output_type": "execute_result"
    },
    {
     "data": {
      "image/png": "[encoded data removed]",
      "text/plain": [
       "<matplotlib.figure.Figure at 0x1a0acd3a20>"
      ]
     },
     "metadata": {},
     "output_type": "display_data"
    }
   ],
   "source": [
    "y_test_prob = pipe.predict_proba(X_test)[:, 1]\n",
    "y_test_pred = np.where(y_test_prob>0.8, 1, 0)\n",
    "plot_confusion_matrix(metrics.confusion_matrix(y_test, y_test_pred))"
   ]
  },
  {
   "cell_type": "code",
   "execution_count": 12,
   "metadata": {},
   "outputs": [
    {
     "data": {
      "text/plain": [
       "(<matplotlib.figure.Figure at 0x1a0ad24fd0>,\n",
       " <matplotlib.axes._subplots.AxesSubplot at 0x1a11933898>)"
      ]
     },
     "execution_count": 12,
     "metadata": {},
     "output_type": "execute_result"
    },
    {
     "data": {
      "image/png": "[encoded data removed]",
      "text/plain": [
       "<matplotlib.figure.Figure at 0x1a0ad24fd0>"
      ]
     },
     "metadata": {},
     "output_type": "display_data"
    }
   ],
   "source": [
    "y_test_prob = pipe.predict_proba(X_test)[:, 1]\n",
    "y_test_pred = np.where(y_test_prob>0.3, 1, 0)\n",
    "plot_confusion_matrix(metrics.confusion_matrix(y_test, y_test_pred))"
   ]
  },
  {
   "cell_type": "code",
   "execution_count": 19,
   "metadata": {},
   "outputs": [
    {
     "data": {
      "text/plain": [
       "Text(0,0.5,'TPR')"
      ]
     },
     "execution_count": 19,
     "metadata": {},
     "output_type": "execute_result"
    },
    {
     "data": {
      "image/png": "[encoded data removed]",
      "text/plain": [
       "<matplotlib.figure.Figure at 0x1a122360b8>"
      ]
     },
     "metadata": {},
     "output_type": "display_data"
    }
   ],
   "source": [
    "fpr, tpr, thresholds = metrics.roc_curve(y_test, y_test_prob)\n",
    "plt.plot(fpr, tpr)\n",
    "plt.plot([0, 1], [0, 1], ls = \"--\")\n",
    "auc = metrics.auc(fpr, tpr)\n",
    "plt.title(\"ROC curve, auc\" + str(auc))\n",
    "plt.xlabel(\"FPR\")\n",
    "plt.ylabel(\"TPR\")"
   ]
  },
  {
   "cell_type": "code",
   "execution_count": null,
   "metadata": {},
   "outputs": [],
   "source": []
  }
 ],
 "metadata": {
  "kernelspec": {
   "display_name": "Python 3",
   "language": "python",
   "name": "python3"
  },
  "language_info": {
   "codemirror_mode": {
    "name": "ipython",
    "version": 3
   },
   "file_extension": ".py",
   "mimetype": "text/x-python",
   "name": "python",
   "nbconvert_exporter": "python",
   "pygments_lexer": "ipython3",
   "version": "3.6.4"
  }
 },
 "nbformat": 4,
 "nbformat_minor": 2
}
