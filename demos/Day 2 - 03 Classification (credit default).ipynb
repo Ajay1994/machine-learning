{
 "cells": [
  {
   "cell_type": "code",
   "execution_count": 1,
   "metadata": {},
   "outputs": [
    {
     "name": "stderr",
     "output_type": "stream",
     "text": [
      "/Users/abulbasar/anaconda3/lib/python3.6/site-packages/sklearn/cross_validation.py:41: DeprecationWarning: This module was deprecated in version 0.18 in favor of the model_selection module into which all the refactored classes and functions are moved. Also note that the interface of the new CV iterators are different from that of this module. This module will be removed in 0.20.\n",
      "  \"This module will be removed in 0.20.\", DeprecationWarning)\n",
      "/Users/abulbasar/anaconda3/lib/python3.6/site-packages/sklearn/grid_search.py:42: DeprecationWarning: This module was deprecated in version 0.18 in favor of the model_selection module into which all the refactored classes and functions are moved. This module will be removed in 0.20.\n",
      "  DeprecationWarning)\n",
      "/Users/abulbasar/anaconda3/lib/python3.6/site-packages/sklearn/learning_curve.py:22: DeprecationWarning: This module was deprecated in version 0.18 in favor of the model_selection module into which all the functions are moved. This module will be removed in 0.20\n",
      "  DeprecationWarning)\n"
     ]
    }
   ],
   "source": [
    "import pandas as pd\n",
    "import numpy as np\n",
    "from sklearn import *\n",
    "import matplotlib.pyplot as plt\n",
    "\n",
    "%matplotlib inline"
   ]
  },
  {
   "cell_type": "code",
   "execution_count": 2,
   "metadata": {},
   "outputs": [
    {
     "data": {
      "text/html": [
       "<div>\n",
       "<style scoped>\n",
       "    .dataframe tbody tr th:only-of-type {\n",
       "        vertical-align: middle;\n",
       "    }\n",
       "\n",
       "    .dataframe tbody tr th {\n",
       "        vertical-align: top;\n",
       "    }\n",
       "\n",
       "    .dataframe thead th {\n",
       "        text-align: right;\n",
       "    }\n",
       "</style>\n",
       "<table border=\"1\" class=\"dataframe\">\n",
       "  <thead>\n",
       "    <tr style=\"text-align: right;\">\n",
       "      <th></th>\n",
       "      <th>checking_balance</th>\n",
       "      <th>months_loan_duration</th>\n",
       "      <th>credit_history</th>\n",
       "      <th>purpose</th>\n",
       "      <th>amount</th>\n",
       "      <th>savings_balance</th>\n",
       "      <th>employment_length</th>\n",
       "      <th>installment_rate</th>\n",
       "      <th>personal_status</th>\n",
       "      <th>other_debtors</th>\n",
       "      <th>...</th>\n",
       "      <th>property</th>\n",
       "      <th>age</th>\n",
       "      <th>installment_plan</th>\n",
       "      <th>housing</th>\n",
       "      <th>existing_credits</th>\n",
       "      <th>default</th>\n",
       "      <th>dependents</th>\n",
       "      <th>telephone</th>\n",
       "      <th>foreign_worker</th>\n",
       "      <th>job</th>\n",
       "    </tr>\n",
       "  </thead>\n",
       "  <tbody>\n",
       "    <tr>\n",
       "      <th>0</th>\n",
       "      <td>&lt; 0 DM</td>\n",
       "      <td>6</td>\n",
       "      <td>critical</td>\n",
       "      <td>radio/tv</td>\n",
       "      <td>1169</td>\n",
       "      <td>unknown</td>\n",
       "      <td>&gt; 7 yrs</td>\n",
       "      <td>4</td>\n",
       "      <td>single male</td>\n",
       "      <td>none</td>\n",
       "      <td>...</td>\n",
       "      <td>real estate</td>\n",
       "      <td>67</td>\n",
       "      <td>none</td>\n",
       "      <td>own</td>\n",
       "      <td>2</td>\n",
       "      <td>1</td>\n",
       "      <td>1</td>\n",
       "      <td>yes</td>\n",
       "      <td>yes</td>\n",
       "      <td>skilled employee</td>\n",
       "    </tr>\n",
       "    <tr>\n",
       "      <th>1</th>\n",
       "      <td>1 - 200 DM</td>\n",
       "      <td>48</td>\n",
       "      <td>repaid</td>\n",
       "      <td>radio/tv</td>\n",
       "      <td>5951</td>\n",
       "      <td>&lt; 100 DM</td>\n",
       "      <td>1 - 4 yrs</td>\n",
       "      <td>2</td>\n",
       "      <td>female</td>\n",
       "      <td>none</td>\n",
       "      <td>...</td>\n",
       "      <td>real estate</td>\n",
       "      <td>22</td>\n",
       "      <td>none</td>\n",
       "      <td>own</td>\n",
       "      <td>1</td>\n",
       "      <td>2</td>\n",
       "      <td>1</td>\n",
       "      <td>none</td>\n",
       "      <td>yes</td>\n",
       "      <td>skilled employee</td>\n",
       "    </tr>\n",
       "    <tr>\n",
       "      <th>2</th>\n",
       "      <td>unknown</td>\n",
       "      <td>12</td>\n",
       "      <td>critical</td>\n",
       "      <td>education</td>\n",
       "      <td>2096</td>\n",
       "      <td>&lt; 100 DM</td>\n",
       "      <td>4 - 7 yrs</td>\n",
       "      <td>2</td>\n",
       "      <td>single male</td>\n",
       "      <td>none</td>\n",
       "      <td>...</td>\n",
       "      <td>real estate</td>\n",
       "      <td>49</td>\n",
       "      <td>none</td>\n",
       "      <td>own</td>\n",
       "      <td>1</td>\n",
       "      <td>1</td>\n",
       "      <td>2</td>\n",
       "      <td>none</td>\n",
       "      <td>yes</td>\n",
       "      <td>unskilled resident</td>\n",
       "    </tr>\n",
       "    <tr>\n",
       "      <th>3</th>\n",
       "      <td>&lt; 0 DM</td>\n",
       "      <td>42</td>\n",
       "      <td>repaid</td>\n",
       "      <td>furniture</td>\n",
       "      <td>7882</td>\n",
       "      <td>&lt; 100 DM</td>\n",
       "      <td>4 - 7 yrs</td>\n",
       "      <td>2</td>\n",
       "      <td>single male</td>\n",
       "      <td>guarantor</td>\n",
       "      <td>...</td>\n",
       "      <td>building society savings</td>\n",
       "      <td>45</td>\n",
       "      <td>none</td>\n",
       "      <td>for free</td>\n",
       "      <td>1</td>\n",
       "      <td>1</td>\n",
       "      <td>2</td>\n",
       "      <td>none</td>\n",
       "      <td>yes</td>\n",
       "      <td>skilled employee</td>\n",
       "    </tr>\n",
       "    <tr>\n",
       "      <th>4</th>\n",
       "      <td>&lt; 0 DM</td>\n",
       "      <td>24</td>\n",
       "      <td>delayed</td>\n",
       "      <td>car (new)</td>\n",
       "      <td>4870</td>\n",
       "      <td>&lt; 100 DM</td>\n",
       "      <td>1 - 4 yrs</td>\n",
       "      <td>3</td>\n",
       "      <td>single male</td>\n",
       "      <td>none</td>\n",
       "      <td>...</td>\n",
       "      <td>unknown/none</td>\n",
       "      <td>53</td>\n",
       "      <td>none</td>\n",
       "      <td>for free</td>\n",
       "      <td>2</td>\n",
       "      <td>2</td>\n",
       "      <td>2</td>\n",
       "      <td>none</td>\n",
       "      <td>yes</td>\n",
       "      <td>skilled employee</td>\n",
       "    </tr>\n",
       "  </tbody>\n",
       "</table>\n",
       "<p>5 rows × 21 columns</p>\n",
       "</div>"
      ],
      "text/plain": [
       "  checking_balance  months_loan_duration credit_history    purpose  amount  \\\n",
       "0           < 0 DM                     6       critical   radio/tv    1169   \n",
       "1       1 - 200 DM                    48         repaid   radio/tv    5951   \n",
       "2          unknown                    12       critical  education    2096   \n",
       "3           < 0 DM                    42         repaid  furniture    7882   \n",
       "4           < 0 DM                    24        delayed  car (new)    4870   \n",
       "\n",
       "  savings_balance employment_length  installment_rate personal_status  \\\n",
       "0         unknown           > 7 yrs                 4     single male   \n",
       "1        < 100 DM         1 - 4 yrs                 2          female   \n",
       "2        < 100 DM         4 - 7 yrs                 2     single male   \n",
       "3        < 100 DM         4 - 7 yrs                 2     single male   \n",
       "4        < 100 DM         1 - 4 yrs                 3     single male   \n",
       "\n",
       "  other_debtors         ...                          property age  \\\n",
       "0          none         ...                       real estate  67   \n",
       "1          none         ...                       real estate  22   \n",
       "2          none         ...                       real estate  49   \n",
       "3     guarantor         ...          building society savings  45   \n",
       "4          none         ...                      unknown/none  53   \n",
       "\n",
       "   installment_plan   housing existing_credits  default  dependents  \\\n",
       "0              none       own                2        1           1   \n",
       "1              none       own                1        2           1   \n",
       "2              none       own                1        1           2   \n",
       "3              none  for free                1        1           2   \n",
       "4              none  for free                2        2           2   \n",
       "\n",
       "   telephone foreign_worker                 job  \n",
       "0        yes            yes    skilled employee  \n",
       "1       none            yes    skilled employee  \n",
       "2       none            yes  unskilled resident  \n",
       "3       none            yes    skilled employee  \n",
       "4       none            yes    skilled employee  \n",
       "\n",
       "[5 rows x 21 columns]"
      ]
     },
     "execution_count": 2,
     "metadata": {},
     "output_type": "execute_result"
    }
   ],
   "source": [
    "df = pd.read_csv(\"/data/credit-default.csv\")\n",
    "df.head()"
   ]
  },
  {
   "cell_type": "code",
   "execution_count": 3,
   "metadata": {},
   "outputs": [
    {
     "name": "stdout",
     "output_type": "stream",
     "text": [
      "<class 'pandas.core.frame.DataFrame'>\n",
      "RangeIndex: 1000 entries, 0 to 999\n",
      "Data columns (total 21 columns):\n",
      "checking_balance        1000 non-null object\n",
      "months_loan_duration    1000 non-null int64\n",
      "credit_history          1000 non-null object\n",
      "purpose                 1000 non-null object\n",
      "amount                  1000 non-null int64\n",
      "savings_balance         1000 non-null object\n",
      "employment_length       1000 non-null object\n",
      "installment_rate        1000 non-null int64\n",
      "personal_status         1000 non-null object\n",
      "other_debtors           1000 non-null object\n",
      "residence_history       1000 non-null int64\n",
      "property                1000 non-null object\n",
      "age                     1000 non-null int64\n",
      "installment_plan        1000 non-null object\n",
      "housing                 1000 non-null object\n",
      "existing_credits        1000 non-null int64\n",
      "default                 1000 non-null int64\n",
      "dependents              1000 non-null int64\n",
      "telephone               1000 non-null object\n",
      "foreign_worker          1000 non-null object\n",
      "job                     1000 non-null object\n",
      "dtypes: int64(8), object(13)\n",
      "memory usage: 164.1+ KB\n"
     ]
    }
   ],
   "source": [
    "df.info()"
   ]
  },
  {
   "cell_type": "code",
   "execution_count": 4,
   "metadata": {},
   "outputs": [
    {
     "data": {
      "text/plain": [
       "1    700\n",
       "2    300\n",
       "Name: default, dtype: int64"
      ]
     },
     "execution_count": 4,
     "metadata": {},
     "output_type": "execute_result"
    }
   ],
   "source": [
    "df.default.value_counts()"
   ]
  },
  {
   "cell_type": "code",
   "execution_count": 5,
   "metadata": {},
   "outputs": [
    {
     "data": {
      "text/plain": [
       "<matplotlib.axes._subplots.AxesSubplot at 0x1a1324c780>"
      ]
     },
     "execution_count": 5,
     "metadata": {},
     "output_type": "execute_result"
    },
    {
     "data": {
      "image/png": "[encoded data removed]",
      "text/plain": [
       "<matplotlib.figure.Figure at 0x10bcdec88>"
      ]
     },
     "metadata": {},
     "output_type": "display_data"
    }
   ],
   "source": [
    "df.default.value_counts().plot.bar()"
   ]
  },
  {
   "cell_type": "code",
   "execution_count": 6,
   "metadata": {},
   "outputs": [
    {
     "name": "stdout",
     "output_type": "stream",
     "text": [
      "X_train (700, 48) X_test (300, 48)\n"
     ]
    },
    {
     "data": {
      "text/plain": [
       "0.7833333333333333"
      ]
     },
     "execution_count": 6,
     "metadata": {},
     "output_type": "execute_result"
    }
   ],
   "source": [
    "target = \"default\"\n",
    "y = np.where(df[target] == 2, 1, 0)\n",
    "X = df.copy()\n",
    "del X[target]\n",
    "X = pd.get_dummies(X, drop_first=True)\n",
    "\n",
    "X_train, X_test, y_train, y_test = model_selection.train_test_split(X, y, \n",
    "                                        test_size = 0.3, random_state = 12345)\n",
    "print(\"X_train\", X_train.shape, \"X_test\", X_test.shape)\n",
    "\n",
    "pipe = pipeline.Pipeline([\n",
    "    (\"poly\", preprocessing.PolynomialFeatures(degree=1, include_bias=False)),\n",
    "    (\"scaler\", preprocessing.StandardScaler()),\n",
    "    (\"est\", linear_model.LogisticRegression())\n",
    "])\n",
    "\n",
    "pipe.fit(X_train, y_train)\n",
    "pipe.score(X_test, y_test)\n"
   ]
  },
  {
   "cell_type": "code",
   "execution_count": 7,
   "metadata": {},
   "outputs": [],
   "source": [
    "y_test_pred = pipe.predict(X_test) "
   ]
  },
  {
   "cell_type": "code",
   "execution_count": 9,
   "metadata": {},
   "outputs": [],
   "source": [
    "from mlxtend.plotting import plot_confusion_matrix"
   ]
  },
  {
   "cell_type": "code",
   "execution_count": 11,
   "metadata": {},
   "outputs": [
    {
     "data": {
      "image/png": "[encoded data removed]",
      "text/plain": [
       "<matplotlib.figure.Figure at 0x1a137a2160>"
      ]
     },
     "metadata": {},
     "output_type": "display_data"
    }
   ],
   "source": [
    "plot_confusion_matrix(metrics.confusion_matrix(y_test, y_test_pred));"
   ]
  },
  {
   "cell_type": "code",
   "execution_count": 17,
   "metadata": {},
   "outputs": [
    {
     "data": {
      "text/plain": [
       "0.7833333333333333"
      ]
     },
     "execution_count": 17,
     "metadata": {},
     "output_type": "execute_result"
    }
   ],
   "source": [
    "(194 + 41)/len(y_test)"
   ]
  },
  {
   "cell_type": "code",
   "execution_count": 18,
   "metadata": {
    "scrolled": false
   },
   "outputs": [
    {
     "data": {
      "text/plain": [
       "array([[8.96783868e-01, 1.03216132e-01],\n",
       "       [7.78961635e-01, 2.21038365e-01],\n",
       "       [9.76045529e-01, 2.39544711e-02],\n",
       "       [8.14107279e-01, 1.85892721e-01],\n",
       "       [8.86514565e-01, 1.13485435e-01],\n",
       "       [6.30719798e-01, 3.69280202e-01],\n",
       "       [8.95732427e-01, 1.04267573e-01],\n",
       "       [9.32125521e-01, 6.78744792e-02],\n",
       "       [3.62027241e-01, 6.37972759e-01],\n",
       "       [2.67223340e-01, 7.32776660e-01],\n",
       "       [2.21661775e-01, 7.78338225e-01],\n",
       "       [8.93750533e-01, 1.06249467e-01],\n",
       "       [5.82717055e-01, 4.17282945e-01],\n",
       "       [1.20613489e-01, 8.79386511e-01],\n",
       "       [8.71110367e-01, 1.28889633e-01],\n",
       "       [8.01028962e-01, 1.98971038e-01],\n",
       "       [9.57081820e-01, 4.29181804e-02],\n",
       "       [9.08386150e-01, 9.16138501e-02],\n",
       "       [7.62683895e-01, 2.37316105e-01],\n",
       "       [1.44822058e-01, 8.55177942e-01],\n",
       "       [9.37949562e-01, 6.20504382e-02],\n",
       "       [7.66404196e-01, 2.33595804e-01],\n",
       "       [2.48737593e-01, 7.51262407e-01],\n",
       "       [8.68232871e-01, 1.31767129e-01],\n",
       "       [5.31422019e-01, 4.68577981e-01],\n",
       "       [6.82882824e-01, 3.17117176e-01],\n",
       "       [9.92074358e-01, 7.92564177e-03],\n",
       "       [8.66110011e-01, 1.33889989e-01],\n",
       "       [9.11674441e-01, 8.83255587e-02],\n",
       "       [5.46523665e-01, 4.53476335e-01],\n",
       "       [5.74827955e-01, 4.25172045e-01],\n",
       "       [3.13657610e-01, 6.86342390e-01],\n",
       "       [9.34829568e-01, 6.51704322e-02],\n",
       "       [8.95178486e-01, 1.04821514e-01],\n",
       "       [9.61755604e-01, 3.82443964e-02],\n",
       "       [9.62739853e-01, 3.72601475e-02],\n",
       "       [9.45364027e-01, 5.46359730e-02],\n",
       "       [7.65504287e-01, 2.34495713e-01],\n",
       "       [6.40726585e-01, 3.59273415e-01],\n",
       "       [8.34308334e-01, 1.65691666e-01],\n",
       "       [6.57763399e-01, 3.42236601e-01],\n",
       "       [7.56365756e-01, 2.43634244e-01],\n",
       "       [9.65826532e-01, 3.41734677e-02],\n",
       "       [8.20173165e-01, 1.79826835e-01],\n",
       "       [6.05059628e-01, 3.94940372e-01],\n",
       "       [5.99585165e-01, 4.00414835e-01],\n",
       "       [5.60103000e-01, 4.39897000e-01],\n",
       "       [8.80278065e-01, 1.19721935e-01],\n",
       "       [8.75614520e-01, 1.24385480e-01],\n",
       "       [6.61484921e-01, 3.38515079e-01],\n",
       "       [9.05363335e-01, 9.46366648e-02],\n",
       "       [7.97969341e-01, 2.02030659e-01],\n",
       "       [8.83930940e-01, 1.16069060e-01],\n",
       "       [7.21804483e-01, 2.78195517e-01],\n",
       "       [9.39993021e-01, 6.00069786e-02],\n",
       "       [8.44977514e-01, 1.55022486e-01],\n",
       "       [3.98694949e-01, 6.01305051e-01],\n",
       "       [6.80670958e-01, 3.19329042e-01],\n",
       "       [8.56066610e-01, 1.43933390e-01],\n",
       "       [6.75003816e-02, 9.32499618e-01],\n",
       "       [9.75151444e-01, 2.48485560e-02],\n",
       "       [1.06816174e-01, 8.93183826e-01],\n",
       "       [9.75386377e-01, 2.46136232e-02],\n",
       "       [6.06105835e-01, 3.93894165e-01],\n",
       "       [9.19756549e-01, 8.02434513e-02],\n",
       "       [3.89798683e-01, 6.10201317e-01],\n",
       "       [9.15505069e-01, 8.44949306e-02],\n",
       "       [2.19506736e-01, 7.80493264e-01],\n",
       "       [4.60694411e-01, 5.39305589e-01],\n",
       "       [7.26562547e-01, 2.73437453e-01],\n",
       "       [9.37957188e-01, 6.20428117e-02],\n",
       "       [5.52373631e-01, 4.47626369e-01],\n",
       "       [9.49722400e-01, 5.02776000e-02],\n",
       "       [9.34076915e-01, 6.59230846e-02],\n",
       "       [8.43529334e-01, 1.56470666e-01],\n",
       "       [3.67651363e-01, 6.32348637e-01],\n",
       "       [9.71457871e-01, 2.85421289e-02],\n",
       "       [8.16242864e-01, 1.83757136e-01],\n",
       "       [9.89429215e-01, 1.05707854e-02],\n",
       "       [9.24582980e-01, 7.54170200e-02],\n",
       "       [8.97613600e-01, 1.02386400e-01],\n",
       "       [9.28667802e-01, 7.13321985e-02],\n",
       "       [5.44041935e-01, 4.55958065e-01],\n",
       "       [4.87887464e-01, 5.12112536e-01],\n",
       "       [6.32665914e-01, 3.67334086e-01],\n",
       "       [8.41847866e-01, 1.58152134e-01],\n",
       "       [8.22470677e-01, 1.77529323e-01],\n",
       "       [9.62249246e-01, 3.77507541e-02],\n",
       "       [2.62581021e-01, 7.37418979e-01],\n",
       "       [1.38450023e-01, 8.61549977e-01],\n",
       "       [9.81472294e-01, 1.85277058e-02],\n",
       "       [3.13854393e-01, 6.86145607e-01],\n",
       "       [5.30028801e-01, 4.69971199e-01],\n",
       "       [6.35354873e-01, 3.64645127e-01],\n",
       "       [9.47681481e-01, 5.23185194e-02],\n",
       "       [9.60960888e-01, 3.90391118e-02],\n",
       "       [7.91133765e-01, 2.08866235e-01],\n",
       "       [3.25185706e-01, 6.74814294e-01],\n",
       "       [3.98970987e-01, 6.01029013e-01],\n",
       "       [4.95092931e-01, 5.04907069e-01],\n",
       "       [5.56062061e-01, 4.43937939e-01],\n",
       "       [6.68153488e-01, 3.31846512e-01],\n",
       "       [7.97835417e-01, 2.02164583e-01],\n",
       "       [9.42907443e-01, 5.70925573e-02],\n",
       "       [8.77828448e-01, 1.22171552e-01],\n",
       "       [5.73387891e-01, 4.26612109e-01],\n",
       "       [6.22446431e-01, 3.77553569e-01],\n",
       "       [6.40757240e-01, 3.59242760e-01],\n",
       "       [9.60886462e-01, 3.91135383e-02],\n",
       "       [9.40316846e-01, 5.96831535e-02],\n",
       "       [9.45939358e-01, 5.40606416e-02],\n",
       "       [7.26534446e-01, 2.73465554e-01],\n",
       "       [7.66031619e-01, 2.33968381e-01],\n",
       "       [7.68540522e-01, 2.31459478e-01],\n",
       "       [7.32532295e-01, 2.67467705e-01],\n",
       "       [5.63754575e-01, 4.36245425e-01],\n",
       "       [2.52011407e-01, 7.47988593e-01],\n",
       "       [3.69038627e-01, 6.30961373e-01],\n",
       "       [9.89759069e-01, 1.02409311e-02],\n",
       "       [8.44363742e-01, 1.55636258e-01],\n",
       "       [9.52988759e-01, 4.70112410e-02],\n",
       "       [2.94860719e-01, 7.05139281e-01],\n",
       "       [7.77665404e-01, 2.22334596e-01],\n",
       "       [9.47531273e-01, 5.24687266e-02],\n",
       "       [9.30112639e-01, 6.98873612e-02],\n",
       "       [3.93855383e-01, 6.06144617e-01],\n",
       "       [9.30207633e-01, 6.97923675e-02],\n",
       "       [8.49915336e-01, 1.50084664e-01],\n",
       "       [8.51472855e-01, 1.48527145e-01],\n",
       "       [1.35382390e-01, 8.64617610e-01],\n",
       "       [4.60209733e-01, 5.39790267e-01],\n",
       "       [9.07822181e-01, 9.21778191e-02],\n",
       "       [5.17293076e-01, 4.82706924e-01],\n",
       "       [4.43134616e-02, 9.55686538e-01],\n",
       "       [8.99283217e-01, 1.00716783e-01],\n",
       "       [9.33069696e-01, 6.69303043e-02],\n",
       "       [4.76146733e-01, 5.23853267e-01],\n",
       "       [9.35443385e-01, 6.45566147e-02],\n",
       "       [7.09431144e-01, 2.90568856e-01],\n",
       "       [9.66876662e-01, 3.31233382e-02],\n",
       "       [5.55576852e-01, 4.44423148e-01],\n",
       "       [2.35521436e-01, 7.64478564e-01],\n",
       "       [4.82890662e-01, 5.17109338e-01],\n",
       "       [6.09861447e-01, 3.90138553e-01],\n",
       "       [8.91174649e-01, 1.08825351e-01],\n",
       "       [9.54011472e-01, 4.59885284e-02],\n",
       "       [9.72278509e-01, 2.77214911e-02],\n",
       "       [6.39268754e-01, 3.60731246e-01],\n",
       "       [9.03416548e-01, 9.65834521e-02],\n",
       "       [4.46826375e-02, 9.55317362e-01],\n",
       "       [9.56608262e-01, 4.33917382e-02],\n",
       "       [9.70706019e-01, 2.92939808e-02],\n",
       "       [2.98094923e-01, 7.01905077e-01],\n",
       "       [2.70921332e-01, 7.29078668e-01],\n",
       "       [7.96410674e-01, 2.03589326e-01],\n",
       "       [6.60285596e-01, 3.39714404e-01],\n",
       "       [6.11921768e-01, 3.88078232e-01],\n",
       "       [5.33299711e-01, 4.66700289e-01],\n",
       "       [9.84235239e-01, 1.57647610e-02],\n",
       "       [6.94902777e-01, 3.05097223e-01],\n",
       "       [8.12128110e-01, 1.87871890e-01],\n",
       "       [9.77170153e-01, 2.28298467e-02],\n",
       "       [6.51048036e-01, 3.48951964e-01],\n",
       "       [8.28885256e-01, 1.71114744e-01],\n",
       "       [2.96283592e-01, 7.03716408e-01],\n",
       "       [8.73724610e-01, 1.26275390e-01],\n",
       "       [4.53739880e-01, 5.46260120e-01],\n",
       "       [8.96793825e-01, 1.03206175e-01],\n",
       "       [8.17700415e-01, 1.82299585e-01],\n",
       "       [5.41154134e-01, 4.58845866e-01],\n",
       "       [5.59491142e-01, 4.40508858e-01],\n",
       "       [3.16616927e-01, 6.83383073e-01],\n",
       "       [9.66681034e-01, 3.33189661e-02],\n",
       "       [9.99439196e-01, 5.60803871e-04],\n",
       "       [9.73803994e-01, 2.61960062e-02],\n",
       "       [3.39959026e-01, 6.60040974e-01],\n",
       "       [3.00646595e-01, 6.99353405e-01],\n",
       "       [8.34493133e-01, 1.65506867e-01],\n",
       "       [8.58676421e-01, 1.41323579e-01],\n",
       "       [6.43793399e-01, 3.56206601e-01],\n",
       "       [8.15121473e-01, 1.84878527e-01],\n",
       "       [2.38808129e-01, 7.61191871e-01],\n",
       "       [9.65761566e-01, 3.42384338e-02],\n",
       "       [9.95122455e-01, 4.87754454e-03],\n",
       "       [9.66836009e-01, 3.31639910e-02],\n",
       "       [6.41137154e-01, 3.58862846e-01],\n",
       "       [8.34087392e-01, 1.65912608e-01],\n",
       "       [9.87432493e-01, 1.25675074e-02],\n",
       "       [5.85718592e-01, 4.14281408e-01],\n",
       "       [8.38598245e-01, 1.61401755e-01],\n",
       "       [9.14310780e-01, 8.56892203e-02],\n",
       "       [2.95034869e-01, 7.04965131e-01],\n",
       "       [9.79396351e-01, 2.06036494e-02],\n",
       "       [2.80484094e-01, 7.19515906e-01],\n",
       "       [9.02526753e-01, 9.74732465e-02],\n",
       "       [2.32466432e-01, 7.67533568e-01],\n",
       "       [9.38418096e-01, 6.15819041e-02],\n",
       "       [8.84376961e-01, 1.15623039e-01],\n",
       "       [5.95527449e-01, 4.04472551e-01],\n",
       "       [9.87051410e-01, 1.29485897e-02],\n",
       "       [8.70347657e-01, 1.29652343e-01],\n",
       "       [7.15856338e-01, 2.84143662e-01],\n",
       "       [6.94841799e-01, 3.05158201e-01],\n",
       "       [9.76730877e-01, 2.32691230e-02],\n",
       "       [5.57781518e-01, 4.42218482e-01],\n",
       "       [3.65110009e-01, 6.34889991e-01],\n",
       "       [9.72716901e-01, 2.72830992e-02],\n",
       "       [5.19273898e-01, 4.80726102e-01],\n",
       "       [7.11081879e-01, 2.88918121e-01],\n",
       "       [8.74900344e-01, 1.25099656e-01],\n",
       "       [9.47505837e-01, 5.24941626e-02],\n",
       "       [8.68241082e-01, 1.31758918e-01],\n",
       "       [9.12610612e-01, 8.73893884e-02],\n",
       "       [9.55372534e-01, 4.46274658e-02],\n",
       "       [5.65550862e-01, 4.34449138e-01],\n",
       "       [8.49230697e-01, 1.50769303e-01],\n",
       "       [3.34667093e-01, 6.65332907e-01],\n",
       "       [4.63775838e-01, 5.36224162e-01],\n",
       "       [9.88538877e-01, 1.14611233e-02],\n",
       "       [3.48058408e-01, 6.51941592e-01],\n",
       "       [2.13251833e-01, 7.86748167e-01],\n",
       "       [9.23226634e-01, 7.67733660e-02],\n",
       "       [9.71511697e-01, 2.84883028e-02],\n",
       "       [1.46375475e-01, 8.53624525e-01],\n",
       "       [6.85640723e-01, 3.14359277e-01],\n",
       "       [9.66058513e-01, 3.39414868e-02],\n",
       "       [3.60260257e-01, 6.39739743e-01],\n",
       "       [9.28295007e-01, 7.17049926e-02],\n",
       "       [8.38509948e-01, 1.61490052e-01],\n",
       "       [9.68272186e-01, 3.17278138e-02],\n",
       "       [5.29840796e-01, 4.70159204e-01],\n",
       "       [8.88170717e-01, 1.11829283e-01],\n",
       "       [9.41203051e-01, 5.87969486e-02],\n",
       "       [5.22634085e-01, 4.77365915e-01],\n",
       "       [9.12774793e-01, 8.72252074e-02],\n",
       "       [8.32233566e-01, 1.67766434e-01],\n",
       "       [8.74934599e-01, 1.25065401e-01],\n",
       "       [6.36789967e-01, 3.63210033e-01],\n",
       "       [9.63602947e-01, 3.63970526e-02],\n",
       "       [9.72422907e-01, 2.75770932e-02],\n",
       "       [9.05256559e-01, 9.47434412e-02],\n",
       "       [4.74057885e-01, 5.25942115e-01],\n",
       "       [4.21222553e-01, 5.78777447e-01],\n",
       "       [7.20999264e-01, 2.79000736e-01],\n",
       "       [7.13781163e-01, 2.86218837e-01],\n",
       "       [6.54394503e-01, 3.45605497e-01],\n",
       "       [1.57689434e-01, 8.42310566e-01],\n",
       "       [8.55907444e-01, 1.44092556e-01],\n",
       "       [8.99750466e-01, 1.00249534e-01],\n",
       "       [7.24186202e-01, 2.75813798e-01],\n",
       "       [8.21993701e-01, 1.78006299e-01],\n",
       "       [3.40971305e-01, 6.59028695e-01],\n",
       "       [1.79776220e-01, 8.20223780e-01],\n",
       "       [9.82883559e-01, 1.71164411e-02],\n",
       "       [9.89624839e-01, 1.03751607e-02],\n",
       "       [9.91452377e-01, 8.54762308e-03],\n",
       "       [3.01050970e-01, 6.98949030e-01],\n",
       "       [5.98238197e-01, 4.01761803e-01],\n",
       "       [8.00087634e-01, 1.99912366e-01],\n",
       "       [2.44760407e-01, 7.55239593e-01],\n",
       "       [3.83800933e-01, 6.16199067e-01],\n",
       "       [4.97511185e-01, 5.02488815e-01],\n",
       "       [7.55926544e-01, 2.44073456e-01],\n",
       "       [9.59928252e-01, 4.00717481e-02],\n",
       "       [9.18689808e-01, 8.13101919e-02],\n",
       "       [9.65782607e-01, 3.42173930e-02],\n",
       "       [8.63825164e-01, 1.36174836e-01],\n",
       "       [5.20097723e-01, 4.79902277e-01],\n",
       "       [3.63786687e-01, 6.36213313e-01],\n",
       "       [5.26566165e-01, 4.73433835e-01],\n",
       "       [9.27202404e-01, 7.27975960e-02],\n",
       "       [8.96508776e-01, 1.03491224e-01],\n",
       "       [2.69575941e-01, 7.30424059e-01],\n",
       "       [8.10938024e-01, 1.89061976e-01],\n",
       "       [9.96848887e-01, 3.15111290e-03],\n",
       "       [7.65205668e-01, 2.34794332e-01],\n",
       "       [9.77805588e-01, 2.21944124e-02],\n",
       "       [9.52191205e-01, 4.78087954e-02],\n",
       "       [7.87181779e-01, 2.12818221e-01],\n",
       "       [6.84367325e-01, 3.15632675e-01],\n",
       "       [9.70008258e-01, 2.99917422e-02],\n",
       "       [8.54008661e-01, 1.45991339e-01],\n",
       "       [9.54932530e-01, 4.50674702e-02],\n",
       "       [1.65034225e-01, 8.34965775e-01],\n",
       "       [7.82337485e-01, 2.17662515e-01],\n",
       "       [2.89490930e-01, 7.10509070e-01],\n",
       "       [9.35083485e-01, 6.49165149e-02],\n",
       "       [1.11630110e-01, 8.88369890e-01],\n",
       "       [6.44887105e-01, 3.55112895e-01],\n",
       "       [9.27546762e-01, 7.24532384e-02],\n",
       "       [1.89666631e-01, 8.10333369e-01],\n",
       "       [4.25172797e-01, 5.74827203e-01],\n",
       "       [7.46238989e-01, 2.53761011e-01],\n",
       "       [1.60775191e-01, 8.39224809e-01],\n",
       "       [3.22908772e-01, 6.77091228e-01],\n",
       "       [4.76004576e-01, 5.23995424e-01],\n",
       "       [8.46250492e-01, 1.53749508e-01],\n",
       "       [6.58182362e-01, 3.41817638e-01],\n",
       "       [7.39481883e-01, 2.60518117e-01],\n",
       "       [7.77878314e-01, 2.22121686e-01]])"
      ]
     },
     "execution_count": 18,
     "metadata": {},
     "output_type": "execute_result"
    }
   ],
   "source": [
    "pipe.predict_proba(X_test)"
   ]
  },
  {
   "cell_type": "code",
   "execution_count": 16,
   "metadata": {
    "scrolled": false
   },
   "outputs": [
    {
     "data": {
      "image/png": "[encoded data removed]",
      "text/plain": [
       "<matplotlib.figure.Figure at 0x1a13c4e828>"
      ]
     },
     "metadata": {},
     "output_type": "display_data"
    }
   ],
   "source": [
    "y_test_prob = pipe.predict_proba(X_test)[:, 1] #Probability(y=1)\n",
    "y_test_pred = np.where(y_test_prob > 0.5, 1, 0) # Predict class based on prob and prob threshold\n",
    "plot_confusion_matrix(metrics.confusion_matrix(y_test, y_test_pred));"
   ]
  },
  {
   "cell_type": "code",
   "execution_count": 20,
   "metadata": {},
   "outputs": [
    {
     "data": {
      "image/png": "[encoded data removed]",
      "text/plain": [
       "<matplotlib.figure.Figure at 0x1a138070b8>"
      ]
     },
     "metadata": {},
     "output_type": "display_data"
    }
   ],
   "source": [
    "y_test_prob = pipe.predict_proba(X_test)[:, 0] #Probability(y=1)\n",
    "y_test_pred = np.where(y_test_prob >= 0.5, 0, 1) # Predict class based on prob and prob threshold\n",
    "plot_confusion_matrix(metrics.confusion_matrix(y_test, y_test_pred));"
   ]
  },
  {
   "cell_type": "code",
   "execution_count": 21,
   "metadata": {},
   "outputs": [
    {
     "data": {
      "text/plain": [
       "0    0.74\n",
       "1    0.26\n",
       "dtype: float64"
      ]
     },
     "execution_count": 21,
     "metadata": {},
     "output_type": "execute_result"
    }
   ],
   "source": [
    "pd.Series(y_test).value_counts()/len(y_test)"
   ]
  },
  {
   "cell_type": "code",
   "execution_count": null,
   "metadata": {},
   "outputs": [],
   "source": []
  }
 ],
 "metadata": {
  "kernelspec": {
   "display_name": "Python 3",
   "language": "python",
   "name": "python3"
  },
  "language_info": {
   "codemirror_mode": {
    "name": "ipython",
    "version": 3
   },
   "file_extension": ".py",
   "mimetype": "text/x-python",
   "name": "python",
   "nbconvert_exporter": "python",
   "pygments_lexer": "ipython3",
   "version": "3.6.4"
  }
 },
 "nbformat": 4,
 "nbformat_minor": 2
}
