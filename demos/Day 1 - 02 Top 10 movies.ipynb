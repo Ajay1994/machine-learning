{
 "cells": [
  {
   "cell_type": "code",
   "execution_count": 1,
   "metadata": {},
   "outputs": [
    {
     "name": "stderr",
     "output_type": "stream",
     "text": [
      "/Users/abulbasar/anaconda3/lib/python3.6/site-packages/sklearn/cross_validation.py:41: DeprecationWarning: This module was deprecated in version 0.18 in favor of the model_selection module into which all the refactored classes and functions are moved. Also note that the interface of the new CV iterators are different from that of this module. This module will be removed in 0.20.\n",
      "  \"This module will be removed in 0.20.\", DeprecationWarning)\n",
      "/Users/abulbasar/anaconda3/lib/python3.6/site-packages/sklearn/grid_search.py:42: DeprecationWarning: This module was deprecated in version 0.18 in favor of the model_selection module into which all the refactored classes and functions are moved. This module will be removed in 0.20.\n",
      "  DeprecationWarning)\n",
      "/Users/abulbasar/anaconda3/lib/python3.6/site-packages/sklearn/learning_curve.py:22: DeprecationWarning: This module was deprecated in version 0.18 in favor of the model_selection module into which all the functions are moved. This module will be removed in 0.20\n",
      "  DeprecationWarning)\n",
      "/Users/abulbasar/anaconda3/lib/python3.6/site-packages/h5py/__init__.py:36: FutureWarning: Conversion of the second argument of issubdtype from `float` to `np.floating` is deprecated. In future, it will be treated as `np.float64 == np.dtype(float).type`.\n",
      "  from ._conv import register_converters as _register_converters\n"
     ]
    },
    {
     "name": "stdout",
     "output_type": "stream",
     "text": [
      "python: 3.6.4 |Anaconda, Inc.| (default, Jan 16 2018, 12:04:33) \n",
      "[GCC 4.2.1 Compatible Clang 4.0.1 (tags/RELEASE_401/final)] \n",
      "pandas: 0.22.0 \n",
      "numpy: 1.14.2 \n",
      "scikit learn: 0.19.1 \n",
      "matplotlib 2.1.2 \n",
      "tensorflow: 1.6.0 \n",
      "keras: 2.1.5\n"
     ]
    },
    {
     "name": "stderr",
     "output_type": "stream",
     "text": [
      "Using TensorFlow backend.\n"
     ]
    }
   ],
   "source": [
    "import sys\n",
    "import pandas as pd\n",
    "import numpy as np\n",
    "import sklearn\n",
    "from sklearn import *\n",
    "import matplotlib\n",
    "import matplotlib.pyplot as plt\n",
    "import tensorflow as tf\n",
    "import keras\n",
    "\n",
    "%matplotlib inline\n",
    "\n",
    "print(\"python:\", sys.version,\n",
    "\"\\npandas:\", pd.__version__,\n",
    "\"\\nnumpy:\", np.__version__,\n",
    "\"\\nscikit learn:\", sklearn.__version__,\n",
    "\"\\nmatplotlib\", matplotlib.__version__,\n",
    "\"\\ntensorflow:\", tf.__version__,\n",
    "\"\\nkeras:\", keras.__version__)"
   ]
  },
  {
   "cell_type": "markdown",
   "metadata": {},
   "source": [
    "# Exercise: find top 10 movies\n",
    "\n",
    "dataset: movielens \n",
    "https://github.com/abulbasar/data/tree/master/ml-latest-small\n",
    "\n",
    "1. load movies.csv as movies dataframe\n",
    "2. Find number of records and number of columns from movies\n",
    "3. Load ratings.csv as ratings dataframe\n",
    "4. For movieId = 1, how many records are present? Calculate average rating for movieId = 1\n",
    "5. Using aggregate function, calculate avg rating and number of ratings for each movie Id from ratings dataframe\n",
    "6. Filter out all movieId that have fewer than 100 ratings\n",
    "7. Merge the filtered data with movies dataframe to show title along with the aggregated values .. avg rating and count. \n",
    "8. Sort the data based on the avg rating\n",
    "9. Find top 10 movies.\n",
    "\n",
    "\n",
    "\n",
    "\n"
   ]
  },
  {
   "cell_type": "code",
   "execution_count": null,
   "metadata": {},
   "outputs": [],
   "source": []
  }
 ],
 "metadata": {
  "kernelspec": {
   "display_name": "Python 3",
   "language": "python",
   "name": "python3"
  },
  "language_info": {
   "codemirror_mode": {
    "name": "ipython",
    "version": 3
   },
   "file_extension": ".py",
   "mimetype": "text/x-python",
   "name": "python",
   "nbconvert_exporter": "python",
   "pygments_lexer": "ipython3",
   "version": "3.6.4"
  }
 },
 "nbformat": 4,
 "nbformat_minor": 2
}
