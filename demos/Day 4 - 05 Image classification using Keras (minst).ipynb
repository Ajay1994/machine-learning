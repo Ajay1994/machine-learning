{
 "cells": [
  {
   "cell_type": "code",
   "execution_count": 2,
   "metadata": {},
   "outputs": [
    {
     "name": "stderr",
     "output_type": "stream",
     "text": [
      "Using TensorFlow backend.\n"
     ]
    }
   ],
   "source": [
    "import pandas as pd\n",
    "import numpy as np\n",
    "import matplotlib.pyplot as plt\n",
    "from sklearn import * \n",
    "pd.options.display.max_columns = 1000\n",
    "\n",
    "import tensorflow as tf\n",
    "import keras\n",
    "\n",
    "%matplotlib inline"
   ]
  },
  {
   "cell_type": "code",
   "execution_count": 3,
   "metadata": {},
   "outputs": [],
   "source": [
    "df_train = pd.read_csv(\"/data/MNIST/mnist_train.csv\", header=None)\n",
    "df_test = pd.read_csv(\"/data/MNIST/mnist_test.csv\", header=None)\n",
    "\n",
    "X_train = df_train.iloc[:, 1:].values/255\n",
    "X_test = df_test.iloc[:, 1:].values/255\n",
    "y_train = df_train.iloc[:, 0].values\n",
    "y_test = df_test.iloc[:, 0].values"
   ]
  },
  {
   "cell_type": "code",
   "execution_count": 10,
   "metadata": {},
   "outputs": [
    {
     "name": "stdout",
     "output_type": "stream",
     "text": [
      "Epoch 1/10\n",
      "60000/60000 [==============================] - 9s 156us/step - loss: 0.2371 - acc: 0.9322\n",
      "Epoch 2/10\n",
      "60000/60000 [==============================] - 8s 140us/step - loss: 0.0943 - acc: 0.9722\n",
      "Epoch 3/10\n",
      "60000/60000 [==============================] - 8s 141us/step - loss: 0.0613 - acc: 0.9818\n",
      "Epoch 4/10\n",
      "60000/60000 [==============================] - 9s 143us/step - loss: 0.0437 - acc: 0.9867\n",
      "Epoch 5/10\n",
      "60000/60000 [==============================] - 9s 142us/step - loss: 0.0317 - acc: 0.9905\n",
      "Epoch 6/10\n",
      "60000/60000 [==============================] - 9s 151us/step - loss: 0.0231 - acc: 0.9933\n",
      "Epoch 7/10\n",
      "60000/60000 [==============================] - 9s 142us/step - loss: 0.0188 - acc: 0.9943\n",
      "Epoch 8/10\n",
      "60000/60000 [==============================] - 9s 142us/step - loss: 0.0139 - acc: 0.9960\n",
      "Epoch 9/10\n",
      "60000/60000 [==============================] - 9s 142us/step - loss: 0.0122 - acc: 0.9962\n",
      "Epoch 10/10\n",
      "60000/60000 [==============================] - 9s 144us/step - loss: 0.0089 - acc: 0.9978\n"
     ]
    },
    {
     "data": {
      "text/plain": [
       "<keras.callbacks.History at 0x1a1bca33c8>"
      ]
     },
     "execution_count": 10,
     "metadata": {},
     "output_type": "execute_result"
    }
   ],
   "source": [
    "n_x = 28 * 28\n",
    "n_y = 10\n",
    "\n",
    "from keras.layers import * \n",
    "def build_model():\n",
    "    model = keras.Sequential()\n",
    "    model.add(Dense(activation=\"relu\", units=400, input_shape = (n_x, )))\n",
    "    model.add(Dense(activation=\"softmax\", units=n_y))\n",
    "    \n",
    "    model.compile(loss=keras.losses.categorical_crossentropy\n",
    "                  , optimizer=\"adam\"\n",
    "                  , metrics = [\"accuracy\"])\n",
    "    return model\n",
    "\n",
    "model = build_model()\n",
    "\n",
    "model.fit(x = X_train\n",
    "          , y = keras.utils.to_categorical(y_train)\n",
    "          , verbose = 1\n",
    "          , epochs = 10\n",
    "          , batch_size= 64)\n"
   ]
  },
  {
   "cell_type": "code",
   "execution_count": 11,
   "metadata": {},
   "outputs": [
    {
     "name": "stdout",
     "output_type": "stream",
     "text": [
      "_________________________________________________________________\n",
      "Layer (type)                 Output Shape              Param #   \n",
      "=================================================================\n",
      "dense_3 (Dense)              (None, 400)               314000    \n",
      "_________________________________________________________________\n",
      "dense_4 (Dense)              (None, 10)                4010      \n",
      "=================================================================\n",
      "Total params: 318,010\n",
      "Trainable params: 318,010\n",
      "Non-trainable params: 0\n",
      "_________________________________________________________________\n"
     ]
    }
   ],
   "source": [
    "model.summary()"
   ]
  },
  {
   "cell_type": "code",
   "execution_count": 13,
   "metadata": {},
   "outputs": [
    {
     "name": "stdout",
     "output_type": "stream",
     "text": [
      "10000/10000 [==============================] - 1s 66us/step\n"
     ]
    },
    {
     "data": {
      "text/plain": [
       "[0.06574365932492365, 0.9821]"
      ]
     },
     "execution_count": 13,
     "metadata": {},
     "output_type": "execute_result"
    }
   ],
   "source": [
    "model.evaluate(x=X_test, y = keras.utils.to_categorical(y_test))"
   ]
  },
  {
   "cell_type": "code",
   "execution_count": 9,
   "metadata": {},
   "outputs": [
    {
     "data": {
      "text/plain": [
       "(60000, 10)"
      ]
     },
     "execution_count": 9,
     "metadata": {},
     "output_type": "execute_result"
    }
   ],
   "source": [
    "keras.utils.to_categorical(y_train).shape"
   ]
  },
  {
   "cell_type": "code",
   "execution_count": 14,
   "metadata": {},
   "outputs": [
    {
     "data": {
      "text/plain": [
       "'1.5.0'"
      ]
     },
     "execution_count": 14,
     "metadata": {},
     "output_type": "execute_result"
    }
   ],
   "source": [
    "tf.__version__"
   ]
  },
  {
   "cell_type": "code",
   "execution_count": 16,
   "metadata": {},
   "outputs": [],
   "source": [
    "y_test_pred = model.predict(X_test)"
   ]
  },
  {
   "cell_type": "code",
   "execution_count": 17,
   "metadata": {},
   "outputs": [
    {
     "data": {
      "text/plain": [
       "(10000, 10)"
      ]
     },
     "execution_count": 17,
     "metadata": {},
     "output_type": "execute_result"
    }
   ],
   "source": [
    "y_test_pred.shape"
   ]
  },
  {
   "cell_type": "code",
   "execution_count": 19,
   "metadata": {},
   "outputs": [
    {
     "data": {
      "text/html": [
       "<div>\n",
       "<style scoped>\n",
       "    .dataframe tbody tr th:only-of-type {\n",
       "        vertical-align: middle;\n",
       "    }\n",
       "\n",
       "    .dataframe tbody tr th {\n",
       "        vertical-align: top;\n",
       "    }\n",
       "\n",
       "    .dataframe thead th {\n",
       "        text-align: right;\n",
       "    }\n",
       "</style>\n",
       "<table border=\"1\" class=\"dataframe\">\n",
       "  <thead>\n",
       "    <tr style=\"text-align: right;\">\n",
       "      <th></th>\n",
       "      <th>0</th>\n",
       "      <th>1</th>\n",
       "      <th>2</th>\n",
       "      <th>3</th>\n",
       "      <th>4</th>\n",
       "      <th>5</th>\n",
       "      <th>6</th>\n",
       "      <th>7</th>\n",
       "      <th>8</th>\n",
       "      <th>9</th>\n",
       "    </tr>\n",
       "  </thead>\n",
       "  <tbody>\n",
       "    <tr>\n",
       "      <th>0</th>\n",
       "      <td>3.796711e-12</td>\n",
       "      <td>2.652959e-12</td>\n",
       "      <td>2.059882e-08</td>\n",
       "      <td>3.307889e-06</td>\n",
       "      <td>3.272547e-18</td>\n",
       "      <td>9.282589e-11</td>\n",
       "      <td>2.933753e-16</td>\n",
       "      <td>9.999967e-01</td>\n",
       "      <td>1.209711e-10</td>\n",
       "      <td>4.592330e-08</td>\n",
       "    </tr>\n",
       "    <tr>\n",
       "      <th>1</th>\n",
       "      <td>3.231471e-11</td>\n",
       "      <td>5.319081e-08</td>\n",
       "      <td>1.000000e+00</td>\n",
       "      <td>1.486767e-09</td>\n",
       "      <td>2.832140e-19</td>\n",
       "      <td>1.690367e-12</td>\n",
       "      <td>2.508506e-11</td>\n",
       "      <td>7.602307e-19</td>\n",
       "      <td>1.902119e-09</td>\n",
       "      <td>5.331110e-18</td>\n",
       "    </tr>\n",
       "    <tr>\n",
       "      <th>2</th>\n",
       "      <td>2.045858e-08</td>\n",
       "      <td>9.991222e-01</td>\n",
       "      <td>3.435578e-04</td>\n",
       "      <td>4.912526e-08</td>\n",
       "      <td>4.961033e-06</td>\n",
       "      <td>6.443893e-07</td>\n",
       "      <td>1.626363e-06</td>\n",
       "      <td>1.801484e-04</td>\n",
       "      <td>3.468152e-04</td>\n",
       "      <td>1.747640e-08</td>\n",
       "    </tr>\n",
       "    <tr>\n",
       "      <th>3</th>\n",
       "      <td>9.999980e-01</td>\n",
       "      <td>1.811872e-11</td>\n",
       "      <td>1.861081e-06</td>\n",
       "      <td>2.689628e-11</td>\n",
       "      <td>3.700573e-13</td>\n",
       "      <td>6.596430e-10</td>\n",
       "      <td>1.625927e-07</td>\n",
       "      <td>6.357512e-09</td>\n",
       "      <td>1.004129e-13</td>\n",
       "      <td>2.307705e-08</td>\n",
       "    </tr>\n",
       "    <tr>\n",
       "      <th>4</th>\n",
       "      <td>1.108941e-10</td>\n",
       "      <td>8.840528e-13</td>\n",
       "      <td>7.023003e-09</td>\n",
       "      <td>1.641068e-12</td>\n",
       "      <td>9.999671e-01</td>\n",
       "      <td>4.455092e-13</td>\n",
       "      <td>7.003552e-09</td>\n",
       "      <td>2.096153e-08</td>\n",
       "      <td>2.777511e-10</td>\n",
       "      <td>3.294671e-05</td>\n",
       "    </tr>\n",
       "  </tbody>\n",
       "</table>\n",
       "</div>"
      ],
      "text/plain": [
       "              0             1             2             3             4  \\\n",
       "0  3.796711e-12  2.652959e-12  2.059882e-08  3.307889e-06  3.272547e-18   \n",
       "1  3.231471e-11  5.319081e-08  1.000000e+00  1.486767e-09  2.832140e-19   \n",
       "2  2.045858e-08  9.991222e-01  3.435578e-04  4.912526e-08  4.961033e-06   \n",
       "3  9.999980e-01  1.811872e-11  1.861081e-06  2.689628e-11  3.700573e-13   \n",
       "4  1.108941e-10  8.840528e-13  7.023003e-09  1.641068e-12  9.999671e-01   \n",
       "\n",
       "              5             6             7             8             9  \n",
       "0  9.282589e-11  2.933753e-16  9.999967e-01  1.209711e-10  4.592330e-08  \n",
       "1  1.690367e-12  2.508506e-11  7.602307e-19  1.902119e-09  5.331110e-18  \n",
       "2  6.443893e-07  1.626363e-06  1.801484e-04  3.468152e-04  1.747640e-08  \n",
       "3  6.596430e-10  1.625927e-07  6.357512e-09  1.004129e-13  2.307705e-08  \n",
       "4  4.455092e-13  7.003552e-09  2.096153e-08  2.777511e-10  3.294671e-05  "
      ]
     },
     "execution_count": 19,
     "metadata": {},
     "output_type": "execute_result"
    }
   ],
   "source": [
    "pd.DataFrame(y_test_pred).head()"
   ]
  },
  {
   "cell_type": "code",
   "execution_count": 21,
   "metadata": {},
   "outputs": [],
   "source": [
    "model.save(\"mnist.h5\")"
   ]
  },
  {
   "cell_type": "code",
   "execution_count": 22,
   "metadata": {},
   "outputs": [],
   "source": [
    "model = keras.models.load_model(\"mnist.h5\")"
   ]
  },
  {
   "cell_type": "code",
   "execution_count": 24,
   "metadata": {},
   "outputs": [
    {
     "name": "stdout",
     "output_type": "stream",
     "text": [
      "_________________________________________________________________\n",
      "Layer (type)                 Output Shape              Param #   \n",
      "=================================================================\n",
      "dense_3 (Dense)              (None, 400)               314000    \n",
      "_________________________________________________________________\n",
      "dense_4 (Dense)              (None, 10)                4010      \n",
      "=================================================================\n",
      "Total params: 318,010\n",
      "Trainable params: 318,010\n",
      "Non-trainable params: 0\n",
      "_________________________________________________________________\n"
     ]
    }
   ],
   "source": [
    "model.summary()"
   ]
  },
  {
   "cell_type": "code",
   "execution_count": 20,
   "metadata": {},
   "outputs": [
    {
     "data": {
      "text/plain": [
       "array([7, 2, 1, ..., 4, 5, 6])"
      ]
     },
     "execution_count": 20,
     "metadata": {},
     "output_type": "execute_result"
    }
   ],
   "source": [
    "np.argmax(y_test_pred, axis=1)"
   ]
  },
  {
   "cell_type": "code",
   "execution_count": null,
   "metadata": {},
   "outputs": [],
   "source": []
  }
 ],
 "metadata": {
  "kernelspec": {
   "display_name": "Python 3",
   "language": "python",
   "name": "python3"
  },
  "language_info": {
   "codemirror_mode": {
    "name": "ipython",
    "version": 3
   },
   "file_extension": ".py",
   "mimetype": "text/x-python",
   "name": "python",
   "nbconvert_exporter": "python",
   "pygments_lexer": "ipython3",
   "version": "3.6.4"
  }
 },
 "nbformat": 4,
 "nbformat_minor": 2
}
