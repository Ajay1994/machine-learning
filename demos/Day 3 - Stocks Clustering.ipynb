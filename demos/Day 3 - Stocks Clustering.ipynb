{
 "cells": [
  {
   "cell_type": "code",
   "execution_count": 1,
   "metadata": {},
   "outputs": [],
   "source": [
    "import pandas as pd"
   ]
  },
  {
   "cell_type": "code",
   "execution_count": 54,
   "metadata": {},
   "outputs": [],
   "source": [
    "df = pd.read_csv(\"/data/stocks.csv\")"
   ]
  },
  {
   "cell_type": "code",
   "execution_count": 55,
   "metadata": {},
   "outputs": [
    {
     "data": {
      "text/html": [
       "<div>\n",
       "<style scoped>\n",
       "    .dataframe tbody tr th:only-of-type {\n",
       "        vertical-align: middle;\n",
       "    }\n",
       "\n",
       "    .dataframe tbody tr th {\n",
       "        vertical-align: top;\n",
       "    }\n",
       "\n",
       "    .dataframe thead th {\n",
       "        text-align: right;\n",
       "    }\n",
       "</style>\n",
       "<table border=\"1\" class=\"dataframe\">\n",
       "  <thead>\n",
       "    <tr style=\"text-align: right;\">\n",
       "      <th></th>\n",
       "      <th>date</th>\n",
       "      <th>open</th>\n",
       "      <th>high</th>\n",
       "      <th>low</th>\n",
       "      <th>close</th>\n",
       "      <th>volume</th>\n",
       "      <th>adjclose</th>\n",
       "      <th>symbol</th>\n",
       "    </tr>\n",
       "  </thead>\n",
       "  <tbody>\n",
       "    <tr>\n",
       "      <th>0</th>\n",
       "      <td>2000-07-17</td>\n",
       "      <td>95.437500</td>\n",
       "      <td>97.500000</td>\n",
       "      <td>92.750000</td>\n",
       "      <td>96.62500</td>\n",
       "      <td>3508100.0</td>\n",
       "      <td>74.269199</td>\n",
       "      <td>XLNX</td>\n",
       "    </tr>\n",
       "    <tr>\n",
       "      <th>1</th>\n",
       "      <td>2000-07-17</td>\n",
       "      <td>22.625000</td>\n",
       "      <td>22.750000</td>\n",
       "      <td>22.437500</td>\n",
       "      <td>22.56250</td>\n",
       "      <td>201600.0</td>\n",
       "      <td>13.486140</td>\n",
       "      <td>ES</td>\n",
       "    </tr>\n",
       "    <tr>\n",
       "      <th>2</th>\n",
       "      <td>2000-07-17</td>\n",
       "      <td>6.750002</td>\n",
       "      <td>6.937503</td>\n",
       "      <td>6.375000</td>\n",
       "      <td>6.50000</td>\n",
       "      <td>1235700.0</td>\n",
       "      <td>5.241649</td>\n",
       "      <td>CHK</td>\n",
       "    </tr>\n",
       "    <tr>\n",
       "      <th>3</th>\n",
       "      <td>2000-07-17</td>\n",
       "      <td>19.812501</td>\n",
       "      <td>20.187500</td>\n",
       "      <td>19.500001</td>\n",
       "      <td>20.18750</td>\n",
       "      <td>1434100.0</td>\n",
       "      <td>3.806147</td>\n",
       "      <td>NI</td>\n",
       "    </tr>\n",
       "    <tr>\n",
       "      <th>4</th>\n",
       "      <td>2000-07-17</td>\n",
       "      <td>30.500000</td>\n",
       "      <td>30.687500</td>\n",
       "      <td>30.000000</td>\n",
       "      <td>30.03125</td>\n",
       "      <td>254600.0</td>\n",
       "      <td>19.811830</td>\n",
       "      <td>SNA</td>\n",
       "    </tr>\n",
       "  </tbody>\n",
       "</table>\n",
       "</div>"
      ],
      "text/plain": [
       "         date       open       high        low     close     volume  \\\n",
       "0  2000-07-17  95.437500  97.500000  92.750000  96.62500  3508100.0   \n",
       "1  2000-07-17  22.625000  22.750000  22.437500  22.56250   201600.0   \n",
       "2  2000-07-17   6.750002   6.937503   6.375000   6.50000  1235700.0   \n",
       "3  2000-07-17  19.812501  20.187500  19.500001  20.18750  1434100.0   \n",
       "4  2000-07-17  30.500000  30.687500  30.000000  30.03125   254600.0   \n",
       "\n",
       "    adjclose symbol  \n",
       "0  74.269199   XLNX  \n",
       "1  13.486140     ES  \n",
       "2   5.241649    CHK  \n",
       "3   3.806147     NI  \n",
       "4  19.811830    SNA  "
      ]
     },
     "execution_count": 55,
     "metadata": {},
     "output_type": "execute_result"
    }
   ],
   "source": [
    "df.head()"
   ]
  },
  {
   "cell_type": "code",
   "execution_count": 5,
   "metadata": {},
   "outputs": [],
   "source": [
    "df.date = pd.to_datetime(df.date)"
   ]
  },
  {
   "cell_type": "code",
   "execution_count": 6,
   "metadata": {},
   "outputs": [
    {
     "data": {
      "text/html": [
       "<div>\n",
       "<style scoped>\n",
       "    .dataframe tbody tr th:only-of-type {\n",
       "        vertical-align: middle;\n",
       "    }\n",
       "\n",
       "    .dataframe tbody tr th {\n",
       "        vertical-align: top;\n",
       "    }\n",
       "\n",
       "    .dataframe thead th {\n",
       "        text-align: right;\n",
       "    }\n",
       "</style>\n",
       "<table border=\"1\" class=\"dataframe\">\n",
       "  <thead>\n",
       "    <tr style=\"text-align: right;\">\n",
       "      <th></th>\n",
       "      <th>date</th>\n",
       "      <th>open</th>\n",
       "      <th>high</th>\n",
       "      <th>low</th>\n",
       "      <th>close</th>\n",
       "      <th>volume</th>\n",
       "      <th>adjclose</th>\n",
       "      <th>symbol</th>\n",
       "    </tr>\n",
       "  </thead>\n",
       "  <tbody>\n",
       "    <tr>\n",
       "      <th>0</th>\n",
       "      <td>2000-07-17</td>\n",
       "      <td>95.437500</td>\n",
       "      <td>97.500000</td>\n",
       "      <td>92.750000</td>\n",
       "      <td>96.62500</td>\n",
       "      <td>3508100.0</td>\n",
       "      <td>74.269199</td>\n",
       "      <td>XLNX</td>\n",
       "    </tr>\n",
       "    <tr>\n",
       "      <th>1</th>\n",
       "      <td>2000-07-17</td>\n",
       "      <td>22.625000</td>\n",
       "      <td>22.750000</td>\n",
       "      <td>22.437500</td>\n",
       "      <td>22.56250</td>\n",
       "      <td>201600.0</td>\n",
       "      <td>13.486140</td>\n",
       "      <td>ES</td>\n",
       "    </tr>\n",
       "    <tr>\n",
       "      <th>2</th>\n",
       "      <td>2000-07-17</td>\n",
       "      <td>6.750002</td>\n",
       "      <td>6.937503</td>\n",
       "      <td>6.375000</td>\n",
       "      <td>6.50000</td>\n",
       "      <td>1235700.0</td>\n",
       "      <td>5.241649</td>\n",
       "      <td>CHK</td>\n",
       "    </tr>\n",
       "    <tr>\n",
       "      <th>3</th>\n",
       "      <td>2000-07-17</td>\n",
       "      <td>19.812501</td>\n",
       "      <td>20.187500</td>\n",
       "      <td>19.500001</td>\n",
       "      <td>20.18750</td>\n",
       "      <td>1434100.0</td>\n",
       "      <td>3.806147</td>\n",
       "      <td>NI</td>\n",
       "    </tr>\n",
       "    <tr>\n",
       "      <th>4</th>\n",
       "      <td>2000-07-17</td>\n",
       "      <td>30.500000</td>\n",
       "      <td>30.687500</td>\n",
       "      <td>30.000000</td>\n",
       "      <td>30.03125</td>\n",
       "      <td>254600.0</td>\n",
       "      <td>19.811830</td>\n",
       "      <td>SNA</td>\n",
       "    </tr>\n",
       "  </tbody>\n",
       "</table>\n",
       "</div>"
      ],
      "text/plain": [
       "        date       open       high        low     close     volume   adjclose  \\\n",
       "0 2000-07-17  95.437500  97.500000  92.750000  96.62500  3508100.0  74.269199   \n",
       "1 2000-07-17  22.625000  22.750000  22.437500  22.56250   201600.0  13.486140   \n",
       "2 2000-07-17   6.750002   6.937503   6.375000   6.50000  1235700.0   5.241649   \n",
       "3 2000-07-17  19.812501  20.187500  19.500001  20.18750  1434100.0   3.806147   \n",
       "4 2000-07-17  30.500000  30.687500  30.000000  30.03125   254600.0  19.811830   \n",
       "\n",
       "  symbol  \n",
       "0   XLNX  \n",
       "1     ES  \n",
       "2    CHK  \n",
       "3     NI  \n",
       "4    SNA  "
      ]
     },
     "execution_count": 6,
     "metadata": {},
     "output_type": "execute_result"
    }
   ],
   "source": [
    "df.head()"
   ]
  },
  {
   "cell_type": "code",
   "execution_count": 56,
   "metadata": {},
   "outputs": [
    {
     "data": {
      "text/plain": [
       "'2016-08-15'"
      ]
     },
     "execution_count": 56,
     "metadata": {},
     "output_type": "execute_result"
    }
   ],
   "source": [
    "df.date.max()"
   ]
  },
  {
   "cell_type": "code",
   "execution_count": 57,
   "metadata": {},
   "outputs": [
    {
     "data": {
      "text/plain": [
       "array(['2016-08-11', '2016-08-12', '2016-08-15'], dtype=object)"
      ]
     },
     "execution_count": 57,
     "metadata": {},
     "output_type": "execute_result"
    }
   ],
   "source": [
    "df.query(\"date > '2016-08-10'\").date.unique()"
   ]
  },
  {
   "cell_type": "code",
   "execution_count": 58,
   "metadata": {},
   "outputs": [
    {
     "data": {
      "text/html": [
       "<div>\n",
       "<style scoped>\n",
       "    .dataframe tbody tr th:only-of-type {\n",
       "        vertical-align: middle;\n",
       "    }\n",
       "\n",
       "    .dataframe tbody tr th {\n",
       "        vertical-align: top;\n",
       "    }\n",
       "\n",
       "    .dataframe thead th {\n",
       "        text-align: right;\n",
       "    }\n",
       "</style>\n",
       "<table border=\"1\" class=\"dataframe\">\n",
       "  <thead>\n",
       "    <tr style=\"text-align: right;\">\n",
       "      <th></th>\n",
       "      <th>date</th>\n",
       "      <th>open</th>\n",
       "      <th>high</th>\n",
       "      <th>low</th>\n",
       "      <th>close</th>\n",
       "      <th>volume</th>\n",
       "      <th>adjclose</th>\n",
       "      <th>symbol</th>\n",
       "    </tr>\n",
       "  </thead>\n",
       "  <tbody>\n",
       "    <tr>\n",
       "      <th>1856317</th>\n",
       "      <td>2016-08-12</td>\n",
       "      <td>64.059998</td>\n",
       "      <td>64.360001</td>\n",
       "      <td>63.770000</td>\n",
       "      <td>64.239998</td>\n",
       "      <td>1357800.0</td>\n",
       "      <td>64.239998</td>\n",
       "      <td>ADI</td>\n",
       "    </tr>\n",
       "    <tr>\n",
       "      <th>1856568</th>\n",
       "      <td>2016-08-12</td>\n",
       "      <td>139.000000</td>\n",
       "      <td>139.470001</td>\n",
       "      <td>138.039993</td>\n",
       "      <td>138.979996</td>\n",
       "      <td>140400.0</td>\n",
       "      <td>138.979996</td>\n",
       "      <td>DNB</td>\n",
       "    </tr>\n",
       "    <tr>\n",
       "      <th>1856026</th>\n",
       "      <td>2016-08-11</td>\n",
       "      <td>28.000000</td>\n",
       "      <td>28.260000</td>\n",
       "      <td>27.950001</td>\n",
       "      <td>28.080000</td>\n",
       "      <td>4643800.0</td>\n",
       "      <td>28.080000</td>\n",
       "      <td>CSX</td>\n",
       "    </tr>\n",
       "    <tr>\n",
       "      <th>1856549</th>\n",
       "      <td>2016-08-12</td>\n",
       "      <td>39.230000</td>\n",
       "      <td>39.919998</td>\n",
       "      <td>38.939999</td>\n",
       "      <td>39.820000</td>\n",
       "      <td>15747700.0</td>\n",
       "      <td>39.820000</td>\n",
       "      <td>M</td>\n",
       "    </tr>\n",
       "    <tr>\n",
       "      <th>1856759</th>\n",
       "      <td>2016-08-15</td>\n",
       "      <td>68.769997</td>\n",
       "      <td>68.790001</td>\n",
       "      <td>67.930000</td>\n",
       "      <td>67.989998</td>\n",
       "      <td>947200.0</td>\n",
       "      <td>67.989998</td>\n",
       "      <td>O</td>\n",
       "    </tr>\n",
       "    <tr>\n",
       "      <th>1856037</th>\n",
       "      <td>2016-08-11</td>\n",
       "      <td>122.889999</td>\n",
       "      <td>123.919998</td>\n",
       "      <td>122.629997</td>\n",
       "      <td>123.610001</td>\n",
       "      <td>662600.0</td>\n",
       "      <td>123.610001</td>\n",
       "      <td>PH</td>\n",
       "    </tr>\n",
       "    <tr>\n",
       "      <th>1856447</th>\n",
       "      <td>2016-08-12</td>\n",
       "      <td>25.500000</td>\n",
       "      <td>25.500000</td>\n",
       "      <td>25.000000</td>\n",
       "      <td>25.219999</td>\n",
       "      <td>1666000.0</td>\n",
       "      <td>25.219999</td>\n",
       "      <td>ETFC</td>\n",
       "    </tr>\n",
       "    <tr>\n",
       "      <th>1856746</th>\n",
       "      <td>2016-08-15</td>\n",
       "      <td>62.529999</td>\n",
       "      <td>62.669998</td>\n",
       "      <td>61.139999</td>\n",
       "      <td>61.169998</td>\n",
       "      <td>1806200.0</td>\n",
       "      <td>61.169998</td>\n",
       "      <td>WEC</td>\n",
       "    </tr>\n",
       "    <tr>\n",
       "      <th>1856263</th>\n",
       "      <td>2016-08-12</td>\n",
       "      <td>67.779999</td>\n",
       "      <td>68.300003</td>\n",
       "      <td>67.550003</td>\n",
       "      <td>68.239998</td>\n",
       "      <td>1130400.0</td>\n",
       "      <td>68.239998</td>\n",
       "      <td>STT</td>\n",
       "    </tr>\n",
       "    <tr>\n",
       "      <th>1856805</th>\n",
       "      <td>2016-08-15</td>\n",
       "      <td>54.369999</td>\n",
       "      <td>54.540001</td>\n",
       "      <td>54.060001</td>\n",
       "      <td>54.169998</td>\n",
       "      <td>1438500.0</td>\n",
       "      <td>54.169998</td>\n",
       "      <td>PLD</td>\n",
       "    </tr>\n",
       "  </tbody>\n",
       "</table>\n",
       "</div>"
      ],
      "text/plain": [
       "               date        open        high         low       close  \\\n",
       "1856317  2016-08-12   64.059998   64.360001   63.770000   64.239998   \n",
       "1856568  2016-08-12  139.000000  139.470001  138.039993  138.979996   \n",
       "1856026  2016-08-11   28.000000   28.260000   27.950001   28.080000   \n",
       "1856549  2016-08-12   39.230000   39.919998   38.939999   39.820000   \n",
       "1856759  2016-08-15   68.769997   68.790001   67.930000   67.989998   \n",
       "1856037  2016-08-11  122.889999  123.919998  122.629997  123.610001   \n",
       "1856447  2016-08-12   25.500000   25.500000   25.000000   25.219999   \n",
       "1856746  2016-08-15   62.529999   62.669998   61.139999   61.169998   \n",
       "1856263  2016-08-12   67.779999   68.300003   67.550003   68.239998   \n",
       "1856805  2016-08-15   54.369999   54.540001   54.060001   54.169998   \n",
       "\n",
       "             volume    adjclose symbol  \n",
       "1856317   1357800.0   64.239998    ADI  \n",
       "1856568    140400.0  138.979996    DNB  \n",
       "1856026   4643800.0   28.080000    CSX  \n",
       "1856549  15747700.0   39.820000      M  \n",
       "1856759    947200.0   67.989998      O  \n",
       "1856037    662600.0  123.610001     PH  \n",
       "1856447   1666000.0   25.219999   ETFC  \n",
       "1856746   1806200.0   61.169998    WEC  \n",
       "1856263   1130400.0   68.239998    STT  \n",
       "1856805   1438500.0   54.169998    PLD  "
      ]
     },
     "execution_count": 58,
     "metadata": {},
     "output_type": "execute_result"
    }
   ],
   "source": [
    "df3 = df.query(\"date > '2016-08-10'\")\n",
    "df3.sample(10)"
   ]
  },
  {
   "cell_type": "code",
   "execution_count": 19,
   "metadata": {},
   "outputs": [
    {
     "data": {
      "text/html": [
       "<div>\n",
       "<style scoped>\n",
       "    .dataframe tbody tr th:only-of-type {\n",
       "        vertical-align: middle;\n",
       "    }\n",
       "\n",
       "    .dataframe tbody tr th {\n",
       "        vertical-align: top;\n",
       "    }\n",
       "\n",
       "    .dataframe thead th {\n",
       "        text-align: right;\n",
       "    }\n",
       "</style>\n",
       "<table border=\"1\" class=\"dataframe\">\n",
       "  <thead>\n",
       "    <tr style=\"text-align: right;\">\n",
       "      <th>date</th>\n",
       "      <th>2016-08-11 00:00:00</th>\n",
       "      <th>2016-08-12 00:00:00</th>\n",
       "      <th>2016-08-15 00:00:00</th>\n",
       "    </tr>\n",
       "    <tr>\n",
       "      <th>symbol</th>\n",
       "      <th></th>\n",
       "      <th></th>\n",
       "      <th></th>\n",
       "    </tr>\n",
       "  </thead>\n",
       "  <tbody>\n",
       "    <tr>\n",
       "      <th>A</th>\n",
       "      <td>48.130001</td>\n",
       "      <td>48.139999</td>\n",
       "      <td>48.439999</td>\n",
       "    </tr>\n",
       "    <tr>\n",
       "      <th>AA</th>\n",
       "      <td>10.420000</td>\n",
       "      <td>10.170000</td>\n",
       "      <td>10.520000</td>\n",
       "    </tr>\n",
       "    <tr>\n",
       "      <th>AAL</th>\n",
       "      <td>34.959999</td>\n",
       "      <td>34.919998</td>\n",
       "      <td>35.869999</td>\n",
       "    </tr>\n",
       "    <tr>\n",
       "      <th>AAP</th>\n",
       "      <td>166.710007</td>\n",
       "      <td>166.000000</td>\n",
       "      <td>167.759995</td>\n",
       "    </tr>\n",
       "    <tr>\n",
       "      <th>AAPL</th>\n",
       "      <td>107.930000</td>\n",
       "      <td>108.180000</td>\n",
       "      <td>109.480003</td>\n",
       "    </tr>\n",
       "  </tbody>\n",
       "</table>\n",
       "</div>"
      ],
      "text/plain": [
       "date    2016-08-11  2016-08-12  2016-08-15\n",
       "symbol                                    \n",
       "A        48.130001   48.139999   48.439999\n",
       "AA       10.420000   10.170000   10.520000\n",
       "AAL      34.959999   34.919998   35.869999\n",
       "AAP     166.710007  166.000000  167.759995\n",
       "AAPL    107.930000  108.180000  109.480003"
      ]
     },
     "execution_count": 19,
     "metadata": {},
     "output_type": "execute_result"
    }
   ],
   "source": [
    "df_pivot = df3.pivot(\"symbol\", \"date\", \"adjclose\")\n",
    "df_pivot.head()"
   ]
  },
  {
   "cell_type": "code",
   "execution_count": 20,
   "metadata": {},
   "outputs": [],
   "source": [
    "df_pivot.columns = [\"d1\", \"d2\", \"d3\"]"
   ]
  },
  {
   "cell_type": "code",
   "execution_count": 22,
   "metadata": {},
   "outputs": [
    {
     "data": {
      "text/html": [
       "<div>\n",
       "<style scoped>\n",
       "    .dataframe tbody tr th:only-of-type {\n",
       "        vertical-align: middle;\n",
       "    }\n",
       "\n",
       "    .dataframe tbody tr th {\n",
       "        vertical-align: top;\n",
       "    }\n",
       "\n",
       "    .dataframe thead th {\n",
       "        text-align: right;\n",
       "    }\n",
       "</style>\n",
       "<table border=\"1\" class=\"dataframe\">\n",
       "  <thead>\n",
       "    <tr style=\"text-align: right;\">\n",
       "      <th></th>\n",
       "      <th>d1</th>\n",
       "      <th>d2</th>\n",
       "      <th>d3</th>\n",
       "    </tr>\n",
       "    <tr>\n",
       "      <th>symbol</th>\n",
       "      <th></th>\n",
       "      <th></th>\n",
       "      <th></th>\n",
       "    </tr>\n",
       "  </thead>\n",
       "  <tbody>\n",
       "    <tr>\n",
       "      <th>A</th>\n",
       "      <td>48.130001</td>\n",
       "      <td>48.139999</td>\n",
       "      <td>48.439999</td>\n",
       "    </tr>\n",
       "    <tr>\n",
       "      <th>AA</th>\n",
       "      <td>10.420000</td>\n",
       "      <td>10.170000</td>\n",
       "      <td>10.520000</td>\n",
       "    </tr>\n",
       "    <tr>\n",
       "      <th>AAL</th>\n",
       "      <td>34.959999</td>\n",
       "      <td>34.919998</td>\n",
       "      <td>35.869999</td>\n",
       "    </tr>\n",
       "    <tr>\n",
       "      <th>AAP</th>\n",
       "      <td>166.710007</td>\n",
       "      <td>166.000000</td>\n",
       "      <td>167.759995</td>\n",
       "    </tr>\n",
       "    <tr>\n",
       "      <th>AAPL</th>\n",
       "      <td>107.930000</td>\n",
       "      <td>108.180000</td>\n",
       "      <td>109.480003</td>\n",
       "    </tr>\n",
       "  </tbody>\n",
       "</table>\n",
       "</div>"
      ],
      "text/plain": [
       "                d1          d2          d3\n",
       "symbol                                    \n",
       "A        48.130001   48.139999   48.439999\n",
       "AA       10.420000   10.170000   10.520000\n",
       "AAL      34.959999   34.919998   35.869999\n",
       "AAP     166.710007  166.000000  167.759995\n",
       "AAPL    107.930000  108.180000  109.480003"
      ]
     },
     "execution_count": 22,
     "metadata": {},
     "output_type": "execute_result"
    }
   ],
   "source": [
    "df_pivot.head()"
   ]
  },
  {
   "cell_type": "code",
   "execution_count": 23,
   "metadata": {},
   "outputs": [
    {
     "data": {
      "text/html": [
       "<div>\n",
       "<style scoped>\n",
       "    .dataframe tbody tr th:only-of-type {\n",
       "        vertical-align: middle;\n",
       "    }\n",
       "\n",
       "    .dataframe tbody tr th {\n",
       "        vertical-align: top;\n",
       "    }\n",
       "\n",
       "    .dataframe thead th {\n",
       "        text-align: right;\n",
       "    }\n",
       "</style>\n",
       "<table border=\"1\" class=\"dataframe\">\n",
       "  <thead>\n",
       "    <tr style=\"text-align: right;\">\n",
       "      <th></th>\n",
       "      <th>d1</th>\n",
       "      <th>d2</th>\n",
       "      <th>d3</th>\n",
       "      <th>p1</th>\n",
       "      <th>p2</th>\n",
       "    </tr>\n",
       "    <tr>\n",
       "      <th>symbol</th>\n",
       "      <th></th>\n",
       "      <th></th>\n",
       "      <th></th>\n",
       "      <th></th>\n",
       "      <th></th>\n",
       "    </tr>\n",
       "  </thead>\n",
       "  <tbody>\n",
       "    <tr>\n",
       "      <th>A</th>\n",
       "      <td>48.130001</td>\n",
       "      <td>48.139999</td>\n",
       "      <td>48.439999</td>\n",
       "      <td>0.000208</td>\n",
       "      <td>0.006232</td>\n",
       "    </tr>\n",
       "    <tr>\n",
       "      <th>AA</th>\n",
       "      <td>10.420000</td>\n",
       "      <td>10.170000</td>\n",
       "      <td>10.520000</td>\n",
       "      <td>-0.023992</td>\n",
       "      <td>0.034415</td>\n",
       "    </tr>\n",
       "    <tr>\n",
       "      <th>AAL</th>\n",
       "      <td>34.959999</td>\n",
       "      <td>34.919998</td>\n",
       "      <td>35.869999</td>\n",
       "      <td>-0.001144</td>\n",
       "      <td>0.027205</td>\n",
       "    </tr>\n",
       "    <tr>\n",
       "      <th>AAP</th>\n",
       "      <td>166.710007</td>\n",
       "      <td>166.000000</td>\n",
       "      <td>167.759995</td>\n",
       "      <td>-0.004259</td>\n",
       "      <td>0.010602</td>\n",
       "    </tr>\n",
       "    <tr>\n",
       "      <th>AAPL</th>\n",
       "      <td>107.930000</td>\n",
       "      <td>108.180000</td>\n",
       "      <td>109.480003</td>\n",
       "      <td>0.002316</td>\n",
       "      <td>0.012017</td>\n",
       "    </tr>\n",
       "  </tbody>\n",
       "</table>\n",
       "</div>"
      ],
      "text/plain": [
       "                d1          d2          d3        p1        p2\n",
       "symbol                                                        \n",
       "A        48.130001   48.139999   48.439999  0.000208  0.006232\n",
       "AA       10.420000   10.170000   10.520000 -0.023992  0.034415\n",
       "AAL      34.959999   34.919998   35.869999 -0.001144  0.027205\n",
       "AAP     166.710007  166.000000  167.759995 -0.004259  0.010602\n",
       "AAPL    107.930000  108.180000  109.480003  0.002316  0.012017"
      ]
     },
     "execution_count": 23,
     "metadata": {},
     "output_type": "execute_result"
    }
   ],
   "source": [
    "df_pivot[\"p1\"] = (df_pivot[\"d2\"] - df_pivot[\"d1\"])/df_pivot[\"d1\"]\n",
    "df_pivot[\"p2\"] = (df_pivot[\"d3\"] - df_pivot[\"d2\"])/df_pivot[\"d2\"]\n",
    "df_pivot.head()"
   ]
  },
  {
   "cell_type": "code",
   "execution_count": 24,
   "metadata": {},
   "outputs": [
    {
     "data": {
      "text/plain": [
       "0.00020772906279397459"
      ]
     },
     "execution_count": 24,
     "metadata": {},
     "output_type": "execute_result"
    }
   ],
   "source": [
    "(48.139999 - 48.130001) /48.130001"
   ]
  },
  {
   "cell_type": "code",
   "execution_count": 26,
   "metadata": {},
   "outputs": [
    {
     "data": {
      "text/plain": [
       "0.027205070286659246"
      ]
     },
     "execution_count": 26,
     "metadata": {},
     "output_type": "execute_result"
    }
   ],
   "source": [
    "(35.869999 - 34.919998)/34.919998"
   ]
  },
  {
   "cell_type": "code",
   "execution_count": 28,
   "metadata": {},
   "outputs": [],
   "source": [
    "X = df_pivot.loc[:, \"p1\":\"p2\"]\n",
    "X = (X - X.mean(axis = 0)) / X.std(axis = 0)"
   ]
  },
  {
   "cell_type": "code",
   "execution_count": 29,
   "metadata": {},
   "outputs": [],
   "source": [
    "from sklearn import cluster"
   ]
  },
  {
   "cell_type": "code",
   "execution_count": 38,
   "metadata": {},
   "outputs": [
    {
     "data": {
      "text/plain": [
       "array(['A', 'AA', 'AAL', 'AAP', 'AAPL', 'ABBV', 'ABC', 'ABT', 'ACN',\n",
       "       'ADBE', 'ADI', 'ADM', 'ADP', 'ADS', 'ADSK', 'AEE', 'AEP', 'AES',\n",
       "       'AET', 'AFL', 'AGN', 'AIG', 'AIV', 'AIZ', 'AJG', 'AKAM', 'ALB',\n",
       "       'ALK', 'ALL', 'ALLE', 'ALXN', 'AMAT', 'AME', 'AMG', 'AMGN', 'AMP',\n",
       "       'AMT', 'AMZN', 'AN', 'ANTM', 'AON', 'APA', 'APC', 'APD', 'APH',\n",
       "       'ATVI', 'AVB', 'AVGO', 'AVY', 'AWK', 'AXP', 'AYI', 'AZO', 'BA',\n",
       "       'BAC', 'BAX', 'BBBY', 'BBT', 'BBY', 'BCR', 'BDX', 'BEN', 'BHI',\n",
       "       'BIIB', 'BK', 'BLK', 'BLL', 'BMY', 'BSX', 'BWA', 'BXP', 'C', 'CA',\n",
       "       'CAG', 'CAH', 'CAT', 'CB', 'CBG', 'CBS', 'CCI', 'CCL', 'CELG',\n",
       "       'CERN', 'CF', 'CFG', 'CHD', 'CHK', 'CHRW', 'CI', 'CINF', 'CL',\n",
       "       'CLX', 'CMA', 'CMCSA', 'CME', 'CMG', 'CMI', 'CMS', 'CNC', 'CNP',\n",
       "       'COF', 'COG', 'COH', 'COL', 'COP', 'COST', 'CPB', 'CRM', 'CSCO',\n",
       "       'CSRA', 'CSX', 'CTAS', 'CTL', 'CTSH', 'CTXS', 'CVS', 'CVX', 'CXO',\n",
       "       'D', 'DAL', 'DD', 'DE', 'DFS', 'DG', 'DGX', 'DHI', 'DHR', 'DIS',\n",
       "       'DISCA', 'DISCK', 'DLPH', 'DLR', 'DLTR', 'DNB', 'DO', 'DOV', 'DOW',\n",
       "       'DPS', 'DRI', 'DTE', 'DUK', 'DVA', 'DVN', 'EA', 'EBAY', 'ECL',\n",
       "       'ED', 'EFX', 'EIX', 'EL', 'EMC', 'EMN', 'EMR', 'ENDP', 'EOG',\n",
       "       'EQIX', 'EQR', 'EQT', 'ES', 'ESRX', 'ESS', 'ETFC', 'ETN', 'ETR',\n",
       "       'EW', 'EXC', 'EXPD', 'EXPE', 'EXR', 'F', 'FAST', 'FB', 'FBHS',\n",
       "       'FCX', 'FDX', 'FE', 'FFIV', 'FIS', 'FISV', 'FITB', 'FL', 'FLIR',\n",
       "       'FLR', 'FLS', 'FMC', 'FOX', 'FOXA', 'FRT', 'FSLR', 'FTI', 'FTR',\n",
       "       'GD', 'GE', 'GGP', 'GILD', 'GIS', 'GLW', 'GM', 'GOOG', 'GOOGL',\n",
       "       'GPC', 'GPN', 'GPS', 'GRMN', 'GS', 'GT', 'GWW', 'HAL', 'HAR',\n",
       "       'HAS', 'HBAN', 'HBI', 'HCA', 'HCN', 'HCP', 'HD', 'HES', 'HIG',\n",
       "       'HOG', 'HOLX', 'HON', 'HOT', 'HP', 'HPE', 'HPQ', 'HRB', 'HRL',\n",
       "       'HRS', 'HSIC', 'HST', 'HSY', 'HUM', 'IBM', 'ICE', 'IFF', 'ILMN',\n",
       "       'INTC', 'INTU', 'IP', 'IPG', 'IR', 'IRM', 'ISRG', 'ITW', 'IVZ',\n",
       "       'JBHT', 'JCI', 'JEC', 'JNJ', 'JNPR', 'JPM', 'JWN', 'K', 'KEY',\n",
       "       'KHC', 'KIM', 'KLAC', 'KMB', 'KMI', 'KMX', 'KO', 'KORS', 'KR',\n",
       "       'KSS', 'KSU', 'L', 'LB', 'LEG', 'LEN', 'LH', 'LKQ', 'LLL', 'LLTC',\n",
       "       'LLY', 'LM', 'LMT', 'LNC', 'LNT', 'LOW', 'LRCX', 'LUK', 'LUV',\n",
       "       'LVLT', 'LYB', 'M', 'MA', 'MAC', 'MAR', 'MAS', 'MAT', 'MCD',\n",
       "       'MCHP', 'MCK', 'MCO', 'MDLZ', 'MDT', 'MET', 'MHK', 'MJN', 'MKC',\n",
       "       'MLM', 'MMC', 'MMM', 'MNK', 'MNST', 'MO', 'MON', 'MOS', 'MPC',\n",
       "       'MRK', 'MRO', 'MS', 'MSFT', 'MSI', 'MTB', 'MU', 'MUR', 'MYL',\n",
       "       'NAVI', 'NBL', 'NDAQ', 'NEE', 'NEM', 'NFLX', 'NFX', 'NI', 'NKE',\n",
       "       'NLSN', 'NOC', 'NOV', 'NRG', 'NSC', 'NTAP', 'NTRS', 'NUE', 'NVDA',\n",
       "       'NWL', 'NWS', 'NWSA', 'O', 'OI', 'OKE', 'OMC', 'ORCL', 'ORLY',\n",
       "       'OXY', 'PAYX', 'PBCT', 'PBI', 'PCAR', 'PCG', 'PCLN', 'PDCO', 'PEG',\n",
       "       'PEP', 'PFE', 'PFG', 'PG', 'PGR', 'PH', 'PHM', 'PKI', 'PLD', 'PM',\n",
       "       'PNC', 'PNR', 'PNW', 'PPG', 'PPL', 'PRGO', 'PRU', 'PSA', 'PSX',\n",
       "       'PVH', 'PWR', 'PX', 'PXD', 'PYPL', 'QCOM', 'QRVO', 'R', 'RAI',\n",
       "       'RCL', 'REGN', 'RF', 'RHI', 'RHT', 'RIG', 'RL', 'ROK', 'ROP',\n",
       "       'ROST', 'RRC', 'RSG', 'RTN', 'SBUX', 'SCG', 'SCHW', 'SE', 'SEE',\n",
       "       'SHW', 'SIG', 'SJM', 'SLB', 'SLG', 'SNA', 'SNI', 'SO', 'SPG',\n",
       "       'SPGI', 'SPLS', 'SRCL', 'SRE', 'STI', 'STJ', 'STT', 'STX', 'STZ',\n",
       "       'SWK', 'SWKS', 'SWN', 'SYF', 'SYK', 'SYMC', 'SYY', 'T', 'TAP',\n",
       "       'TDC', 'TDG', 'TEL', 'TGNA', 'TGT', 'TIF', 'TJX', 'TMK', 'TMO',\n",
       "       'TRIP', 'TROW', 'TRV', 'TSCO', 'TSN', 'TSO', 'TSS', 'TWX', 'TXN',\n",
       "       'TXT', 'TYC', 'UA', 'UA.C', 'UAL', 'UDR', 'UHS', 'ULTA', 'UNH',\n",
       "       'UNM', 'UNP', 'UPS', 'URBN', 'URI', 'USB', 'UTX', 'V', 'VAR',\n",
       "       'VFC', 'VIAB', 'VLO', 'VMC', 'VNO', 'VRSK', 'VRSN', 'VRTX', 'VTR',\n",
       "       'VZ', 'WAT', 'WBA', 'WDC', 'WEC', 'WFC', 'WFM', 'WHR', 'WLTW',\n",
       "       'WM', 'WMB', 'WMT', 'WRK', 'WU', 'WY', 'WYN', 'WYNN', 'XEC', 'XEL',\n",
       "       'XL', 'XLNX', 'XOM', 'XRAY', 'XRX', 'XYL', 'YHOO', 'YUM', 'ZBH',\n",
       "       'ZION'], dtype=object)"
      ]
     },
     "execution_count": 38,
     "metadata": {},
     "output_type": "execute_result"
    }
   ],
   "source": [
    "symbols = df_pivot.index.values\n",
    "symbols"
   ]
  },
  {
   "cell_type": "code",
   "execution_count": 42,
   "metadata": {},
   "outputs": [],
   "source": [
    "import numpy as np"
   ]
  },
  {
   "cell_type": "code",
   "execution_count": 49,
   "metadata": {},
   "outputs": [],
   "source": [
    "k = 20"
   ]
  },
  {
   "cell_type": "code",
   "execution_count": 50,
   "metadata": {},
   "outputs": [],
   "source": [
    "kmeans = cluster.KMeans(k)\n",
    "y_pred = kmeans.fit_predict(X)"
   ]
  },
  {
   "cell_type": "code",
   "execution_count": 51,
   "metadata": {},
   "outputs": [
    {
     "name": "stdout",
     "output_type": "stream",
     "text": [
      "0 68\n",
      "1 48\n",
      "2 14\n",
      "3 4\n",
      "4 6\n",
      "5 65\n",
      "6 3\n",
      "7 31\n",
      "8 19\n",
      "9 1\n",
      "10 23\n",
      "11 31\n",
      "12 37\n",
      "13 1\n",
      "14 81\n",
      "15 25\n",
      "16 2\n",
      "17 1\n",
      "18 25\n",
      "19 16\n"
     ]
    }
   ],
   "source": [
    "for i in range(k):\n",
    "    print(i, np.sum(y_pred == i))"
   ]
  },
  {
   "cell_type": "code",
   "execution_count": 59,
   "metadata": {
    "scrolled": false
   },
   "outputs": [
    {
     "name": "stdout",
     "output_type": "stream",
     "text": [
      "cluster 0 : ['AAP', 'AIG', 'AIZ', 'AMP', 'ATVI', 'AYI', 'BA', 'BBT', 'BEN', 'BK', 'BLK', 'BWA', 'CAT', 'CELG', 'CFG', 'COF', 'CSCO', 'DHI', 'ETN', 'FAST', 'FTR', 'GLW', 'GM', 'GPC', 'GRMN', 'GS', 'GWW', 'HAL', 'HAR', 'HCA', 'HES', 'HOLX', 'HON', 'HOT', 'HRS', 'INTC', 'JPM', 'L', 'LB', 'LM', 'LUK', 'MAR', 'MCHP', 'NOC', 'ORCL', 'PBCT', 'PBI', 'PFG', 'PH', 'PNC', 'PX', 'QCOM', 'RCL', 'RL', 'SLB', 'SNI', 'STI', 'STT', 'STX', 'TDC', 'TXN', 'URI', 'USB', 'UTX', 'V', 'WFC', 'WMB', 'WYN'] \n",
      "\n",
      "\n",
      "cluster 1 : ['AES', 'AMZN', 'BMY', 'CAH', 'CHD', 'CL', 'CLX', 'CPB', 'DG', 'DRI', 'EFX', 'EXC', 'EXPD', 'EXR', 'FB', 'FISV', 'FOX', 'FOXA', 'FRT', 'FSLR', 'HAS', 'HUM', 'JNJ', 'KHC', 'LEG', 'MCD', 'MDLZ', 'MKC', 'MO', 'NEM', 'PCG', 'PCLN', 'PGR', 'PM', 'PSA', 'RSG', 'SBUX', 'SJM', 'SRE', 'SYK', 'T', 'TAP', 'TSCO', 'UNH', 'VNO', 'WHR', 'WM', 'WMT'] \n",
      "\n",
      "\n",
      "cluster 2 : ['AAL', 'CF', 'EA', 'HOG', 'ILMN', 'JNPR', 'NOV', 'RF', 'SWKS', 'TXT', 'UA', 'UA.C', 'WDC', 'XYL'] \n",
      "\n",
      "\n",
      "cluster 3 : ['BHI', 'KSS', 'MU', 'SWN'] \n",
      "\n",
      "\n",
      "cluster 4 : ['AA', 'DO', 'FCX', 'LYB', 'NUE', 'WYNN'] \n",
      "\n",
      "\n",
      "cluster 5 : ['A', 'ABBV', 'ABC', 'ABT', 'ADM', 'AET', 'ALL', 'APH', 'AVY', 'BSX', 'CCI', 'CCL', 'COL', 'CSX', 'CTXS', 'CVS', 'DFS', 'DNB', 'DPS', 'EL', 'EMC', 'EQR', 'EQT', 'GILD', 'GIS', 'GOOGL', 'ICE', 'IRM', 'ITW', 'IVZ', 'JBHT', 'K', 'KIM', 'KMB', 'LOW', 'MAC', 'MHK', 'MJN', 'MMC', 'NDAQ', 'NEE', 'NLSN', 'PAYX', 'PEP', 'PG', 'PYPL', 'REGN', 'RTN', 'SLG', 'SPG', 'SRCL', 'STJ', 'STZ', 'SYF', 'TJX', 'TRV', 'TWX', 'UDR', 'ULTA', 'VFC', 'VLO', 'WBA', 'XEC', 'XLNX', 'YUM'] \n",
      "\n",
      "\n",
      "cluster 6 : ['CI', 'NVDA', 'YHOO'] \n",
      "\n",
      "\n",
      "cluster 7 : ['ALK', 'AN', 'COH', 'CSRA', 'DD', 'DLPH', 'DOV', 'DOW', 'EBAY', 'ETFC', 'FLR', 'FMC', 'HP', 'INTU', 'JCI', 'JEC', 'LEN', 'LUV', 'MET', 'MSI', 'NSC', 'NTRS', 'PHM', 'ROK', 'ROP', 'SPLS', 'TDG', 'TYC', 'UNP', 'VMC', 'XRX'] \n",
      "\n",
      "\n",
      "cluster 8 : ['BAX', 'BDX', 'CBS', 'CTL', 'DLTR', 'DVA', 'FLIR', 'HSIC', 'IBM', 'IP', 'LVLT', 'NRG', 'PDCO', 'SNA', 'TMO', 'VRSN', 'WLTW', 'WRK', 'WY'] \n",
      "\n",
      "\n",
      "cluster 9 : ['CHK'] \n",
      "\n",
      "\n"
     ]
    }
   ],
   "source": [
    "for i in range(10):\n",
    "    groups = list(symbols[y_pred == i])\n",
    "    print(\"cluster\", i, \":\", groups, \"\\n\\n\")"
   ]
  },
  {
   "cell_type": "code",
   "execution_count": null,
   "metadata": {},
   "outputs": [],
   "source": []
  }
 ],
 "metadata": {
  "kernelspec": {
   "display_name": "Python 3",
   "language": "python",
   "name": "python3"
  },
  "language_info": {
   "codemirror_mode": {
    "name": "ipython",
    "version": 3
   },
   "file_extension": ".py",
   "mimetype": "text/x-python",
   "name": "python",
   "nbconvert_exporter": "python",
   "pygments_lexer": "ipython3",
   "version": "3.6.5"
  }
 },
 "nbformat": 4,
 "nbformat_minor": 2
}
