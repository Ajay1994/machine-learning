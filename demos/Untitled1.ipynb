{
 "cells": [
  {
   "cell_type": "code",
   "execution_count": 42,
   "metadata": {},
   "outputs": [],
   "source": [
    "import tensorflow as tf\n",
    "import numpy as np"
   ]
  },
  {
   "cell_type": "code",
   "execution_count": 2,
   "metadata": {},
   "outputs": [
    {
     "data": {
      "text/plain": [
       "'1.6.0'"
      ]
     },
     "execution_count": 2,
     "metadata": {},
     "output_type": "execute_result"
    }
   ],
   "source": [
    "tf.__version__"
   ]
  },
  {
   "cell_type": "code",
   "execution_count": 9,
   "metadata": {},
   "outputs": [
    {
     "data": {
      "text/plain": [
       "<tf.Tensor 'Const_3:0' shape=() dtype=float32>"
      ]
     },
     "execution_count": 9,
     "metadata": {},
     "output_type": "execute_result"
    }
   ],
   "source": [
    "a = tf.constant(2.3)\n",
    "a"
   ]
  },
  {
   "cell_type": "code",
   "execution_count": 10,
   "metadata": {},
   "outputs": [
    {
     "data": {
      "text/plain": [
       "<tf.Tensor 'Const_4:0' shape=() dtype=float32>"
      ]
     },
     "execution_count": 10,
     "metadata": {},
     "output_type": "execute_result"
    }
   ],
   "source": [
    "b = tf.constant(3.4)\n",
    "b"
   ]
  },
  {
   "cell_type": "code",
   "execution_count": 11,
   "metadata": {},
   "outputs": [
    {
     "data": {
      "text/plain": [
       "<tf.Tensor 'add_1:0' shape=() dtype=float32>"
      ]
     },
     "execution_count": 11,
     "metadata": {},
     "output_type": "execute_result"
    }
   ],
   "source": [
    "c = a + b\n",
    "c"
   ]
  },
  {
   "cell_type": "code",
   "execution_count": 12,
   "metadata": {},
   "outputs": [
    {
     "name": "stdout",
     "output_type": "stream",
     "text": [
      "5.7\n"
     ]
    }
   ],
   "source": [
    "with tf.Session() as sess:\n",
    "    c_ = sess.run(c)\n",
    "    print(c_)"
   ]
  },
  {
   "cell_type": "code",
   "execution_count": 41,
   "metadata": {
    "scrolled": false
   },
   "outputs": [
    {
     "name": "stdout",
     "output_type": "stream",
     "text": [
      "a: Tensor(\"a:0\", shape=(), dtype=float32) \n",
      "b: Tensor(\"b:0\", shape=(), dtype=float32)\n",
      "c: Tensor(\"add:0\", shape=(), dtype=float32)\n",
      "5.7\n"
     ]
    }
   ],
   "source": [
    "tf.reset_default_graph()\n",
    "a = tf.placeholder(dtype=tf.float32, shape=(), name=\"a\")\n",
    "b = tf.placeholder(dtype=tf.float32, shape=(), name=\"b\")\n",
    "print(\"a:\", a, \"\\nb:\", b)\n",
    "\n",
    "c = a + b\n",
    "print(\"c:\", c)\n",
    "\n",
    "with tf.Session() as sess:\n",
    "    c_ = sess.run(c, feed_dict={a: 3.4, b: 2.3})\n",
    "    print(c_)\n"
   ]
  },
  {
   "cell_type": "code",
   "execution_count": 44,
   "metadata": {},
   "outputs": [
    {
     "data": {
      "text/plain": [
       "array([[0.2218215 , 0.33080264, 0.90506146, 0.81754645],\n",
       "       [0.16477114, 0.70777903, 0.21215082, 0.88964454],\n",
       "       [0.45341967, 0.75616083, 0.81574262, 0.54640309],\n",
       "       [0.59271638, 0.86932407, 0.20830065, 0.84340189],\n",
       "       [0.56983109, 0.75719139, 0.74323985, 0.99268976],\n",
       "       [0.34607484, 0.99394657, 0.93786823, 0.21623269],\n",
       "       [0.75390425, 0.84287561, 0.69695403, 0.14992141],\n",
       "       [0.58169696, 0.12939281, 0.20638009, 0.16023984],\n",
       "       [0.02812608, 0.66449123, 0.24479108, 0.12466182],\n",
       "       [0.52731389, 0.81677366, 0.64103668, 0.02549855]])"
      ]
     },
     "execution_count": 44,
     "metadata": {},
     "output_type": "execute_result"
    }
   ],
   "source": [
    "X_data = np.random.ranf((10, 4))\n",
    "X_data"
   ]
  },
  {
   "cell_type": "code",
   "execution_count": 47,
   "metadata": {},
   "outputs": [
    {
     "data": {
      "text/plain": [
       "array([[0.7452417 ],\n",
       "       [0.81015546],\n",
       "       [0.09259009],\n",
       "       [0.90885362]])"
      ]
     },
     "execution_count": 47,
     "metadata": {},
     "output_type": "execute_result"
    }
   ],
   "source": [
    "W_data = np.random.ranf([4, 1])\n",
    "W_data"
   ]
  },
  {
   "cell_type": "code",
   "execution_count": 48,
   "metadata": {},
   "outputs": [
    {
     "data": {
      "text/plain": [
       "array([[1.26014198],\n",
       "       [1.5244051 ],\n",
       "       [1.52264519],\n",
       "       [1.93182004],\n",
       "       [2.00913095],\n",
       "       [1.34652181],\n",
       "       [1.44548883],\n",
       "       [0.70307643],\n",
       "       [0.6952665 ],\n",
       "       [1.13721804]])"
      ]
     },
     "execution_count": 48,
     "metadata": {},
     "output_type": "execute_result"
    }
   ],
   "source": [
    "X_data.dot(W_data)"
   ]
  },
  {
   "cell_type": "code",
   "execution_count": 50,
   "metadata": {},
   "outputs": [
    {
     "name": "stdout",
     "output_type": "stream",
     "text": [
      "X: Tensor(\"a:0\", shape=(?, 4), dtype=float32) \n",
      "W: Tensor(\"b:0\", shape=(4, 1), dtype=float32)\n",
      "Z: Tensor(\"MatMul:0\", shape=(?, 1), dtype=float32)\n",
      "[[1.2601418 ]\n",
      " [1.5244051 ]\n",
      " [1.5226451 ]\n",
      " [1.9318202 ]\n",
      " [2.009131  ]\n",
      " [1.3465219 ]\n",
      " [1.4454888 ]\n",
      " [0.7030765 ]\n",
      " [0.69526654]\n",
      " [1.1372179 ]]\n"
     ]
    }
   ],
   "source": [
    "tf.reset_default_graph()\n",
    "X = tf.placeholder(dtype=tf.float32, shape=(None, 4), name=\"a\")\n",
    "W = tf.placeholder(dtype=tf.float32, shape=(4, 1), name=\"b\")\n",
    "print(\"X:\", X, \"\\nW:\", W)\n",
    "\n",
    "Z = tf.matmul(X, W)\n",
    "print(\"Z:\", Z)\n",
    "\n",
    "with tf.Session() as sess:\n",
    "    Z_ = sess.run(Z, feed_dict={X: X_data, W: W_data})\n",
    "    print(Z_)"
   ]
  },
  {
   "cell_type": "code",
   "execution_count": null,
   "metadata": {},
   "outputs": [],
   "source": []
  }
 ],
 "metadata": {
  "kernelspec": {
   "display_name": "Python 3",
   "language": "python",
   "name": "python3"
  },
  "language_info": {
   "codemirror_mode": {
    "name": "ipython",
    "version": 3
   },
   "file_extension": ".py",
   "mimetype": "text/x-python",
   "name": "python",
   "nbconvert_exporter": "python",
   "pygments_lexer": "ipython3",
   "version": "3.6.4"
  }
 },
 "nbformat": 4,
 "nbformat_minor": 2
}
