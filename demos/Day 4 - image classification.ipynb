{
 "cells": [
  {
   "cell_type": "code",
   "execution_count": 1,
   "metadata": {},
   "outputs": [],
   "source": [
    "import pandas as pd\n",
    "import numpy as np\n",
    "import matplotlib.pyplot as plt\n",
    "\n",
    "%matplotlib inline"
   ]
  },
  {
   "cell_type": "code",
   "execution_count": 5,
   "metadata": {},
   "outputs": [],
   "source": [
    "df_training = pd.read_csv(\"/data/MNIST/mnist_train.csv\", header = None)"
   ]
  },
  {
   "cell_type": "code",
   "execution_count": 6,
   "metadata": {},
   "outputs": [
    {
     "data": {
      "text/plain": [
       "(60000, 785)"
      ]
     },
     "execution_count": 6,
     "metadata": {},
     "output_type": "execute_result"
    }
   ],
   "source": [
    "df_training.shape"
   ]
  },
  {
   "cell_type": "markdown",
   "metadata": {},
   "source": [
    "1 st column is the label - 0, 1, 2 ... 9 \n",
    "Rest are pixel values"
   ]
  },
  {
   "cell_type": "code",
   "execution_count": 8,
   "metadata": {},
   "outputs": [],
   "source": [
    "y_train = df_training.iloc[:, 0].values"
   ]
  },
  {
   "cell_type": "code",
   "execution_count": 37,
   "metadata": {},
   "outputs": [],
   "source": [
    "X_train = df_training.iloc[:, 1:].values"
   ]
  },
  {
   "cell_type": "code",
   "execution_count": 11,
   "metadata": {},
   "outputs": [
    {
     "data": {
      "text/plain": [
       "(0, 255)"
      ]
     },
     "execution_count": 11,
     "metadata": {},
     "output_type": "execute_result"
    }
   ],
   "source": [
    "np.min(X_train), np.max(X_train)"
   ]
  },
  {
   "cell_type": "code",
   "execution_count": 13,
   "metadata": {},
   "outputs": [
    {
     "data": {
      "image/png": "[encoded data removed]",
      "text/plain": [
       "<matplotlib.figure.Figure at 0x10f300f98>"
      ]
     },
     "metadata": {},
     "output_type": "display_data"
    }
   ],
   "source": [
    "plt.hist(X_train.flatten());"
   ]
  },
  {
   "cell_type": "code",
   "execution_count": 15,
   "metadata": {},
   "outputs": [
    {
     "data": {
      "text/plain": [
       "((60000, 784), (47040000,))"
      ]
     },
     "execution_count": 15,
     "metadata": {},
     "output_type": "execute_result"
    }
   ],
   "source": [
    "X_train.shape, X_train.flatten().shape"
   ]
  },
  {
   "cell_type": "code",
   "execution_count": 16,
   "metadata": {},
   "outputs": [
    {
     "data": {
      "text/plain": [
       "47040000"
      ]
     },
     "execution_count": 16,
     "metadata": {},
     "output_type": "execute_result"
    }
   ],
   "source": [
    "60000 * 784"
   ]
  },
  {
   "cell_type": "code",
   "execution_count": 17,
   "metadata": {},
   "outputs": [
    {
     "data": {
      "text/plain": [
       "784"
      ]
     },
     "execution_count": 17,
     "metadata": {},
     "output_type": "execute_result"
    }
   ],
   "source": [
    "28 * 28"
   ]
  },
  {
   "cell_type": "code",
   "execution_count": 21,
   "metadata": {},
   "outputs": [
    {
     "data": {
      "text/plain": [
       "array([5, 0, 4, 1, 9, 2, 3, 6, 7, 8])"
      ]
     },
     "execution_count": 21,
     "metadata": {},
     "output_type": "execute_result"
    }
   ],
   "source": [
    "pd.Series(y_train).unique()"
   ]
  },
  {
   "cell_type": "code",
   "execution_count": 24,
   "metadata": {},
   "outputs": [
    {
     "data": {
      "text/plain": [
       "<matplotlib.axes._subplots.AxesSubplot at 0x128d0f7b8>"
      ]
     },
     "execution_count": 24,
     "metadata": {},
     "output_type": "execute_result"
    },
    {
     "data": {
      "image/png": "[encoded data removed]",
      "text/plain": [
       "<matplotlib.figure.Figure at 0x128c9e978>"
      ]
     },
     "metadata": {},
     "output_type": "display_data"
    }
   ],
   "source": [
    "pd.Series(y_train).value_counts().sort_index().plot.bar()"
   ]
  },
  {
   "cell_type": "code",
   "execution_count": 27,
   "metadata": {},
   "outputs": [
    {
     "data": {
      "text/plain": [
       "<matplotlib.image.AxesImage at 0x110246c18>"
      ]
     },
     "execution_count": 27,
     "metadata": {},
     "output_type": "execute_result"
    },
    {
     "data": {
      "image/png": "[encoded data removed]",
      "text/plain": [
       "<matplotlib.figure.Figure at 0x1102c99b0>"
      ]
     },
     "metadata": {},
     "output_type": "display_data"
    }
   ],
   "source": [
    "plt.imshow(X_train[0].reshape(28, 28), cmap = \"gray\")"
   ]
  },
  {
   "cell_type": "code",
   "execution_count": 28,
   "metadata": {},
   "outputs": [
    {
     "data": {
      "text/plain": [
       "array([  0,   0,   0,   0,   0,   0,   0,   0,   0,   0,   0,   0,   0,\n",
       "         0,   0,   0,   0,   0,   0,   0,   0,   0,   0,   0,   0,   0,\n",
       "         0,   0,   0,   0,   0,   0,   0,   0,   0,   0,   0,   0,   0,\n",
       "         0,   0,   0,   0,   0,   0,   0,   0,   0,   0,   0,   0,   0,\n",
       "         0,   0,   0,   0,   0,   0,   0,   0,   0,   0,   0,   0,   0,\n",
       "         0,   0,   0,   0,   0,   0,   0,   0,   0,   0,   0,   0,   0,\n",
       "         0,   0,   0,   0,   0,   0,   0,   0,   0,   0,   0,   0,   0,\n",
       "         0,   0,   0,   0,   0,   0,   0,   0,   0,   0,   0,   0,   0,\n",
       "         0,   0,   0,   0,   0,   0,   0,   0,   0,   0,   0,   0,   0,\n",
       "         0,   0,   0,   0,   0,   0,   0,   0,   0,   0,   0,   0,   0,\n",
       "         0,   0,   0,   0,   0,   0,   0,   0,   0,   0,   0,   0,   0,\n",
       "         0,   0,   0,   0,   0,   0,   0,   0,   0,   3,  18,  18,  18,\n",
       "       126, 136, 175,  26, 166, 255, 247, 127,   0,   0,   0,   0,   0,\n",
       "         0,   0,   0,   0,   0,   0,   0,  30,  36,  94, 154, 170, 253,\n",
       "       253, 253, 253, 253, 225, 172, 253, 242, 195,  64,   0,   0,   0,\n",
       "         0,   0,   0,   0,   0,   0,   0,   0,  49, 238, 253, 253, 253,\n",
       "       253, 253, 253, 253, 253, 251,  93,  82,  82,  56,  39,   0,   0,\n",
       "         0,   0,   0,   0,   0,   0,   0,   0,   0,   0,  18, 219, 253,\n",
       "       253, 253, 253, 253, 198, 182, 247, 241,   0,   0,   0,   0,   0,\n",
       "         0,   0,   0,   0,   0,   0,   0,   0,   0,   0,   0,   0,   0,\n",
       "        80, 156, 107, 253, 253, 205,  11,   0,  43, 154,   0,   0,   0,\n",
       "         0,   0,   0,   0,   0,   0,   0,   0,   0,   0,   0,   0,   0,\n",
       "         0,   0,   0,  14,   1, 154, 253,  90,   0,   0,   0,   0,   0,\n",
       "         0,   0,   0,   0,   0,   0,   0,   0,   0,   0,   0,   0,   0,\n",
       "         0,   0,   0,   0,   0,   0,   0, 139, 253, 190,   2,   0,   0,\n",
       "         0,   0,   0,   0,   0,   0,   0,   0,   0,   0,   0,   0,   0,\n",
       "         0,   0,   0,   0,   0,   0,   0,   0,   0,  11, 190, 253,  70,\n",
       "         0,   0,   0,   0,   0,   0,   0,   0,   0,   0,   0,   0,   0,\n",
       "         0,   0,   0,   0,   0,   0,   0,   0,   0,   0,   0,   0,  35,\n",
       "       241, 225, 160, 108,   1,   0,   0,   0,   0,   0,   0,   0,   0,\n",
       "         0,   0,   0,   0,   0,   0,   0,   0,   0,   0,   0,   0,   0,\n",
       "         0,   0,  81, 240, 253, 253, 119,  25,   0,   0,   0,   0,   0,\n",
       "         0,   0,   0,   0,   0,   0,   0,   0,   0,   0,   0,   0,   0,\n",
       "         0,   0,   0,   0,   0,  45, 186, 253, 253, 150,  27,   0,   0,\n",
       "         0,   0,   0,   0,   0,   0,   0,   0,   0,   0,   0,   0,   0,\n",
       "         0,   0,   0,   0,   0,   0,   0,   0,  16,  93, 252, 253, 187,\n",
       "         0,   0,   0,   0,   0,   0,   0,   0,   0,   0,   0,   0,   0,\n",
       "         0,   0,   0,   0,   0,   0,   0,   0,   0,   0,   0,   0, 249,\n",
       "       253, 249,  64,   0,   0,   0,   0,   0,   0,   0,   0,   0,   0,\n",
       "         0,   0,   0,   0,   0,   0,   0,   0,   0,   0,   0,  46, 130,\n",
       "       183, 253, 253, 207,   2,   0,   0,   0,   0,   0,   0,   0,   0,\n",
       "         0,   0,   0,   0,   0,   0,   0,   0,   0,   0,   0,  39, 148,\n",
       "       229, 253, 253, 253, 250, 182,   0,   0,   0,   0,   0,   0,   0,\n",
       "         0,   0,   0,   0,   0,   0,   0,   0,   0,   0,   0,  24, 114,\n",
       "       221, 253, 253, 253, 253, 201,  78,   0,   0,   0,   0,   0,   0,\n",
       "         0,   0,   0,   0,   0,   0,   0,   0,   0,   0,   0,  23,  66,\n",
       "       213, 253, 253, 253, 253, 198,  81,   2,   0,   0,   0,   0,   0,\n",
       "         0,   0,   0,   0,   0,   0,   0,   0,   0,   0,   0,  18, 171,\n",
       "       219, 253, 253, 253, 253, 195,  80,   9,   0,   0,   0,   0,   0,\n",
       "         0,   0,   0,   0,   0,   0,   0,   0,   0,   0,   0,  55, 172,\n",
       "       226, 253, 253, 253, 253, 244, 133,  11,   0,   0,   0,   0,   0,\n",
       "         0,   0,   0,   0,   0,   0,   0,   0,   0,   0,   0,   0,   0,\n",
       "       136, 253, 253, 253, 212, 135, 132,  16,   0,   0,   0,   0,   0,\n",
       "         0,   0,   0,   0,   0,   0,   0,   0,   0,   0,   0,   0,   0,\n",
       "         0,   0,   0,   0,   0,   0,   0,   0,   0,   0,   0,   0,   0,\n",
       "         0,   0,   0,   0,   0,   0,   0,   0,   0,   0,   0,   0,   0,\n",
       "         0,   0,   0,   0,   0,   0,   0,   0,   0,   0,   0,   0,   0,\n",
       "         0,   0,   0,   0,   0,   0,   0,   0,   0,   0,   0,   0,   0,\n",
       "         0,   0,   0,   0,   0,   0,   0,   0,   0,   0,   0,   0,   0,\n",
       "         0,   0,   0,   0,   0,   0,   0,   0,   0,   0,   0,   0,   0,\n",
       "         0,   0,   0,   0])"
      ]
     },
     "execution_count": 28,
     "metadata": {},
     "output_type": "execute_result"
    }
   ],
   "source": [
    "X_train[0]"
   ]
  },
  {
   "cell_type": "code",
   "execution_count": 31,
   "metadata": {},
   "outputs": [
    {
     "data": {
      "image/png": "[encoded data removed]",
      "text/plain": [
       "<matplotlib.figure.Figure at 0x11198d908>"
      ]
     },
     "metadata": {},
     "output_type": "display_data"
    }
   ],
   "source": [
    "fig, _ = plt.subplots(5, 5, figsize=(10, 8))\n",
    "\n",
    "for i, ax in enumerate(fig.axes):\n",
    "    ax.imshow(X_train[i].reshape(28, 28), cmap = \"gray\")\n",
    "    ax.set_title(y_train[i])\n",
    "\n",
    "plt.tight_layout()"
   ]
  },
  {
   "cell_type": "code",
   "execution_count": 38,
   "metadata": {},
   "outputs": [],
   "source": [
    "X_train_std = (X_train - np.mean(X_train, axis = 0)) / (np.std(X_train, axis = 0) + 1e-6)"
   ]
  },
  {
   "cell_type": "code",
   "execution_count": 40,
   "metadata": {
    "scrolled": false
   },
   "outputs": [
    {
     "data": {
      "text/plain": [
       "array([ 0.00000000e+00,  0.00000000e+00,  0.00000000e+00,  0.00000000e+00,\n",
       "        0.00000000e+00,  0.00000000e+00,  0.00000000e+00,  0.00000000e+00,\n",
       "        0.00000000e+00,  0.00000000e+00,  0.00000000e+00,  0.00000000e+00,\n",
       "       -4.41806870e-03, -5.75481538e-03, -4.08251230e-03, -4.08240582e-03,\n",
       "        0.00000000e+00,  0.00000000e+00,  0.00000000e+00,  0.00000000e+00,\n",
       "        0.00000000e+00,  0.00000000e+00,  0.00000000e+00,  0.00000000e+00,\n",
       "        0.00000000e+00,  0.00000000e+00,  0.00000000e+00,  0.00000000e+00,\n",
       "        0.00000000e+00,  0.00000000e+00,  0.00000000e+00,  0.00000000e+00,\n",
       "       -4.08245443e-03, -4.70966408e-03, -8.79933806e-03, -1.15905536e-02,\n",
       "       -1.47589748e-02, -1.92848488e-02, -2.46717924e-02, -2.90710219e-02,\n",
       "       -3.05926529e-02, -3.11640073e-02, -3.19628665e-02, -3.02025303e-02,\n",
       "       -3.13102123e-02, -2.83833908e-02, -2.31191853e-02, -1.91666208e-02,\n",
       "       -1.67722956e-02, -1.09963545e-02, -8.32485393e-03, -4.38068813e-03,\n",
       "        0.00000000e+00,  0.00000000e+00,  0.00000000e+00,  0.00000000e+00,\n",
       "        0.00000000e+00,  0.00000000e+00, -4.08250130e-03, -5.39530440e-03,\n",
       "       -8.52240190e-03, -1.19850101e-02, -1.76534711e-02, -2.77108934e-02,\n",
       "       -3.70200891e-02, -5.21512749e-02, -6.70361955e-02, -8.30170430e-02,\n",
       "       -9.93792926e-02, -1.15184123e-01, -1.29133251e-01, -1.38394672e-01,\n",
       "       -1.38883626e-01, -1.31843433e-01, -1.20429517e-01, -1.01890790e-01,\n",
       "       -7.86048992e-02, -5.69956079e-02, -3.96576786e-02, -2.37283801e-02,\n",
       "       -1.40883407e-02, -7.83083358e-03,  0.00000000e+00,  0.00000000e+00,\n",
       "        0.00000000e+00,  0.00000000e+00, -5.36836862e-03, -8.87059244e-03,\n",
       "       -1.40708006e-02, -2.21468028e-02, -3.51801310e-02, -5.50236747e-02,\n",
       "       -7.90961267e-02, -1.07649007e-01, -1.37169931e-01, -1.67105756e-01,\n",
       "       -1.96008750e-01, -2.24491108e-01, -2.48655986e-01, -2.62117965e-01,\n",
       "       -2.62596896e-01, -2.47855898e-01, -2.21946998e-01, -1.87211400e-01,\n",
       "       -1.47640126e-01, -1.08164359e-01, -7.68121061e-02, -4.70752942e-02,\n",
       "       -3.02019620e-02, -1.52412352e-02, -5.28370968e-03,  0.00000000e+00,\n",
       "        0.00000000e+00, -4.08249061e-03, -7.76341147e-03, -1.48932393e-02,\n",
       "       -2.39627434e-02, -5.03408919e-02, -7.87674643e-02, -1.16181535e-01,\n",
       "       -1.61247557e-01, -2.11961630e-01, -2.66898726e-01, -3.25678005e-01,\n",
       "       -3.90241542e-01, -4.52076370e-01, -4.99397978e-01, -5.23428318e-01,\n",
       "       -5.17618888e-01, -4.80902413e-01, -4.23079688e-01, -3.56740389e-01,\n",
       "       -2.83683643e-01, -2.16836656e-01, -1.58524375e-01, -1.08784576e-01,\n",
       "       -7.09225250e-02, -3.89534746e-02, -1.42523783e-02, -5.77048169e-03,\n",
       "        0.00000000e+00,  0.00000000e+00, -1.19017268e-02, -2.20501483e-02,\n",
       "       -5.18380682e-02, -9.06596979e-02, -1.39667100e-01, -1.97082115e-01,\n",
       "       -2.64384722e-01, -3.40730436e-01, -4.22535743e-01, -5.15408643e-01,\n",
       "       -5.84660360e-01, -5.41363039e-01, -6.26156779e-01, -6.69145025e-01,\n",
       "        3.43637159e-01,  5.31056012e-01,  1.10236572e+00, -2.65802575e-01,\n",
       "        1.71565968e+00,  3.77344816e+00,  4.93900220e+00,  3.45006801e+00,\n",
       "       -1.31080124e-01, -7.48460307e-02, -3.19301219e-02, -8.20890400e-03,\n",
       "        0.00000000e+00, -5.56998370e-03, -1.56619182e-02, -3.63656547e-02,\n",
       "       -7.90243024e-02, -1.33289081e-01, -1.99154405e-01, -2.75429686e-01,\n",
       "        8.82421153e-02, -1.60018963e-02,  4.42476482e-01,  8.18775049e-01,\n",
       "        7.49339504e-01,  1.32200211e+00,  1.19900230e+00,  1.14748070e+00,\n",
       "        1.16876764e+00,  1.25693736e+00,  1.17313575e+00,  9.33441539e-01,\n",
       "        2.13777177e+00,  2.64653069e+00,  2.81275276e+00,  1.14339092e+00,\n",
       "       -1.72939696e-01, -1.04104235e-01, -4.83176157e-02, -1.47080111e-02,\n",
       "       -4.08249565e-03, -1.32310004e-02, -2.62438145e-02, -5.91585850e-02,\n",
       "       -1.13004847e-01, -1.78441520e-01, -2.58004805e-01,  4.14936745e-01,\n",
       "        2.55139987e+00,  2.15784268e+00,  1.76151116e+00,  1.47855281e+00,\n",
       "        1.28620375e+00,  1.15934213e+00,  1.08883059e+00,  1.06792168e+00,\n",
       "        1.08561215e+00,  1.12333033e+00, -1.85138145e-01, -1.08110685e-01,\n",
       "        1.20942181e-01,  1.04310650e-01,  1.53347813e-01, -2.87681273e-01,\n",
       "       -1.97007020e-01, -1.21228934e-01, -5.68086046e-02, -1.53906605e-02,\n",
       "       -5.02548677e-03, -1.73205133e-02, -4.30805335e-02, -8.52488914e-02,\n",
       "       -1.39458364e-01, -2.10883302e-01, -3.00017972e-01, -1.59588569e-01,\n",
       "        1.95384076e+00,  1.84773393e+00,  1.51729632e+00,  1.30892137e+00,\n",
       "        1.20210614e+00,  1.16376233e+00,  6.74199709e-01,  5.38435654e-01,\n",
       "        1.12192711e+00,  1.07058609e+00, -1.04378666e+00, -9.12978496e-01,\n",
       "       -7.39191307e-01, -5.71005499e-01, -4.23670996e-01, -2.98196201e-01,\n",
       "       -1.97686130e-01, -1.20683810e-01, -5.39356225e-02, -1.35055367e-02,\n",
       "       -5.90570545e-03, -2.11096623e-02, -5.29890314e-02, -9.30784873e-02,\n",
       "       -1.50398729e-01, -2.26191018e-01, -3.23645335e-01, -4.42131212e-01,\n",
       "        2.70213748e-01,  7.45930820e-01,  7.23832926e-02,  1.27771201e+00,\n",
       "        1.27734537e+00,  9.12254672e-01, -8.07963341e-01, -9.13935963e-01,\n",
       "       -5.60996648e-01,  3.90063785e-01, -9.99486542e-01, -9.01508604e-01,\n",
       "       -7.36681509e-01, -5.67589415e-01, -4.20171894e-01, -2.90174590e-01,\n",
       "       -1.81482346e-01, -1.04939769e-01, -4.72131666e-02, -1.41308585e-02,\n",
       "       -5.77280019e-03, -2.26322719e-02, -5.28031694e-02, -9.22058017e-02,\n",
       "       -1.47451695e-01, -2.27284583e-01, -3.32428311e-01, -4.62696152e-01,\n",
       "       -6.19033515e-01, -6.52626512e-01, -8.99148242e-01,  4.58886629e-01,\n",
       "        1.47356892e+00,  6.77134881e-02, -7.71412094e-01, -8.03560085e-01,\n",
       "       -8.73939289e-01, -9.51575405e-01, -9.62131057e-01, -8.63473251e-01,\n",
       "       -7.01324240e-01, -5.37396558e-01, -3.96771021e-01, -2.71222636e-01,\n",
       "       -1.59324459e-01, -8.12584030e-02, -3.69508609e-02, -1.18733917e-02,\n",
       "       -7.05516557e-03, -2.07711712e-02, -4.72035571e-02, -8.20038310e-02,\n",
       "       -1.37457280e-01, -2.25181950e-01, -3.38492376e-01, -4.82934991e-01,\n",
       "       -6.48288212e-01, -8.09805304e-01, -8.96460452e-01,  4.05564683e-01,\n",
       "        1.64634565e+00,  1.16516318e+00, -7.21489001e-01, -8.02210462e-01,\n",
       "       -9.01262806e-01, -9.77722919e-01, -9.55547934e-01, -8.24902891e-01,\n",
       "       -6.55987829e-01, -4.99364181e-01, -3.69573304e-01, -2.58464402e-01,\n",
       "       -1.49695709e-01, -6.11113502e-02, -2.80115625e-02, -9.12508945e-03,\n",
       "       -5.30434389e-03, -1.62383939e-02, -3.63786093e-02, -6.85820051e-02,\n",
       "       -1.27368494e-01, -2.26143354e-01, -3.52202901e-01, -5.07583507e-01,\n",
       "       -6.79449633e-01, -8.28251040e-01, -8.88830028e-01, -7.40225102e-01,\n",
       "        1.06068286e+00,  1.68492905e+00, -1.77575686e-01, -9.17683482e-01,\n",
       "       -1.02909593e+00, -1.05827899e+00, -9.65674034e-01, -7.94476756e-01,\n",
       "       -6.16749357e-01, -4.70072878e-01, -3.55124409e-01, -2.55407540e-01,\n",
       "       -1.53824508e-01, -5.24542758e-02, -2.15058593e-02, -9.92197193e-03,\n",
       "       -4.08248568e-03, -1.09343788e-02, -2.55447926e-02, -5.70730756e-02,\n",
       "       -1.24662015e-01, -2.38498168e-01, -3.73258892e-01, -5.33136062e-01,\n",
       "       -7.02094133e-01, -8.37450042e-01, -8.80074241e-01, -8.41014265e-01,\n",
       "       -4.87694924e-01,  1.32485785e+00,  9.98375462e-01,  3.22814265e-01,\n",
       "       -1.98337187e-01, -1.11994099e+00, -9.76070404e-01, -7.75195388e-01,\n",
       "       -5.94446598e-01, -4.60910232e-01, -3.55500540e-01, -2.63549175e-01,\n",
       "       -1.64503682e-01, -5.95130265e-02, -2.33686613e-02, -7.40431872e-03,\n",
       "       -4.08250808e-03, -7.98833769e-03, -1.82964468e-02, -5.13394289e-02,\n",
       "       -1.29346392e-01, -2.57521388e-01, -3.95011324e-01, -5.50421717e-01,\n",
       "       -7.07323082e-01, -8.26049810e-01, -8.67853143e-01, -8.60743714e-01,\n",
       "       -9.04035671e-01, -3.08572615e-01,  9.64876906e-01,  1.03583352e+00,\n",
       "        1.05517266e+00, -8.08498326e-02, -7.38205680e-01, -7.63011308e-01,\n",
       "       -5.97027034e-01, -4.72019984e-01, -3.68370407e-01, -2.73325311e-01,\n",
       "       -1.73386628e-01, -6.89427141e-02, -2.46446507e-02, -6.98487992e-03,\n",
       "       -4.77024903e-03, -4.18942348e-03, -1.86482487e-02, -5.32721181e-02,\n",
       "       -1.40420511e-01, -2.77180618e-01, -4.12209002e-01, -5.54003392e-01,\n",
       "       -6.92005436e-01, -7.92583132e-01, -8.41940828e-01, -8.69766975e-01,\n",
       "       -9.58664338e-01, -1.09410265e+00, -8.05303704e-01,  4.28897577e-01,\n",
       "        1.08836285e+00,  1.16827870e+00,  4.42989474e-01, -4.93267381e-01,\n",
       "       -6.09787177e-01, -4.86753933e-01, -3.80896771e-01, -2.78298885e-01,\n",
       "       -1.75491547e-01, -7.70261370e-02, -2.96262981e-02, -9.11023258e-03,\n",
       "       -4.08249193e-03, -6.70726603e-03, -2.16014261e-02, -6.07076864e-02,\n",
       "       -1.57022406e-01, -2.97163163e-01, -4.22306793e-01, -5.45726701e-01,\n",
       "       -6.59100283e-01, -7.41250545e-01, -7.88379557e-01, -8.33967285e-01,\n",
       "       -9.19413389e-01, -1.02595561e+00, -1.12277550e+00, -1.00128624e+00,\n",
       "       -2.50181721e-01,  1.26567433e+00,  1.45264063e+00,  1.05397979e+00,\n",
       "       -6.15621636e-01, -4.93079759e-01, -3.79874275e-01, -2.73517644e-01,\n",
       "       -1.73539115e-01, -8.40501427e-02, -3.41624361e-02, -8.93964098e-03,\n",
       "        0.00000000e+00, -8.93207750e-03, -2.53977577e-02, -7.39001700e-02,\n",
       "       -1.77860042e-01, -3.13383424e-01, -4.29013056e-01, -5.35088930e-01,\n",
       "       -6.20781981e-01, -6.82689232e-01, -7.23470130e-01, -7.65558972e-01,\n",
       "       -8.25070417e-01, -9.19390227e-01, -1.00626012e+00, -1.03281505e+00,\n",
       "       -1.01067268e+00,  1.31519953e+00,  1.48115097e+00,  1.64560186e+00,\n",
       "        4.82880926e-02, -4.85156286e-01, -3.68041972e-01, -2.60781819e-01,\n",
       "       -1.68333751e-01, -8.85426315e-02, -3.59362278e-02, -1.07107999e-02,\n",
       "       -5.90594843e-03, -6.35210656e-03, -3.33202079e-02, -9.13048575e-02,\n",
       "       -1.99108025e-01, -3.27967407e-01, -4.38995421e-01, -5.34454082e-01,\n",
       "       -6.05947891e-01, -6.59405087e-01, -6.97848359e-01, -7.30422887e-01,\n",
       "       -7.81125660e-01, -8.71688544e-01, -5.44696347e-01,  1.60415051e-01,\n",
       "        6.50220845e-01,  1.34279901e+00,  1.46193996e+00,  1.24594171e+00,\n",
       "       -5.73926490e-01, -4.63429144e-01, -3.48771139e-01, -2.45884741e-01,\n",
       "       -1.58200930e-01, -8.54379571e-02, -3.15579551e-02, -9.76040630e-03,\n",
       "       -4.08245026e-03, -1.12816522e-02, -3.97570961e-02, -1.03852330e-01,\n",
       "       -2.11980966e-01, -3.37477883e-01, -4.51701927e-01, -5.52131604e-01,\n",
       "       -6.31886469e-01, -6.93224384e-01, -7.38384893e-01, -7.70730759e-01,\n",
       "       -4.69506059e-01,  4.22382970e-01,  1.04567033e+00,  1.21745435e+00,\n",
       "        1.23935679e+00,  1.31032796e+00,  1.44686108e+00,  1.07419018e+00,\n",
       "       -5.55385648e-01, -4.27074601e-01, -3.16810474e-01, -2.20685798e-01,\n",
       "       -1.41057258e-01, -7.81710366e-02, -2.91825727e-02, -8.02577654e-03,\n",
       "        0.00000000e+00, -1.03420979e-02, -4.32736164e-02, -1.09167008e-01,\n",
       "       -2.09032568e-01, -3.30224635e-01, -4.54875260e-01, -5.69196801e-01,\n",
       "       -6.72943593e-01, -7.60601219e-01, -6.08747775e-01,  1.45933873e-01,\n",
       "        1.02756382e+00,  1.21554324e+00,  1.14867048e+00,  1.14592401e+00,\n",
       "        1.21167772e+00,  8.79504310e-01, -5.51616067e-02, -6.26990949e-01,\n",
       "       -4.88062769e-01, -3.68951139e-01, -2.69292220e-01, -1.87212618e-01,\n",
       "       -1.21627428e-01, -6.64938138e-02, -2.60329970e-02, -5.77329614e-03,\n",
       "       -4.08248568e-03, -1.00094957e-02, -4.04987257e-02, -9.99847025e-02,\n",
       "       -1.88201719e-01, -2.99631307e-01, -4.27248463e-01, -5.55251354e-01,\n",
       "       -4.59112683e-01, -1.95242948e-01,  1.00790157e+00,  1.26095331e+00,\n",
       "        1.17394852e+00,  1.11115666e+00,  1.09552492e+00,  6.59061958e-01,\n",
       "       -2.62412943e-01, -8.13628289e-01, -6.67125983e-01, -5.22694486e-01,\n",
       "       -3.99065423e-01, -2.96700638e-01, -2.12626218e-01, -1.48693952e-01,\n",
       "       -9.68957229e-02, -5.09310830e-02, -2.02144224e-02, -4.08249128e-03,\n",
       "       -4.08248467e-03, -6.00486907e-03, -3.37063410e-02, -7.89724447e-02,\n",
       "       -1.47741371e-01, -2.43250244e-01, -8.30458374e-02,  1.56042651e+00,\n",
       "        1.61327332e+00,  1.60667105e+00,  1.37992543e+00,  1.23963345e+00,\n",
       "        1.16030301e+00,  6.21560389e-01, -3.61925119e-01, -8.82206982e-01,\n",
       "       -8.17668165e-01, -6.64655904e-01, -5.23595074e-01, -4.02142023e-01,\n",
       "       -3.03069154e-01, -2.21680839e-01, -1.59365930e-01, -1.10060694e-01,\n",
       "       -7.00397591e-02, -3.71356155e-02, -1.22014015e-02, -4.08250304e-03,\n",
       "        0.00000000e+00,  0.00000000e+00, -2.27387186e-02, -5.19053908e-02,\n",
       "        3.07386840e+00,  5.60859304e+00,  4.62960940e+00,  3.53861150e+00,\n",
       "        2.59001416e+00,  2.02823971e+00,  1.68064377e+00,  1.39229081e+00,\n",
       "        3.01200682e-01, -7.99993640e-01, -8.39748571e-01, -7.34655527e-01,\n",
       "       -6.12575704e-01, -4.92071182e-01, -3.79928161e-01, -2.88817388e-01,\n",
       "       -2.13440932e-01, -1.53667777e-01, -1.09126003e-01, -7.40987506e-02,\n",
       "       -4.33171791e-02, -1.93437855e-02, -1.04024707e-02,  0.00000000e+00,\n",
       "        0.00000000e+00,  0.00000000e+00, -1.03526941e-02, -2.87500956e-02,\n",
       "        1.43442306e+01,  1.49676650e+01,  9.09224809e+00,  5.95865986e+00,\n",
       "        3.52099748e+00,  1.54840930e+00,  1.15868444e+00, -3.51803599e-01,\n",
       "       -5.66505982e-01, -5.62783650e-01, -5.27164689e-01, -4.68057391e-01,\n",
       "       -3.95805040e-01, -3.24789440e-01, -2.55705026e-01, -1.94611707e-01,\n",
       "       -1.44574200e-01, -1.01773538e-01, -7.14252173e-02, -4.77777511e-02,\n",
       "       -2.57524294e-02, -1.13794179e-02, -4.75286323e-03,  0.00000000e+00,\n",
       "        0.00000000e+00,  0.00000000e+00, -6.66427276e-03, -1.09642064e-02,\n",
       "       -2.76044456e-02, -5.15535956e-02, -8.67718405e-02, -1.28392028e-01,\n",
       "       -1.75775893e-01, -2.23054433e-01, -2.66640280e-01, -2.94844310e-01,\n",
       "       -3.07505428e-01, -3.05180116e-01, -2.89231774e-01, -2.63231286e-01,\n",
       "       -2.33723584e-01, -2.01027819e-01, -1.63691047e-01, -1.27665991e-01,\n",
       "       -9.39651341e-02, -6.56832538e-02, -4.59265254e-02, -2.87188038e-02,\n",
       "       -1.56930286e-02, -5.67529712e-03, -4.08250731e-03,  0.00000000e+00,\n",
       "        0.00000000e+00,  0.00000000e+00,  0.00000000e+00, -4.08249061e-03,\n",
       "       -1.51213874e-02, -3.13695485e-02, -5.33302296e-02, -7.92282617e-02,\n",
       "       -1.08376645e-01, -1.33979063e-01, -1.57513176e-01, -1.75105508e-01,\n",
       "       -1.82626892e-01, -1.80535336e-01, -1.69876486e-01, -1.53157308e-01,\n",
       "       -1.35433118e-01, -1.16480294e-01, -9.39512489e-02, -7.25768819e-02,\n",
       "       -5.23643546e-02, -3.63829940e-02, -2.15030576e-02, -1.30192686e-02,\n",
       "       -4.49417607e-03, -4.08249998e-03,  0.00000000e+00,  0.00000000e+00,\n",
       "        0.00000000e+00,  0.00000000e+00,  0.00000000e+00,  0.00000000e+00,\n",
       "       -5.79015039e-03, -9.05384066e-03, -1.60054368e-02, -2.21197546e-02,\n",
       "       -2.68459902e-02, -3.18450581e-02, -4.37484030e-02, -4.72829422e-02,\n",
       "       -5.31387992e-02, -5.66228140e-02, -6.03383503e-02, -5.62949961e-02,\n",
       "       -5.13665323e-02, -4.26322745e-02, -3.31710216e-02, -2.24628773e-02,\n",
       "       -1.60690813e-02, -1.14321960e-02, -9.00728913e-03, -5.77037728e-03,\n",
       "        0.00000000e+00,  0.00000000e+00,  0.00000000e+00,  0.00000000e+00])"
      ]
     },
     "execution_count": 40,
     "metadata": {},
     "output_type": "execute_result"
    }
   ],
   "source": [
    "X_train_std[0]"
   ]
  },
  {
   "cell_type": "code",
   "execution_count": 41,
   "metadata": {},
   "outputs": [
    {
     "data": {
      "image/png": "[encoded data removed]",
      "text/plain": [
       "<matplotlib.figure.Figure at 0x111215710>"
      ]
     },
     "metadata": {},
     "output_type": "display_data"
    }
   ],
   "source": [
    "fig, _ = plt.subplots(5, 5, figsize=(10, 8))\n",
    "\n",
    "for i, ax in enumerate(fig.axes):\n",
    "    ax.imshow(X_train_std[i].reshape(28, 28), cmap = \"gray\")\n",
    "    ax.set_title(y_train[i])\n",
    "\n",
    "plt.tight_layout()"
   ]
  },
  {
   "cell_type": "code",
   "execution_count": 42,
   "metadata": {},
   "outputs": [
    {
     "data": {
      "text/html": [
       "<div>\n",
       "<style scoped>\n",
       "    .dataframe tbody tr th:only-of-type {\n",
       "        vertical-align: middle;\n",
       "    }\n",
       "\n",
       "    .dataframe tbody tr th {\n",
       "        vertical-align: top;\n",
       "    }\n",
       "\n",
       "    .dataframe thead th {\n",
       "        text-align: right;\n",
       "    }\n",
       "</style>\n",
       "<table border=\"1\" class=\"dataframe\">\n",
       "  <thead>\n",
       "    <tr style=\"text-align: right;\">\n",
       "      <th></th>\n",
       "      <th>0</th>\n",
       "      <th>1</th>\n",
       "      <th>2</th>\n",
       "      <th>3</th>\n",
       "      <th>4</th>\n",
       "      <th>5</th>\n",
       "      <th>6</th>\n",
       "      <th>7</th>\n",
       "      <th>8</th>\n",
       "      <th>9</th>\n",
       "      <th>...</th>\n",
       "      <th>774</th>\n",
       "      <th>775</th>\n",
       "      <th>776</th>\n",
       "      <th>777</th>\n",
       "      <th>778</th>\n",
       "      <th>779</th>\n",
       "      <th>780</th>\n",
       "      <th>781</th>\n",
       "      <th>782</th>\n",
       "      <th>783</th>\n",
       "    </tr>\n",
       "  </thead>\n",
       "  <tbody>\n",
       "    <tr>\n",
       "      <th>count</th>\n",
       "      <td>60000.0</td>\n",
       "      <td>60000.0</td>\n",
       "      <td>60000.0</td>\n",
       "      <td>60000.0</td>\n",
       "      <td>60000.0</td>\n",
       "      <td>60000.0</td>\n",
       "      <td>60000.0</td>\n",
       "      <td>60000.0</td>\n",
       "      <td>60000.0</td>\n",
       "      <td>60000.0</td>\n",
       "      <td>...</td>\n",
       "      <td>6.000000e+04</td>\n",
       "      <td>6.000000e+04</td>\n",
       "      <td>6.000000e+04</td>\n",
       "      <td>6.000000e+04</td>\n",
       "      <td>6.000000e+04</td>\n",
       "      <td>6.000000e+04</td>\n",
       "      <td>60000.0</td>\n",
       "      <td>60000.0</td>\n",
       "      <td>60000.0</td>\n",
       "      <td>60000.0</td>\n",
       "    </tr>\n",
       "    <tr>\n",
       "      <th>mean</th>\n",
       "      <td>0.0</td>\n",
       "      <td>0.0</td>\n",
       "      <td>0.0</td>\n",
       "      <td>0.0</td>\n",
       "      <td>0.0</td>\n",
       "      <td>0.0</td>\n",
       "      <td>0.0</td>\n",
       "      <td>0.0</td>\n",
       "      <td>0.0</td>\n",
       "      <td>0.0</td>\n",
       "      <td>...</td>\n",
       "      <td>3.469948e-15</td>\n",
       "      <td>-2.503212e-15</td>\n",
       "      <td>4.799334e-15</td>\n",
       "      <td>4.307646e-15</td>\n",
       "      <td>-2.155776e-15</td>\n",
       "      <td>1.047335e-15</td>\n",
       "      <td>0.0</td>\n",
       "      <td>0.0</td>\n",
       "      <td>0.0</td>\n",
       "      <td>0.0</td>\n",
       "    </tr>\n",
       "    <tr>\n",
       "      <th>std</th>\n",
       "      <td>0.0</td>\n",
       "      <td>0.0</td>\n",
       "      <td>0.0</td>\n",
       "      <td>0.0</td>\n",
       "      <td>0.0</td>\n",
       "      <td>0.0</td>\n",
       "      <td>0.0</td>\n",
       "      <td>0.0</td>\n",
       "      <td>0.0</td>\n",
       "      <td>0.0</td>\n",
       "      <td>...</td>\n",
       "      <td>1.000008e+00</td>\n",
       "      <td>1.000008e+00</td>\n",
       "      <td>1.000008e+00</td>\n",
       "      <td>1.000008e+00</td>\n",
       "      <td>1.000008e+00</td>\n",
       "      <td>1.000005e+00</td>\n",
       "      <td>0.0</td>\n",
       "      <td>0.0</td>\n",
       "      <td>0.0</td>\n",
       "      <td>0.0</td>\n",
       "    </tr>\n",
       "    <tr>\n",
       "      <th>min</th>\n",
       "      <td>0.0</td>\n",
       "      <td>0.0</td>\n",
       "      <td>0.0</td>\n",
       "      <td>0.0</td>\n",
       "      <td>0.0</td>\n",
       "      <td>0.0</td>\n",
       "      <td>0.0</td>\n",
       "      <td>0.0</td>\n",
       "      <td>0.0</td>\n",
       "      <td>0.0</td>\n",
       "      <td>...</td>\n",
       "      <td>-3.317102e-02</td>\n",
       "      <td>-2.246288e-02</td>\n",
       "      <td>-1.606908e-02</td>\n",
       "      <td>-1.143220e-02</td>\n",
       "      <td>-9.007289e-03</td>\n",
       "      <td>-5.770377e-03</td>\n",
       "      <td>0.0</td>\n",
       "      <td>0.0</td>\n",
       "      <td>0.0</td>\n",
       "      <td>0.0</td>\n",
       "    </tr>\n",
       "    <tr>\n",
       "      <th>25%</th>\n",
       "      <td>0.0</td>\n",
       "      <td>0.0</td>\n",
       "      <td>0.0</td>\n",
       "      <td>0.0</td>\n",
       "      <td>0.0</td>\n",
       "      <td>0.0</td>\n",
       "      <td>0.0</td>\n",
       "      <td>0.0</td>\n",
       "      <td>0.0</td>\n",
       "      <td>0.0</td>\n",
       "      <td>...</td>\n",
       "      <td>-3.317102e-02</td>\n",
       "      <td>-2.246288e-02</td>\n",
       "      <td>-1.606908e-02</td>\n",
       "      <td>-1.143220e-02</td>\n",
       "      <td>-9.007289e-03</td>\n",
       "      <td>-5.770377e-03</td>\n",
       "      <td>0.0</td>\n",
       "      <td>0.0</td>\n",
       "      <td>0.0</td>\n",
       "      <td>0.0</td>\n",
       "    </tr>\n",
       "    <tr>\n",
       "      <th>50%</th>\n",
       "      <td>0.0</td>\n",
       "      <td>0.0</td>\n",
       "      <td>0.0</td>\n",
       "      <td>0.0</td>\n",
       "      <td>0.0</td>\n",
       "      <td>0.0</td>\n",
       "      <td>0.0</td>\n",
       "      <td>0.0</td>\n",
       "      <td>0.0</td>\n",
       "      <td>0.0</td>\n",
       "      <td>...</td>\n",
       "      <td>-3.317102e-02</td>\n",
       "      <td>-2.246288e-02</td>\n",
       "      <td>-1.606908e-02</td>\n",
       "      <td>-1.143220e-02</td>\n",
       "      <td>-9.007289e-03</td>\n",
       "      <td>-5.770377e-03</td>\n",
       "      <td>0.0</td>\n",
       "      <td>0.0</td>\n",
       "      <td>0.0</td>\n",
       "      <td>0.0</td>\n",
       "    </tr>\n",
       "    <tr>\n",
       "      <th>75%</th>\n",
       "      <td>0.0</td>\n",
       "      <td>0.0</td>\n",
       "      <td>0.0</td>\n",
       "      <td>0.0</td>\n",
       "      <td>0.0</td>\n",
       "      <td>0.0</td>\n",
       "      <td>0.0</td>\n",
       "      <td>0.0</td>\n",
       "      <td>0.0</td>\n",
       "      <td>0.0</td>\n",
       "      <td>...</td>\n",
       "      <td>-3.317102e-02</td>\n",
       "      <td>-2.246288e-02</td>\n",
       "      <td>-1.606908e-02</td>\n",
       "      <td>-1.143220e-02</td>\n",
       "      <td>-9.007289e-03</td>\n",
       "      <td>-5.770377e-03</td>\n",
       "      <td>0.0</td>\n",
       "      <td>0.0</td>\n",
       "      <td>0.0</td>\n",
       "      <td>0.0</td>\n",
       "    </tr>\n",
       "    <tr>\n",
       "      <th>max</th>\n",
       "      <td>0.0</td>\n",
       "      <td>0.0</td>\n",
       "      <td>0.0</td>\n",
       "      <td>0.0</td>\n",
       "      <td>0.0</td>\n",
       "      <td>0.0</td>\n",
       "      <td>0.0</td>\n",
       "      <td>0.0</td>\n",
       "      <td>0.0</td>\n",
       "      <td>0.0</td>\n",
       "      <td>...</td>\n",
       "      <td>4.200295e+01</td>\n",
       "      <td>6.418126e+01</td>\n",
       "      <td>8.907402e+01</td>\n",
       "      <td>1.499806e+02</td>\n",
       "      <td>1.513373e+02</td>\n",
       "      <td>1.788759e+02</td>\n",
       "      <td>0.0</td>\n",
       "      <td>0.0</td>\n",
       "      <td>0.0</td>\n",
       "      <td>0.0</td>\n",
       "    </tr>\n",
       "  </tbody>\n",
       "</table>\n",
       "<p>8 rows × 784 columns</p>\n",
       "</div>"
      ],
      "text/plain": [
       "           0        1        2        3        4        5        6        7    \\\n",
       "count  60000.0  60000.0  60000.0  60000.0  60000.0  60000.0  60000.0  60000.0   \n",
       "mean       0.0      0.0      0.0      0.0      0.0      0.0      0.0      0.0   \n",
       "std        0.0      0.0      0.0      0.0      0.0      0.0      0.0      0.0   \n",
       "min        0.0      0.0      0.0      0.0      0.0      0.0      0.0      0.0   \n",
       "25%        0.0      0.0      0.0      0.0      0.0      0.0      0.0      0.0   \n",
       "50%        0.0      0.0      0.0      0.0      0.0      0.0      0.0      0.0   \n",
       "75%        0.0      0.0      0.0      0.0      0.0      0.0      0.0      0.0   \n",
       "max        0.0      0.0      0.0      0.0      0.0      0.0      0.0      0.0   \n",
       "\n",
       "           8        9     ...              774           775           776  \\\n",
       "count  60000.0  60000.0   ...     6.000000e+04  6.000000e+04  6.000000e+04   \n",
       "mean       0.0      0.0   ...     3.469948e-15 -2.503212e-15  4.799334e-15   \n",
       "std        0.0      0.0   ...     1.000008e+00  1.000008e+00  1.000008e+00   \n",
       "min        0.0      0.0   ...    -3.317102e-02 -2.246288e-02 -1.606908e-02   \n",
       "25%        0.0      0.0   ...    -3.317102e-02 -2.246288e-02 -1.606908e-02   \n",
       "50%        0.0      0.0   ...    -3.317102e-02 -2.246288e-02 -1.606908e-02   \n",
       "75%        0.0      0.0   ...    -3.317102e-02 -2.246288e-02 -1.606908e-02   \n",
       "max        0.0      0.0   ...     4.200295e+01  6.418126e+01  8.907402e+01   \n",
       "\n",
       "                777           778           779      780      781      782  \\\n",
       "count  6.000000e+04  6.000000e+04  6.000000e+04  60000.0  60000.0  60000.0   \n",
       "mean   4.307646e-15 -2.155776e-15  1.047335e-15      0.0      0.0      0.0   \n",
       "std    1.000008e+00  1.000008e+00  1.000005e+00      0.0      0.0      0.0   \n",
       "min   -1.143220e-02 -9.007289e-03 -5.770377e-03      0.0      0.0      0.0   \n",
       "25%   -1.143220e-02 -9.007289e-03 -5.770377e-03      0.0      0.0      0.0   \n",
       "50%   -1.143220e-02 -9.007289e-03 -5.770377e-03      0.0      0.0      0.0   \n",
       "75%   -1.143220e-02 -9.007289e-03 -5.770377e-03      0.0      0.0      0.0   \n",
       "max    1.499806e+02  1.513373e+02  1.788759e+02      0.0      0.0      0.0   \n",
       "\n",
       "           783  \n",
       "count  60000.0  \n",
       "mean       0.0  \n",
       "std        0.0  \n",
       "min        0.0  \n",
       "25%        0.0  \n",
       "50%        0.0  \n",
       "75%        0.0  \n",
       "max        0.0  \n",
       "\n",
       "[8 rows x 784 columns]"
      ]
     },
     "execution_count": 42,
     "metadata": {},
     "output_type": "execute_result"
    }
   ],
   "source": [
    "pd.DataFrame(X_train_std).describe()"
   ]
  },
  {
   "cell_type": "code",
   "execution_count": 2,
   "metadata": {},
   "outputs": [],
   "source": [
    "def load_data(path):\n",
    "    df = pd.read_csv(path, header = None)\n",
    "    y = df.iloc[:, 0].values\n",
    "    X = df.iloc[:, 1:].values/255\n",
    "    return X, y\n",
    "    \n",
    "    \n",
    "X_train, y_train = load_data(\"/data/MNIST/mnist_train.csv\")\n",
    "X_test, y_test = load_data(\"/data/MNIST/mnist_test.csv\")"
   ]
  },
  {
   "cell_type": "code",
   "execution_count": 3,
   "metadata": {},
   "outputs": [],
   "source": [
    "from sklearn import linear_model"
   ]
  },
  {
   "cell_type": "code",
   "execution_count": 7,
   "metadata": {},
   "outputs": [
    {
     "name": "stdout",
     "output_type": "stream",
     "text": [
      "training accuracy:  0.90145 \n",
      "test accuracy:  0.907\n",
      "CPU times: user 7.89 s, sys: 199 ms, total: 8.09 s\n",
      "Wall time: 3.53 s\n"
     ]
    }
   ],
   "source": [
    "%%time\n",
    "est = linear_model.SGDClassifier(n_jobs=4, tol=1e-4, eta0 = 0.15,  \n",
    "                                 learning_rate = \"invscaling\", \n",
    "                                 alpha = 0.01, max_iter= 100)\n",
    "est.fit(X_train, y_train)\n",
    "print(\"training accuracy: \", est.score(X_train, y_train), \n",
    "      \"\\ntest accuracy: \", est.score(X_test, y_test))"
   ]
  },
  {
   "cell_type": "code",
   "execution_count": 8,
   "metadata": {},
   "outputs": [
    {
     "name": "stderr",
     "output_type": "stream",
     "text": [
      "/Users/abulbasar/anaconda3/lib/python3.6/site-packages/h5py/__init__.py:36: FutureWarning: Conversion of the second argument of issubdtype from `float` to `np.floating` is deprecated. In future, it will be treated as `np.float64 == np.dtype(float).type`.\n",
      "  from ._conv import register_converters as _register_converters\n"
     ]
    }
   ],
   "source": [
    "import tensorflow as tf"
   ]
  },
  {
   "cell_type": "markdown",
   "metadata": {},
   "source": [
    "tensor = multi dimensional array\n",
    "\n",
    "- constant - constant used for computation\n",
    "- variable - intermediate variables to store data ... these are mutable. typicaly used to store weights\n",
    "- placeholders like function argumnet - typically used to supply training features and labels to tensorflow graph"
   ]
  },
  {
   "cell_type": "code",
   "execution_count": 45,
   "metadata": {},
   "outputs": [
    {
     "name": "stdout",
     "output_type": "stream",
     "text": [
      "a Tensor(\"Const_18:0\", shape=(), dtype=float32)\n",
      "b Tensor(\"Const_19:0\", shape=(), dtype=float32)\n",
      "c Tensor(\"add_12:0\", shape=(), dtype=float32)\n",
      "x Tensor(\"Const_20:0\", shape=(2, 3), dtype=int64)\n",
      "c value 7.9\n"
     ]
    }
   ],
   "source": [
    "a = tf.constant(3.4)\n",
    "b = tf.constant(4.5)\n",
    "x = tf.constant(np.array([[1, 2, 3], [4, 5, 9]]))\n",
    "c = a + b\n",
    "print(\"a\", a)\n",
    "print(\"b\", b)\n",
    "print(\"c\", c)\n",
    "print(\"x\", x)\n",
    "\n",
    "with tf.Session() as sess:\n",
    "    c_ = sess.run(c)\n",
    "    print(\"c value\", c_)"
   ]
  },
  {
   "cell_type": "code",
   "execution_count": 47,
   "metadata": {
    "scrolled": false
   },
   "outputs": [
    {
     "name": "stdout",
     "output_type": "stream",
     "text": [
      "10.1\n"
     ]
    }
   ],
   "source": [
    "a = tf.placeholder(\"float32\")\n",
    "b = tf.placeholder(\"float32\")\n",
    "c = a + b\n",
    "\n",
    "with tf.Session() as sess:\n",
    "    values = {a: 2.3, b: 7.8}\n",
    "    print(sess.run(c, feed_dict=values))\n"
   ]
  },
  {
   "cell_type": "code",
   "execution_count": 53,
   "metadata": {},
   "outputs": [
    {
     "name": "stdout",
     "output_type": "stream",
     "text": [
      "X Tensor(\"Placeholder_56:0\", shape=(?, 784), dtype=float32)\n",
      "y Tensor(\"Placeholder_57:0\", shape=(?,), dtype=int32)\n",
      "y_oh Tensor(\"one_hot_7:0\", shape=(?, 10), dtype=float32)\n",
      "W <tf.Variable 'Variable_35:0' shape=(784, 10) dtype=float32_ref>\n",
      "b <tf.Variable 'Variable_36:0' shape=() dtype=float32_ref>\n",
      "Z Tensor(\"add_18:0\", shape=(?, 10), dtype=float32)\n",
      "logits Tensor(\"add_18:0\", shape=(?, 10), dtype=float32)\n",
      "Tensor(\"ArgMax_8:0\", shape=(?,), dtype=int32)\n",
      "match Tensor(\"Equal_6:0\", shape=(?,), dtype=bool)\n",
      "accuracy Tensor(\"Mean_11:0\", shape=(), dtype=float32)\n",
      "i: 0, cost: 2.581244, accuracy: 0.091983\n",
      "i: 1, cost: 2.384707, accuracy: 0.137917\n",
      "i: 2, cost: 2.254408, accuracy: 0.187900\n",
      "i: 3, cost: 2.147553, accuracy: 0.242383\n",
      "i: 4, cost: 2.053975, accuracy: 0.295467\n",
      "i: 5, cost: 1.969482, accuracy: 0.344383\n",
      "i: 6, cost: 1.892035, accuracy: 0.389233\n",
      "i: 7, cost: 1.820538, accuracy: 0.431950\n",
      "i: 8, cost: 1.754329, accuracy: 0.469833\n",
      "i: 9, cost: 1.692934, accuracy: 0.504333\n",
      "i: 10, cost: 1.635963, accuracy: 0.535917\n",
      "i: 11, cost: 1.583065, accuracy: 0.563850\n",
      "i: 12, cost: 1.533919, accuracy: 0.587650\n",
      "i: 13, cost: 1.488228, accuracy: 0.609183\n",
      "i: 14, cost: 1.445705, accuracy: 0.628233\n",
      "i: 15, cost: 1.406093, accuracy: 0.644117\n",
      "i: 16, cost: 1.369147, accuracy: 0.658167\n",
      "i: 17, cost: 1.334646, accuracy: 0.670883\n",
      "i: 18, cost: 1.302382, accuracy: 0.682017\n",
      "i: 19, cost: 1.272172, accuracy: 0.692117\n",
      "i: 20, cost: 1.243845, accuracy: 0.701850\n",
      "i: 21, cost: 1.217244, accuracy: 0.710850\n",
      "i: 22, cost: 1.192229, accuracy: 0.719183\n",
      "i: 23, cost: 1.168671, accuracy: 0.726433\n",
      "i: 24, cost: 1.146455, accuracy: 0.733183\n",
      "i: 25, cost: 1.125474, accuracy: 0.739250\n",
      "i: 26, cost: 1.105634, accuracy: 0.744933\n",
      "i: 27, cost: 1.086847, accuracy: 0.749733\n",
      "i: 28, cost: 1.069036, accuracy: 0.754333\n",
      "i: 29, cost: 1.052124, accuracy: 0.758783\n",
      "i: 30, cost: 1.036052, accuracy: 0.762817\n",
      "i: 31, cost: 1.020755, accuracy: 0.766733\n",
      "i: 32, cost: 1.006182, accuracy: 0.770283\n",
      "i: 33, cost: 0.992284, accuracy: 0.773833\n",
      "i: 34, cost: 0.979012, accuracy: 0.777517\n",
      "i: 35, cost: 0.966326, accuracy: 0.780167\n",
      "i: 36, cost: 0.954189, accuracy: 0.782683\n",
      "i: 37, cost: 0.942566, accuracy: 0.785167\n",
      "i: 38, cost: 0.931423, accuracy: 0.787500\n",
      "i: 39, cost: 0.920730, accuracy: 0.789883\n",
      "i: 40, cost: 0.910463, accuracy: 0.791933\n",
      "i: 41, cost: 0.900594, accuracy: 0.793633\n",
      "i: 42, cost: 0.891099, accuracy: 0.795750\n",
      "i: 43, cost: 0.881960, accuracy: 0.797800\n",
      "i: 44, cost: 0.873155, accuracy: 0.799367\n",
      "i: 45, cost: 0.864666, accuracy: 0.801033\n",
      "i: 46, cost: 0.856473, accuracy: 0.802950\n",
      "i: 47, cost: 0.848565, accuracy: 0.804533\n",
      "i: 48, cost: 0.840923, accuracy: 0.805633\n",
      "i: 49, cost: 0.833535, accuracy: 0.806850\n"
     ]
    }
   ],
   "source": [
    "\n",
    "X = tf.placeholder(\"float32\", (None, 784))\n",
    "y = tf.placeholder(\"int32\", (None,))\n",
    "num_classes = 10\n",
    "learning_rate = 0.1\n",
    "max_iters = 50\n",
    "\n",
    "print(\"X\", X)\n",
    "print(\"y\", y)\n",
    "\n",
    "y_oh = tf.one_hot(y, num_classes)\n",
    "print(\"y_oh\", y_oh)\n",
    "\n",
    "W = tf.Variable(tf.truncated_normal((784, 10), stddev=1/num_classes))\n",
    "b = tf.Variable(0.0)\n",
    "print(\"W\",W)\n",
    "print(\"b\", b)\n",
    "\n",
    "Z = tf.matmul(X, W) + b\n",
    "print(\"Z\", Z)\n",
    "\n",
    "logits = Z\n",
    "print(\"logits\", logits)\n",
    "\n",
    "y_probs = tf.nn.softmax(logits)\n",
    "print(\")\n",
    "\n",
    "y_pred = tf.argmax(logits, axis=1, output_type=tf.int32)\n",
    "print(\"y_probs\", y_probs)\n",
    "\n",
    "loss = tf.nn.softmax_cross_entropy_with_logits_v2(labels=y_oh, logits = logits) # record level amount of \"error\"\n",
    "cost = tf.reduce_mean(loss) # aggregated \"error\"\n",
    "\n",
    "match = tf.equal(y, y_pred)\n",
    "print(\"match\", match)\n",
    "\n",
    "accuracy = tf.reduce_mean(tf.cast(match, \"float32\"))\n",
    "print(\"accuracy\", accuracy)\n",
    "\n",
    "opt = tf.train.GradientDescentOptimizer(learning_rate=learning_rate).minimize(cost)\n",
    "\n",
    "\n",
    "with tf.Session() as sess:\n",
    "    sess.run(tf.global_variables_initializer())\n",
    "    #W_ = sess.run(W)\n",
    "    #print(\"Initial value of W\", W_)\n",
    "    #plt.hist(W_.flatten(), bins = 100);\n",
    "    values = {X: X_train, y: y_train}\n",
    "    costs = []\n",
    "    \n",
    "    for i in range(max_iters):\n",
    "        _, cost_, accuracy_ = sess.run([opt, cost, accuracy], feed_dict=values)\n",
    "        costs.append(cost_)\n",
    "        print(\"i: %d, cost: %f, accuracy: %f\" % (i, cost_, accuracy_))\n",
    "        "
   ]
  },
  {
   "cell_type": "code",
   "execution_count": 54,
   "metadata": {},
   "outputs": [
    {
     "data": {
      "text/plain": [
       "<matplotlib.axes._subplots.AxesSubplot at 0x120b305f8>"
      ]
     },
     "execution_count": 54,
     "metadata": {},
     "output_type": "execute_result"
    },
    {
     "data": {
      "image/png": "[encoded data removed]",
      "text/plain": [
       "<matplotlib.figure.Figure at 0x120c03f28>"
      ]
     },
     "metadata": {},
     "output_type": "display_data"
    }
   ],
   "source": [
    "pd.Series(costs).plot()"
   ]
  },
  {
   "cell_type": "code",
   "execution_count": 65,
   "metadata": {},
   "outputs": [],
   "source": [
    "import keras\n",
    "from keras.layers import Dense, InputLayer\n",
    "from time import time"
   ]
  },
  {
   "cell_type": "code",
   "execution_count": 68,
   "metadata": {},
   "outputs": [
    {
     "name": "stdout",
     "output_type": "stream",
     "text": [
      "Epoch 1/10\n",
      "60000/60000 [==============================] - 11s 177us/step - loss: 0.5695 - acc: 0.8568\n",
      "Epoch 2/10\n",
      "60000/60000 [==============================] - 11s 189us/step - loss: 0.2779 - acc: 0.9208\n",
      "Epoch 3/10\n",
      "60000/60000 [==============================] - 10s 173us/step - loss: 0.2276 - acc: 0.9358\n",
      "Epoch 4/10\n",
      "60000/60000 [==============================] - 11s 187us/step - loss: 0.1941 - acc: 0.9444\n",
      "Epoch 5/10\n",
      "60000/60000 [==============================] - 12s 194us/step - loss: 0.1689 - acc: 0.9518\n",
      "Epoch 6/10\n",
      "60000/60000 [==============================] - 10s 175us/step - loss: 0.1492 - acc: 0.9579\n",
      "Epoch 7/10\n",
      "60000/60000 [==============================] - 12s 197us/step - loss: 0.1329 - acc: 0.9626\n",
      "Epoch 8/10\n",
      "60000/60000 [==============================] - 12s 193us/step - loss: 0.1201 - acc: 0.9663\n",
      "Epoch 9/10\n",
      "60000/60000 [==============================] - 11s 189us/step - loss: 0.1090 - acc: 0.9695\n",
      "Epoch 10/10\n",
      "60000/60000 [==============================] - 12s 204us/step - loss: 0.0989 - acc: 0.9728\n"
     ]
    },
    {
     "data": {
      "text/plain": [
       "<keras.callbacks.History at 0x1a5a6f3908>"
      ]
     },
     "execution_count": 68,
     "metadata": {},
     "output_type": "execute_result"
    }
   ],
   "source": [
    "tensorboard = keras.callbacks.TensorBoard(log_dir=\"/tmp/tf/tensorboard/%d/\" % time())\n",
    "\n",
    "model = keras.Sequential()\n",
    "model.add(InputLayer((784,)))\n",
    "model.add(Dense(400, activation=\"relu\"))\n",
    "model.add(Dense(100, activation=\"relu\"))\n",
    "model.add(Dense(10, activation=\"softmax\"))\n",
    "\n",
    "model.compile(loss=keras.losses.categorical_crossentropy\n",
    "              , optimizer=\"sgd\"\n",
    "              , metrics=[\"accuracy\"])\n",
    "model.fit(X_train, keras.utils.to_categorical(y_train), epochs=10, callbacks=[tensorboard])"
   ]
  },
  {
   "cell_type": "code",
   "execution_count": 61,
   "metadata": {},
   "outputs": [
    {
     "data": {
      "text/plain": [
       "(60000,)"
      ]
     },
     "execution_count": 61,
     "metadata": {},
     "output_type": "execute_result"
    }
   ],
   "source": [
    "y_train.shape"
   ]
  },
  {
   "cell_type": "code",
   "execution_count": 62,
   "metadata": {},
   "outputs": [
    {
     "data": {
      "text/plain": [
       "(60000, 10)"
      ]
     },
     "execution_count": 62,
     "metadata": {},
     "output_type": "execute_result"
    }
   ],
   "source": [
    "keras.utils.to_categorical(y_train).shape"
   ]
  },
  {
   "cell_type": "code",
   "execution_count": 63,
   "metadata": {},
   "outputs": [
    {
     "data": {
      "text/plain": [
       "array([[0., 0., 0., 0., 0., 1., 0., 0., 0., 0.],\n",
       "       [1., 0., 0., 0., 0., 0., 0., 0., 0., 0.],\n",
       "       [0., 0., 0., 0., 1., 0., 0., 0., 0., 0.],\n",
       "       [0., 1., 0., 0., 0., 0., 0., 0., 0., 0.],\n",
       "       [0., 0., 0., 0., 0., 0., 0., 0., 0., 1.]])"
      ]
     },
     "execution_count": 63,
     "metadata": {},
     "output_type": "execute_result"
    }
   ],
   "source": [
    "keras.utils.to_categorical(y_train)[:5]"
   ]
  },
  {
   "cell_type": "code",
   "execution_count": 70,
   "metadata": {},
   "outputs": [
    {
     "data": {
      "text/plain": [
       "array([5, 0, 4, 1, 9])"
      ]
     },
     "execution_count": 70,
     "metadata": {},
     "output_type": "execute_result"
    }
   ],
   "source": [
    "np.argmax(keras.utils.to_categorical(y_train)[:5], axis = 1)[:5]"
   ]
  },
  {
   "cell_type": "code",
   "execution_count": 64,
   "metadata": {},
   "outputs": [
    {
     "data": {
      "text/plain": [
       "array([5, 0, 4, 1, 9])"
      ]
     },
     "execution_count": 64,
     "metadata": {},
     "output_type": "execute_result"
    }
   ],
   "source": [
    "y_train[:5]"
   ]
  },
  {
   "cell_type": "markdown",
   "metadata": {},
   "source": [
    "# Tensorboard\n",
    "\n",
    "Open command prompt and go to the directory of tensorboard\n",
    "```\n",
    "$ tensorboard --logdir=.\n",
    "```\n"
   ]
  },
  {
   "cell_type": "code",
   "execution_count": 72,
   "metadata": {},
   "outputs": [],
   "source": [
    "Y_probs = model.predict_proba(X_test)"
   ]
  },
  {
   "cell_type": "code",
   "execution_count": 73,
   "metadata": {},
   "outputs": [
    {
     "data": {
      "text/plain": [
       "(10000, 10)"
      ]
     },
     "execution_count": 73,
     "metadata": {},
     "output_type": "execute_result"
    }
   ],
   "source": [
    "Y_probs.shape"
   ]
  },
  {
   "cell_type": "code",
   "execution_count": 76,
   "metadata": {},
   "outputs": [
    {
     "data": {
      "text/plain": [
       "array([1.48928648e-05, 5.94922632e-04, 9.82804596e-01, 1.45478733e-02,\n",
       "       6.08319937e-08, 1.12701720e-03, 4.20152297e-04, 1.04228794e-08,\n",
       "       4.90396167e-04, 2.87257218e-09], dtype=float32)"
      ]
     },
     "execution_count": 76,
     "metadata": {},
     "output_type": "execute_result"
    }
   ],
   "source": [
    "Y_probs[1]"
   ]
  },
  {
   "cell_type": "code",
   "execution_count": 79,
   "metadata": {},
   "outputs": [
    {
     "name": "stdout",
     "output_type": "stream",
     "text": [
      "2\n"
     ]
    },
    {
     "data": {
      "text/plain": [
       "<matplotlib.image.AxesImage at 0x1a5a60a2e8>"
      ]
     },
     "execution_count": 79,
     "metadata": {},
     "output_type": "execute_result"
    },
    {
     "data": {
      "image/png": "[encoded data removed]",
      "text/plain": [
       "<matplotlib.figure.Figure at 0x1a57e187f0>"
      ]
     },
     "metadata": {},
     "output_type": "display_data"
    }
   ],
   "source": [
    "print(np.argmax(Y_probs, axis = 1)[1])\n",
    "plt.imshow(X_test[1].reshape(28, 28), cmap=\"gray\")"
   ]
  },
  {
   "cell_type": "code",
   "execution_count": null,
   "metadata": {},
   "outputs": [],
   "source": []
  }
 ],
 "metadata": {
  "kernelspec": {
   "display_name": "Python 3",
   "language": "python",
   "name": "python3"
  },
  "language_info": {
   "codemirror_mode": {
    "name": "ipython",
    "version": 3
   },
   "file_extension": ".py",
   "mimetype": "text/x-python",
   "name": "python",
   "nbconvert_exporter": "python",
   "pygments_lexer": "ipython3",
   "version": "3.6.5"
  }
 },
 "nbformat": 4,
 "nbformat_minor": 2
}
