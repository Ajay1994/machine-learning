{
 "cells": [
  {
   "cell_type": "markdown",
   "metadata": {},
   "source": [
    "# Exercise A\n",
    "\n",
    "- Exercise 1: Find the total number of records\n",
    "- Exercise 2: Find the number of records by stock symbol\n",
    "- Exercise 3: Exercise: Find avg volume per stock symbol¶\n",
    "- Exercise 4: Find symbol and date that has highest intra day pct change in price\n",
    "- Exercise 5: Find the number of unique symbols\n",
    "\n",
    "\n",
    "Dataset: stocks.csv"
   ]
  },
  {
   "cell_type": "markdown",
   "metadata": {},
   "source": [
    "# Exercise B\n",
    "\n",
    "Use movielens dataset\n",
    "1. Load movies.csv as movies dataframe\n",
    "2. How many rows and columns are there in movies\n",
    "3. Load ratings.csv as ratings dataframe\n",
    "4. How many rows and columns are there in ratings?\n",
    "5. Is there any null values in movies or ratings dataframes\n",
    "6. How many movies are there with godfather in name?\n",
    "7. Find avg rating and count of rating for each movieId\n",
    "8. Find top 10 movies with highest avg rating. Each top 10 movies must have at least 100 ratings\n",
    "[Hint: use pd.merge function to join 2 dataframes]\n",
    "\n"
   ]
  },
  {
   "cell_type": "code",
   "execution_count": null,
   "metadata": {},
   "outputs": [],
   "source": []
  }
 ],
 "metadata": {
  "kernelspec": {
   "display_name": "Python 3",
   "language": "python",
   "name": "python3"
  },
  "language_info": {
   "codemirror_mode": {
    "name": "ipython",
    "version": 3
   },
   "file_extension": ".py",
   "mimetype": "text/x-python",
   "name": "python",
   "nbconvert_exporter": "python",
   "pygments_lexer": "ipython3",
   "version": "3.6.6"
  }
 },
 "nbformat": 4,
 "nbformat_minor": 2
}
