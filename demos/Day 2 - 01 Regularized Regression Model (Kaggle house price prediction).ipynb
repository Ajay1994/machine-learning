{
 "cells": [
  {
   "cell_type": "markdown",
   "metadata": {},
   "source": [
    "# Exercise: House price prediction\n",
    "    \n",
    "https://www.kaggle.com/c/house-prices-advanced-regression-techniques/data\n",
    "\n",
    "\n",
    "\n",
    "Dataset: https://raw.githubusercontent.com/abulbasar/data/master/kaggle-houseprice/data_combined_cleaned.csv\n",
    "\n",
    "Build a predictive model using SalesPrice as the outcome variable and the rest as predicter variables.\n",
    "\n",
    "Find rmse and r2 score for training and test dataset. \n",
    "\n"
   ]
  },
  {
   "cell_type": "code",
   "execution_count": 2,
   "metadata": {},
   "outputs": [],
   "source": [
    "import pandas as pd\n",
    "import numpy as np\n",
    "from sklearn import *\n",
    "import matplotlib.pyplot as plt\n",
    "\n",
    "%matplotlib inline"
   ]
  },
  {
   "cell_type": "code",
   "execution_count": 8,
   "metadata": {},
   "outputs": [
    {
     "data": {
      "text/html": [
       "<div>\n",
       "<style scoped>\n",
       "    .dataframe tbody tr th:only-of-type {\n",
       "        vertical-align: middle;\n",
       "    }\n",
       "\n",
       "    .dataframe tbody tr th {\n",
       "        vertical-align: top;\n",
       "    }\n",
       "\n",
       "    .dataframe thead th {\n",
       "        text-align: right;\n",
       "    }\n",
       "</style>\n",
       "<table border=\"1\" class=\"dataframe\">\n",
       "  <thead>\n",
       "    <tr style=\"text-align: right;\">\n",
       "      <th></th>\n",
       "      <th>MSSubClass</th>\n",
       "      <th>MSZoning</th>\n",
       "      <th>LotFrontage</th>\n",
       "      <th>LotArea</th>\n",
       "      <th>Street</th>\n",
       "      <th>Alley</th>\n",
       "      <th>LotShape</th>\n",
       "      <th>LandContour</th>\n",
       "      <th>LotConfig</th>\n",
       "      <th>LandSlope</th>\n",
       "      <th>...</th>\n",
       "      <th>PoolArea</th>\n",
       "      <th>PoolQC</th>\n",
       "      <th>Fence</th>\n",
       "      <th>MiscFeature</th>\n",
       "      <th>MiscVal</th>\n",
       "      <th>MoSold</th>\n",
       "      <th>YrSold</th>\n",
       "      <th>SaleType</th>\n",
       "      <th>SaleCondition</th>\n",
       "      <th>SalesPrice</th>\n",
       "    </tr>\n",
       "  </thead>\n",
       "  <tbody>\n",
       "    <tr>\n",
       "      <th>0</th>\n",
       "      <td>60</td>\n",
       "      <td>RL</td>\n",
       "      <td>65.0</td>\n",
       "      <td>8450</td>\n",
       "      <td>Pave</td>\n",
       "      <td>None</td>\n",
       "      <td>Reg</td>\n",
       "      <td>Lvl</td>\n",
       "      <td>Inside</td>\n",
       "      <td>Gtl</td>\n",
       "      <td>...</td>\n",
       "      <td>0</td>\n",
       "      <td>None</td>\n",
       "      <td>None</td>\n",
       "      <td>None</td>\n",
       "      <td>0</td>\n",
       "      <td>2</td>\n",
       "      <td>2008</td>\n",
       "      <td>WD</td>\n",
       "      <td>Normal</td>\n",
       "      <td>208500.0</td>\n",
       "    </tr>\n",
       "    <tr>\n",
       "      <th>1</th>\n",
       "      <td>20</td>\n",
       "      <td>RL</td>\n",
       "      <td>80.0</td>\n",
       "      <td>9600</td>\n",
       "      <td>Pave</td>\n",
       "      <td>None</td>\n",
       "      <td>Reg</td>\n",
       "      <td>Lvl</td>\n",
       "      <td>FR2</td>\n",
       "      <td>Gtl</td>\n",
       "      <td>...</td>\n",
       "      <td>0</td>\n",
       "      <td>None</td>\n",
       "      <td>None</td>\n",
       "      <td>None</td>\n",
       "      <td>0</td>\n",
       "      <td>5</td>\n",
       "      <td>2007</td>\n",
       "      <td>WD</td>\n",
       "      <td>Normal</td>\n",
       "      <td>181500.0</td>\n",
       "    </tr>\n",
       "    <tr>\n",
       "      <th>2</th>\n",
       "      <td>60</td>\n",
       "      <td>RL</td>\n",
       "      <td>68.0</td>\n",
       "      <td>11250</td>\n",
       "      <td>Pave</td>\n",
       "      <td>None</td>\n",
       "      <td>IR1</td>\n",
       "      <td>Lvl</td>\n",
       "      <td>Inside</td>\n",
       "      <td>Gtl</td>\n",
       "      <td>...</td>\n",
       "      <td>0</td>\n",
       "      <td>None</td>\n",
       "      <td>None</td>\n",
       "      <td>None</td>\n",
       "      <td>0</td>\n",
       "      <td>9</td>\n",
       "      <td>2008</td>\n",
       "      <td>WD</td>\n",
       "      <td>Normal</td>\n",
       "      <td>223500.0</td>\n",
       "    </tr>\n",
       "    <tr>\n",
       "      <th>3</th>\n",
       "      <td>70</td>\n",
       "      <td>RL</td>\n",
       "      <td>60.0</td>\n",
       "      <td>9550</td>\n",
       "      <td>Pave</td>\n",
       "      <td>None</td>\n",
       "      <td>IR1</td>\n",
       "      <td>Lvl</td>\n",
       "      <td>Corner</td>\n",
       "      <td>Gtl</td>\n",
       "      <td>...</td>\n",
       "      <td>0</td>\n",
       "      <td>None</td>\n",
       "      <td>None</td>\n",
       "      <td>None</td>\n",
       "      <td>0</td>\n",
       "      <td>2</td>\n",
       "      <td>2006</td>\n",
       "      <td>WD</td>\n",
       "      <td>Abnorml</td>\n",
       "      <td>140000.0</td>\n",
       "    </tr>\n",
       "    <tr>\n",
       "      <th>4</th>\n",
       "      <td>60</td>\n",
       "      <td>RL</td>\n",
       "      <td>84.0</td>\n",
       "      <td>14260</td>\n",
       "      <td>Pave</td>\n",
       "      <td>None</td>\n",
       "      <td>IR1</td>\n",
       "      <td>Lvl</td>\n",
       "      <td>FR2</td>\n",
       "      <td>Gtl</td>\n",
       "      <td>...</td>\n",
       "      <td>0</td>\n",
       "      <td>None</td>\n",
       "      <td>None</td>\n",
       "      <td>None</td>\n",
       "      <td>0</td>\n",
       "      <td>12</td>\n",
       "      <td>2008</td>\n",
       "      <td>WD</td>\n",
       "      <td>Normal</td>\n",
       "      <td>250000.0</td>\n",
       "    </tr>\n",
       "  </tbody>\n",
       "</table>\n",
       "<p>5 rows × 79 columns</p>\n",
       "</div>"
      ],
      "text/plain": [
       "   MSSubClass MSZoning  LotFrontage  LotArea Street Alley LotShape  \\\n",
       "0          60       RL         65.0     8450   Pave  None      Reg   \n",
       "1          20       RL         80.0     9600   Pave  None      Reg   \n",
       "2          60       RL         68.0    11250   Pave  None      IR1   \n",
       "3          70       RL         60.0     9550   Pave  None      IR1   \n",
       "4          60       RL         84.0    14260   Pave  None      IR1   \n",
       "\n",
       "  LandContour LotConfig LandSlope    ...     PoolArea PoolQC Fence  \\\n",
       "0         Lvl    Inside       Gtl    ...            0   None  None   \n",
       "1         Lvl       FR2       Gtl    ...            0   None  None   \n",
       "2         Lvl    Inside       Gtl    ...            0   None  None   \n",
       "3         Lvl    Corner       Gtl    ...            0   None  None   \n",
       "4         Lvl       FR2       Gtl    ...            0   None  None   \n",
       "\n",
       "  MiscFeature MiscVal  MoSold  YrSold  SaleType  SaleCondition SalesPrice  \n",
       "0        None       0       2    2008        WD         Normal   208500.0  \n",
       "1        None       0       5    2007        WD         Normal   181500.0  \n",
       "2        None       0       9    2008        WD         Normal   223500.0  \n",
       "3        None       0       2    2006        WD        Abnorml   140000.0  \n",
       "4        None       0      12    2008        WD         Normal   250000.0  \n",
       "\n",
       "[5 rows x 79 columns]"
      ]
     },
     "execution_count": 8,
     "metadata": {},
     "output_type": "execute_result"
    }
   ],
   "source": [
    "df = pd.read_csv(\"/data/kaggle/house-prices/data_combined_cleaned.csv\")\n",
    "del df[\"Id\"]\n",
    "df.head()"
   ]
  },
  {
   "cell_type": "code",
   "execution_count": 5,
   "metadata": {},
   "outputs": [
    {
     "name": "stdout",
     "output_type": "stream",
     "text": [
      "<class 'pandas.core.frame.DataFrame'>\n",
      "RangeIndex: 2919 entries, 0 to 2918\n",
      "Data columns (total 79 columns):\n",
      "MSSubClass       2919 non-null int64\n",
      "MSZoning         2919 non-null object\n",
      "LotFrontage      2919 non-null float64\n",
      "LotArea          2919 non-null int64\n",
      "Street           2919 non-null object\n",
      "Alley            2919 non-null object\n",
      "LotShape         2919 non-null object\n",
      "LandContour      2919 non-null object\n",
      "LotConfig        2919 non-null object\n",
      "LandSlope        2919 non-null object\n",
      "Neighborhood     2919 non-null object\n",
      "Condition1       2919 non-null object\n",
      "Condition2       2919 non-null object\n",
      "BldgType         2919 non-null object\n",
      "HouseStyle       2919 non-null object\n",
      "OverallQual      2919 non-null int64\n",
      "OverallCond      2919 non-null int64\n",
      "YearBuilt        2919 non-null int64\n",
      "YearRemodAdd     2919 non-null int64\n",
      "RoofStyle        2919 non-null object\n",
      "RoofMatl         2919 non-null object\n",
      "Exterior1st      2919 non-null object\n",
      "Exterior2nd      2919 non-null object\n",
      "MasVnrType       2919 non-null object\n",
      "MasVnrArea       2919 non-null float64\n",
      "ExterQual        2919 non-null object\n",
      "ExterCond        2919 non-null object\n",
      "Foundation       2919 non-null object\n",
      "BsmtQual         2919 non-null object\n",
      "BsmtCond         2919 non-null object\n",
      "BsmtExposure     2919 non-null object\n",
      "BsmtFinType1     2919 non-null object\n",
      "BsmtFinSF1       2919 non-null float64\n",
      "BsmtFinType2     2919 non-null object\n",
      "BsmtFinSF2       2919 non-null float64\n",
      "BsmtUnfSF        2919 non-null float64\n",
      "TotalBsmtSF      2919 non-null float64\n",
      "Heating          2919 non-null object\n",
      "HeatingQC        2919 non-null object\n",
      "CentralAir       2919 non-null object\n",
      "Electrical       2919 non-null object\n",
      "1stFlrSF         2919 non-null int64\n",
      "2ndFlrSF         2919 non-null int64\n",
      "LowQualFinSF     2919 non-null int64\n",
      "GrLivArea        2919 non-null int64\n",
      "BsmtFullBath     2919 non-null float64\n",
      "BsmtHalfBath     2919 non-null float64\n",
      "FullBath         2919 non-null int64\n",
      "HalfBath         2919 non-null int64\n",
      "BedroomAbvGr     2919 non-null int64\n",
      "KitchenAbvGr     2919 non-null int64\n",
      "KitchenQual      2919 non-null object\n",
      "TotRmsAbvGrd     2919 non-null int64\n",
      "Functional       2919 non-null object\n",
      "Fireplaces       2919 non-null int64\n",
      "FireplaceQu      2919 non-null object\n",
      "GarageType       2919 non-null object\n",
      "GarageYrBlt      2919 non-null float64\n",
      "GarageFinish     2919 non-null object\n",
      "GarageCars       2919 non-null float64\n",
      "GarageArea       2919 non-null float64\n",
      "GarageQual       2919 non-null object\n",
      "GarageCond       2919 non-null object\n",
      "PavedDrive       2919 non-null object\n",
      "WoodDeckSF       2919 non-null int64\n",
      "OpenPorchSF      2919 non-null int64\n",
      "EnclosedPorch    2919 non-null int64\n",
      "3SsnPorch        2919 non-null int64\n",
      "ScreenPorch      2919 non-null int64\n",
      "PoolArea         2919 non-null int64\n",
      "PoolQC           2919 non-null object\n",
      "Fence            2919 non-null object\n",
      "MiscFeature      2919 non-null object\n",
      "MiscVal          2919 non-null int64\n",
      "MoSold           2919 non-null int64\n",
      "YrSold           2919 non-null int64\n",
      "SaleType         2919 non-null object\n",
      "SaleCondition    2919 non-null object\n",
      "SalesPrice       1460 non-null float64\n",
      "dtypes: float64(12), int64(25), object(42)\n",
      "memory usage: 1.8+ MB\n"
     ]
    }
   ],
   "source": [
    "df.info()"
   ]
  },
  {
   "cell_type": "code",
   "execution_count": 9,
   "metadata": {},
   "outputs": [
    {
     "data": {
      "text/plain": [
       "(1460, 79)"
      ]
     },
     "execution_count": 9,
     "metadata": {},
     "output_type": "execute_result"
    }
   ],
   "source": [
    "df = df[~np.isnan(df.SalesPrice)]\n",
    "df.shape"
   ]
  },
  {
   "cell_type": "code",
   "execution_count": 12,
   "metadata": {},
   "outputs": [
    {
     "data": {
      "image/png": "[encoded data removed]",
      "text/plain": [
       "<matplotlib.figure.Figure at 0x1a0a86edd8>"
      ]
     },
     "metadata": {},
     "output_type": "display_data"
    }
   ],
   "source": [
    "target = \"SalesPrice\"\n",
    "df[target].plot.hist(bins = 50, normed = True)\n",
    "target_mean = df[target].mean()\n",
    "#plt.plot([target_mean, target_mean], [0, 1.0])"
   ]
  },
  {
   "cell_type": "code",
   "execution_count": 14,
   "metadata": {},
   "outputs": [
    {
     "data": {
      "text/plain": [
       "<matplotlib.axes._subplots.AxesSubplot at 0x1a0aa39cc0>"
      ]
     },
     "execution_count": 14,
     "metadata": {},
     "output_type": "execute_result"
    },
    {
     "data": {
      "image/png": "[encoded data removed]",
      "text/plain": [
       "<matplotlib.figure.Figure at 0x1a0aa0d320>"
      ]
     },
     "metadata": {},
     "output_type": "display_data"
    }
   ],
   "source": [
    "np.log(df[target]).plot.box()"
   ]
  },
  {
   "cell_type": "code",
   "execution_count": 16,
   "metadata": {},
   "outputs": [
    {
     "name": "stdout",
     "output_type": "stream",
     "text": [
      "X_train (1022, 258) X_test (438, 258)\n",
      "\n",
      "training mse 0.007406285347507605 \n",
      "test mse 8.727385076639865e+19 \n",
      "training R2 0.9494616956035435 \n",
      "test R2 -4.617920804724029e+20\n"
     ]
    }
   ],
   "source": [
    "y = np.log(df[target])\n",
    "X = df.copy()\n",
    "del X[target]\n",
    "X = pd.get_dummies(X, drop_first=True)\n",
    "X_train, X_test, y_train, y_test = model_selection.train_test_split(X, y, \n",
    "                                        test_size = 0.3, random_state = 1)\n",
    "print(\"X_train\", X_train.shape, \"X_test\", X_test.shape)\n",
    "\n",
    "pipe = pipeline.Pipeline([\n",
    "    (\"poly\", preprocessing.PolynomialFeatures(degree=1, include_bias=False)),\n",
    "    (\"scaler\", preprocessing.StandardScaler()),\n",
    "    (\"est\", linear_model.LinearRegression())\n",
    "])\n",
    "\n",
    "pipe.fit(X_train, y_train)\n",
    "y_train_pred = pipe.predict(X_train)\n",
    "y_test_pred = pipe.predict(X_test)\n",
    "\n",
    "print(\"\\ntraining mse\", metrics.mean_squared_error(y_train, y_train_pred),\n",
    "      \"\\ntest mse\", metrics.mean_squared_error(y_test, y_test_pred),\n",
    "      \"\\ntraining R2\", metrics.r2_score(y_train, y_train_pred),\n",
    "      \"\\ntest R2\", metrics.r2_score(y_test, y_test_pred)\n",
    "     )"
   ]
  },
  {
   "cell_type": "code",
   "execution_count": 23,
   "metadata": {},
   "outputs": [
    {
     "name": "stdout",
     "output_type": "stream",
     "text": [
      "X_train (1022, 258) X_test (438, 258)\n",
      "\n",
      "training mse 0.01552703945002047 \n",
      "test mse 0.022954852934347732 \n",
      "training R2 0.8940480673803641 \n",
      "test R2 0.8785389987905549\n"
     ]
    }
   ],
   "source": [
    "y = np.log(df[target])\n",
    "X = df.copy()\n",
    "del X[target]\n",
    "X = pd.get_dummies(X, drop_first=True)\n",
    "X_train, X_test, y_train, y_test = model_selection.train_test_split(X, y, \n",
    "                                        test_size = 0.3, random_state = 1)\n",
    "print(\"X_train\", X_train.shape, \"X_test\", X_test.shape)\n",
    "\n",
    "pipe = pipeline.Pipeline([\n",
    "    (\"poly\", preprocessing.PolynomialFeatures(degree=1, include_bias=False)),\n",
    "    (\"scaler\", preprocessing.StandardScaler()),\n",
    "    (\"est\", linear_model.Lasso(alpha=0.01))\n",
    "])\n",
    "\n",
    "pipe.fit(X_train, y_train)\n",
    "y_train_pred = pipe.predict(X_train)\n",
    "y_test_pred = pipe.predict(X_test)\n",
    "\n",
    "print(\"\\ntraining mse\", metrics.mean_squared_error(y_train, y_train_pred),\n",
    "      \"\\ntest mse\", metrics.mean_squared_error(y_test, y_test_pred),\n",
    "      \"\\ntraining R2\", metrics.r2_score(y_train, y_train_pred),\n",
    "      \"\\ntest R2\", metrics.r2_score(y_test, y_test_pred)\n",
    "     )"
   ]
  },
  {
   "cell_type": "code",
   "execution_count": 24,
   "metadata": {},
   "outputs": [
    {
     "data": {
      "text/plain": [
       "array([-0.01496146, -0.        ,  0.01185919,  0.10413487,  0.02330874,\n",
       "        0.02946514,  0.02171262,  0.        ,  0.        ,  0.        ,\n",
       "       -0.        ,  0.00472336,  0.00772163,  0.        , -0.        ,\n",
       "        0.09556319,  0.01803006,  0.        ,  0.01199834,  0.        ,\n",
       "        0.        , -0.00227499,  0.01120831,  0.00815855,  0.        ,\n",
       "        0.05589592,  0.        ,  0.01084966,  0.00460384,  0.        ,\n",
       "        0.        ,  0.00599374, -0.        , -0.        ,  0.        ,\n",
       "       -0.        ,  0.        ,  0.        ,  0.        , -0.02643172,\n",
       "        0.        ,  0.        ,  0.        ,  0.        , -0.00044357,\n",
       "       -0.00159326,  0.        ,  0.        ,  0.        ,  0.00751756,\n",
       "        0.        , -0.        , -0.        ,  0.        ,  0.        ,\n",
       "       -0.        , -0.        ,  0.        ,  0.00283564,  0.        ,\n",
       "        0.01948933, -0.00664952, -0.        , -0.        , -0.00036926,\n",
       "       -0.        , -0.        , -0.        , -0.        ,  0.00079081,\n",
       "        0.02014833, -0.        , -0.        , -0.        , -0.        ,\n",
       "        0.        ,  0.01129454,  0.        ,  0.        , -0.        ,\n",
       "        0.01095465,  0.        ,  0.        , -0.        ,  0.        ,\n",
       "       -0.        ,  0.        , -0.        ,  0.        ,  0.        ,\n",
       "       -0.01570035,  0.        ,  0.        , -0.        ,  0.        ,\n",
       "       -0.        , -0.00463819, -0.        , -0.        ,  0.        ,\n",
       "       -0.        ,  0.        , -0.        , -0.        ,  0.        ,\n",
       "       -0.00110355,  0.        ,  0.        ,  0.        ,  0.        ,\n",
       "        0.        ,  0.        ,  0.        , -0.        ,  0.        ,\n",
       "       -0.        ,  0.0018258 ,  0.        , -0.0076987 ,  0.00907929,\n",
       "       -0.        ,  0.        , -0.        ,  0.        ,  0.        ,\n",
       "        0.        ,  0.        , -0.00241507,  0.        , -0.        ,\n",
       "       -0.        ,  0.        , -0.        ,  0.        , -0.        ,\n",
       "        0.        , -0.        ,  0.        ,  0.        , -0.        ,\n",
       "       -0.        , -0.        , -0.00121804,  0.        , -0.        ,\n",
       "       -0.        ,  0.        , -0.        ,  0.        , -0.        ,\n",
       "        0.        , -0.00521662, -0.00477849, -0.        , -0.        ,\n",
       "        0.        , -0.        ,  0.01262534, -0.        ,  0.        ,\n",
       "       -0.        , -0.        ,  0.        , -0.00864103, -0.        ,\n",
       "        0.        , -0.        , -0.        ,  0.        ,  0.01039935,\n",
       "        0.        , -0.00596522, -0.00783178,  0.        ,  0.00159483,\n",
       "       -0.        , -0.        , -0.        , -0.01426525, -0.        ,\n",
       "        0.        , -0.        , -0.        ,  0.        ,  0.        ,\n",
       "        0.        ,  0.        , -0.        , -0.        , -0.        ,\n",
       "       -0.00345045, -0.        ,  0.        , -0.00356776,  0.00912065,\n",
       "       -0.        ,  0.        , -0.        ,  0.        , -0.        ,\n",
       "        0.        , -0.00407313, -0.00960259, -0.        , -0.        ,\n",
       "       -0.        , -0.00244731,  0.0042784 , -0.        ,  0.        ,\n",
       "       -0.01376044, -0.        , -0.        ,  0.00939124, -0.        ,\n",
       "        0.        , -0.        , -0.        , -0.        , -0.        ,\n",
       "        0.        , -0.        , -0.        ,  0.        , -0.        ,\n",
       "       -0.        ,  0.        , -0.        ,  0.        , -0.        ,\n",
       "       -0.        ,  0.        , -0.        ,  0.        ,  0.        ,\n",
       "       -0.01061557,  0.        , -0.        , -0.        ,  0.        ,\n",
       "        0.        ,  0.        , -0.        , -0.        ,  0.        ,\n",
       "        0.        ,  0.        , -0.        , -0.        , -0.        ,\n",
       "        0.00793075,  0.        , -0.        , -0.        ,  0.        ,\n",
       "       -0.00016074,  0.        ,  0.        ])"
      ]
     },
     "execution_count": 24,
     "metadata": {},
     "output_type": "execute_result"
    }
   ],
   "source": [
    "est = pipe.steps[-1][-1]\n",
    "est.coef_"
   ]
  },
  {
   "cell_type": "markdown",
   "metadata": {},
   "source": [
    "# Feature selection using Lasso"
   ]
  },
  {
   "cell_type": "code",
   "execution_count": 29,
   "metadata": {},
   "outputs": [
    {
     "data": {
      "text/plain": [
       "(59, 2)"
      ]
     },
     "execution_count": 29,
     "metadata": {},
     "output_type": "execute_result"
    }
   ],
   "source": [
    "pd.DataFrame({\"feature\": X.columns, \"coef\": est.coef_}).query(\"coef != 0\").shape"
   ]
  },
  {
   "cell_type": "code",
   "execution_count": 35,
   "metadata": {},
   "outputs": [
    {
     "name": "stdout",
     "output_type": "stream",
     "text": [
      "X_train (1022, 258) X_test (438, 258)\n",
      "\n",
      "training mse 0.010607647895419826 \n",
      "test mse 0.02330753065855508 \n",
      "training R2 0.9276165428260786 \n",
      "test R2 0.8766728753346996\n"
     ]
    }
   ],
   "source": [
    "y = np.log(df[target])\n",
    "X = df.copy()\n",
    "del X[target]\n",
    "X = pd.get_dummies(X, drop_first=True)\n",
    "X_train, X_test, y_train, y_test = model_selection.train_test_split(X, y, \n",
    "                                        test_size = 0.3, random_state = 1)\n",
    "print(\"X_train\", X_train.shape, \"X_test\", X_test.shape)\n",
    "\n",
    "pipe = pipeline.Pipeline([\n",
    "    (\"poly\", preprocessing.PolynomialFeatures(degree=1, include_bias=False)),\n",
    "    (\"scaler\", preprocessing.StandardScaler()),\n",
    "    (\"est\", linear_model.Ridge(alpha=200))\n",
    "])\n",
    "\n",
    "pipe.fit(X_train, y_train)\n",
    "y_train_pred = pipe.predict(X_train)\n",
    "y_test_pred = pipe.predict(X_test)\n",
    "\n",
    "print(\"\\ntraining mse\", metrics.mean_squared_error(y_train, y_train_pred),\n",
    "      \"\\ntest mse\", metrics.mean_squared_error(y_test, y_test_pred),\n",
    "      \"\\ntraining R2\", metrics.r2_score(y_train, y_train_pred),\n",
    "      \"\\ntest R2\", metrics.r2_score(y_test, y_test_pred)\n",
    "     )"
   ]
  },
  {
   "cell_type": "code",
   "execution_count": 38,
   "metadata": {},
   "outputs": [
    {
     "data": {
      "text/plain": [
       "(252, 2)"
      ]
     },
     "execution_count": 38,
     "metadata": {},
     "output_type": "execute_result"
    }
   ],
   "source": [
    "est = pipe.steps[-1][-1]\n",
    "pd.DataFrame({\"feature\": X.columns, \"coef\": est.coef_}).query(\"coef != 0\").shape"
   ]
  },
  {
   "cell_type": "code",
   "execution_count": 40,
   "metadata": {},
   "outputs": [
    {
     "name": "stdout",
     "output_type": "stream",
     "text": [
      "X_train (1022, 258) X_test (438, 258)\n",
      "\n",
      "training mse 0.041780619919859034 \n",
      "test mse 0.0528172686757092 \n",
      "training R2 0.7149013860108608 \n",
      "test R2 0.7205280141481248\n"
     ]
    }
   ],
   "source": [
    "y = np.log(df[target])\n",
    "X = df.copy()\n",
    "del X[target]\n",
    "X = pd.get_dummies(X, drop_first=True)\n",
    "X_train, X_test, y_train, y_test = model_selection.train_test_split(X, y, \n",
    "                                        test_size = 0.3, random_state = 1)\n",
    "print(\"X_train\", X_train.shape, \"X_test\", X_test.shape)\n",
    "\n",
    "pipe = pipeline.Pipeline([\n",
    "    (\"poly\", preprocessing.PolynomialFeatures(degree=1, include_bias=False)),\n",
    "    (\"scaler\", preprocessing.StandardScaler()),\n",
    "    (\"est\", linear_model.ElasticNet(alpha=0.1, l1_ratio=0.8))\n",
    "])\n",
    "\n",
    "pipe.fit(X_train, y_train)\n",
    "y_train_pred = pipe.predict(X_train)\n",
    "y_test_pred = pipe.predict(X_test)\n",
    "\n",
    "print(\"\\ntraining mse\", metrics.mean_squared_error(y_train, y_train_pred),\n",
    "      \"\\ntest mse\", metrics.mean_squared_error(y_test, y_test_pred),\n",
    "      \"\\ntraining R2\", metrics.r2_score(y_train, y_train_pred),\n",
    "      \"\\ntest R2\", metrics.r2_score(y_test, y_test_pred)\n",
    "     )"
   ]
  },
  {
   "cell_type": "code",
   "execution_count": 59,
   "metadata": {},
   "outputs": [
    {
     "name": "stdout",
     "output_type": "stream",
     "text": [
      "X_train (1022, 258) X_test (438, 258)\n",
      "\n",
      "training mse 0.01039365733578152 \n",
      "test mse 0.02092071035162678 \n",
      "training R2 0.9372679147190192 \n",
      "test R2 0.854307563876315\n"
     ]
    }
   ],
   "source": [
    "y = np.log(df[target])\n",
    "X = df.copy()\n",
    "del X[target]\n",
    "X = pd.get_dummies(X, drop_first=True)\n",
    "X_train, X_test, y_train, y_test = model_selection.train_test_split(X, y, \n",
    "                                        test_size = 0.3, random_state = 12345)\n",
    "print(\"X_train\", X_train.shape, \"X_test\", X_test.shape)\n",
    "\n",
    "pipe = pipeline.Pipeline([\n",
    "    (\"poly\", preprocessing.PolynomialFeatures(degree=1, include_bias=False)),\n",
    "    (\"scaler\", preprocessing.StandardScaler()),\n",
    "    (\"est\", linear_model.SGDRegressor(alpha=0.1, l1_ratio=0.8, max_iter=1000))\n",
    "])\n",
    "\n",
    "pipe.fit(X_train, y_train)\n",
    "y_train_pred = pipe.predict(X_train)\n",
    "y_test_pred = pipe.predict(X_test)\n",
    "\n",
    "print(\"\\ntraining mse\", metrics.mean_squared_error(y_train, y_train_pred),\n",
    "      \"\\ntest mse\", metrics.mean_squared_error(y_test, y_test_pred),\n",
    "      \"\\ntraining R2\", metrics.r2_score(y_train, y_train_pred),\n",
    "      \"\\ntest R2\", metrics.r2_score(y_test, y_test_pred)\n",
    "     )"
   ]
  },
  {
   "cell_type": "code",
   "execution_count": 43,
   "metadata": {},
   "outputs": [],
   "source": [
    "import sklearn"
   ]
  },
  {
   "cell_type": "code",
   "execution_count": 44,
   "metadata": {},
   "outputs": [
    {
     "data": {
      "text/plain": [
       "'0.19.1'"
      ]
     },
     "execution_count": 44,
     "metadata": {},
     "output_type": "execute_result"
    }
   ],
   "source": [
    "sklearn.__version__"
   ]
  },
  {
   "cell_type": "code",
   "execution_count": 51,
   "metadata": {},
   "outputs": [],
   "source": [
    "scores = model_selection.cross_val_score(pipe, X_train, y_train, cv=5, scoring=)"
   ]
  },
  {
   "cell_type": "code",
   "execution_count": 52,
   "metadata": {},
   "outputs": [
    {
     "data": {
      "text/plain": [
       "0.8227322157423643"
      ]
     },
     "execution_count": 52,
     "metadata": {},
     "output_type": "execute_result"
    }
   ],
   "source": [
    "np.mean(scores)"
   ]
  },
  {
   "cell_type": "code",
   "execution_count": 53,
   "metadata": {},
   "outputs": [
    {
     "data": {
      "text/plain": [
       "array([0.88019564, 0.89871816, 0.5567191 , 0.8984765 , 0.87955169])"
      ]
     },
     "execution_count": 53,
     "metadata": {},
     "output_type": "execute_result"
    }
   ],
   "source": [
    "scores"
   ]
  },
  {
   "cell_type": "code",
   "execution_count": 69,
   "metadata": {},
   "outputs": [
    {
     "name": "stdout",
     "output_type": "stream",
     "text": [
      "X_train (1022, 258) X_test (438, 258)\n",
      "Test score using the best model 0.8595836195885161\n",
      "Best params {'est__alpha': 0.31622776601683794, 'est__l1_ratio': 0.255} best training score (cv):  0.8338600844256684\n",
      "CPU times: user 1.35 s, sys: 187 ms, total: 1.54 s\n",
      "Wall time: 35.2 s\n"
     ]
    }
   ],
   "source": [
    "%%time \n",
    "\n",
    "y = np.log(df[target])\n",
    "X = df.copy()\n",
    "del X[target]\n",
    "X = pd.get_dummies(X, drop_first=True)\n",
    "\n",
    "X_train, X_test, y_train, y_test = model_selection.train_test_split(X, y, \n",
    "                                        test_size = 0.3, random_state = 12345)\n",
    "print(\"X_train\", X_train.shape, \"X_test\", X_test.shape)\n",
    "\n",
    "pipe = pipeline.Pipeline([\n",
    "    (\"poly\", preprocessing.PolynomialFeatures(degree=1, include_bias=False)),\n",
    "    (\"scaler\", preprocessing.StandardScaler()),\n",
    "    (\"est\", linear_model.SGDRegressor(alpha=0.1, l1_ratio=0.8, max_iter=1000))\n",
    "])\n",
    "\n",
    "param_grid = {\n",
    "    \"est__alpha\": 10 ** np.linspace(-3, 2, 5),\n",
    "    \"est__l1_ratio\": np.linspace(0.01, 0.99, 5)\n",
    "}\n",
    "gsearch = model_selection.GridSearchCV(cv=5, estimator=pipe, n_jobs=4, param_grid=param_grid)\n",
    "gsearch.fit(X_train, y_train)\n",
    "\n",
    "print(\"Test score using the best model\", gsearch.best_estimator_.score(X_test, y_test))\n",
    "print(\"Best params\", gsearch.best_params_, \n",
    "      \"best training score (cv): \", gsearch.best_score_)"
   ]
  },
  {
   "cell_type": "code",
   "execution_count": 65,
   "metadata": {},
   "outputs": [
    {
     "data": {
      "text/plain": [
       "0.8334790124299282"
      ]
     },
     "execution_count": 65,
     "metadata": {},
     "output_type": "execute_result"
    }
   ],
   "source": [
    "gsearch.best_score_"
   ]
  },
  {
   "cell_type": "code",
   "execution_count": 66,
   "metadata": {},
   "outputs": [
    {
     "data": {
      "text/plain": [
       "{'est__alpha': 0.31622776601683794, 'est__l1_ratio': 0.255}"
      ]
     },
     "execution_count": 66,
     "metadata": {},
     "output_type": "execute_result"
    }
   ],
   "source": [
    "gsearch.best_params_"
   ]
  },
  {
   "cell_type": "code",
   "execution_count": 68,
   "metadata": {},
   "outputs": [
    {
     "data": {
      "text/plain": [
       "0.8571026651822644"
      ]
     },
     "execution_count": 68,
     "metadata": {},
     "output_type": "execute_result"
    }
   ],
   "source": [
    "gsearch.best_estimator_.score(X_test, y_test)"
   ]
  },
  {
   "cell_type": "code",
   "execution_count": 60,
   "metadata": {},
   "outputs": [
    {
     "data": {
      "text/plain": [
       "array([-3.        , -2.44444444, -1.88888889, -1.33333333, -0.77777778,\n",
       "       -0.22222222,  0.33333333,  0.88888889,  1.44444444,  2.        ])"
      ]
     },
     "execution_count": 60,
     "metadata": {},
     "output_type": "execute_result"
    }
   ],
   "source": [
    "np.linspace(-3, 2, 10)"
   ]
  },
  {
   "cell_type": "code",
   "execution_count": 61,
   "metadata": {},
   "outputs": [
    {
     "data": {
      "text/plain": [
       "array([1.00000000e-03, 3.59381366e-03, 1.29154967e-02, 4.64158883e-02,\n",
       "       1.66810054e-01, 5.99484250e-01, 2.15443469e+00, 7.74263683e+00,\n",
       "       2.78255940e+01, 1.00000000e+02])"
      ]
     },
     "execution_count": 61,
     "metadata": {},
     "output_type": "execute_result"
    }
   ],
   "source": [
    "10 ** np.linspace(-3, 2, 10)"
   ]
  },
  {
   "cell_type": "code",
   "execution_count": 71,
   "metadata": {},
   "outputs": [],
   "source": [
    "import pickle\n",
    "\n",
    "pickle.dump?"
   ]
  },
  {
   "cell_type": "code",
   "execution_count": 72,
   "metadata": {},
   "outputs": [],
   "source": [
    "with open(\"house_prediction.model\", \"wb\") as f:\n",
    "    pickle.dump(gsearch.best_estimator_, f)"
   ]
  },
  {
   "cell_type": "code",
   "execution_count": 73,
   "metadata": {},
   "outputs": [],
   "source": [
    "with open(\"house_prediction.model\", \"rb\") as f:\n",
    "    est = pickle.load(f)"
   ]
  },
  {
   "cell_type": "code",
   "execution_count": 75,
   "metadata": {},
   "outputs": [
    {
     "data": {
      "text/plain": [
       "0.8595836195885161"
      ]
     },
     "execution_count": 75,
     "metadata": {},
     "output_type": "execute_result"
    }
   ],
   "source": [
    "est.score(X_test, y_test)"
   ]
  },
  {
   "cell_type": "code",
   "execution_count": 76,
   "metadata": {},
   "outputs": [
    {
     "data": {
      "text/plain": [
       "array([11.70766705, 11.69108855, 11.61660624, 11.52927515, 12.46099567,\n",
       "       12.46835066, 11.52860571, 11.82698367, 12.03927761, 12.20369974,\n",
       "       12.76958989, 11.94271084, 11.13613563, 12.26675194, 11.72924905,\n",
       "       11.85973286, 12.29832348, 12.62449225, 12.04599283, 12.12192543,\n",
       "       11.77023209, 12.79021844, 12.01848102, 11.90486103, 11.9101601 ,\n",
       "       12.12642143, 11.67730059, 12.37717172, 12.30793204, 11.83878192,\n",
       "       11.95871726, 11.97024383, 12.08417839, 11.97513144, 12.49988231,\n",
       "       12.22583501, 11.93606741, 11.92969418, 12.52710839, 12.39929793,\n",
       "       11.82079054, 12.44227541, 11.99010971, 11.98231189, 12.44211414,\n",
       "       11.92151686, 12.31915682, 12.1122808 , 11.77827702, 11.53220959,\n",
       "       11.65416027, 12.20596328, 11.81924536, 12.03366977, 12.23663992,\n",
       "       11.49832408, 11.55523801, 12.2546981 , 12.21407851, 12.35950985,\n",
       "       12.22311022, 11.75265544, 11.90149198, 11.71426494, 12.2201259 ,\n",
       "       12.46716135, 12.17964902, 12.0847182 , 11.90023366, 12.36024032,\n",
       "       12.08599076, 11.86122316, 12.24377497, 12.88939966, 11.44694982,\n",
       "       11.78551247, 12.17944038, 11.76783348, 11.63778192, 12.0194733 ,\n",
       "       12.03922443, 11.87991631, 12.35204066, 11.75706369, 12.42641138,\n",
       "       12.23962011, 11.84206804, 12.04712728, 11.67551964, 11.50649979,\n",
       "       11.55060099, 11.32018032, 12.51392373, 12.11069432, 12.62230481,\n",
       "       11.90493055, 11.53158734, 12.08961658, 11.91232181, 11.92649852,\n",
       "       11.89185665, 12.05726388, 12.29026855, 12.49236184, 12.02639971,\n",
       "       11.93546907, 11.75023242, 12.15217046, 11.87012559, 12.13445504,\n",
       "       11.74432708, 11.79071018, 12.04871237, 12.19105988, 11.77823353,\n",
       "       12.69854019, 12.4450746 , 12.39676762, 12.4440424 , 11.51686482,\n",
       "       11.50014638, 11.45812989, 12.11488388, 11.88257958, 11.97853106,\n",
       "       11.67179582, 11.81818791, 11.87599451, 11.62955158, 12.60117731,\n",
       "       11.98313885, 11.40588975, 12.45049814, 11.86213465, 12.1797737 ,\n",
       "       12.01405946, 11.67581348, 12.1983458 , 12.30869369, 11.81139245,\n",
       "       11.68277761, 12.33781941, 12.03466447, 12.47964227, 12.0850284 ,\n",
       "       12.11782996, 11.72038511, 11.56866254, 12.0227059 , 11.76832815,\n",
       "       12.1780924 , 11.49476482, 12.10293599, 12.27396912, 11.93042582,\n",
       "       12.25129027, 11.9531999 , 12.22364773, 12.03516272, 11.55064083,\n",
       "       12.78507817, 11.65806144, 12.20891102, 11.45463284, 12.1425621 ,\n",
       "       11.50453721, 11.80677892, 11.6723674 , 11.55180617, 11.91933205,\n",
       "       11.74753981, 11.31961275, 11.92574775, 11.2946825 , 12.03304254,\n",
       "       11.59990046, 12.72753659, 11.32429815, 11.99279304, 10.87930709,\n",
       "       13.41222736, 12.18821   , 11.3680229 , 11.69699319, 11.97295304,\n",
       "       11.61232858, 12.01353405, 11.35482123, 12.47967868, 12.08109851,\n",
       "       11.61477058, 11.31197451, 12.59364182, 11.63298306, 12.29431774,\n",
       "       12.21969067, 11.6766268 , 11.60151071, 11.86968023, 12.30498836,\n",
       "       11.43270256, 11.94857773, 11.64149359, 12.15703508, 11.6861717 ,\n",
       "       11.97968931, 12.44560484, 11.88548917, 12.26433666, 11.6920892 ,\n",
       "       12.64233883, 11.66260798, 12.46822191, 11.80154243, 11.49376989,\n",
       "       12.00651998, 11.98167173, 12.51792109, 11.60962182, 11.89048965,\n",
       "       11.92027481, 12.17204769, 11.75350652, 11.86329974, 11.68939631,\n",
       "       11.61815321, 12.15723729, 11.68134032, 12.04538831, 12.24088284,\n",
       "       11.68360127, 11.9177704 , 12.46574991, 11.72716516, 11.50029414,\n",
       "       11.36837556, 11.78161357, 12.35893139, 12.67192116, 12.17254891,\n",
       "       12.20535025, 12.17955245, 11.76891457, 11.61860288, 12.91105039,\n",
       "       12.24603507, 12.42689485, 12.13081733, 11.79009354, 11.95331268,\n",
       "       12.34796939, 12.16757468, 12.4542404 , 12.02726391, 12.25339477,\n",
       "       12.06589776, 12.37214937, 11.6824583 , 11.61344538, 11.33955231,\n",
       "       11.64192913, 11.96955717, 10.76460334, 12.388066  , 11.81058701,\n",
       "       12.26698493, 11.91586783, 12.02382954, 11.96717258, 12.1710279 ,\n",
       "       12.48192279, 12.49436613, 12.13215292, 12.60646307, 11.87317995,\n",
       "       12.45502126, 12.51700806, 11.784958  , 12.17819004, 12.25098005,\n",
       "       12.25096315, 12.06568716, 11.80917156, 12.57140291, 12.06628355,\n",
       "       12.64702807, 11.77808821, 11.39840652, 11.91576073, 11.74209901,\n",
       "       11.70040631, 12.35948506, 11.99490372, 12.28503684, 11.93053166,\n",
       "       12.26405226, 11.3911652 , 12.21414968, 12.64557993, 11.42776688,\n",
       "       12.34085292, 12.72734476, 12.45935966, 11.59205657, 12.09313725,\n",
       "       12.09982525, 12.93526529, 11.71726175, 12.58954538, 11.79495988,\n",
       "       12.31464046, 11.8914832 , 11.82930258, 12.35329552, 11.49490576,\n",
       "       11.65353315, 12.09408605, 11.82011813, 12.08614404, 11.68007906,\n",
       "       11.81547977, 12.36612681, 11.96469737, 12.40540607, 11.73886163,\n",
       "       12.6327012 , 11.71567936, 12.41722477, 11.83763721, 12.68657222,\n",
       "       11.50813796, 12.15917605, 11.7478035 , 11.99854985, 12.49193901,\n",
       "       12.10830009, 11.71566206, 13.00765579, 12.20825507, 11.96011957,\n",
       "       12.23600342, 11.8115694 , 11.75963501, 11.80731573, 11.53762557,\n",
       "       11.84659909, 11.32397139, 12.3605891 , 12.36330529, 11.25985235,\n",
       "       12.61926016, 11.75594513, 12.24460902, 11.78510253, 12.17020862,\n",
       "       12.48201558, 12.2926748 , 11.67052578, 12.24319076, 12.23092182,\n",
       "       11.8982552 , 11.92189633, 11.99857771, 11.57260647, 11.65089214,\n",
       "       13.13565611, 12.32039659, 12.41635951, 12.65713798, 11.95838854,\n",
       "       12.13811421, 12.21750159, 12.31836843, 12.08371717, 12.17126944,\n",
       "       11.81894753, 12.06490893, 11.55763448, 11.58457867, 11.63579855,\n",
       "       11.29655765, 11.71210524, 11.99249779, 12.10252611, 12.28006777,\n",
       "       11.96762383, 11.68053509, 11.98402111, 12.48867765, 12.78420264,\n",
       "       12.36411961, 11.9223878 , 11.53874165, 11.51122493, 11.78679384,\n",
       "       11.88264366, 12.33171983, 12.36590077, 12.03961422, 12.10434063,\n",
       "       12.31470435, 12.2436043 , 12.46686358, 11.89410933, 12.05887028,\n",
       "       12.01313097, 11.64942861, 12.25763131, 11.80725587, 11.6290059 ,\n",
       "       11.86952149, 12.70446897, 12.7245354 , 12.12970162, 12.16729916,\n",
       "       11.75332941, 11.91092199, 12.37064956, 11.79575493, 11.9228326 ,\n",
       "       12.25077842, 11.75741514, 11.68123006, 12.26605738, 12.13388793,\n",
       "       11.89519554, 11.90802954, 11.58099745, 11.80090383, 11.81558342,\n",
       "       12.14450321, 12.02823139, 11.89397221, 12.13909409, 11.74820836,\n",
       "       11.85176097, 12.17258861, 11.89949471])"
      ]
     },
     "execution_count": 76,
     "metadata": {},
     "output_type": "execute_result"
    }
   ],
   "source": [
    "est.predict(X_test)"
   ]
  },
  {
   "cell_type": "code",
   "execution_count": null,
   "metadata": {},
   "outputs": [],
   "source": []
  }
 ],
 "metadata": {
  "kernelspec": {
   "display_name": "Python 3",
   "language": "python",
   "name": "python3"
  },
  "language_info": {
   "codemirror_mode": {
    "name": "ipython",
    "version": 3
   },
   "file_extension": ".py",
   "mimetype": "text/x-python",
   "name": "python",
   "nbconvert_exporter": "python",
   "pygments_lexer": "ipython3",
   "version": "3.6.4"
  }
 },
 "nbformat": 4,
 "nbformat_minor": 2
}
