{
 "cells": [
  {
   "cell_type": "code",
   "execution_count": 2,
   "metadata": {},
   "outputs": [],
   "source": [
    "import pandas as pd\n",
    "import numpy as np\n",
    "\n",
    "import matplotlib.pyplot as plt\n",
    "\n",
    "from sklearn import * "
   ]
  },
  {
   "cell_type": "code",
   "execution_count": 16,
   "metadata": {},
   "outputs": [
    {
     "name": "stdout",
     "output_type": "stream",
     "text": [
      "<class 'pandas.core.frame.DataFrame'>\n",
      "Int64Index: 1460 entries, 0 to 1459\n",
      "Data columns (total 79 columns):\n",
      "MSSubClass       1460 non-null int64\n",
      "MSZoning         1460 non-null object\n",
      "LotFrontage      1460 non-null float64\n",
      "LotArea          1460 non-null int64\n",
      "Street           1460 non-null object\n",
      "Alley            1460 non-null object\n",
      "LotShape         1460 non-null object\n",
      "LandContour      1460 non-null object\n",
      "LotConfig        1460 non-null object\n",
      "LandSlope        1460 non-null object\n",
      "Neighborhood     1460 non-null object\n",
      "Condition1       1460 non-null object\n",
      "Condition2       1460 non-null object\n",
      "BldgType         1460 non-null object\n",
      "HouseStyle       1460 non-null object\n",
      "OverallQual      1460 non-null int64\n",
      "OverallCond      1460 non-null int64\n",
      "YearBuilt        1460 non-null int64\n",
      "YearRemodAdd     1460 non-null int64\n",
      "RoofStyle        1460 non-null object\n",
      "RoofMatl         1460 non-null object\n",
      "Exterior1st      1460 non-null object\n",
      "Exterior2nd      1460 non-null object\n",
      "MasVnrType       1460 non-null object\n",
      "MasVnrArea       1460 non-null float64\n",
      "ExterQual        1460 non-null object\n",
      "ExterCond        1460 non-null object\n",
      "Foundation       1460 non-null object\n",
      "BsmtQual         1460 non-null object\n",
      "BsmtCond         1460 non-null object\n",
      "BsmtExposure     1460 non-null object\n",
      "BsmtFinType1     1460 non-null object\n",
      "BsmtFinSF1       1460 non-null float64\n",
      "BsmtFinType2     1460 non-null object\n",
      "BsmtFinSF2       1460 non-null float64\n",
      "BsmtUnfSF        1460 non-null float64\n",
      "TotalBsmtSF      1460 non-null float64\n",
      "Heating          1460 non-null object\n",
      "HeatingQC        1460 non-null object\n",
      "CentralAir       1460 non-null object\n",
      "Electrical       1460 non-null object\n",
      "1stFlrSF         1460 non-null int64\n",
      "2ndFlrSF         1460 non-null int64\n",
      "LowQualFinSF     1460 non-null int64\n",
      "GrLivArea        1460 non-null int64\n",
      "BsmtFullBath     1460 non-null float64\n",
      "BsmtHalfBath     1460 non-null float64\n",
      "FullBath         1460 non-null int64\n",
      "HalfBath         1460 non-null int64\n",
      "BedroomAbvGr     1460 non-null int64\n",
      "KitchenAbvGr     1460 non-null int64\n",
      "KitchenQual      1460 non-null object\n",
      "TotRmsAbvGrd     1460 non-null int64\n",
      "Functional       1460 non-null object\n",
      "Fireplaces       1460 non-null int64\n",
      "FireplaceQu      1460 non-null object\n",
      "GarageType       1460 non-null object\n",
      "GarageYrBlt      1460 non-null float64\n",
      "GarageFinish     1460 non-null object\n",
      "GarageCars       1460 non-null float64\n",
      "GarageArea       1460 non-null float64\n",
      "GarageQual       1460 non-null object\n",
      "GarageCond       1460 non-null object\n",
      "PavedDrive       1460 non-null object\n",
      "WoodDeckSF       1460 non-null int64\n",
      "OpenPorchSF      1460 non-null int64\n",
      "EnclosedPorch    1460 non-null int64\n",
      "3SsnPorch        1460 non-null int64\n",
      "ScreenPorch      1460 non-null int64\n",
      "PoolArea         1460 non-null int64\n",
      "PoolQC           1460 non-null object\n",
      "Fence            1460 non-null object\n",
      "MiscFeature      1460 non-null object\n",
      "MiscVal          1460 non-null int64\n",
      "MoSold           1460 non-null int64\n",
      "YrSold           1460 non-null int64\n",
      "SaleType         1460 non-null object\n",
      "SaleCondition    1460 non-null object\n",
      "SalesPrice       1460 non-null float64\n",
      "dtypes: float64(12), int64(25), object(42)\n",
      "memory usage: 912.5+ KB\n"
     ]
    }
   ],
   "source": [
    "df = pd.read_csv(\"/data/kaggle/house-prices/data_combined_cleaned.csv\")\n",
    "df = df[~df.SalesPrice.isna()]\n",
    "del df[\"Id\"]\n",
    "df.info()"
   ]
  },
  {
   "cell_type": "code",
   "execution_count": 9,
   "metadata": {
    "scrolled": true
   },
   "outputs": [
    {
     "name": "stdout",
     "output_type": "stream",
     "text": [
      "Train rmse 4.052469544908295e-15 training r2_score 1.0\n",
      "Test rmse 0.21473830430950336 test r2_score 0.7560047449535685\n"
     ]
    }
   ],
   "source": [
    "target = \"SalesPrice\"\n",
    "X = df.copy()\n",
    "del X[target]\n",
    "\n",
    "X_dummy = pd.get_dummies(X)\n",
    "y = np.log(df.SalesPrice)\n",
    "\n",
    "X_train, X_test, y_train, y_test = model_selection.train_test_split(X_dummy,\n",
    "                            y, test_size = 0.3, random_state = 1)\n",
    "\n",
    "\n",
    "pipe = pipeline.Pipeline([\n",
    "    (\"scaler\", preprocessing.StandardScaler()),\n",
    "    (\"poly\", preprocessing.PolynomialFeatures(degree = 2, include_bias=False)),\n",
    "    (\"est\", linear_model.LinearRegression())\n",
    "])\n",
    "\n",
    "pipe.fit(X_train, y_train)\n",
    "\n",
    "y_train_pred = pipe.predict(X_train)\n",
    "rmse = np.sqrt(metrics.mean_squared_error(y_train, y_train_pred))\n",
    "r2_score = metrics.r2_score(y_train, y_train_pred)\n",
    "print(\"Train rmse\", rmse, \"training r2_score\", r2_score)\n",
    "\n",
    "y_test_pred = pipe.predict(X_test)\n",
    "rmse = np.sqrt(metrics.mean_squared_error(y_test, y_test_pred))\n",
    "r2_score = metrics.r2_score(y_test, y_test_pred)\n",
    "print(\"Test rmse\", rmse, \"test r2_score\", r2_score)"
   ]
  },
  {
   "cell_type": "markdown",
   "metadata": {},
   "source": [
    "Observation: training and test performance are significantly different. I want to regularize the models to find optimum performance - training and test performance should be close.  "
   ]
  },
  {
   "cell_type": "code",
   "execution_count": 19,
   "metadata": {},
   "outputs": [
    {
     "name": "stdout",
     "output_type": "stream",
     "text": [
      "Train rmse 0.22021427332560542 training r2_score 0.6690890368374893\n",
      "Test rmse 0.2489567011639626 test r2_score 0.6720482268615199\n"
     ]
    }
   ],
   "source": [
    "target = \"SalesPrice\"\n",
    "X = df.copy()\n",
    "del X[target]\n",
    "\n",
    "X_dummy = pd.get_dummies(X)\n",
    "y = np.log(df.SalesPrice)\n",
    "\n",
    "X_train, X_test, y_train, y_test = model_selection.train_test_split(X_dummy,\n",
    "                            y, test_size = 0.3, random_state = 1)\n",
    "\n",
    "\n",
    "pipe = pipeline.Pipeline([\n",
    "    (\"scaler\", preprocessing.StandardScaler()),\n",
    "    (\"poly\", preprocessing.PolynomialFeatures(degree = 1, \n",
    "                                    include_bias=False)),\n",
    "    (\"est\", linear_model.Lasso(alpha=0.1))\n",
    "])\n",
    "\n",
    "pipe.fit(X_train, y_train)\n",
    "\n",
    "y_train_pred = pipe.predict(X_train)\n",
    "rmse = np.sqrt(metrics.mean_squared_error(y_train, y_train_pred))\n",
    "r2_score = metrics.r2_score(y_train, y_train_pred)\n",
    "print(\"Train rmse\", rmse, \"training r2_score\", r2_score)\n",
    "\n",
    "y_test_pred = pipe.predict(X_test)\n",
    "rmse = np.sqrt(metrics.mean_squared_error(y_test, y_test_pred))\n",
    "r2_score = metrics.r2_score(y_test, y_test_pred)\n",
    "print(\"Test rmse\", rmse, \"test r2_score\", r2_score)"
   ]
  },
  {
   "cell_type": "code",
   "execution_count": 23,
   "metadata": {},
   "outputs": [
    {
     "name": "stdout",
     "output_type": "stream",
     "text": [
      "Fitting 5 folds for each of 20 candidates, totalling 100 fits\n",
      "CPU times: user 4min 17s, sys: 33.2 s, total: 4min 50s\n",
      "Wall time: 4min 49s\n"
     ]
    },
    {
     "name": "stderr",
     "output_type": "stream",
     "text": [
      "[Parallel(n_jobs=1)]: Done 100 out of 100 | elapsed:  4.8min finished\n"
     ]
    }
   ],
   "source": [
    "%%time\n",
    "param_grid = {\n",
    "    \"poly__degree\": [1, 2], \n",
    "    \"est__alpha\": 10 ** np.linspace(-2, 2, 10)\n",
    "}\n",
    "\n",
    "grid = model_selection.GridSearchCV(pipe, param_grid, cv = 5, n_jobs = 4,                           \n",
    "        verbose = True, scoring = \"neg_mean_squared_error\")\n",
    "grid.fit(X_train, y_train)"
   ]
  },
  {
   "cell_type": "code",
   "execution_count": 24,
   "metadata": {},
   "outputs": [
    {
     "data": {
      "text/plain": [
       "Pipeline(memory=None,\n",
       "     steps=[('scaler', StandardScaler(copy=True, with_mean=True, with_std=True)), ('poly', PolynomialFeatures(degree=1, include_bias=False, interaction_only=False)), ('est', Lasso(alpha=0.01, copy_X=True, fit_intercept=True, max_iter=1000,\n",
       "   normalize=False, positive=False, precompute=False, random_state=None,\n",
       "   selection='cyclic', tol=0.0001, warm_start=False))])"
      ]
     },
     "execution_count": 24,
     "metadata": {},
     "output_type": "execute_result"
    }
   ],
   "source": [
    "grid.best_estimator_"
   ]
  },
  {
   "cell_type": "code",
   "execution_count": 28,
   "metadata": {},
   "outputs": [
    {
     "data": {
      "text/plain": [
       "0.15497457122505764"
      ]
     },
     "execution_count": 28,
     "metadata": {},
     "output_type": "execute_result"
    }
   ],
   "source": [
    "np.sqrt(-grid.best_score_)"
   ]
  },
  {
   "cell_type": "code",
   "execution_count": 26,
   "metadata": {},
   "outputs": [
    {
     "data": {
      "text/plain": [
       "{'est__alpha': 0.01, 'poly__degree': 1}"
      ]
     },
     "execution_count": 26,
     "metadata": {},
     "output_type": "execute_result"
    }
   ],
   "source": [
    "grid.best_params_"
   ]
  },
  {
   "cell_type": "code",
   "execution_count": 27,
   "metadata": {},
   "outputs": [
    {
     "data": {
      "text/plain": [
       "array([-2.        , -1.55555556, -1.11111111, -0.66666667, -0.22222222,\n",
       "        0.22222222,  0.66666667,  1.11111111,  1.55555556,  2.        ])"
      ]
     },
     "execution_count": 27,
     "metadata": {},
     "output_type": "execute_result"
    }
   ],
   "source": [
    "np.linspace(-2, 2, 10)"
   ]
  },
  {
   "cell_type": "code",
   "execution_count": 29,
   "metadata": {},
   "outputs": [
    {
     "name": "stdout",
     "output_type": "stream",
     "text": [
      "RMSE of best model against testing dataset 0.1385713724165416\n"
     ]
    }
   ],
   "source": [
    "rmse = np.sqrt(metrics.mean_squared_error(y_test, \n",
    "                grid.best_estimator_.predict(X_test)))\n",
    "print(\"RMSE of best model against testing dataset\", rmse)"
   ]
  },
  {
   "cell_type": "code",
   "execution_count": 32,
   "metadata": {},
   "outputs": [
    {
     "name": "stdout",
     "output_type": "stream",
     "text": [
      "Fitting 5 folds for each of 5 candidates, totalling 25 fits\n",
      "RMSE of best model against testing dataset 0.1303049969091853\n",
      "CPU times: user 1.65 s, sys: 50.8 ms, total: 1.7 s\n",
      "Wall time: 1.71 s\n"
     ]
    },
    {
     "name": "stderr",
     "output_type": "stream",
     "text": [
      "[Parallel(n_jobs=1)]: Done  25 out of  25 | elapsed:    1.7s finished\n"
     ]
    }
   ],
   "source": [
    "%%time\n",
    "param_grid = {\n",
    "    \"poly__degree\": [1], \n",
    "    \"est__alpha\": 10 ** np.linspace(-4, -1, 5)\n",
    "}\n",
    "\n",
    "grid = model_selection.GridSearchCV(pipe, param_grid, cv = 5,                           \n",
    "        verbose = True, scoring = \"neg_mean_squared_error\")\n",
    "grid.fit(X_train, y_train)\n",
    "rmse = np.sqrt(metrics.mean_squared_error(y_test, \n",
    "                grid.best_estimator_.predict(X_test)))\n",
    "print(\"RMSE of best model against testing dataset\", rmse)"
   ]
  },
  {
   "cell_type": "code",
   "execution_count": 33,
   "metadata": {},
   "outputs": [],
   "source": [
    "import pickle"
   ]
  },
  {
   "cell_type": "code",
   "execution_count": 34,
   "metadata": {},
   "outputs": [],
   "source": [
    "with open(\"lasso.model\", \"wb\") as f:\n",
    "    f.write(pickle.dumps(grid.best_estimator_))"
   ]
  },
  {
   "cell_type": "code",
   "execution_count": 36,
   "metadata": {},
   "outputs": [
    {
     "name": "stdout",
     "output_type": "stream",
     "text": [
      "total 1928\r\n",
      "-rw-r--r--  1 abulbasar  staff    7520 Feb 19 11:30 Day 1 - 01 python basic.ipynb\r\n",
      "-rw-r--r--  1 abulbasar  staff   87140 Feb 19 12:39 Day 1 - 02 Pandas dataframe.ipynb\r\n",
      "-rw-r--r--  1 abulbasar  staff   15578 Feb 19 18:48 Day 1 - 03 Exercise 1 top 10 movies.ipynb\r\n",
      "-rw-r--r--  1 abulbasar  staff  151484 Feb 19 15:09 Day 1 - 04 Visualization (insurance).ipynb\r\n",
      "-rw-r--r--  1 abulbasar  staff  165850 Feb 20 12:47 Day 1 - 05 Regression Insurance price.ipynb\r\n",
      "-rw-r--r--  1 abulbasar  staff  521240 Feb 20 14:53 Day 2 - 01 Regression Power Plant.ipynb\r\n",
      "-rw-r--r--  1 abulbasar  staff   13053 Feb 20 17:09 Day 2 - Regression (kaggle house price).ipynb\r\n",
      "-rw-r--r--  1 abulbasar  staff   10834 Feb 20 17:10 lasso.model\r\n"
     ]
    }
   ],
   "source": [
    "!ls -l"
   ]
  },
  {
   "cell_type": "code",
   "execution_count": 37,
   "metadata": {},
   "outputs": [],
   "source": [
    "with open(\"lasso.model\", \"rb\") as f:\n",
    "    est = pickle.load(f)"
   ]
  },
  {
   "cell_type": "code",
   "execution_count": 38,
   "metadata": {},
   "outputs": [
    {
     "data": {
      "text/plain": [
       "Pipeline(memory=None,\n",
       "     steps=[('scaler', StandardScaler(copy=True, with_mean=True, with_std=True)), ('poly', PolynomialFeatures(degree=1, include_bias=False, interaction_only=False)), ('est', Lasso(alpha=0.0031622776601683794, copy_X=True, fit_intercept=True,\n",
       "   max_iter=1000, normalize=False, positive=False, precompute=False,\n",
       "   random_state=None, selection='cyclic', tol=0.0001, warm_start=False))])"
      ]
     },
     "execution_count": 38,
     "metadata": {},
     "output_type": "execute_result"
    }
   ],
   "source": [
    "est"
   ]
  },
  {
   "cell_type": "code",
   "execution_count": 39,
   "metadata": {},
   "outputs": [
    {
     "name": "stdout",
     "output_type": "stream",
     "text": [
      "RMSE of best model against testing dataset 0.1303049969091853\n"
     ]
    }
   ],
   "source": [
    "rmse = np.sqrt(metrics.mean_squared_error(y_test, \n",
    "                est.predict(X_test)))\n",
    "print(\"RMSE of best model against testing dataset\", rmse)"
   ]
  },
  {
   "cell_type": "code",
   "execution_count": 41,
   "metadata": {},
   "outputs": [],
   "source": [
    "f_stats, p_vals = feature_selection.f_regression(X_dummy, y)"
   ]
  },
  {
   "cell_type": "code",
   "execution_count": 43,
   "metadata": {},
   "outputs": [
    {
     "data": {
      "text/html": [
       "<div>\n",
       "<style scoped>\n",
       "    .dataframe tbody tr th:only-of-type {\n",
       "        vertical-align: middle;\n",
       "    }\n",
       "\n",
       "    .dataframe tbody tr th {\n",
       "        vertical-align: top;\n",
       "    }\n",
       "\n",
       "    .dataframe thead th {\n",
       "        text-align: right;\n",
       "    }\n",
       "</style>\n",
       "<table border=\"1\" class=\"dataframe\">\n",
       "  <thead>\n",
       "    <tr style=\"text-align: right;\">\n",
       "      <th></th>\n",
       "      <th>feature</th>\n",
       "      <th>pvalue</th>\n",
       "    </tr>\n",
       "  </thead>\n",
       "  <tbody>\n",
       "    <tr>\n",
       "      <th>3</th>\n",
       "      <td>OverallQual</td>\n",
       "      <td>0.000000e+00</td>\n",
       "    </tr>\n",
       "    <tr>\n",
       "      <th>15</th>\n",
       "      <td>GrLivArea</td>\n",
       "      <td>3.060209e-216</td>\n",
       "    </tr>\n",
       "    <tr>\n",
       "      <th>25</th>\n",
       "      <td>GarageCars</td>\n",
       "      <td>3.093756e-199</td>\n",
       "    </tr>\n",
       "    <tr>\n",
       "      <th>26</th>\n",
       "      <td>GarageArea</td>\n",
       "      <td>1.106255e-176</td>\n",
       "    </tr>\n",
       "    <tr>\n",
       "      <th>11</th>\n",
       "      <td>TotalBsmtSF</td>\n",
       "      <td>7.534551e-151</td>\n",
       "    </tr>\n",
       "    <tr>\n",
       "      <th>12</th>\n",
       "      <td>1stFlrSF</td>\n",
       "      <td>1.074698e-141</td>\n",
       "    </tr>\n",
       "    <tr>\n",
       "      <th>169</th>\n",
       "      <td>ExterQual_TA</td>\n",
       "      <td>4.749723e-141</td>\n",
       "    </tr>\n",
       "    <tr>\n",
       "      <th>18</th>\n",
       "      <td>FullBath</td>\n",
       "      <td>2.118958e-140</td>\n",
       "    </tr>\n",
       "    <tr>\n",
       "      <th>5</th>\n",
       "      <td>YearBuilt</td>\n",
       "      <td>1.103567e-135</td>\n",
       "    </tr>\n",
       "    <tr>\n",
       "      <th>24</th>\n",
       "      <td>GarageYrBlt</td>\n",
       "      <td>7.405437e-126</td>\n",
       "    </tr>\n",
       "    <tr>\n",
       "      <th>6</th>\n",
       "      <td>YearRemodAdd</td>\n",
       "      <td>3.211481e-124</td>\n",
       "    </tr>\n",
       "    <tr>\n",
       "      <th>231</th>\n",
       "      <td>KitchenQual_TA</td>\n",
       "      <td>1.948568e-110</td>\n",
       "    </tr>\n",
       "    <tr>\n",
       "      <th>22</th>\n",
       "      <td>TotRmsAbvGrd</td>\n",
       "      <td>1.292804e-108</td>\n",
       "    </tr>\n",
       "    <tr>\n",
       "      <th>177</th>\n",
       "      <td>Foundation_PConc</td>\n",
       "      <td>6.325386e-107</td>\n",
       "    </tr>\n",
       "    <tr>\n",
       "      <th>242</th>\n",
       "      <td>FireplaceQu_None</td>\n",
       "      <td>1.688600e-97</td>\n",
       "    </tr>\n",
       "    <tr>\n",
       "      <th>168</th>\n",
       "      <td>ExterQual_Gd</td>\n",
       "      <td>2.403246e-97</td>\n",
       "    </tr>\n",
       "    <tr>\n",
       "      <th>23</th>\n",
       "      <td>Fireplaces</td>\n",
       "      <td>8.421350e-89</td>\n",
       "    </tr>\n",
       "    <tr>\n",
       "      <th>185</th>\n",
       "      <td>BsmtQual_TA</td>\n",
       "      <td>4.644401e-84</td>\n",
       "    </tr>\n",
       "    <tr>\n",
       "      <th>216</th>\n",
       "      <td>HeatingQC_Ex</td>\n",
       "      <td>7.460464e-80</td>\n",
       "    </tr>\n",
       "    <tr>\n",
       "      <th>181</th>\n",
       "      <td>BsmtQual_Ex</td>\n",
       "      <td>7.879336e-79</td>\n",
       "    </tr>\n",
       "    <tr>\n",
       "      <th>198</th>\n",
       "      <td>BsmtFinType1_GLQ</td>\n",
       "      <td>1.931212e-70</td>\n",
       "    </tr>\n",
       "    <tr>\n",
       "      <th>255</th>\n",
       "      <td>GarageFinish_Unf</td>\n",
       "      <td>1.913479e-67</td>\n",
       "    </tr>\n",
       "    <tr>\n",
       "      <th>7</th>\n",
       "      <td>MasVnrArea</td>\n",
       "      <td>1.077919e-65</td>\n",
       "    </tr>\n",
       "    <tr>\n",
       "      <th>252</th>\n",
       "      <td>GarageFinish_Fin</td>\n",
       "      <td>4.114976e-63</td>\n",
       "    </tr>\n",
       "    <tr>\n",
       "      <th>246</th>\n",
       "      <td>GarageType_Attchd</td>\n",
       "      <td>4.050954e-62</td>\n",
       "    </tr>\n",
       "    <tr>\n",
       "      <th>228</th>\n",
       "      <td>KitchenQual_Ex</td>\n",
       "      <td>1.573207e-61</td>\n",
       "    </tr>\n",
       "    <tr>\n",
       "      <th>230</th>\n",
       "      <td>KitchenQual_Gd</td>\n",
       "      <td>3.130470e-59</td>\n",
       "    </tr>\n",
       "    <tr>\n",
       "      <th>250</th>\n",
       "      <td>GarageType_Detchd</td>\n",
       "      <td>7.722764e-54</td>\n",
       "    </tr>\n",
       "    <tr>\n",
       "      <th>164</th>\n",
       "      <td>MasVnrType_None</td>\n",
       "      <td>1.336618e-53</td>\n",
       "    </tr>\n",
       "    <tr>\n",
       "      <th>8</th>\n",
       "      <td>BsmtFinSF1</td>\n",
       "      <td>3.845951e-49</td>\n",
       "    </tr>\n",
       "    <tr>\n",
       "      <th>...</th>\n",
       "      <td>...</td>\n",
       "      <td>...</td>\n",
       "    </tr>\n",
       "    <tr>\n",
       "      <th>63</th>\n",
       "      <td>Neighborhood_Blueste</td>\n",
       "      <td>4.842663e-01</td>\n",
       "    </tr>\n",
       "    <tr>\n",
       "      <th>256</th>\n",
       "      <td>GarageQual_Ex</td>\n",
       "      <td>5.112719e-01</td>\n",
       "    </tr>\n",
       "    <tr>\n",
       "      <th>275</th>\n",
       "      <td>Fence_GdPrv</td>\n",
       "      <td>5.165254e-01</td>\n",
       "    </tr>\n",
       "    <tr>\n",
       "      <th>237</th>\n",
       "      <td>Functional_Sev</td>\n",
       "      <td>5.208582e-01</td>\n",
       "    </tr>\n",
       "    <tr>\n",
       "      <th>93</th>\n",
       "      <td>Condition1_RRAn</td>\n",
       "      <td>5.221707e-01</td>\n",
       "    </tr>\n",
       "    <tr>\n",
       "      <th>179</th>\n",
       "      <td>Foundation_Stone</td>\n",
       "      <td>5.766604e-01</td>\n",
       "    </tr>\n",
       "    <tr>\n",
       "      <th>149</th>\n",
       "      <td>Exterior2nd_BrkFace</td>\n",
       "      <td>5.959465e-01</td>\n",
       "    </tr>\n",
       "    <tr>\n",
       "      <th>102</th>\n",
       "      <td>Condition2_RRAn</td>\n",
       "      <td>6.219189e-01</td>\n",
       "    </tr>\n",
       "    <tr>\n",
       "      <th>127</th>\n",
       "      <td>RoofMatl_Roll</td>\n",
       "      <td>6.231463e-01</td>\n",
       "    </tr>\n",
       "    <tr>\n",
       "      <th>94</th>\n",
       "      <td>Condition1_RRNe</td>\n",
       "      <td>6.339372e-01</td>\n",
       "    </tr>\n",
       "    <tr>\n",
       "      <th>140</th>\n",
       "      <td>Exterior1st_Plywood</td>\n",
       "      <td>6.427146e-01</td>\n",
       "    </tr>\n",
       "    <tr>\n",
       "      <th>116</th>\n",
       "      <td>HouseStyle_SLvl</td>\n",
       "      <td>6.513231e-01</td>\n",
       "    </tr>\n",
       "    <tr>\n",
       "      <th>45</th>\n",
       "      <td>Alley_Pave</td>\n",
       "      <td>6.579957e-01</td>\n",
       "    </tr>\n",
       "    <tr>\n",
       "      <th>170</th>\n",
       "      <td>ExterCond_Ex</td>\n",
       "      <td>6.780816e-01</td>\n",
       "    </tr>\n",
       "    <tr>\n",
       "      <th>53</th>\n",
       "      <td>LandContour_Lvl</td>\n",
       "      <td>7.003661e-01</td>\n",
       "    </tr>\n",
       "    <tr>\n",
       "      <th>128</th>\n",
       "      <td>RoofMatl_Tar&amp;Grv</td>\n",
       "      <td>7.137976e-01</td>\n",
       "    </tr>\n",
       "    <tr>\n",
       "      <th>180</th>\n",
       "      <td>Foundation_Wood</td>\n",
       "      <td>7.336664e-01</td>\n",
       "    </tr>\n",
       "    <tr>\n",
       "      <th>101</th>\n",
       "      <td>Condition2_RRAe</td>\n",
       "      <td>7.435019e-01</td>\n",
       "    </tr>\n",
       "    <tr>\n",
       "      <th>240</th>\n",
       "      <td>FireplaceQu_Fa</td>\n",
       "      <td>8.212337e-01</td>\n",
       "    </tr>\n",
       "    <tr>\n",
       "      <th>121</th>\n",
       "      <td>RoofStyle_Mansard</td>\n",
       "      <td>8.247240e-01</td>\n",
       "    </tr>\n",
       "    <tr>\n",
       "      <th>264</th>\n",
       "      <td>GarageCond_Gd</td>\n",
       "      <td>8.414666e-01</td>\n",
       "    </tr>\n",
       "    <tr>\n",
       "      <th>17</th>\n",
       "      <td>BsmtHalfBath</td>\n",
       "      <td>8.441567e-01</td>\n",
       "    </tr>\n",
       "    <tr>\n",
       "      <th>126</th>\n",
       "      <td>RoofMatl_Metal</td>\n",
       "      <td>8.478328e-01</td>\n",
       "    </tr>\n",
       "    <tr>\n",
       "      <th>56</th>\n",
       "      <td>LotConfig_FR2</td>\n",
       "      <td>8.521239e-01</td>\n",
       "    </tr>\n",
       "    <tr>\n",
       "      <th>9</th>\n",
       "      <td>BsmtFinSF2</td>\n",
       "      <td>8.536298e-01</td>\n",
       "    </tr>\n",
       "    <tr>\n",
       "      <th>54</th>\n",
       "      <td>LotConfig_Corner</td>\n",
       "      <td>8.790820e-01</td>\n",
       "    </tr>\n",
       "    <tr>\n",
       "      <th>289</th>\n",
       "      <td>SaleType_ConLI</td>\n",
       "      <td>9.070749e-01</td>\n",
       "    </tr>\n",
       "    <tr>\n",
       "      <th>123</th>\n",
       "      <td>RoofMatl_ClyTile</td>\n",
       "      <td>9.180200e-01</td>\n",
       "    </tr>\n",
       "    <tr>\n",
       "      <th>205</th>\n",
       "      <td>BsmtFinType2_GLQ</td>\n",
       "      <td>9.286729e-01</td>\n",
       "    </tr>\n",
       "    <tr>\n",
       "      <th>280</th>\n",
       "      <td>MiscFeature_Gar2</td>\n",
       "      <td>9.505628e-01</td>\n",
       "    </tr>\n",
       "  </tbody>\n",
       "</table>\n",
       "<p>300 rows × 2 columns</p>\n",
       "</div>"
      ],
      "text/plain": [
       "                  feature         pvalue\n",
       "3             OverallQual   0.000000e+00\n",
       "15              GrLivArea  3.060209e-216\n",
       "25             GarageCars  3.093756e-199\n",
       "26             GarageArea  1.106255e-176\n",
       "11            TotalBsmtSF  7.534551e-151\n",
       "12               1stFlrSF  1.074698e-141\n",
       "169          ExterQual_TA  4.749723e-141\n",
       "18               FullBath  2.118958e-140\n",
       "5               YearBuilt  1.103567e-135\n",
       "24            GarageYrBlt  7.405437e-126\n",
       "6            YearRemodAdd  3.211481e-124\n",
       "231        KitchenQual_TA  1.948568e-110\n",
       "22           TotRmsAbvGrd  1.292804e-108\n",
       "177      Foundation_PConc  6.325386e-107\n",
       "242      FireplaceQu_None   1.688600e-97\n",
       "168          ExterQual_Gd   2.403246e-97\n",
       "23             Fireplaces   8.421350e-89\n",
       "185           BsmtQual_TA   4.644401e-84\n",
       "216          HeatingQC_Ex   7.460464e-80\n",
       "181           BsmtQual_Ex   7.879336e-79\n",
       "198      BsmtFinType1_GLQ   1.931212e-70\n",
       "255      GarageFinish_Unf   1.913479e-67\n",
       "7              MasVnrArea   1.077919e-65\n",
       "252      GarageFinish_Fin   4.114976e-63\n",
       "246     GarageType_Attchd   4.050954e-62\n",
       "228        KitchenQual_Ex   1.573207e-61\n",
       "230        KitchenQual_Gd   3.130470e-59\n",
       "250     GarageType_Detchd   7.722764e-54\n",
       "164       MasVnrType_None   1.336618e-53\n",
       "8              BsmtFinSF1   3.845951e-49\n",
       "..                    ...            ...\n",
       "63   Neighborhood_Blueste   4.842663e-01\n",
       "256         GarageQual_Ex   5.112719e-01\n",
       "275           Fence_GdPrv   5.165254e-01\n",
       "237        Functional_Sev   5.208582e-01\n",
       "93        Condition1_RRAn   5.221707e-01\n",
       "179      Foundation_Stone   5.766604e-01\n",
       "149   Exterior2nd_BrkFace   5.959465e-01\n",
       "102       Condition2_RRAn   6.219189e-01\n",
       "127         RoofMatl_Roll   6.231463e-01\n",
       "94        Condition1_RRNe   6.339372e-01\n",
       "140   Exterior1st_Plywood   6.427146e-01\n",
       "116       HouseStyle_SLvl   6.513231e-01\n",
       "45             Alley_Pave   6.579957e-01\n",
       "170          ExterCond_Ex   6.780816e-01\n",
       "53        LandContour_Lvl   7.003661e-01\n",
       "128      RoofMatl_Tar&Grv   7.137976e-01\n",
       "180       Foundation_Wood   7.336664e-01\n",
       "101       Condition2_RRAe   7.435019e-01\n",
       "240        FireplaceQu_Fa   8.212337e-01\n",
       "121     RoofStyle_Mansard   8.247240e-01\n",
       "264         GarageCond_Gd   8.414666e-01\n",
       "17           BsmtHalfBath   8.441567e-01\n",
       "126        RoofMatl_Metal   8.478328e-01\n",
       "56          LotConfig_FR2   8.521239e-01\n",
       "9              BsmtFinSF2   8.536298e-01\n",
       "54       LotConfig_Corner   8.790820e-01\n",
       "289        SaleType_ConLI   9.070749e-01\n",
       "123      RoofMatl_ClyTile   9.180200e-01\n",
       "205      BsmtFinType2_GLQ   9.286729e-01\n",
       "280      MiscFeature_Gar2   9.505628e-01\n",
       "\n",
       "[300 rows x 2 columns]"
      ]
     },
     "execution_count": 43,
     "metadata": {},
     "output_type": "execute_result"
    }
   ],
   "source": [
    "pd.DataFrame({\"feature\": X_dummy.columns, \n",
    "    \"pvalue\": p_vals}).sort_values(\"pvalue\")"
   ]
  },
  {
   "cell_type": "markdown",
   "metadata": {},
   "source": [
    "Closure to 0 is better for pvalue You can exlude features that have pval>0.05"
   ]
  },
  {
   "cell_type": "code",
   "execution_count": null,
   "metadata": {},
   "outputs": [],
   "source": []
  }
 ],
 "metadata": {
  "kernelspec": {
   "display_name": "Python 3",
   "language": "python",
   "name": "python3"
  },
  "language_info": {
   "codemirror_mode": {
    "name": "ipython",
    "version": 3
   },
   "file_extension": ".py",
   "mimetype": "text/x-python",
   "name": "python",
   "nbconvert_exporter": "python",
   "pygments_lexer": "ipython3",
   "version": "3.6.4"
  }
 },
 "nbformat": 4,
 "nbformat_minor": 2
}
