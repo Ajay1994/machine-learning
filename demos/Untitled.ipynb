{
 "cells": [
  {
   "cell_type": "code",
   "execution_count": 3,
   "metadata": {},
   "outputs": [],
   "source": [
    "import pandas as pd\n",
    "import numpy as np\n",
    "import tensorflow as tf\n",
    "from sklearn import * "
   ]
  },
  {
   "cell_type": "code",
   "execution_count": 4,
   "metadata": {},
   "outputs": [
    {
     "data": {
      "text/plain": [
       "<tf.Tensor 'Const:0' shape=() dtype=float32>"
      ]
     },
     "execution_count": 4,
     "metadata": {},
     "output_type": "execute_result"
    }
   ],
   "source": [
    "a = tf.constant(1.0)\n",
    "a"
   ]
  },
  {
   "cell_type": "code",
   "execution_count": 5,
   "metadata": {},
   "outputs": [
    {
     "data": {
      "text/plain": [
       "<tf.Tensor 'Const_1:0' shape=() dtype=float32>"
      ]
     },
     "execution_count": 5,
     "metadata": {},
     "output_type": "execute_result"
    }
   ],
   "source": [
    "b = tf.constant(1.0)\n",
    "b"
   ]
  },
  {
   "cell_type": "code",
   "execution_count": 8,
   "metadata": {},
   "outputs": [
    {
     "data": {
      "text/plain": [
       "<tf.Tensor 'add_2:0' shape=() dtype=float32>"
      ]
     },
     "execution_count": 8,
     "metadata": {},
     "output_type": "execute_result"
    }
   ],
   "source": [
    "c = a + b\n",
    "c"
   ]
  },
  {
   "cell_type": "code",
   "execution_count": 10,
   "metadata": {},
   "outputs": [
    {
     "name": "stdout",
     "output_type": "stream",
     "text": [
      "2.0\n"
     ]
    }
   ],
   "source": [
    "with tf.Session() as sess:\n",
    "    c_ = sess.run(c)\n",
    "    print(c_)"
   ]
  },
  {
   "cell_type": "code",
   "execution_count": 17,
   "metadata": {},
   "outputs": [],
   "source": [
    "df = pd.read_csv(\"/data/bank-full.csv\", sep=\";\")\n",
    "y = np.where(df.y == \"yes\", 1, 0)\n",
    "X = df.iloc[:, 0:-1]\n",
    "X = pd.get_dummies(X, drop_first=True)\n",
    "\n",
    "X_train, X_test, y_train, y_test = model_selection.train_test_split(X, y, test_size = 0.3, random_state = 1)\n",
    "scaler = preprocessing.StandardScaler()\n",
    "X_train = scaler.fit_transform(X_train)\n",
    "X_test = scaler.transform(X_test)"
   ]
  },
  {
   "cell_type": "code",
   "execution_count": 19,
   "metadata": {},
   "outputs": [
    {
     "data": {
      "text/html": [
       "<div>\n",
       "<style scoped>\n",
       "    .dataframe tbody tr th:only-of-type {\n",
       "        vertical-align: middle;\n",
       "    }\n",
       "\n",
       "    .dataframe tbody tr th {\n",
       "        vertical-align: top;\n",
       "    }\n",
       "\n",
       "    .dataframe thead th {\n",
       "        text-align: right;\n",
       "    }\n",
       "</style>\n",
       "<table border=\"1\" class=\"dataframe\">\n",
       "  <thead>\n",
       "    <tr style=\"text-align: right;\">\n",
       "      <th></th>\n",
       "      <th>0</th>\n",
       "      <th>1</th>\n",
       "      <th>2</th>\n",
       "      <th>3</th>\n",
       "      <th>4</th>\n",
       "      <th>5</th>\n",
       "      <th>6</th>\n",
       "      <th>7</th>\n",
       "      <th>8</th>\n",
       "      <th>9</th>\n",
       "      <th>...</th>\n",
       "      <th>32</th>\n",
       "      <th>33</th>\n",
       "      <th>34</th>\n",
       "      <th>35</th>\n",
       "      <th>36</th>\n",
       "      <th>37</th>\n",
       "      <th>38</th>\n",
       "      <th>39</th>\n",
       "      <th>40</th>\n",
       "      <th>41</th>\n",
       "    </tr>\n",
       "  </thead>\n",
       "  <tbody>\n",
       "    <tr>\n",
       "      <th>0</th>\n",
       "      <td>-0.841435</td>\n",
       "      <td>-0.513906</td>\n",
       "      <td>1.347581</td>\n",
       "      <td>0.654165</td>\n",
       "      <td>-0.563213</td>\n",
       "      <td>-0.410057</td>\n",
       "      <td>-0.299354</td>\n",
       "      <td>1.900682</td>\n",
       "      <td>-0.186341</td>\n",
       "      <td>-0.166834</td>\n",
       "      <td>...</td>\n",
       "      <td>-0.426206</td>\n",
       "      <td>-0.364749</td>\n",
       "      <td>-0.101863</td>\n",
       "      <td>1.511034</td>\n",
       "      <td>-0.311612</td>\n",
       "      <td>-0.129251</td>\n",
       "      <td>-0.115553</td>\n",
       "      <td>-0.204721</td>\n",
       "      <td>-0.18534</td>\n",
       "      <td>0.471004</td>\n",
       "    </tr>\n",
       "    <tr>\n",
       "      <th>1</th>\n",
       "      <td>-0.652995</td>\n",
       "      <td>-0.590185</td>\n",
       "      <td>1.347581</td>\n",
       "      <td>-0.572683</td>\n",
       "      <td>0.391184</td>\n",
       "      <td>-0.410057</td>\n",
       "      <td>-0.299354</td>\n",
       "      <td>-0.526127</td>\n",
       "      <td>-0.186341</td>\n",
       "      <td>-0.166834</td>\n",
       "      <td>...</td>\n",
       "      <td>-0.426206</td>\n",
       "      <td>2.741608</td>\n",
       "      <td>-0.101863</td>\n",
       "      <td>-0.661798</td>\n",
       "      <td>-0.311612</td>\n",
       "      <td>-0.129251</td>\n",
       "      <td>-0.115553</td>\n",
       "      <td>-0.204721</td>\n",
       "      <td>-0.18534</td>\n",
       "      <td>0.471004</td>\n",
       "    </tr>\n",
       "    <tr>\n",
       "      <th>2</th>\n",
       "      <td>-0.841435</td>\n",
       "      <td>-0.353719</td>\n",
       "      <td>0.385408</td>\n",
       "      <td>-0.351385</td>\n",
       "      <td>-0.245081</td>\n",
       "      <td>-0.410057</td>\n",
       "      <td>-0.299354</td>\n",
       "      <td>-0.526127</td>\n",
       "      <td>-0.186341</td>\n",
       "      <td>-0.166834</td>\n",
       "      <td>...</td>\n",
       "      <td>-0.426206</td>\n",
       "      <td>-0.364749</td>\n",
       "      <td>-0.101863</td>\n",
       "      <td>-0.661798</td>\n",
       "      <td>-0.311612</td>\n",
       "      <td>-0.129251</td>\n",
       "      <td>-0.115553</td>\n",
       "      <td>-0.204721</td>\n",
       "      <td>-0.18534</td>\n",
       "      <td>0.471004</td>\n",
       "    </tr>\n",
       "    <tr>\n",
       "      <th>3</th>\n",
       "      <td>-0.464554</td>\n",
       "      <td>-0.434130</td>\n",
       "      <td>-1.538940</td>\n",
       "      <td>-0.421268</td>\n",
       "      <td>0.391184</td>\n",
       "      <td>-0.410057</td>\n",
       "      <td>-0.299354</td>\n",
       "      <td>1.900682</td>\n",
       "      <td>-0.186341</td>\n",
       "      <td>-0.166834</td>\n",
       "      <td>...</td>\n",
       "      <td>-0.426206</td>\n",
       "      <td>-0.364749</td>\n",
       "      <td>-0.101863</td>\n",
       "      <td>-0.661798</td>\n",
       "      <td>-0.311612</td>\n",
       "      <td>-0.129251</td>\n",
       "      <td>-0.115553</td>\n",
       "      <td>-0.204721</td>\n",
       "      <td>-0.18534</td>\n",
       "      <td>0.471004</td>\n",
       "    </tr>\n",
       "    <tr>\n",
       "      <th>4</th>\n",
       "      <td>-1.689418</td>\n",
       "      <td>-0.283797</td>\n",
       "      <td>-1.538940</td>\n",
       "      <td>-0.665862</td>\n",
       "      <td>-0.563213</td>\n",
       "      <td>-0.410057</td>\n",
       "      <td>-0.299354</td>\n",
       "      <td>-0.526127</td>\n",
       "      <td>-0.186341</td>\n",
       "      <td>-0.166834</td>\n",
       "      <td>...</td>\n",
       "      <td>-0.426206</td>\n",
       "      <td>-0.364749</td>\n",
       "      <td>9.817097</td>\n",
       "      <td>-0.661798</td>\n",
       "      <td>-0.311612</td>\n",
       "      <td>-0.129251</td>\n",
       "      <td>-0.115553</td>\n",
       "      <td>-0.204721</td>\n",
       "      <td>-0.18534</td>\n",
       "      <td>0.471004</td>\n",
       "    </tr>\n",
       "  </tbody>\n",
       "</table>\n",
       "<p>5 rows × 42 columns</p>\n",
       "</div>"
      ],
      "text/plain": [
       "         0         1         2         3         4         5         6   \\\n",
       "0 -0.841435 -0.513906  1.347581  0.654165 -0.563213 -0.410057 -0.299354   \n",
       "1 -0.652995 -0.590185  1.347581 -0.572683  0.391184 -0.410057 -0.299354   \n",
       "2 -0.841435 -0.353719  0.385408 -0.351385 -0.245081 -0.410057 -0.299354   \n",
       "3 -0.464554 -0.434130 -1.538940 -0.421268  0.391184 -0.410057 -0.299354   \n",
       "4 -1.689418 -0.283797 -1.538940 -0.665862 -0.563213 -0.410057 -0.299354   \n",
       "\n",
       "         7         8         9     ...           32        33        34  \\\n",
       "0  1.900682 -0.186341 -0.166834    ...    -0.426206 -0.364749 -0.101863   \n",
       "1 -0.526127 -0.186341 -0.166834    ...    -0.426206  2.741608 -0.101863   \n",
       "2 -0.526127 -0.186341 -0.166834    ...    -0.426206 -0.364749 -0.101863   \n",
       "3  1.900682 -0.186341 -0.166834    ...    -0.426206 -0.364749 -0.101863   \n",
       "4 -0.526127 -0.186341 -0.166834    ...    -0.426206 -0.364749  9.817097   \n",
       "\n",
       "         35        36        37        38        39       40        41  \n",
       "0  1.511034 -0.311612 -0.129251 -0.115553 -0.204721 -0.18534  0.471004  \n",
       "1 -0.661798 -0.311612 -0.129251 -0.115553 -0.204721 -0.18534  0.471004  \n",
       "2 -0.661798 -0.311612 -0.129251 -0.115553 -0.204721 -0.18534  0.471004  \n",
       "3 -0.661798 -0.311612 -0.129251 -0.115553 -0.204721 -0.18534  0.471004  \n",
       "4 -0.661798 -0.311612 -0.129251 -0.115553 -0.204721 -0.18534  0.471004  \n",
       "\n",
       "[5 rows x 42 columns]"
      ]
     },
     "execution_count": 19,
     "metadata": {},
     "output_type": "execute_result"
    }
   ],
   "source": [
    "pd.DataFrame(X_train).head()"
   ]
  },
  {
   "cell_type": "code",
   "execution_count": 44,
   "metadata": {
    "scrolled": false
   },
   "outputs": [
    {
     "name": "stdout",
     "output_type": "stream",
     "text": [
      "X Tensor(\"Placeholder_48:0\", shape=(?, 42), dtype=float32)\n",
      "y Tensor(\"Placeholder_49:0\", shape=(?,), dtype=int32)\n",
      "W <tf.Variable 'Variable_47:0' shape=(42, 2) dtype=float32_ref>\n",
      "b <tf.Variable 'Variable_48:0' shape=(2,) dtype=float32_ref>\n",
      "y_oh:  Tensor(\"one_hot_21:0\", shape=(?, 2), dtype=float32)\n",
      "Z Tensor(\"add_22:0\", shape=(?, 2), dtype=float32)\n",
      "Activation: Tensor(\"Softmax_16:0\", shape=(?, 2), dtype=float32)\n",
      "y_pred Tensor(\"ArgMax_17:0\", shape=(?,), dtype=int32)\n",
      "Accuracy Tensor(\"Mean_21:0\", shape=(), dtype=float32)\n",
      "cost:  Tensor(\"Mean_22:0\", shape=(), dtype=float32)\n",
      "0.51041174\n",
      "0.6830031\n",
      "0.7856037\n",
      "0.84902203\n",
      "0.8760704\n",
      "0.8850444\n",
      "0.8880147\n",
      "0.888615\n",
      "0.89120615\n",
      "0.89294404\n",
      "0.8943344\n",
      "0.8968307\n",
      "0.8981262\n",
      "0.898537\n",
      "0.89967453\n",
      "0.89983255\n",
      "0.9002433\n",
      "0.90115964\n",
      "0.90191805\n",
      "0.9022656\n",
      "Test accuracy:  0.9034208\n"
     ]
    }
   ],
   "source": [
    "n_x = X_train.shape[1]\n",
    "n_y = 2\n",
    "learning_rate = 0.01\n",
    "epochs = 100\n",
    "\n",
    "X = tf.placeholder(dtype=tf.float32, shape=[None, n_x])\n",
    "y = tf.placeholder(dtype=tf.int32, shape=[None])\n",
    "\n",
    "print(\"X\", X)\n",
    "print(\"y\", y)\n",
    "\n",
    "W = tf.Variable(tf.truncated_normal(shape=[n_x, n_y], stddev=0.1))\n",
    "print(\"W\", W)\n",
    "\n",
    "b = tf.Variable(tf.zeros(shape=[n_y]))\n",
    "print(\"b\", b)\n",
    "\n",
    "\n",
    "y_oh = tf.one_hot(y, depth=n_y)\n",
    "print(\"y_oh: \", y_oh)\n",
    "\n",
    "Z = tf.matmul(X, W) + b\n",
    "print(\"Z\", Z)\n",
    "\n",
    "A = tf.nn.softmax(Z)\n",
    "print(\"Activation:\", A)\n",
    "\n",
    "y_pred = tf.argmax(Z, axis = 1, output_type=tf.int32)\n",
    "print(\"y_pred\", y_pred)\n",
    "\n",
    "accuracy = tf.reduce_mean(tf.cast(tf.equal(y, y_pred), tf.float32))\n",
    "print(\"Accuracy\", accuracy)\n",
    "\n",
    "cost = tf.reduce_mean(tf.nn.softmax_cross_entropy_with_logits(labels=y_oh, logits=Z))\n",
    "\n",
    "print(\"cost: \", cost)\n",
    "\n",
    "optimizer = tf.train.AdamOptimizer(learning_rate).minimize(cost)\n",
    "\n",
    "with tf.Session() as sess:\n",
    "    sess.run(tf.global_variables_initializer())\n",
    "    \n",
    "    for i in range(epochs):\n",
    "        _, cost_, accuracy_ = sess.run([optimizer, cost, accuracy]\n",
    "                                    , feed_dict={X: X_train, y: y_train})\n",
    "        if i % (epochs // 20) == 0:\n",
    "            print(accuracy_)\n",
    "    test_accuracy_, y_pred_ = sess.run([accuracy, y_pred], feed_dict={X: X_test, y: y_test}) \n",
    "    print(\"Test accuracy: \", test_accuracy_)\n",
    "\n"
   ]
  },
  {
   "cell_type": "code",
   "execution_count": 45,
   "metadata": {},
   "outputs": [
    {
     "data": {
      "text/plain": [
       "0.903420819817163"
      ]
     },
     "execution_count": 45,
     "metadata": {},
     "output_type": "execute_result"
    }
   ],
   "source": [
    "metrics.accuracy_score(y_test, y_pred_)"
   ]
  },
  {
   "cell_type": "code",
   "execution_count": null,
   "metadata": {},
   "outputs": [],
   "source": []
  }
 ],
 "metadata": {
  "kernelspec": {
   "display_name": "Python 3",
   "language": "python",
   "name": "python3"
  },
  "language_info": {
   "codemirror_mode": {
    "name": "ipython",
    "version": 3
   },
   "file_extension": ".py",
   "mimetype": "text/x-python",
   "name": "python",
   "nbconvert_exporter": "python",
   "pygments_lexer": "ipython3",
   "version": "3.6.4"
  }
 },
 "nbformat": 4,
 "nbformat_minor": 2
}
