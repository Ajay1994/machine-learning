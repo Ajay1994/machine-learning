{
 "cells": [
  {
   "cell_type": "code",
   "execution_count": 1,
   "metadata": {},
   "outputs": [],
   "source": [
    "import pandas as pd\n",
    "import numpy as np"
   ]
  },
  {
   "cell_type": "markdown",
   "metadata": {},
   "source": [
    "# Exercise: Find top 10 movies\n",
    "\n",
    "Dataset: movielene, located in /data/ml-latest-small\n",
    "\n",
    "1. create a dataframe for movies.csv\n",
    "2. create a dataframe for ratings.csv\n",
    "3. Find avg rating and number of rating for each movieId based on ratings dataframe\n",
    "4. Select movies that have got 100+ ratings\n",
    "5. Merge with movies dataframe\n",
    "6. Top 10 movies based on avg ratings\n",
    "7. display movieId, title, avg_rating\n",
    "\n"
   ]
  },
  {
   "cell_type": "code",
   "execution_count": null,
   "metadata": {},
   "outputs": [],
   "source": []
  }
 ],
 "metadata": {
  "kernelspec": {
   "display_name": "Python 3",
   "language": "python",
   "name": "python3"
  },
  "language_info": {
   "codemirror_mode": {
    "name": "ipython",
    "version": 3
   },
   "file_extension": ".py",
   "mimetype": "text/x-python",
   "name": "python",
   "nbconvert_exporter": "python",
   "pygments_lexer": "ipython3",
   "version": "3.6.4"
  }
 },
 "nbformat": 4,
 "nbformat_minor": 2
}
