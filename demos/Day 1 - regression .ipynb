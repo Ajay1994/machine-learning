{
 "cells": [
  {
   "cell_type": "code",
   "execution_count": 7,
   "metadata": {},
   "outputs": [],
   "source": [
    "import pandas as pd\n",
    "\n",
    "pd.options.display.max_rows = 10\n",
    "pd.options.display.max_columns = 1000\n"
   ]
  },
  {
   "cell_type": "code",
   "execution_count": 5,
   "metadata": {},
   "outputs": [],
   "source": [
    "df = pd.read_csv(\"/data/insurance.csv\")"
   ]
  },
  {
   "cell_type": "code",
   "execution_count": 12,
   "metadata": {},
   "outputs": [
    {
     "data": {
      "text/html": [
       "<div>\n",
       "<style scoped>\n",
       "    .dataframe tbody tr th:only-of-type {\n",
       "        vertical-align: middle;\n",
       "    }\n",
       "\n",
       "    .dataframe tbody tr th {\n",
       "        vertical-align: top;\n",
       "    }\n",
       "\n",
       "    .dataframe thead th {\n",
       "        text-align: right;\n",
       "    }\n",
       "</style>\n",
       "<table border=\"1\" class=\"dataframe\">\n",
       "  <thead>\n",
       "    <tr style=\"text-align: right;\">\n",
       "      <th></th>\n",
       "      <th>age</th>\n",
       "      <th>gender</th>\n",
       "      <th>bmi</th>\n",
       "      <th>children</th>\n",
       "      <th>smoker</th>\n",
       "      <th>region</th>\n",
       "    </tr>\n",
       "  </thead>\n",
       "  <tbody>\n",
       "    <tr>\n",
       "      <th>0</th>\n",
       "      <td>19</td>\n",
       "      <td>female</td>\n",
       "      <td>27.900</td>\n",
       "      <td>0</td>\n",
       "      <td>yes</td>\n",
       "      <td>southwest</td>\n",
       "    </tr>\n",
       "    <tr>\n",
       "      <th>1</th>\n",
       "      <td>18</td>\n",
       "      <td>male</td>\n",
       "      <td>33.770</td>\n",
       "      <td>1</td>\n",
       "      <td>no</td>\n",
       "      <td>southeast</td>\n",
       "    </tr>\n",
       "    <tr>\n",
       "      <th>2</th>\n",
       "      <td>28</td>\n",
       "      <td>male</td>\n",
       "      <td>33.000</td>\n",
       "      <td>3</td>\n",
       "      <td>no</td>\n",
       "      <td>southeast</td>\n",
       "    </tr>\n",
       "    <tr>\n",
       "      <th>3</th>\n",
       "      <td>33</td>\n",
       "      <td>male</td>\n",
       "      <td>22.705</td>\n",
       "      <td>0</td>\n",
       "      <td>no</td>\n",
       "      <td>northwest</td>\n",
       "    </tr>\n",
       "    <tr>\n",
       "      <th>4</th>\n",
       "      <td>32</td>\n",
       "      <td>male</td>\n",
       "      <td>28.880</td>\n",
       "      <td>0</td>\n",
       "      <td>no</td>\n",
       "      <td>northwest</td>\n",
       "    </tr>\n",
       "    <tr>\n",
       "      <th>...</th>\n",
       "      <td>...</td>\n",
       "      <td>...</td>\n",
       "      <td>...</td>\n",
       "      <td>...</td>\n",
       "      <td>...</td>\n",
       "      <td>...</td>\n",
       "    </tr>\n",
       "    <tr>\n",
       "      <th>1333</th>\n",
       "      <td>50</td>\n",
       "      <td>male</td>\n",
       "      <td>30.970</td>\n",
       "      <td>3</td>\n",
       "      <td>no</td>\n",
       "      <td>northwest</td>\n",
       "    </tr>\n",
       "    <tr>\n",
       "      <th>1334</th>\n",
       "      <td>18</td>\n",
       "      <td>female</td>\n",
       "      <td>31.920</td>\n",
       "      <td>0</td>\n",
       "      <td>no</td>\n",
       "      <td>northeast</td>\n",
       "    </tr>\n",
       "    <tr>\n",
       "      <th>1335</th>\n",
       "      <td>18</td>\n",
       "      <td>female</td>\n",
       "      <td>36.850</td>\n",
       "      <td>0</td>\n",
       "      <td>no</td>\n",
       "      <td>southeast</td>\n",
       "    </tr>\n",
       "    <tr>\n",
       "      <th>1336</th>\n",
       "      <td>21</td>\n",
       "      <td>female</td>\n",
       "      <td>25.800</td>\n",
       "      <td>0</td>\n",
       "      <td>no</td>\n",
       "      <td>southwest</td>\n",
       "    </tr>\n",
       "    <tr>\n",
       "      <th>1337</th>\n",
       "      <td>61</td>\n",
       "      <td>female</td>\n",
       "      <td>29.070</td>\n",
       "      <td>0</td>\n",
       "      <td>yes</td>\n",
       "      <td>northwest</td>\n",
       "    </tr>\n",
       "  </tbody>\n",
       "</table>\n",
       "<p>1338 rows × 6 columns</p>\n",
       "</div>"
      ],
      "text/plain": [
       "      age  gender     bmi  children smoker     region\n",
       "0      19  female  27.900         0    yes  southwest\n",
       "1      18    male  33.770         1     no  southeast\n",
       "2      28    male  33.000         3     no  southeast\n",
       "3      33    male  22.705         0     no  northwest\n",
       "4      32    male  28.880         0     no  northwest\n",
       "...   ...     ...     ...       ...    ...        ...\n",
       "1333   50    male  30.970         3     no  northwest\n",
       "1334   18  female  31.920         0     no  northeast\n",
       "1335   18  female  36.850         0     no  southeast\n",
       "1336   21  female  25.800         0     no  southwest\n",
       "1337   61  female  29.070         0    yes  northwest\n",
       "\n",
       "[1338 rows x 6 columns]"
      ]
     },
     "execution_count": 12,
     "metadata": {},
     "output_type": "execute_result"
    }
   ],
   "source": [
    "X = df[[\"age\",\"gender\",\"bmi\",\"children\",\"smoker\",\"region\"]]\n",
    "X"
   ]
  },
  {
   "cell_type": "code",
   "execution_count": 14,
   "metadata": {},
   "outputs": [],
   "source": [
    "y = df[\"charges\"]"
   ]
  },
  {
   "cell_type": "code",
   "execution_count": 15,
   "metadata": {},
   "outputs": [
    {
     "data": {
      "text/html": [
       "<div>\n",
       "<style scoped>\n",
       "    .dataframe tbody tr th:only-of-type {\n",
       "        vertical-align: middle;\n",
       "    }\n",
       "\n",
       "    .dataframe tbody tr th {\n",
       "        vertical-align: top;\n",
       "    }\n",
       "\n",
       "    .dataframe thead th {\n",
       "        text-align: right;\n",
       "    }\n",
       "</style>\n",
       "<table border=\"1\" class=\"dataframe\">\n",
       "  <thead>\n",
       "    <tr style=\"text-align: right;\">\n",
       "      <th></th>\n",
       "      <th>age</th>\n",
       "      <th>bmi</th>\n",
       "      <th>children</th>\n",
       "      <th>gender_male</th>\n",
       "      <th>smoker_yes</th>\n",
       "      <th>region_northwest</th>\n",
       "      <th>region_southeast</th>\n",
       "      <th>region_southwest</th>\n",
       "    </tr>\n",
       "  </thead>\n",
       "  <tbody>\n",
       "    <tr>\n",
       "      <th>0</th>\n",
       "      <td>19</td>\n",
       "      <td>27.900</td>\n",
       "      <td>0</td>\n",
       "      <td>0</td>\n",
       "      <td>1</td>\n",
       "      <td>0</td>\n",
       "      <td>0</td>\n",
       "      <td>1</td>\n",
       "    </tr>\n",
       "    <tr>\n",
       "      <th>1</th>\n",
       "      <td>18</td>\n",
       "      <td>33.770</td>\n",
       "      <td>1</td>\n",
       "      <td>1</td>\n",
       "      <td>0</td>\n",
       "      <td>0</td>\n",
       "      <td>1</td>\n",
       "      <td>0</td>\n",
       "    </tr>\n",
       "    <tr>\n",
       "      <th>2</th>\n",
       "      <td>28</td>\n",
       "      <td>33.000</td>\n",
       "      <td>3</td>\n",
       "      <td>1</td>\n",
       "      <td>0</td>\n",
       "      <td>0</td>\n",
       "      <td>1</td>\n",
       "      <td>0</td>\n",
       "    </tr>\n",
       "    <tr>\n",
       "      <th>3</th>\n",
       "      <td>33</td>\n",
       "      <td>22.705</td>\n",
       "      <td>0</td>\n",
       "      <td>1</td>\n",
       "      <td>0</td>\n",
       "      <td>1</td>\n",
       "      <td>0</td>\n",
       "      <td>0</td>\n",
       "    </tr>\n",
       "    <tr>\n",
       "      <th>4</th>\n",
       "      <td>32</td>\n",
       "      <td>28.880</td>\n",
       "      <td>0</td>\n",
       "      <td>1</td>\n",
       "      <td>0</td>\n",
       "      <td>1</td>\n",
       "      <td>0</td>\n",
       "      <td>0</td>\n",
       "    </tr>\n",
       "    <tr>\n",
       "      <th>...</th>\n",
       "      <td>...</td>\n",
       "      <td>...</td>\n",
       "      <td>...</td>\n",
       "      <td>...</td>\n",
       "      <td>...</td>\n",
       "      <td>...</td>\n",
       "      <td>...</td>\n",
       "      <td>...</td>\n",
       "    </tr>\n",
       "    <tr>\n",
       "      <th>1333</th>\n",
       "      <td>50</td>\n",
       "      <td>30.970</td>\n",
       "      <td>3</td>\n",
       "      <td>1</td>\n",
       "      <td>0</td>\n",
       "      <td>1</td>\n",
       "      <td>0</td>\n",
       "      <td>0</td>\n",
       "    </tr>\n",
       "    <tr>\n",
       "      <th>1334</th>\n",
       "      <td>18</td>\n",
       "      <td>31.920</td>\n",
       "      <td>0</td>\n",
       "      <td>0</td>\n",
       "      <td>0</td>\n",
       "      <td>0</td>\n",
       "      <td>0</td>\n",
       "      <td>0</td>\n",
       "    </tr>\n",
       "    <tr>\n",
       "      <th>1335</th>\n",
       "      <td>18</td>\n",
       "      <td>36.850</td>\n",
       "      <td>0</td>\n",
       "      <td>0</td>\n",
       "      <td>0</td>\n",
       "      <td>0</td>\n",
       "      <td>1</td>\n",
       "      <td>0</td>\n",
       "    </tr>\n",
       "    <tr>\n",
       "      <th>1336</th>\n",
       "      <td>21</td>\n",
       "      <td>25.800</td>\n",
       "      <td>0</td>\n",
       "      <td>0</td>\n",
       "      <td>0</td>\n",
       "      <td>0</td>\n",
       "      <td>0</td>\n",
       "      <td>1</td>\n",
       "    </tr>\n",
       "    <tr>\n",
       "      <th>1337</th>\n",
       "      <td>61</td>\n",
       "      <td>29.070</td>\n",
       "      <td>0</td>\n",
       "      <td>0</td>\n",
       "      <td>1</td>\n",
       "      <td>1</td>\n",
       "      <td>0</td>\n",
       "      <td>0</td>\n",
       "    </tr>\n",
       "  </tbody>\n",
       "</table>\n",
       "<p>1338 rows × 8 columns</p>\n",
       "</div>"
      ],
      "text/plain": [
       "      age     bmi  children  gender_male  smoker_yes  region_northwest  \\\n",
       "0      19  27.900         0            0           1                 0   \n",
       "1      18  33.770         1            1           0                 0   \n",
       "2      28  33.000         3            1           0                 0   \n",
       "3      33  22.705         0            1           0                 1   \n",
       "4      32  28.880         0            1           0                 1   \n",
       "...   ...     ...       ...          ...         ...               ...   \n",
       "1333   50  30.970         3            1           0                 1   \n",
       "1334   18  31.920         0            0           0                 0   \n",
       "1335   18  36.850         0            0           0                 0   \n",
       "1336   21  25.800         0            0           0                 0   \n",
       "1337   61  29.070         0            0           1                 1   \n",
       "\n",
       "      region_southeast  region_southwest  \n",
       "0                    0                 1  \n",
       "1                    1                 0  \n",
       "2                    1                 0  \n",
       "3                    0                 0  \n",
       "4                    0                 0  \n",
       "...                ...               ...  \n",
       "1333                 0                 0  \n",
       "1334                 0                 0  \n",
       "1335                 1                 0  \n",
       "1336                 0                 1  \n",
       "1337                 0                 0  \n",
       "\n",
       "[1338 rows x 8 columns]"
      ]
     },
     "execution_count": 15,
     "metadata": {},
     "output_type": "execute_result"
    }
   ],
   "source": [
    "# One Hot encoding\n",
    "pd.get_dummies(X, drop_first=True)"
   ]
  },
  {
   "cell_type": "code",
   "execution_count": 16,
   "metadata": {},
   "outputs": [],
   "source": [
    "X = pd.get_dummies(X, drop_first=True)"
   ]
  },
  {
   "cell_type": "code",
   "execution_count": 18,
   "metadata": {},
   "outputs": [],
   "source": [
    "from sklearn import model_selection"
   ]
  },
  {
   "cell_type": "code",
   "execution_count": 21,
   "metadata": {},
   "outputs": [],
   "source": [
    "X_train, X_test, y_train, y_test = model_selection.train_test_split(X.values, y.values\n",
    "                                    , test_size = 0.3, random_state = 1)"
   ]
  },
  {
   "cell_type": "code",
   "execution_count": 22,
   "metadata": {},
   "outputs": [
    {
     "data": {
      "text/plain": [
       "(pandas.core.frame.DataFrame, numpy.ndarray)"
      ]
     },
     "execution_count": 22,
     "metadata": {},
     "output_type": "execute_result"
    }
   ],
   "source": [
    "type(X), type(X.values)"
   ]
  },
  {
   "cell_type": "code",
   "execution_count": 33,
   "metadata": {},
   "outputs": [
    {
     "data": {
      "text/plain": [
       "((936, 8), (402, 8))"
      ]
     },
     "execution_count": 33,
     "metadata": {},
     "output_type": "execute_result"
    }
   ],
   "source": [
    "X_train.shape, X_test.shape"
   ]
  },
  {
   "cell_type": "code",
   "execution_count": 34,
   "metadata": {},
   "outputs": [
    {
     "data": {
      "text/plain": [
       "0.6995515695067265"
      ]
     },
     "execution_count": 34,
     "metadata": {},
     "output_type": "execute_result"
    }
   ],
   "source": [
    "936 / (936 + 402)"
   ]
  },
  {
   "cell_type": "code",
   "execution_count": 23,
   "metadata": {},
   "outputs": [
    {
     "data": {
      "text/plain": [
       "array([[19.  , 27.9 ,  0.  , ...,  0.  ,  0.  ,  1.  ],\n",
       "       [18.  , 33.77,  1.  , ...,  0.  ,  1.  ,  0.  ],\n",
       "       [28.  , 33.  ,  3.  , ...,  0.  ,  1.  ,  0.  ],\n",
       "       ...,\n",
       "       [18.  , 36.85,  0.  , ...,  0.  ,  1.  ,  0.  ],\n",
       "       [21.  , 25.8 ,  0.  , ...,  0.  ,  0.  ,  1.  ],\n",
       "       [61.  , 29.07,  0.  , ...,  1.  ,  0.  ,  0.  ]])"
      ]
     },
     "execution_count": 23,
     "metadata": {},
     "output_type": "execute_result"
    }
   ],
   "source": [
    "X.values"
   ]
  },
  {
   "cell_type": "code",
   "execution_count": 24,
   "metadata": {},
   "outputs": [
    {
     "data": {
      "text/plain": [
       "array([[50.  , 26.41,  0.  , ...,  1.  ,  0.  ,  0.  ],\n",
       "       [21.  , 26.4 ,  1.  , ...,  0.  ,  0.  ,  1.  ],\n",
       "       [25.  , 26.22,  0.  , ...,  0.  ,  0.  ,  0.  ],\n",
       "       ...,\n",
       "       [51.  , 34.96,  2.  , ...,  0.  ,  0.  ,  0.  ],\n",
       "       [40.  , 22.22,  2.  , ...,  0.  ,  1.  ,  0.  ],\n",
       "       [57.  , 27.94,  1.  , ...,  0.  ,  1.  ,  0.  ]])"
      ]
     },
     "execution_count": 24,
     "metadata": {},
     "output_type": "execute_result"
    }
   ],
   "source": [
    "X_train"
   ]
  },
  {
   "cell_type": "markdown",
   "metadata": {},
   "source": [
    "Feature transformation. The rule should be consistent for training and test data. \n",
    "\n",
    "Z = (x - avg(x)) / std(x) for every feature or column x. Z will have 0 mean and 1 standard deviation"
   ]
  },
  {
   "cell_type": "code",
   "execution_count": 25,
   "metadata": {},
   "outputs": [],
   "source": [
    "from sklearn.preprocessing import StandardScaler"
   ]
  },
  {
   "cell_type": "code",
   "execution_count": 27,
   "metadata": {},
   "outputs": [
    {
     "data": {
      "text/plain": [
       "StandardScaler(copy=True, with_mean=True, with_std=True)"
      ]
     },
     "execution_count": 27,
     "metadata": {},
     "output_type": "execute_result"
    }
   ],
   "source": [
    "scaler = StandardScaler()\n",
    "scaler.fit(X_train) # Calculates the mean and std for each column"
   ]
  },
  {
   "cell_type": "code",
   "execution_count": 29,
   "metadata": {},
   "outputs": [],
   "source": [
    "X_train_std = scaler.transform(X_train) # returns the Z-score values for each column"
   ]
  },
  {
   "cell_type": "code",
   "execution_count": 30,
   "metadata": {},
   "outputs": [],
   "source": [
    "X_test_std = scaler.transform(X_test)"
   ]
  },
  {
   "cell_type": "code",
   "execution_count": 32,
   "metadata": {},
   "outputs": [
    {
     "data": {
      "text/html": [
       "<div>\n",
       "<style scoped>\n",
       "    .dataframe tbody tr th:only-of-type {\n",
       "        vertical-align: middle;\n",
       "    }\n",
       "\n",
       "    .dataframe tbody tr th {\n",
       "        vertical-align: top;\n",
       "    }\n",
       "\n",
       "    .dataframe thead th {\n",
       "        text-align: right;\n",
       "    }\n",
       "</style>\n",
       "<table border=\"1\" class=\"dataframe\">\n",
       "  <thead>\n",
       "    <tr style=\"text-align: right;\">\n",
       "      <th></th>\n",
       "      <th>0</th>\n",
       "      <th>1</th>\n",
       "      <th>2</th>\n",
       "      <th>3</th>\n",
       "      <th>4</th>\n",
       "      <th>5</th>\n",
       "      <th>6</th>\n",
       "      <th>7</th>\n",
       "    </tr>\n",
       "  </thead>\n",
       "  <tbody>\n",
       "    <tr>\n",
       "      <th>0</th>\n",
       "      <td>0.797152</td>\n",
       "      <td>-0.702114</td>\n",
       "      <td>-0.904002</td>\n",
       "      <td>0.976766</td>\n",
       "      <td>-0.509664</td>\n",
       "      <td>1.788102</td>\n",
       "      <td>-0.600387</td>\n",
       "      <td>-0.587220</td>\n",
       "    </tr>\n",
       "    <tr>\n",
       "      <th>1</th>\n",
       "      <td>-1.271085</td>\n",
       "      <td>-0.703758</td>\n",
       "      <td>-0.085679</td>\n",
       "      <td>-1.023787</td>\n",
       "      <td>-0.509664</td>\n",
       "      <td>-0.559252</td>\n",
       "      <td>-0.600387</td>\n",
       "      <td>1.702939</td>\n",
       "    </tr>\n",
       "    <tr>\n",
       "      <th>2</th>\n",
       "      <td>-0.985811</td>\n",
       "      <td>-0.733340</td>\n",
       "      <td>-0.904002</td>\n",
       "      <td>0.976766</td>\n",
       "      <td>-0.509664</td>\n",
       "      <td>-0.559252</td>\n",
       "      <td>-0.600387</td>\n",
       "      <td>-0.587220</td>\n",
       "    </tr>\n",
       "    <tr>\n",
       "      <th>3</th>\n",
       "      <td>0.797152</td>\n",
       "      <td>-0.414510</td>\n",
       "      <td>1.550967</td>\n",
       "      <td>-1.023787</td>\n",
       "      <td>-0.509664</td>\n",
       "      <td>-0.559252</td>\n",
       "      <td>1.665591</td>\n",
       "      <td>-0.587220</td>\n",
       "    </tr>\n",
       "    <tr>\n",
       "      <th>4</th>\n",
       "      <td>0.868471</td>\n",
       "      <td>1.482037</td>\n",
       "      <td>-0.085679</td>\n",
       "      <td>0.976766</td>\n",
       "      <td>-0.509664</td>\n",
       "      <td>-0.559252</td>\n",
       "      <td>-0.600387</td>\n",
       "      <td>1.702939</td>\n",
       "    </tr>\n",
       "    <tr>\n",
       "      <th>...</th>\n",
       "      <td>...</td>\n",
       "      <td>...</td>\n",
       "      <td>...</td>\n",
       "      <td>...</td>\n",
       "      <td>...</td>\n",
       "      <td>...</td>\n",
       "      <td>...</td>\n",
       "      <td>...</td>\n",
       "    </tr>\n",
       "    <tr>\n",
       "      <th>931</th>\n",
       "      <td>1.510338</td>\n",
       "      <td>-0.292894</td>\n",
       "      <td>-0.904002</td>\n",
       "      <td>0.976766</td>\n",
       "      <td>-0.509664</td>\n",
       "      <td>-0.559252</td>\n",
       "      <td>-0.600387</td>\n",
       "      <td>1.702939</td>\n",
       "    </tr>\n",
       "    <tr>\n",
       "      <th>932</th>\n",
       "      <td>-0.914493</td>\n",
       "      <td>-0.218117</td>\n",
       "      <td>0.732644</td>\n",
       "      <td>-1.023787</td>\n",
       "      <td>-0.509664</td>\n",
       "      <td>-0.559252</td>\n",
       "      <td>-0.600387</td>\n",
       "      <td>-0.587220</td>\n",
       "    </tr>\n",
       "    <tr>\n",
       "      <th>933</th>\n",
       "      <td>0.868471</td>\n",
       "      <td>0.703039</td>\n",
       "      <td>0.732644</td>\n",
       "      <td>-1.023787</td>\n",
       "      <td>1.962076</td>\n",
       "      <td>-0.559252</td>\n",
       "      <td>-0.600387</td>\n",
       "      <td>-0.587220</td>\n",
       "    </tr>\n",
       "    <tr>\n",
       "      <th>934</th>\n",
       "      <td>0.083967</td>\n",
       "      <td>-1.390722</td>\n",
       "      <td>0.732644</td>\n",
       "      <td>-1.023787</td>\n",
       "      <td>1.962076</td>\n",
       "      <td>-0.559252</td>\n",
       "      <td>1.665591</td>\n",
       "      <td>-0.587220</td>\n",
       "    </tr>\n",
       "    <tr>\n",
       "      <th>935</th>\n",
       "      <td>1.296382</td>\n",
       "      <td>-0.450666</td>\n",
       "      <td>-0.085679</td>\n",
       "      <td>0.976766</td>\n",
       "      <td>-0.509664</td>\n",
       "      <td>-0.559252</td>\n",
       "      <td>1.665591</td>\n",
       "      <td>-0.587220</td>\n",
       "    </tr>\n",
       "  </tbody>\n",
       "</table>\n",
       "<p>936 rows × 8 columns</p>\n",
       "</div>"
      ],
      "text/plain": [
       "            0         1         2         3         4         5         6  \\\n",
       "0    0.797152 -0.702114 -0.904002  0.976766 -0.509664  1.788102 -0.600387   \n",
       "1   -1.271085 -0.703758 -0.085679 -1.023787 -0.509664 -0.559252 -0.600387   \n",
       "2   -0.985811 -0.733340 -0.904002  0.976766 -0.509664 -0.559252 -0.600387   \n",
       "3    0.797152 -0.414510  1.550967 -1.023787 -0.509664 -0.559252  1.665591   \n",
       "4    0.868471  1.482037 -0.085679  0.976766 -0.509664 -0.559252 -0.600387   \n",
       "..        ...       ...       ...       ...       ...       ...       ...   \n",
       "931  1.510338 -0.292894 -0.904002  0.976766 -0.509664 -0.559252 -0.600387   \n",
       "932 -0.914493 -0.218117  0.732644 -1.023787 -0.509664 -0.559252 -0.600387   \n",
       "933  0.868471  0.703039  0.732644 -1.023787  1.962076 -0.559252 -0.600387   \n",
       "934  0.083967 -1.390722  0.732644 -1.023787  1.962076 -0.559252  1.665591   \n",
       "935  1.296382 -0.450666 -0.085679  0.976766 -0.509664 -0.559252  1.665591   \n",
       "\n",
       "            7  \n",
       "0   -0.587220  \n",
       "1    1.702939  \n",
       "2   -0.587220  \n",
       "3   -0.587220  \n",
       "4    1.702939  \n",
       "..        ...  \n",
       "931  1.702939  \n",
       "932 -0.587220  \n",
       "933 -0.587220  \n",
       "934 -0.587220  \n",
       "935 -0.587220  \n",
       "\n",
       "[936 rows x 8 columns]"
      ]
     },
     "execution_count": 32,
     "metadata": {},
     "output_type": "execute_result"
    }
   ],
   "source": [
    "pd.DataFrame(X_train_std)"
   ]
  },
  {
   "cell_type": "code",
   "execution_count": 35,
   "metadata": {},
   "outputs": [
    {
     "data": {
      "text/html": [
       "<div>\n",
       "<style scoped>\n",
       "    .dataframe tbody tr th:only-of-type {\n",
       "        vertical-align: middle;\n",
       "    }\n",
       "\n",
       "    .dataframe tbody tr th {\n",
       "        vertical-align: top;\n",
       "    }\n",
       "\n",
       "    .dataframe thead th {\n",
       "        text-align: right;\n",
       "    }\n",
       "</style>\n",
       "<table border=\"1\" class=\"dataframe\">\n",
       "  <thead>\n",
       "    <tr style=\"text-align: right;\">\n",
       "      <th></th>\n",
       "      <th>0</th>\n",
       "      <th>1</th>\n",
       "      <th>2</th>\n",
       "      <th>3</th>\n",
       "      <th>4</th>\n",
       "      <th>5</th>\n",
       "      <th>6</th>\n",
       "      <th>7</th>\n",
       "    </tr>\n",
       "  </thead>\n",
       "  <tbody>\n",
       "    <tr>\n",
       "      <th>count</th>\n",
       "      <td>9.360000e+02</td>\n",
       "      <td>9.360000e+02</td>\n",
       "      <td>9.360000e+02</td>\n",
       "      <td>9.360000e+02</td>\n",
       "      <td>9.360000e+02</td>\n",
       "      <td>9.360000e+02</td>\n",
       "      <td>9.360000e+02</td>\n",
       "      <td>9.360000e+02</td>\n",
       "    </tr>\n",
       "    <tr>\n",
       "      <th>mean</th>\n",
       "      <td>-9.014631e-17</td>\n",
       "      <td>3.054122e-15</td>\n",
       "      <td>-1.869795e-16</td>\n",
       "      <td>-1.119712e-16</td>\n",
       "      <td>1.775645e-16</td>\n",
       "      <td>1.560955e-16</td>\n",
       "      <td>1.518254e-17</td>\n",
       "      <td>2.436323e-16</td>\n",
       "    </tr>\n",
       "    <tr>\n",
       "      <th>std</th>\n",
       "      <td>1.000535e+00</td>\n",
       "      <td>1.000535e+00</td>\n",
       "      <td>1.000535e+00</td>\n",
       "      <td>1.000535e+00</td>\n",
       "      <td>1.000535e+00</td>\n",
       "      <td>1.000535e+00</td>\n",
       "      <td>1.000535e+00</td>\n",
       "      <td>1.000535e+00</td>\n",
       "    </tr>\n",
       "    <tr>\n",
       "      <th>min</th>\n",
       "      <td>-1.485041e+00</td>\n",
       "      <td>-2.419524e+00</td>\n",
       "      <td>-9.040023e-01</td>\n",
       "      <td>-1.023787e+00</td>\n",
       "      <td>-5.096643e-01</td>\n",
       "      <td>-5.592522e-01</td>\n",
       "      <td>-6.003875e-01</td>\n",
       "      <td>-5.872202e-01</td>\n",
       "    </tr>\n",
       "    <tr>\n",
       "      <th>25%</th>\n",
       "      <td>-9.144925e-01</td>\n",
       "      <td>-7.247116e-01</td>\n",
       "      <td>-9.040023e-01</td>\n",
       "      <td>-1.023787e+00</td>\n",
       "      <td>-5.096643e-01</td>\n",
       "      <td>-5.592522e-01</td>\n",
       "      <td>-6.003875e-01</td>\n",
       "      <td>-5.872202e-01</td>\n",
       "    </tr>\n",
       "    <tr>\n",
       "      <th>50%</th>\n",
       "      <td>-5.867016e-02</td>\n",
       "      <td>-3.076297e-02</td>\n",
       "      <td>-8.567913e-02</td>\n",
       "      <td>9.767656e-01</td>\n",
       "      <td>-5.096643e-01</td>\n",
       "      <td>-5.592522e-01</td>\n",
       "      <td>-6.003875e-01</td>\n",
       "      <td>-5.872202e-01</td>\n",
       "    </tr>\n",
       "    <tr>\n",
       "      <th>75%</th>\n",
       "      <td>8.684707e-01</td>\n",
       "      <td>6.631857e-01</td>\n",
       "      <td>7.326440e-01</td>\n",
       "      <td>9.767656e-01</td>\n",
       "      <td>-5.096643e-01</td>\n",
       "      <td>-5.592522e-01</td>\n",
       "      <td>1.665591e+00</td>\n",
       "      <td>1.702939e+00</td>\n",
       "    </tr>\n",
       "    <tr>\n",
       "      <th>max</th>\n",
       "      <td>1.795612e+00</td>\n",
       "      <td>3.689196e+00</td>\n",
       "      <td>3.187613e+00</td>\n",
       "      <td>9.767656e-01</td>\n",
       "      <td>1.962076e+00</td>\n",
       "      <td>1.788102e+00</td>\n",
       "      <td>1.665591e+00</td>\n",
       "      <td>1.702939e+00</td>\n",
       "    </tr>\n",
       "  </tbody>\n",
       "</table>\n",
       "</div>"
      ],
      "text/plain": [
       "                  0             1             2             3             4  \\\n",
       "count  9.360000e+02  9.360000e+02  9.360000e+02  9.360000e+02  9.360000e+02   \n",
       "mean  -9.014631e-17  3.054122e-15 -1.869795e-16 -1.119712e-16  1.775645e-16   \n",
       "std    1.000535e+00  1.000535e+00  1.000535e+00  1.000535e+00  1.000535e+00   \n",
       "min   -1.485041e+00 -2.419524e+00 -9.040023e-01 -1.023787e+00 -5.096643e-01   \n",
       "25%   -9.144925e-01 -7.247116e-01 -9.040023e-01 -1.023787e+00 -5.096643e-01   \n",
       "50%   -5.867016e-02 -3.076297e-02 -8.567913e-02  9.767656e-01 -5.096643e-01   \n",
       "75%    8.684707e-01  6.631857e-01  7.326440e-01  9.767656e-01 -5.096643e-01   \n",
       "max    1.795612e+00  3.689196e+00  3.187613e+00  9.767656e-01  1.962076e+00   \n",
       "\n",
       "                  5             6             7  \n",
       "count  9.360000e+02  9.360000e+02  9.360000e+02  \n",
       "mean   1.560955e-16  1.518254e-17  2.436323e-16  \n",
       "std    1.000535e+00  1.000535e+00  1.000535e+00  \n",
       "min   -5.592522e-01 -6.003875e-01 -5.872202e-01  \n",
       "25%   -5.592522e-01 -6.003875e-01 -5.872202e-01  \n",
       "50%   -5.592522e-01 -6.003875e-01 -5.872202e-01  \n",
       "75%   -5.592522e-01  1.665591e+00  1.702939e+00  \n",
       "max    1.788102e+00  1.665591e+00  1.702939e+00  "
      ]
     },
     "execution_count": 35,
     "metadata": {},
     "output_type": "execute_result"
    }
   ],
   "source": [
    "pd.DataFrame(X_train_std).describe()"
   ]
  },
  {
   "cell_type": "code",
   "execution_count": 36,
   "metadata": {},
   "outputs": [],
   "source": [
    "from sklearn import linear_model"
   ]
  },
  {
   "cell_type": "code",
   "execution_count": 37,
   "metadata": {},
   "outputs": [],
   "source": [
    "est = linear_model.LinearRegression()"
   ]
  },
  {
   "cell_type": "code",
   "execution_count": 39,
   "metadata": {},
   "outputs": [
    {
     "data": {
      "text/plain": [
       "LinearRegression(copy_X=True, fit_intercept=True, n_jobs=1, normalize=False)"
      ]
     },
     "execution_count": 39,
     "metadata": {},
     "output_type": "execute_result"
    }
   ],
   "source": [
    "est.fit(X_train_std, y_train) # find the theta values"
   ]
  },
  {
   "cell_type": "code",
   "execution_count": 40,
   "metadata": {},
   "outputs": [
    {
     "data": {
      "text/plain": [
       "array([3528.98273114, 1961.65520818,  421.55016415, -141.35911014,\n",
       "       9733.78688309, -129.54588605, -414.54148288, -379.09534369])"
      ]
     },
     "execution_count": 40,
     "metadata": {},
     "output_type": "execute_result"
    }
   ],
   "source": [
    "est.coef_"
   ]
  },
  {
   "cell_type": "code",
   "execution_count": 41,
   "metadata": {},
   "outputs": [
    {
     "data": {
      "text/plain": [
       "13276.698553898497"
      ]
     },
     "execution_count": 41,
     "metadata": {},
     "output_type": "execute_result"
    }
   ],
   "source": [
    "est.intercept_"
   ]
  },
  {
   "cell_type": "code",
   "execution_count": 42,
   "metadata": {},
   "outputs": [
    {
     "data": {
      "text/html": [
       "<div>\n",
       "<style scoped>\n",
       "    .dataframe tbody tr th:only-of-type {\n",
       "        vertical-align: middle;\n",
       "    }\n",
       "\n",
       "    .dataframe tbody tr th {\n",
       "        vertical-align: top;\n",
       "    }\n",
       "\n",
       "    .dataframe thead th {\n",
       "        text-align: right;\n",
       "    }\n",
       "</style>\n",
       "<table border=\"1\" class=\"dataframe\">\n",
       "  <thead>\n",
       "    <tr style=\"text-align: right;\">\n",
       "      <th></th>\n",
       "      <th>feature</th>\n",
       "      <th>theta</th>\n",
       "    </tr>\n",
       "  </thead>\n",
       "  <tbody>\n",
       "    <tr>\n",
       "      <th>0</th>\n",
       "      <td>age</td>\n",
       "      <td>3528.982731</td>\n",
       "    </tr>\n",
       "    <tr>\n",
       "      <th>1</th>\n",
       "      <td>bmi</td>\n",
       "      <td>1961.655208</td>\n",
       "    </tr>\n",
       "    <tr>\n",
       "      <th>2</th>\n",
       "      <td>children</td>\n",
       "      <td>421.550164</td>\n",
       "    </tr>\n",
       "    <tr>\n",
       "      <th>3</th>\n",
       "      <td>gender_male</td>\n",
       "      <td>-141.359110</td>\n",
       "    </tr>\n",
       "    <tr>\n",
       "      <th>4</th>\n",
       "      <td>smoker_yes</td>\n",
       "      <td>9733.786883</td>\n",
       "    </tr>\n",
       "    <tr>\n",
       "      <th>5</th>\n",
       "      <td>region_northwest</td>\n",
       "      <td>-129.545886</td>\n",
       "    </tr>\n",
       "    <tr>\n",
       "      <th>6</th>\n",
       "      <td>region_southeast</td>\n",
       "      <td>-414.541483</td>\n",
       "    </tr>\n",
       "    <tr>\n",
       "      <th>7</th>\n",
       "      <td>region_southwest</td>\n",
       "      <td>-379.095344</td>\n",
       "    </tr>\n",
       "  </tbody>\n",
       "</table>\n",
       "</div>"
      ],
      "text/plain": [
       "            feature        theta\n",
       "0               age  3528.982731\n",
       "1               bmi  1961.655208\n",
       "2          children   421.550164\n",
       "3       gender_male  -141.359110\n",
       "4        smoker_yes  9733.786883\n",
       "5  region_northwest  -129.545886\n",
       "6  region_southeast  -414.541483\n",
       "7  region_southwest  -379.095344"
      ]
     },
     "execution_count": 42,
     "metadata": {},
     "output_type": "execute_result"
    }
   ],
   "source": [
    "pd.DataFrame({\"feature\": X.columns, \"theta\": est.coef_})"
   ]
  },
  {
   "cell_type": "code",
   "execution_count": 44,
   "metadata": {},
   "outputs": [],
   "source": [
    "from sklearn import pipeline, preprocessing"
   ]
  },
  {
   "cell_type": "code",
   "execution_count": 45,
   "metadata": {},
   "outputs": [
    {
     "data": {
      "text/plain": [
       "Pipeline(memory=None,\n",
       "     steps=[('scaler', StandardScaler(copy=True, with_mean=True, with_std=True)), ('est', LinearRegression(copy_X=True, fit_intercept=True, n_jobs=1, normalize=False))])"
      ]
     },
     "execution_count": 45,
     "metadata": {},
     "output_type": "execute_result"
    }
   ],
   "source": [
    "target = \"charges\"\n",
    "X = df.drop(columns=[target])\n",
    "X = pd.get_dummies(X, drop_first=True)\n",
    "columns = X.columns\n",
    "y = df[target]\n",
    "X_train, X_test, y_train, y_test = model_selection.train_test_split(X.values, y.values\n",
    "                                    , test_size = 0.3, random_state = 1)\n",
    "\n",
    "pipe = pipeline.Pipeline([\n",
    "    (\"scaler\", preprocessing.StandardScaler()),\n",
    "    (\"est\", linear_model.LinearRegression())\n",
    "])\n",
    "\n",
    "pipe.fit(X_train, y_train)\n"
   ]
  },
  {
   "cell_type": "code",
   "execution_count": 49,
   "metadata": {},
   "outputs": [],
   "source": [
    "est = pipe.steps[-1][-1]"
   ]
  },
  {
   "cell_type": "code",
   "execution_count": 50,
   "metadata": {},
   "outputs": [
    {
     "data": {
      "text/plain": [
       "array([3528.98273114, 1961.65520818,  421.55016415, -141.35911014,\n",
       "       9733.78688309, -129.54588605, -414.54148288, -379.09534369])"
      ]
     },
     "execution_count": 50,
     "metadata": {},
     "output_type": "execute_result"
    }
   ],
   "source": [
    "est.coef_"
   ]
  },
  {
   "cell_type": "code",
   "execution_count": 51,
   "metadata": {},
   "outputs": [],
   "source": [
    "y_train_pred = pipe.predict(X_train)"
   ]
  },
  {
   "cell_type": "code",
   "execution_count": 52,
   "metadata": {},
   "outputs": [],
   "source": [
    "y_test_pred = pipe.predict(X_test)"
   ]
  },
  {
   "cell_type": "code",
   "execution_count": 55,
   "metadata": {},
   "outputs": [],
   "source": [
    "result = pd.DataFrame({\"true\": y_test, \"predicted\": y_test_pred})\n",
    "result[\"error\"] = result[\"true\"] - result[\"predicted\"]"
   ]
  },
  {
   "cell_type": "code",
   "execution_count": 56,
   "metadata": {},
   "outputs": [
    {
     "data": {
      "text/html": [
       "<div>\n",
       "<style scoped>\n",
       "    .dataframe tbody tr th:only-of-type {\n",
       "        vertical-align: middle;\n",
       "    }\n",
       "\n",
       "    .dataframe tbody tr th {\n",
       "        vertical-align: top;\n",
       "    }\n",
       "\n",
       "    .dataframe thead th {\n",
       "        text-align: right;\n",
       "    }\n",
       "</style>\n",
       "<table border=\"1\" class=\"dataframe\">\n",
       "  <thead>\n",
       "    <tr style=\"text-align: right;\">\n",
       "      <th></th>\n",
       "      <th>predicted</th>\n",
       "      <th>true</th>\n",
       "      <th>error</th>\n",
       "    </tr>\n",
       "  </thead>\n",
       "  <tbody>\n",
       "    <tr>\n",
       "      <th>0</th>\n",
       "      <td>4610.315541</td>\n",
       "      <td>1646.42970</td>\n",
       "      <td>-2963.885841</td>\n",
       "    </tr>\n",
       "    <tr>\n",
       "      <th>1</th>\n",
       "      <td>12887.893880</td>\n",
       "      <td>11353.22760</td>\n",
       "      <td>-1534.666280</td>\n",
       "    </tr>\n",
       "    <tr>\n",
       "      <th>2</th>\n",
       "      <td>12573.948752</td>\n",
       "      <td>8798.59300</td>\n",
       "      <td>-3775.355752</td>\n",
       "    </tr>\n",
       "    <tr>\n",
       "      <th>3</th>\n",
       "      <td>13197.836626</td>\n",
       "      <td>10381.47870</td>\n",
       "      <td>-2816.357926</td>\n",
       "    </tr>\n",
       "    <tr>\n",
       "      <th>4</th>\n",
       "      <td>629.337182</td>\n",
       "      <td>2103.08000</td>\n",
       "      <td>1473.742818</td>\n",
       "    </tr>\n",
       "    <tr>\n",
       "      <th>...</th>\n",
       "      <td>...</td>\n",
       "      <td>...</td>\n",
       "      <td>...</td>\n",
       "    </tr>\n",
       "    <tr>\n",
       "      <th>397</th>\n",
       "      <td>16224.053528</td>\n",
       "      <td>11566.30055</td>\n",
       "      <td>-4657.752978</td>\n",
       "    </tr>\n",
       "    <tr>\n",
       "      <th>398</th>\n",
       "      <td>3861.767583</td>\n",
       "      <td>1880.48700</td>\n",
       "      <td>-1981.280583</td>\n",
       "    </tr>\n",
       "    <tr>\n",
       "      <th>399</th>\n",
       "      <td>3274.369325</td>\n",
       "      <td>2457.21115</td>\n",
       "      <td>-817.158175</td>\n",
       "    </tr>\n",
       "    <tr>\n",
       "      <th>400</th>\n",
       "      <td>27065.591340</td>\n",
       "      <td>17043.34140</td>\n",
       "      <td>-10022.249940</td>\n",
       "    </tr>\n",
       "    <tr>\n",
       "      <th>401</th>\n",
       "      <td>9506.693466</td>\n",
       "      <td>26140.36030</td>\n",
       "      <td>16633.666834</td>\n",
       "    </tr>\n",
       "  </tbody>\n",
       "</table>\n",
       "<p>402 rows × 3 columns</p>\n",
       "</div>"
      ],
      "text/plain": [
       "        predicted         true         error\n",
       "0     4610.315541   1646.42970  -2963.885841\n",
       "1    12887.893880  11353.22760  -1534.666280\n",
       "2    12573.948752   8798.59300  -3775.355752\n",
       "3    13197.836626  10381.47870  -2816.357926\n",
       "4      629.337182   2103.08000   1473.742818\n",
       "..            ...          ...           ...\n",
       "397  16224.053528  11566.30055  -4657.752978\n",
       "398   3861.767583   1880.48700  -1981.280583\n",
       "399   3274.369325   2457.21115   -817.158175\n",
       "400  27065.591340  17043.34140 -10022.249940\n",
       "401   9506.693466  26140.36030  16633.666834\n",
       "\n",
       "[402 rows x 3 columns]"
      ]
     },
     "execution_count": 56,
     "metadata": {},
     "output_type": "execute_result"
    }
   ],
   "source": [
    "result"
   ]
  },
  {
   "cell_type": "code",
   "execution_count": 58,
   "metadata": {},
   "outputs": [],
   "source": [
    "import numpy as np"
   ]
  },
  {
   "cell_type": "code",
   "execution_count": 61,
   "metadata": {},
   "outputs": [
    {
     "data": {
      "text/plain": [
       "36761456.35201327"
      ]
     },
     "execution_count": 61,
     "metadata": {},
     "output_type": "execute_result"
    }
   ],
   "source": [
    "mse = np.mean(result.error ** 2) # Lower is better\n",
    "mse"
   ]
  },
  {
   "cell_type": "code",
   "execution_count": 62,
   "metadata": {},
   "outputs": [],
   "source": [
    "y_test_var = np.var(y_test)"
   ]
  },
  {
   "cell_type": "code",
   "execution_count": 63,
   "metadata": {},
   "outputs": [
    {
     "data": {
      "text/plain": [
       "0.259401068307279"
      ]
     },
     "execution_count": 63,
     "metadata": {},
     "output_type": "execute_result"
    }
   ],
   "source": [
    "mse/y_test_var"
   ]
  },
  {
   "cell_type": "code",
   "execution_count": 65,
   "metadata": {},
   "outputs": [
    {
     "data": {
      "text/plain": [
       "0.2594002695488973"
      ]
     },
     "execution_count": 65,
     "metadata": {},
     "output_type": "execute_result"
    }
   ],
   "source": [
    "mse / np.mean((y_test - y_train.mean()) ** 2)"
   ]
  },
  {
   "cell_type": "code",
   "execution_count": 67,
   "metadata": {},
   "outputs": [
    {
     "data": {
      "text/plain": [
       "0.7405989316927211"
      ]
     },
     "execution_count": 67,
     "metadata": {},
     "output_type": "execute_result"
    }
   ],
   "source": [
    "r2 = 1 - mse / y_test_var\n",
    "r2"
   ]
  },
  {
   "cell_type": "code",
   "execution_count": 68,
   "metadata": {},
   "outputs": [],
   "source": [
    "import pickle"
   ]
  },
  {
   "cell_type": "code",
   "execution_count": 69,
   "metadata": {},
   "outputs": [],
   "source": [
    "with open(\"/tmp/insurance.pickle\", \"wb\") as f:\n",
    "    pickle.dump(pipe, f)"
   ]
  },
  {
   "cell_type": "code",
   "execution_count": 70,
   "metadata": {},
   "outputs": [],
   "source": [
    "with open(\"/tmp/insurance.pickle\", \"rb\") as f:\n",
    "    pipe = pickle.load(f)"
   ]
  },
  {
   "cell_type": "code",
   "execution_count": 73,
   "metadata": {},
   "outputs": [],
   "source": [
    "from sklearn import metrics"
   ]
  },
  {
   "cell_type": "code",
   "execution_count": 74,
   "metadata": {},
   "outputs": [
    {
     "data": {
      "text/plain": [
       "36761456.35201328"
      ]
     },
     "execution_count": 74,
     "metadata": {},
     "output_type": "execute_result"
    }
   ],
   "source": [
    "metrics.mean_squared_error(y_test, pipe.predict(X_test))"
   ]
  },
  {
   "cell_type": "code",
   "execution_count": 77,
   "metadata": {},
   "outputs": [
    {
     "name": "stdout",
     "output_type": "stream",
     "text": [
      "r2 Train: 0.7545557492633161 \n",
      "r2 test:  0.740598931692721 \n",
      "mse train:  36476790.76410686 \n",
      "mse test:  36761456.35201328\n"
     ]
    }
   ],
   "source": [
    "target = \"charges\"\n",
    "X = df.drop(columns=[target])\n",
    "X = pd.get_dummies(X, drop_first=True)\n",
    "columns = X.columns\n",
    "y = df[target]\n",
    "X_train, X_test, y_train, y_test = model_selection.train_test_split(X.values, y.values\n",
    "                                    , test_size = 0.3, random_state = 1)\n",
    "\n",
    "pipe = pipeline.Pipeline([\n",
    "    (\"scaler\", preprocessing.StandardScaler()),\n",
    "    (\"est\", linear_model.LinearRegression())\n",
    "])\n",
    "\n",
    "pipe.fit(X_train, y_train)\n",
    "\n",
    "y_train_pred = pipe.predict(X_train)\n",
    "y_test_pred = pipe.predict(X_test)\n",
    "\n",
    "r2_train = metrics.r2_score(y_train, y_train_pred)\n",
    "r2_test = metrics.r2_score(y_test, y_test_pred)\n",
    "mse_train = metrics.mean_squared_error(y_train, y_train_pred)\n",
    "mse_test = metrics.mean_squared_error(y_test, y_test_pred)\n",
    "\n",
    "print(\"r2 Train:\", r2_train,\n",
    "      \"\\nr2 test: \", r2_test,\n",
    "      \"\\nmse train: \", mse_train,\n",
    "      \"\\nmse test: \", mse_test\n",
    "     )\n"
   ]
  },
  {
   "cell_type": "code",
   "execution_count": 79,
   "metadata": {},
   "outputs": [
    {
     "name": "stdout",
     "output_type": "stream",
     "text": [
      "r2 Train: 0.7589104330619343 \n",
      "r2 test:  0.78742951961976 \n",
      "mse train:  67564665.80947612 \n",
      "mse test:  69185448.09379752\n"
     ]
    }
   ],
   "source": [
    "target = \"charges\"\n",
    "X = df.drop(columns=[target])\n",
    "X = pd.get_dummies(X, drop_first=True)\n",
    "columns = X.columns\n",
    "y = np.log(df[target])\n",
    "X_train, X_test, y_train, y_test = model_selection.train_test_split(X.values, y.values\n",
    "                                    , test_size = 0.3, random_state = 1)\n",
    "\n",
    "pipe = pipeline.Pipeline([\n",
    "    (\"scaler\", preprocessing.StandardScaler()),\n",
    "    (\"est\", linear_model.LinearRegression())\n",
    "])\n",
    "\n",
    "pipe.fit(X_train, y_train)\n",
    "\n",
    "y_train_pred = pipe.predict(X_train)\n",
    "y_test_pred = pipe.predict(X_test)\n",
    "\n",
    "r2_train = metrics.r2_score(y_train, y_train_pred)\n",
    "r2_test = metrics.r2_score(y_test, y_test_pred)\n",
    "mse_train = metrics.mean_squared_error(np.exp(y_train), np.exp(y_train_pred))\n",
    "mse_test = metrics.mean_squared_error(np.exp(y_test), np.exp(y_test_pred))\n",
    "\n",
    "print(\"r2 Train:\", r2_train,\n",
    "      \"\\nr2 test: \", r2_test,\n",
    "      \"\\nmse train: \", mse_train,\n",
    "      \"\\nmse test: \", mse_test\n",
    "     )\n"
   ]
  },
  {
   "cell_type": "code",
   "execution_count": 80,
   "metadata": {},
   "outputs": [
    {
     "data": {
      "text/plain": [
       "1.8820105493101253"
      ]
     },
     "execution_count": 80,
     "metadata": {},
     "output_type": "execute_result"
    }
   ],
   "source": [
    "69185448/36761456"
   ]
  },
  {
   "cell_type": "code",
   "execution_count": 88,
   "metadata": {},
   "outputs": [
    {
     "name": "stdout",
     "output_type": "stream",
     "text": [
      "r2 Train: 0.780235650529385 \n",
      "r2 test:  0.8111906480112542 \n",
      "mse train:  69081223.56092297 \n",
      "mse test:  68955719.7057414\n"
     ]
    }
   ],
   "source": [
    "target = \"charges\"\n",
    "#X = df.drop(columns=[target])\n",
    "X = df.copy()\n",
    "del X[target]\n",
    "# bucketizing the continuous vars\n",
    "def bmi_group(v):\n",
    "    if v > 30:\n",
    "        return \"high\"\n",
    "    elif v > 22:\n",
    "        return \"normal\"\n",
    "    else:\n",
    "        return \"low\"\n",
    "\n",
    "def age_group(age):\n",
    "    if age > 60:\n",
    "        return \"senior\"\n",
    "    elif age < 30: \n",
    "        return \"young\"\n",
    "    else:\n",
    "        return \"normal\"\n",
    "def smoker_high_bmi(r):\n",
    "    return (r.smoker == \"yes\") & (r.bmi > 30)\n",
    "\n",
    "\n",
    "X[\"bmi_group\"] = X.bmi.apply(bmi_group)\n",
    "X[\"age_group\"] = X.age.apply(age_group)\n",
    "X[\"smoker_high_bmi\"] = X.apply(smoker_high_bmi, axis = 1)\n",
    "\n",
    "X = pd.get_dummies(X, drop_first=True)\n",
    "columns = X.columns\n",
    "y = np.log(df[target])\n",
    "X_train, X_test, y_train, y_test = model_selection.train_test_split(X.values.astype(np.float64)\n",
    "                                        , y.values\n",
    "                                    , test_size = 0.3, random_state = 1)\n",
    "\n",
    "pipe = pipeline.Pipeline([\n",
    "    (\"scaler\", preprocessing.StandardScaler()),\n",
    "    (\"est\", linear_model.LinearRegression())\n",
    "])\n",
    "\n",
    "pipe.fit(X_train, y_train)\n",
    "\n",
    "y_train_pred = pipe.predict(X_train)\n",
    "y_test_pred = pipe.predict(X_test)\n",
    "\n",
    "r2_train = metrics.r2_score(y_train, y_train_pred)\n",
    "r2_test = metrics.r2_score(y_test, y_test_pred)\n",
    "mse_train = metrics.mean_squared_error(np.exp(y_train), np.exp(y_train_pred))\n",
    "mse_test = metrics.mean_squared_error(np.exp(y_test), np.exp(y_test_pred))\n",
    "\n",
    "print(\"r2 Train:\", r2_train,\n",
    "      \"\\nr2 test: \", r2_test,\n",
    "      \"\\nmse train: \", mse_train,\n",
    "      \"\\nmse test: \", mse_test\n",
    "     )\n"
   ]
  },
  {
   "cell_type": "code",
   "execution_count": 82,
   "metadata": {},
   "outputs": [
    {
     "data": {
      "text/html": [
       "<div>\n",
       "<style scoped>\n",
       "    .dataframe tbody tr th:only-of-type {\n",
       "        vertical-align: middle;\n",
       "    }\n",
       "\n",
       "    .dataframe tbody tr th {\n",
       "        vertical-align: top;\n",
       "    }\n",
       "\n",
       "    .dataframe thead th {\n",
       "        text-align: right;\n",
       "    }\n",
       "</style>\n",
       "<table border=\"1\" class=\"dataframe\">\n",
       "  <thead>\n",
       "    <tr style=\"text-align: right;\">\n",
       "      <th></th>\n",
       "      <th>age</th>\n",
       "      <th>gender</th>\n",
       "      <th>bmi</th>\n",
       "      <th>children</th>\n",
       "      <th>smoker</th>\n",
       "      <th>region</th>\n",
       "      <th>charges</th>\n",
       "    </tr>\n",
       "  </thead>\n",
       "  <tbody>\n",
       "    <tr>\n",
       "      <th>0</th>\n",
       "      <td>19</td>\n",
       "      <td>female</td>\n",
       "      <td>27.900</td>\n",
       "      <td>0</td>\n",
       "      <td>yes</td>\n",
       "      <td>southwest</td>\n",
       "      <td>16884.92400</td>\n",
       "    </tr>\n",
       "    <tr>\n",
       "      <th>1</th>\n",
       "      <td>18</td>\n",
       "      <td>male</td>\n",
       "      <td>33.770</td>\n",
       "      <td>1</td>\n",
       "      <td>no</td>\n",
       "      <td>southeast</td>\n",
       "      <td>1725.55230</td>\n",
       "    </tr>\n",
       "    <tr>\n",
       "      <th>2</th>\n",
       "      <td>28</td>\n",
       "      <td>male</td>\n",
       "      <td>33.000</td>\n",
       "      <td>3</td>\n",
       "      <td>no</td>\n",
       "      <td>southeast</td>\n",
       "      <td>4449.46200</td>\n",
       "    </tr>\n",
       "    <tr>\n",
       "      <th>3</th>\n",
       "      <td>33</td>\n",
       "      <td>male</td>\n",
       "      <td>22.705</td>\n",
       "      <td>0</td>\n",
       "      <td>no</td>\n",
       "      <td>northwest</td>\n",
       "      <td>21984.47061</td>\n",
       "    </tr>\n",
       "    <tr>\n",
       "      <th>4</th>\n",
       "      <td>32</td>\n",
       "      <td>male</td>\n",
       "      <td>28.880</td>\n",
       "      <td>0</td>\n",
       "      <td>no</td>\n",
       "      <td>northwest</td>\n",
       "      <td>3866.85520</td>\n",
       "    </tr>\n",
       "  </tbody>\n",
       "</table>\n",
       "</div>"
      ],
      "text/plain": [
       "   age  gender     bmi  children smoker     region      charges\n",
       "0   19  female  27.900         0    yes  southwest  16884.92400\n",
       "1   18    male  33.770         1     no  southeast   1725.55230\n",
       "2   28    male  33.000         3     no  southeast   4449.46200\n",
       "3   33    male  22.705         0     no  northwest  21984.47061\n",
       "4   32    male  28.880         0     no  northwest   3866.85520"
      ]
     },
     "execution_count": 82,
     "metadata": {},
     "output_type": "execute_result"
    }
   ],
   "source": [
    "df.head()"
   ]
  },
  {
   "cell_type": "code",
   "execution_count": 90,
   "metadata": {},
   "outputs": [
    {
     "name": "stdout",
     "output_type": "stream",
     "text": [
      "r2 Train: 0.7802235733772407 \n",
      "r2 test:  0.8111871236006977 \n",
      "mse train:  69054533.98613885 \n",
      "mse test:  68813337.53454967\n"
     ]
    }
   ],
   "source": [
    "target = \"charges\"\n",
    "#X = df.drop(columns=[target])\n",
    "X = df.copy()\n",
    "del X[target]\n",
    "# bucketizing the continuous vars\n",
    "def bmi_group(v):\n",
    "    if v > 30:\n",
    "        return \"high\"\n",
    "    elif v > 22:\n",
    "        return \"normal\"\n",
    "    else:\n",
    "        return \"low\"\n",
    "\n",
    "def age_group(age):\n",
    "    if age > 60:\n",
    "        return \"senior\"\n",
    "    elif age < 30: \n",
    "        return \"young\"\n",
    "    else:\n",
    "        return \"normal\"\n",
    "def smoker_high_bmi(r):\n",
    "    return (r.smoker == \"yes\") & (r.bmi > 30)\n",
    "\n",
    "\n",
    "X[\"bmi_group\"] = X.bmi.apply(bmi_group)\n",
    "X[\"age_group\"] = X.age.apply(age_group)\n",
    "X[\"smoker_high_bmi\"] = X.apply(smoker_high_bmi, axis = 1)\n",
    "\n",
    "X = pd.get_dummies(X, drop_first=True)\n",
    "columns = X.columns\n",
    "y = np.log(df[target])\n",
    "X_train, X_test, y_train, y_test = model_selection.train_test_split(X.values.astype(np.float64)\n",
    "                                        , y.values\n",
    "                                    , test_size = 0.3, random_state = 1)\n",
    "\n",
    "pipe = pipeline.Pipeline([\n",
    "    (\"scaler\", preprocessing.StandardScaler()),\n",
    "    (\"est\", linear_model.SGDRegressor(max_iter=1000))\n",
    "])\n",
    "\n",
    "pipe.fit(X_train, y_train)\n",
    "\n",
    "y_train_pred = pipe.predict(X_train)\n",
    "y_test_pred = pipe.predict(X_test)\n",
    "\n",
    "r2_train = metrics.r2_score(y_train, y_train_pred)\n",
    "r2_test = metrics.r2_score(y_test, y_test_pred)\n",
    "mse_train = metrics.mean_squared_error(np.exp(y_train), np.exp(y_train_pred))\n",
    "mse_test = metrics.mean_squared_error(np.exp(y_test), np.exp(y_test_pred))\n",
    "\n",
    "print(\"r2 Train:\", r2_train,\n",
    "      \"\\nr2 test: \", r2_test,\n",
    "      \"\\nmse train: \", mse_train,\n",
    "      \"\\nmse test: \", mse_test\n",
    "     )\n"
   ]
  },
  {
   "cell_type": "markdown",
   "metadata": {},
   "source": [
    "# Kaggle house price dataset\n",
    "https://raw.githubusercontent.com/abulbasar/data/master/kaggle-houseprice/data_combined_cleaned.csv"
   ]
  },
  {
   "cell_type": "code",
   "execution_count": 95,
   "metadata": {},
   "outputs": [],
   "source": [
    "df = pd.read_csv(\"/data/kaggle/house-prices/data_combined_cleaned.csv\")\n",
    "df = df[~df.SalesPrice.isnull()]\n",
    "del df[\"Id\"]"
   ]
  },
  {
   "cell_type": "code",
   "execution_count": 96,
   "metadata": {},
   "outputs": [
    {
     "name": "stdout",
     "output_type": "stream",
     "text": [
      "<class 'pandas.core.frame.DataFrame'>\n",
      "Int64Index: 1460 entries, 0 to 1459\n",
      "Data columns (total 79 columns):\n",
      "MSSubClass       1460 non-null int64\n",
      "MSZoning         1460 non-null object\n",
      "LotFrontage      1460 non-null float64\n",
      "LotArea          1460 non-null int64\n",
      "Street           1460 non-null object\n",
      "Alley            1460 non-null object\n",
      "LotShape         1460 non-null object\n",
      "LandContour      1460 non-null object\n",
      "LotConfig        1460 non-null object\n",
      "LandSlope        1460 non-null object\n",
      "Neighborhood     1460 non-null object\n",
      "Condition1       1460 non-null object\n",
      "Condition2       1460 non-null object\n",
      "BldgType         1460 non-null object\n",
      "HouseStyle       1460 non-null object\n",
      "OverallQual      1460 non-null int64\n",
      "OverallCond      1460 non-null int64\n",
      "YearBuilt        1460 non-null int64\n",
      "YearRemodAdd     1460 non-null int64\n",
      "RoofStyle        1460 non-null object\n",
      "RoofMatl         1460 non-null object\n",
      "Exterior1st      1460 non-null object\n",
      "Exterior2nd      1460 non-null object\n",
      "MasVnrType       1460 non-null object\n",
      "MasVnrArea       1460 non-null float64\n",
      "ExterQual        1460 non-null object\n",
      "ExterCond        1460 non-null object\n",
      "Foundation       1460 non-null object\n",
      "BsmtQual         1460 non-null object\n",
      "BsmtCond         1460 non-null object\n",
      "BsmtExposure     1460 non-null object\n",
      "BsmtFinType1     1460 non-null object\n",
      "BsmtFinSF1       1460 non-null float64\n",
      "BsmtFinType2     1460 non-null object\n",
      "BsmtFinSF2       1460 non-null float64\n",
      "BsmtUnfSF        1460 non-null float64\n",
      "TotalBsmtSF      1460 non-null float64\n",
      "Heating          1460 non-null object\n",
      "HeatingQC        1460 non-null object\n",
      "CentralAir       1460 non-null object\n",
      "Electrical       1460 non-null object\n",
      "1stFlrSF         1460 non-null int64\n",
      "2ndFlrSF         1460 non-null int64\n",
      "LowQualFinSF     1460 non-null int64\n",
      "GrLivArea        1460 non-null int64\n",
      "BsmtFullBath     1460 non-null float64\n",
      "BsmtHalfBath     1460 non-null float64\n",
      "FullBath         1460 non-null int64\n",
      "HalfBath         1460 non-null int64\n",
      "BedroomAbvGr     1460 non-null int64\n",
      "KitchenAbvGr     1460 non-null int64\n",
      "KitchenQual      1460 non-null object\n",
      "TotRmsAbvGrd     1460 non-null int64\n",
      "Functional       1460 non-null object\n",
      "Fireplaces       1460 non-null int64\n",
      "FireplaceQu      1460 non-null object\n",
      "GarageType       1460 non-null object\n",
      "GarageYrBlt      1460 non-null float64\n",
      "GarageFinish     1460 non-null object\n",
      "GarageCars       1460 non-null float64\n",
      "GarageArea       1460 non-null float64\n",
      "GarageQual       1460 non-null object\n",
      "GarageCond       1460 non-null object\n",
      "PavedDrive       1460 non-null object\n",
      "WoodDeckSF       1460 non-null int64\n",
      "OpenPorchSF      1460 non-null int64\n",
      "EnclosedPorch    1460 non-null int64\n",
      "3SsnPorch        1460 non-null int64\n",
      "ScreenPorch      1460 non-null int64\n",
      "PoolArea         1460 non-null int64\n",
      "PoolQC           1460 non-null object\n",
      "Fence            1460 non-null object\n",
      "MiscFeature      1460 non-null object\n",
      "MiscVal          1460 non-null int64\n",
      "MoSold           1460 non-null int64\n",
      "YrSold           1460 non-null int64\n",
      "SaleType         1460 non-null object\n",
      "SaleCondition    1460 non-null object\n",
      "SalesPrice       1460 non-null float64\n",
      "dtypes: float64(12), int64(25), object(42)\n",
      "memory usage: 912.5+ KB\n"
     ]
    }
   ],
   "source": [
    "df.info()"
   ]
  },
  {
   "cell_type": "code",
   "execution_count": 100,
   "metadata": {},
   "outputs": [
    {
     "name": "stdout",
     "output_type": "stream",
     "text": [
      "r2 Train: 0.9494527301808873 \n",
      "r2 test:  -4.750079859651934e+21 \n",
      "mse train:  0.007407599211897132 \n",
      "mse test:  8.977151803375568e+20\n"
     ]
    }
   ],
   "source": [
    "target = \"SalesPrice\"\n",
    "#X = df.drop(columns=[target])\n",
    "X = df.copy()\n",
    "del X[target]\n",
    "\n",
    "X = pd.get_dummies(X, drop_first=True)\n",
    "columns = X.columns\n",
    "y = np.log(df[target])\n",
    "X_train, X_test, y_train, y_test = model_selection.train_test_split(X.values.astype(np.float64)\n",
    "                            , y.values, test_size = 0.3, random_state = 1)\n",
    "\n",
    "pipe = pipeline.Pipeline([\n",
    "    (\"scaler\", preprocessing.StandardScaler()),\n",
    "    (\"est\", linear_model.LinearRegression())\n",
    "])\n",
    "\n",
    "pipe.fit(X_train, y_train)\n",
    "\n",
    "y_train_pred = pipe.predict(X_train)\n",
    "y_test_pred = pipe.predict(X_test)\n",
    "\n",
    "r2_train = metrics.r2_score(y_train, y_train_pred)\n",
    "r2_test = metrics.r2_score(y_test, y_test_pred)\n",
    "mse_train = metrics.mean_squared_error(y_train, y_train_pred)\n",
    "mse_test = metrics.mean_squared_error(y_test, y_test_pred)\n",
    "\n",
    "print(\"r2 Train:\", r2_train,\n",
    "      \"\\nr2 test: \", r2_test,\n",
    "      \"\\nmse train: \", mse_train,\n",
    "      \"\\nmse test: \", mse_test\n",
    "     )\n"
   ]
  },
  {
   "cell_type": "code",
   "execution_count": 140,
   "metadata": {
    "scrolled": false
   },
   "outputs": [
    {
     "name": "stderr",
     "output_type": "stream",
     "text": [
      "/Users/abulbasar/anaconda3/lib/python3.6/site-packages/sklearn/linear_model/coordinate_descent.py:491: ConvergenceWarning: Objective did not converge. You might want to increase the number of iterations. Fitting data with very small alpha may cause precision problems.\n",
      "  ConvergenceWarning)\n",
      "/Users/abulbasar/anaconda3/lib/python3.6/site-packages/sklearn/linear_model/coordinate_descent.py:491: ConvergenceWarning: Objective did not converge. You might want to increase the number of iterations. Fitting data with very small alpha may cause precision problems.\n",
      "  ConvergenceWarning)\n",
      "/Users/abulbasar/anaconda3/lib/python3.6/site-packages/sklearn/linear_model/coordinate_descent.py:491: ConvergenceWarning: Objective did not converge. You might want to increase the number of iterations. Fitting data with very small alpha may cause precision problems.\n",
      "  ConvergenceWarning)\n"
     ]
    }
   ],
   "source": [
    "target = \"SalesPrice\"\n",
    "#X = df.drop(columns=[target])\n",
    "X = df.copy()\n",
    "del X[target]\n",
    "\n",
    "X = pd.get_dummies(X, drop_first=True)\n",
    "columns = X.columns\n",
    "y = np.log(df[target])\n",
    "X_train, X_test, y_train, y_test = model_selection.train_test_split(X.values.astype(np.float64)\n",
    "                            , y.values, test_size = 0.3, random_state = 1)\n",
    "\n",
    "weights = []\n",
    "scores = []\n",
    "alphas = 10 ** np.linspace(-5, -1, 20)\n",
    "for alpha in alphas:\n",
    "    pipe = pipeline.Pipeline([\n",
    "        (\"scaler\", preprocessing.StandardScaler()),\n",
    "        (\"est\", linear_model.Lasso(alpha=alpha, max_iter=2000))\n",
    "    ])\n",
    "\n",
    "    pipe.fit(X_train, y_train)\n",
    "\n",
    "    y_train_pred = pipe.predict(X_train)\n",
    "    y_test_pred = pipe.predict(X_test)\n",
    "\n",
    "    r2_train = metrics.r2_score(y_train, y_train_pred)\n",
    "    r2_test = metrics.r2_score(y_test, y_test_pred)\n",
    "    mse_train = metrics.mean_squared_error(y_train, y_train_pred)\n",
    "    mse_test = metrics.mean_squared_error(y_test, y_test_pred)\n",
    "    weights.append(pipe.steps[-1][-1].coef_)\n",
    "    \"\"\"\n",
    "    print(\"alpha\", alpha,\n",
    "          \"\\nr2 Train:\", r2_train,\n",
    "          \"\\nr2 test: \", r2_test,\n",
    "          \"\\nmse train: \", mse_train,\n",
    "          \"\\nmse test: \", mse_test\n",
    "         )\n",
    "    \"\"\"\n",
    "    scores.append(r2_test)\n"
   ]
  },
  {
   "cell_type": "code",
   "execution_count": 143,
   "metadata": {},
   "outputs": [
    {
     "data": {
      "image/png": "[encoded data removed]",
      "text/plain": [
       "<matplotlib.figure.Figure at 0x1a19031cf8>"
      ]
     },
     "metadata": {},
     "output_type": "display_data"
    }
   ],
   "source": [
    "%matplotlib inline\n",
    "import matplotlib.pyplot as plt\n",
    "\n",
    "plt.plot(alphas, scores)\n",
    "plt.xlabel(\"Alpha\")\n",
    "plt.ylabel(\"R2_test\")\n",
    "plt.xscale(\"log\")"
   ]
  },
  {
   "cell_type": "code",
   "execution_count": 145,
   "metadata": {},
   "outputs": [
    {
     "data": {
      "text/plain": [
       "Text(0.5,1,'Effect of regularization param (alpha)\\n on magnitude of weights')"
      ]
     },
     "execution_count": 145,
     "metadata": {},
     "output_type": "execute_result"
    },
    {
     "data": {
      "image/png": "[encoded data removed]",
      "text/plain": [
       "<matplotlib.figure.Figure at 0x1a1892c240>"
      ]
     },
     "metadata": {},
     "output_type": "display_data"
    }
   ],
   "source": [
    "plt.plot(alphas, weights)\n",
    "plt.legend([])\n",
    "plt.xscale(\"log\")\n",
    "plt.xlabel(\"Alpha\")\n",
    "plt.ylabel(\"Weights\")\n",
    "plt.title(\"Effect of regularization param (alpha)\\n on magnitude of weights\")"
   ]
  },
  {
   "cell_type": "code",
   "execution_count": 113,
   "metadata": {},
   "outputs": [
    {
     "data": {
      "text/plain": [
       "array([-1.38721715e-03, -1.46704633e-04,  2.36646321e-02,  7.09309794e-02,\n",
       "        3.60599570e-02,  4.54610592e-02,  1.33382890e-02,  0.00000000e+00,\n",
       "        1.44749149e-02,  4.99840164e-03, -0.00000000e+00,  5.09939791e-03,\n",
       "        1.15512453e-02,  0.00000000e+00,  2.07419755e-04,  1.13232346e-01,\n",
       "        1.40850467e-02,  0.00000000e+00,  1.08404511e-02,  4.18009870e-03,\n",
       "        4.95698854e-03, -1.40261097e-02,  1.19358821e-02,  8.43140248e-03,\n",
       "       -0.00000000e+00,  2.66330189e-02,  1.67805154e-02,  1.16293889e-02,\n",
       "        1.04283787e-02,  1.12742113e-02,  2.08444401e-03,  1.29256445e-02,\n",
       "        1.62945996e-02,  5.57123389e-04,  1.40456546e-04, -1.05877140e-03,\n",
       "        5.85297441e-03,  6.02788346e-03,  1.70761645e-02, -0.00000000e+00,\n",
       "        3.72107374e-04, -4.30284512e-03,  6.26641386e-03,  5.41007041e-03,\n",
       "       -0.00000000e+00, -8.69002415e-04,  1.00967272e-02, -0.00000000e+00,\n",
       "        1.93266565e-02,  8.02236098e-03, -0.00000000e+00, -1.30506104e-03,\n",
       "       -2.93522304e-03,  2.30399055e-03, -7.36645224e-03, -1.09476387e-03,\n",
       "       -2.39348596e-03,  1.22509848e-03,  8.62619354e-03,  0.00000000e+00,\n",
       "        2.63642001e-02, -1.50318478e-02, -1.64470780e-03, -9.82509094e-04,\n",
       "       -1.43167224e-02, -3.21430259e-03, -6.94116211e-03,  0.00000000e+00,\n",
       "       -3.27779919e-03,  7.53470823e-03,  2.96210799e-02, -9.21079035e-03,\n",
       "        0.00000000e+00, -3.09770928e-03,  1.81753427e-03,  7.61577538e-03,\n",
       "        2.24773366e-02,  2.08497845e-03,  2.30027563e-03,  0.00000000e+00,\n",
       "        1.97936831e-02, -0.00000000e+00,  6.03598459e-03, -2.38808688e-03,\n",
       "        5.06344288e-03, -0.00000000e+00,  4.33874073e-03,  0.00000000e+00,\n",
       "        0.00000000e+00,  4.94985999e-03, -3.17383319e-02, -2.22385115e-04,\n",
       "        0.00000000e+00, -0.00000000e+00,  2.57921961e-03, -0.00000000e+00,\n",
       "       -1.51737397e-02, -1.73625804e-02,  1.25599472e-03,  6.68702806e-03,\n",
       "       -2.27078584e-03,  2.19813941e-03, -3.84916679e-03, -0.00000000e+00,\n",
       "        2.61806234e-03, -4.67856752e-03,  4.48189477e-03,  0.00000000e+00,\n",
       "        6.74864511e-03, -0.00000000e+00,  1.89454988e-01,  4.85427542e-02,\n",
       "        0.00000000e+00,  4.19996633e-02,  1.32195090e-01,  6.60349038e-02,\n",
       "        9.25490224e-02,  0.00000000e+00, -1.14531064e-02,  9.71943221e-03,\n",
       "       -0.00000000e+00,  6.45623409e-04, -6.28630400e-03,  0.00000000e+00,\n",
       "        0.00000000e+00,  0.00000000e+00,  0.00000000e+00, -4.26714128e-03,\n",
       "        1.39539211e-03, -4.67561902e-03, -0.00000000e+00, -0.00000000e+00,\n",
       "        0.00000000e+00, -0.00000000e+00, -0.00000000e+00,  4.31280286e-03,\n",
       "       -0.00000000e+00, -0.00000000e+00,  0.00000000e+00, -3.35740277e-03,\n",
       "       -2.80496584e-03, -1.97079715e-04, -6.74626777e-04,  0.00000000e+00,\n",
       "        3.07282601e-03, -3.11268480e-03,  0.00000000e+00, -0.00000000e+00,\n",
       "        1.28415915e-03, -5.89608390e-03, -0.00000000e+00, -2.26112261e-03,\n",
       "       -8.51084810e-03, -0.00000000e+00, -2.06615720e-03,  6.12457282e-03,\n",
       "        0.00000000e+00,  1.29579407e-02, -0.00000000e+00, -0.00000000e+00,\n",
       "       -3.39137568e-03, -7.40104257e-04, -0.00000000e+00, -2.49595274e-03,\n",
       "       -2.78807391e-03,  5.72032544e-03, -1.43434281e-03,  0.00000000e+00,\n",
       "        5.98776525e-03,  1.32525224e-02, -1.99492453e-03, -9.49420587e-03,\n",
       "       -1.01772804e-02,  0.00000000e+00,  2.58470467e-03, -5.01319101e-03,\n",
       "       -0.00000000e+00, -0.00000000e+00, -1.45512759e-02, -3.15470290e-03,\n",
       "        3.40063049e-03, -3.99489628e-03, -4.20820638e-03, -0.00000000e+00,\n",
       "        0.00000000e+00,  0.00000000e+00,  0.00000000e+00, -7.18417079e-03,\n",
       "       -3.46931379e-03,  2.23031944e-03, -4.87776182e-03, -5.12083790e-03,\n",
       "        0.00000000e+00, -9.83464770e-03,  1.17900184e-02, -4.17334678e-03,\n",
       "        0.00000000e+00,  0.00000000e+00, -6.93737769e-03, -0.00000000e+00,\n",
       "       -1.35045156e-02, -1.51286707e-02, -1.66567474e-02, -4.33619790e-05,\n",
       "        7.05099061e-04, -2.62892868e-03, -8.29036991e-03,  8.41463738e-03,\n",
       "       -1.23670369e-03,  3.24130194e-03, -8.73943083e-03,  2.23119440e-03,\n",
       "       -0.00000000e+00,  9.63376656e-03, -0.00000000e+00, -0.00000000e+00,\n",
       "       -2.08510534e-03,  0.00000000e+00, -3.10714288e-03, -6.95464560e-16,\n",
       "        0.00000000e+00, -1.21683747e-03, -6.21842231e-03,  0.00000000e+00,\n",
       "       -4.27758894e-06, -1.83111010e-03,  0.00000000e+00, -2.40309202e-04,\n",
       "        9.56897741e-04, -0.00000000e+00,  7.23855921e-03,  0.00000000e+00,\n",
       "       -1.82690521e-03,  1.75768799e-03,  0.00000000e+00, -4.64478898e-03,\n",
       "        1.46772339e-02, -2.26975967e-03, -0.00000000e+00,  0.00000000e+00,\n",
       "       -0.00000000e+00,  4.03061437e-03, -7.19672009e-04, -0.00000000e+00,\n",
       "        0.00000000e+00,  5.61632716e-04,  4.84215467e-03,  2.62722693e-03,\n",
       "       -2.51959210e-03, -0.00000000e+00,  2.74512346e-02,  7.46155393e-03,\n",
       "       -1.48461983e-03,  0.00000000e+00,  8.91727814e-03, -1.66365095e-04,\n",
       "        2.16323040e-02,  0.00000000e+00])"
      ]
     },
     "execution_count": 113,
     "metadata": {},
     "output_type": "execute_result"
    }
   ],
   "source": [
    "est = pipe.steps[-1][-1]\n",
    "est.coef_"
   ]
  },
  {
   "cell_type": "code",
   "execution_count": null,
   "metadata": {},
   "outputs": [],
   "source": []
  }
 ],
 "metadata": {
  "kernelspec": {
   "display_name": "Python 3",
   "language": "python",
   "name": "python3"
  },
  "language_info": {
   "codemirror_mode": {
    "name": "ipython",
    "version": 3
   },
   "file_extension": ".py",
   "mimetype": "text/x-python",
   "name": "python",
   "nbconvert_exporter": "python",
   "pygments_lexer": "ipython3",
   "version": "3.6.5"
  }
 },
 "nbformat": 4,
 "nbformat_minor": 2
}
