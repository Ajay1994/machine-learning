{
 "cells": [
  {
   "cell_type": "markdown",
   "metadata": {},
   "source": [
    "# Exercise: Find top 10 movies \n",
    "\n",
    "Dataset: movielens.org database https://github.com/abulbasar/data/tree/master/ml-latest-small\n",
    "\n",
    "In dataset each movies (movies.csv) contain 1 to many ratings (ratings.csv)\n",
    "\n",
    "1. Load movies.csv in movies dataframe\n",
    "2. Load ratings.csv in ratings dataframe\n",
    "3. Find how many ratings \"Toy Story (1995)\" have got\n",
    "4. Find avg rating and number of rating for each movieid\n",
    "5. Filter out all movies that have got fewer than 100 ratings\n",
    "6. Join movies and ratings dataframe to show title, avg_rating \n",
    "7. Sort the data based on avg rating  desc order\n",
    "8. Select top 10 movies.\n",
    "\n",
    "    \n"
   ]
  },
  {
   "cell_type": "code",
   "execution_count": null,
   "metadata": {},
   "outputs": [],
   "source": []
  }
 ],
 "metadata": {
  "kernelspec": {
   "display_name": "Python 3",
   "language": "python",
   "name": "python3"
  },
  "language_info": {
   "codemirror_mode": {
    "name": "ipython",
    "version": 3
   },
   "file_extension": ".py",
   "mimetype": "text/x-python",
   "name": "python",
   "nbconvert_exporter": "python",
   "pygments_lexer": "ipython3",
   "version": "3.6.4"
  }
 },
 "nbformat": 4,
 "nbformat_minor": 2
}
