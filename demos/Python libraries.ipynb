{
 "cells": [
  {
   "cell_type": "code",
   "execution_count": 2,
   "metadata": {},
   "outputs": [
    {
     "name": "stdout",
     "output_type": "stream",
     "text": [
      "python: 3.6.4 |Anaconda, Inc.| (default, Jan 16 2018, 12:04:33) \n",
      "[GCC 4.2.1 Compatible Clang 4.0.1 (tags/RELEASE_401/final)] \n",
      "pandas: 0.22.0 \n",
      "numpy: 1.14.2 \n",
      "scikit learn: 0.19.1 \n",
      "matplotlib 2.1.2 \n",
      "tensorflow: 1.6.0 \n",
      "keras: 2.1.5\n"
     ]
    }
   ],
   "source": [
    "import sys\n",
    "import pandas as pd\n",
    "import numpy as np\n",
    "import sklearn\n",
    "from sklearn import *\n",
    "import matplotlib\n",
    "import matplotlib.pyplot as plt\n",
    "import tensorflow as tf\n",
    "import keras\n",
    "\n",
    "%matplotlib inline\n",
    "\n",
    "print(\"python:\", sys.version,\n",
    "\"\\npandas:\", pd.__version__,\n",
    "\"\\nnumpy:\", np.__version__,\n",
    "\"\\nscikit learn:\", sklearn.__version__,\n",
    "\"\\nmatplotlib\", matplotlib.__version__,\n",
    "\"\\ntensorflow:\", tf.__version__,\n",
    "\"\\nkeras:\", keras.__version__)"
   ]
  },
  {
   "cell_type": "code",
   "execution_count": null,
   "metadata": {},
   "outputs": [],
   "source": []
  }
 ],
 "metadata": {
  "kernelspec": {
   "display_name": "Python 3",
   "language": "python",
   "name": "python3"
  },
  "language_info": {
   "codemirror_mode": {
    "name": "ipython",
    "version": 3
   },
   "file_extension": ".py",
   "mimetype": "text/x-python",
   "name": "python",
   "nbconvert_exporter": "python",
   "pygments_lexer": "ipython3",
   "version": "3.6.4"
  }
 },
 "nbformat": 4,
 "nbformat_minor": 2
}
