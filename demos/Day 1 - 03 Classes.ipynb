{
 "cells": [
  {
   "cell_type": "code",
   "execution_count": 1,
   "metadata": {},
   "outputs": [],
   "source": [
    "class Robot:\n",
    "    pass"
   ]
  },
  {
   "cell_type": "code",
   "execution_count": 2,
   "metadata": {},
   "outputs": [],
   "source": [
    "r = Robot()"
   ]
  },
  {
   "cell_type": "code",
   "execution_count": 4,
   "metadata": {},
   "outputs": [],
   "source": [
    "r.name = \"x01\""
   ]
  },
  {
   "cell_type": "code",
   "execution_count": 5,
   "metadata": {},
   "outputs": [
    {
     "data": {
      "text/plain": [
       "<__main__.Robot at 0x10be5c390>"
      ]
     },
     "execution_count": 5,
     "metadata": {},
     "output_type": "execute_result"
    }
   ],
   "source": [
    "r"
   ]
  },
  {
   "cell_type": "code",
   "execution_count": 6,
   "metadata": {},
   "outputs": [
    {
     "data": {
      "text/plain": [
       "'x01'"
      ]
     },
     "execution_count": 6,
     "metadata": {},
     "output_type": "execute_result"
    }
   ],
   "source": [
    "r.name"
   ]
  },
  {
   "cell_type": "code",
   "execution_count": 13,
   "metadata": {},
   "outputs": [
    {
     "name": "stdout",
     "output_type": "stream",
     "text": [
      "Robot1: x01 (0.0, 0.0)\n",
      "Robot2: x02 (0.0, 0.0)\n"
     ]
    }
   ],
   "source": [
    "class Robot:\n",
    "    \n",
    "    def __init__(self, name, pos = (0.0, 0.0)):\n",
    "        self.name = name\n",
    "        self.pos = pos\n",
    "    \n",
    "    def __str__(self):\n",
    "        return \"%s %s\" % (self.name, self.pos)\n",
    "\n",
    "r1 = Robot(\"x01\")\n",
    "r2 = Robot(\"x02\")\n",
    "print(\"Robot1:\", r1)\n",
    "print(\"Robot2:\", r2)"
   ]
  },
  {
   "cell_type": "code",
   "execution_count": 27,
   "metadata": {},
   "outputs": [
    {
     "name": "stdout",
     "output_type": "stream",
     "text": [
      "Robot1: x01 0.000000, 0.000000\n",
      "Robot2: x02 0.000000, 0.000000\n",
      "x01 0.100000, 0.200000\n"
     ]
    }
   ],
   "source": [
    "#  Position class captures the location (x, y coordinate) \n",
    "# of the Robot \n",
    "class Position:\n",
    "    def __init__(self, x = 0.0, y = 0.0):\n",
    "        self.x = x\n",
    "        self.y = y\n",
    "    def __str__(self):\n",
    "        return \"%f, %f\" % (self.x, self.y)\n",
    "    \n",
    "    def move(self, amount):\n",
    "        self.x = self.x + amount[0]\n",
    "        self.y = self.y + amount[1]\n",
    "\n",
    "\n",
    "class Robot:\n",
    "    \n",
    "    # Initializer with position as constructor arguments\n",
    "    def __init__(self, name, pos = (0.0, 0.0)):\n",
    "        \n",
    "        self.name = name\n",
    "        self.pos = Position() # Instace of Position class\n",
    "    \n",
    "    # This is a magic function which is called when print is invoked on this object\n",
    "    def __str__(self):\n",
    "        return \"%s %s\" % (self.name, self.pos)\n",
    "    \n",
    "    # Method to move the robot by an amount\n",
    "    def move(self, amount):\n",
    "        self.pos.move(amount)\n",
    "        \n",
    "\n",
    "r1 = Robot(\"x01\")\n",
    "r2 = Robot(\"x02\")\n",
    "print(\"Robot1:\", r1)\n",
    "print(\"Robot2:\", r2)\n",
    "\n",
    "r1.move((0.1, 0.2))\n",
    "print(r1)"
   ]
  },
  {
   "cell_type": "code",
   "execution_count": 36,
   "metadata": {},
   "outputs": [
    {
     "name": "stdout",
     "output_type": "stream",
     "text": [
      "Animal:  Cat Tom\n",
      "Cat:  Cat Tom\n"
     ]
    }
   ],
   "source": [
    "class Animal:\n",
    "    \n",
    "    def show(self):\n",
    "        print(\"Animal: \", self.name)\n",
    "    def __init__(self, name):\n",
    "        self.name = \"Animal %s\" % name\n",
    "\n",
    "class Cat(Animal):\n",
    "    def __init__(self, name):\n",
    "        self.name = \"Cat %s\" % name\n",
    "        \n",
    "    def show(self):\n",
    "        super().show()\n",
    "        print(\"Cat: \", self.name)\n",
    "\n",
    "c = Cat(\"Tom\")\n",
    "c.show()"
   ]
  },
  {
   "cell_type": "code",
   "execution_count": 21,
   "metadata": {},
   "outputs": [],
   "source": []
  },
  {
   "cell_type": "code",
   "execution_count": null,
   "metadata": {},
   "outputs": [],
   "source": []
  }
 ],
 "metadata": {
  "kernelspec": {
   "display_name": "Python 3",
   "language": "python",
   "name": "python3"
  },
  "language_info": {
   "codemirror_mode": {
    "name": "ipython",
    "version": 3
   },
   "file_extension": ".py",
   "mimetype": "text/x-python",
   "name": "python",
   "nbconvert_exporter": "python",
   "pygments_lexer": "ipython3",
   "version": "3.6.6"
  }
 },
 "nbformat": 4,
 "nbformat_minor": 2
}
