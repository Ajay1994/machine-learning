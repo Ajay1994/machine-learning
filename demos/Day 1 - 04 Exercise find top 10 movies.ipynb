{
 "cells": [
  {
   "cell_type": "markdown",
   "metadata": {},
   "source": [
    "# Exercise: find top 10 movies\n",
    "\n",
    "Dataset: /data/movielens, there are files like movies.csv, ratings.csv\n",
    "\n",
    "1. Load movies.csv as movies dataframe\n",
    "2. Find number of the movies\n",
    "3. Do you see any duplicate in movieId column\n",
    "4. Load ratings.csv as ratings dataframe\n",
    "5. For movieId = 1, how many ratings are there and what is average rating. \n",
    "6. Find avg rating and number of ratings (rating count) for each movieId\n",
    "7. In #6, Filter all movieId that contains fewer than 100 ratings\n",
    "8. Merge (Hint: use pd.merge function) #7 with movies dataframe from #1\n",
    "9. Sort the data #8 based on avg_rating and take top 10 values.\n",
    "10. Show movieId, title and avg_rating\n",
    "\n"
   ]
  },
  {
   "cell_type": "code",
   "execution_count": null,
   "metadata": {},
   "outputs": [],
   "source": []
  }
 ],
 "metadata": {
  "kernelspec": {
   "display_name": "Python 3",
   "language": "python",
   "name": "python3"
  },
  "language_info": {
   "codemirror_mode": {
    "name": "ipython",
    "version": 3
   },
   "file_extension": ".py",
   "mimetype": "text/x-python",
   "name": "python",
   "nbconvert_exporter": "python",
   "pygments_lexer": "ipython3",
   "version": "3.6.4"
  }
 },
 "nbformat": 4,
 "nbformat_minor": 2
}
