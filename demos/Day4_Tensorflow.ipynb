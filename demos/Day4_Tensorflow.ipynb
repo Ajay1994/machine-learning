{
 "cells": [
  {
   "cell_type": "code",
   "execution_count": 140,
   "metadata": {},
   "outputs": [],
   "source": [
    "import tensorflow as tf\n",
    "import pandas as pd\n",
    "from sklearn import *\n",
    "import numpy as np\n",
    "import matplotlib.pyplot as plt\n",
    "\n",
    "%matplotlib inline"
   ]
  },
  {
   "cell_type": "code",
   "execution_count": 2,
   "metadata": {},
   "outputs": [
    {
     "data": {
      "text/plain": [
       "'1.4.0'"
      ]
     },
     "execution_count": 2,
     "metadata": {},
     "output_type": "execute_result"
    }
   ],
   "source": [
    "tf.__version__"
   ]
  },
  {
   "cell_type": "code",
   "execution_count": 119,
   "metadata": {},
   "outputs": [
    {
     "name": "stdout",
     "output_type": "stream",
     "text": [
      "(47840, 4) (47840, 1)\n"
     ]
    }
   ],
   "source": [
    "df = pd.read_csv(\"/data/Combined_Cycle_Power_Plant.csv\")\n",
    "df.head()\n",
    "y = df.PE.values.reshape(-1, 1)\n",
    "X = df.iloc[:, :-1].values.astype(np.float32)\n",
    "X = preprocessing.StandardScaler().fit_transform(X)\n",
    "print(X.shape, y.shape)\n",
    "X_train, X_test, y_train, y_test = model_selection.train_test_split(X, y, test_size = 0.3, random_state = 134)"
   ]
  },
  {
   "cell_type": "code",
   "execution_count": 120,
   "metadata": {},
   "outputs": [
    {
     "name": "stdout",
     "output_type": "stream",
     "text": [
      "MSE:  20.8099125274\n"
     ]
    },
    {
     "data": {
      "text/plain": [
       "(array([ 454.35983276], dtype=float32),\n",
       " array([[-14.69581604,  -3.0020566 ,   0.38572252,  -2.29661846]], dtype=float32))"
      ]
     },
     "execution_count": 120,
     "metadata": {},
     "output_type": "execute_result"
    }
   ],
   "source": [
    "lr = linear_model.LinearRegression()\n",
    "lr.fit(X_train, y_train)\n",
    "print(\"MSE: \", metrics.mean_squared_error(y_test, lr.predict(X_test)))\n",
    "lr.intercept_, lr.coef_"
   ]
  },
  {
   "cell_type": "code",
   "execution_count": 137,
   "metadata": {
    "scrolled": false
   },
   "outputs": [
    {
     "name": "stdout",
     "output_type": "stream",
     "text": [
      "X: Tensor(\"X:0\", shape=(?, 4), dtype=float32)\n",
      "y: Tensor(\"y:0\", shape=(?, 1), dtype=float32)\n",
      "W: <tf.Variable 'W:0' shape=(4, 1) dtype=float32_ref>\n",
      "Z:  Tensor(\"add:0\", shape=(?, 1), dtype=float32)\n",
      "residual Tensor(\"sub:0\", shape=(?, 1), dtype=float32)\n",
      "MSE Tensor(\"Mean:0\", shape=(), dtype=float32)\n",
      "206649.0\n",
      "20.7549\n",
      "20.7549\n",
      "20.7549\n",
      "20.7549\n",
      "20.7549\n",
      "20.7549\n",
      "20.7549\n",
      "20.7549\n",
      "20.7549\n",
      "Test MSE 20.8099\n"
     ]
    }
   ],
   "source": [
    "tf.reset_default_graph()\n",
    "n_x, n_y = 4, 1 # number of features of df is 4, and output is single value \n",
    "max_iter = 10000\n",
    "\n",
    "X = tf.placeholder(dtype=tf.float32, shape=[None, n_x], name = \"X\")\n",
    "y = tf.placeholder(dtype=tf.float32, shape=[None, n_y], name = \"y\")\n",
    "\n",
    "print(\"X:\", X)\n",
    "print(\"y:\", y)\n",
    "\n",
    "W = tf.Variable(initial_value = tf.zeros([n_x, n_y], dtype=tf.float32), name=\"W\")\n",
    "#W = tf.Variable(tf.truncated_normal([n_x, n_y], stddev=0.1, seed = 1, dtype=tf.float32), name = \"W\")\n",
    "\n",
    "print(\"W:\", W)\n",
    "\n",
    "b = tf.Variable(0.0, dtype=tf.float32, name=\"b\")\n",
    "\n",
    "Z = tf.matmul(X, W) + b\n",
    "print(\"Z: \", Z)\n",
    "\n",
    "#y_pred = tf.nn.relu(Z)\n",
    "y_pred = Z\n",
    "\n",
    "\n",
    "residual = (y_pred - y)\n",
    "print(\"residual\", residual)\n",
    "\n",
    "mse = tf.reduce_mean(tf.square(residual))\n",
    "print(\"MSE\", mse)\n",
    "\n",
    "cost = mse\n",
    "\n",
    "optimizer = tf.train.GradientDescentOptimizer(learning_rate=0.1).minimize(cost)\n",
    "\n",
    "\n",
    "with tf.Session() as sess:\n",
    "    sess.run(tf.global_variables_initializer())\n",
    "    \n",
    "    for i in range(max_iter):\n",
    "        cost_, _ = sess.run([cost, optimizer], feed_dict={X: X_train, y: y_train})\n",
    "        if i % (max_iter//10) ==0:\n",
    "            print(cost_)\n",
    "    \n",
    "    mse_, y_test_pred = sess.run([mse, y_pred], feed_dict={X: X_test, y: y_test})\n",
    "    print(\"Test MSE\", mse_)"
   ]
  },
  {
   "cell_type": "code",
   "execution_count": 143,
   "metadata": {},
   "outputs": [
    {
     "data": {
      "image/png": "[encoded data removed]",
      "text/plain": [
       "<matplotlib.figure.Figure at 0x1a225cdeb8>"
      ]
     },
     "metadata": {},
     "output_type": "display_data"
    }
   ],
   "source": [
    "plt.hist(y_test_pred, bins = 50);"
   ]
  },
  {
   "cell_type": "code",
   "execution_count": 161,
   "metadata": {},
   "outputs": [
    {
     "name": "stdout",
     "output_type": "stream",
     "text": [
      "train mse:  0.0153533326614 test mse: 0.0227024586741\n"
     ]
    },
    {
     "name": "stderr",
     "output_type": "stream",
     "text": [
      "/Users/abulbasar/anaconda/lib/python3.6/site-packages/ipykernel_launcher.py:13: FutureWarning: reshape is deprecated and will raise in a subsequent release. Please use .values.reshape(...) instead\n",
      "  del sys.path[0]\n"
     ]
    }
   ],
   "source": [
    "df = pd.read_csv(\"/data/kaggle/house-prices/data_combined_cleaned.csv\")\n",
    "if \"Id\" in df.columns: \n",
    "    del df[\"Id\"]\n",
    "target = \"SalesPrice\"\n",
    "df_dummy = pd.get_dummies(df, drop_first=True)\n",
    "\n",
    "del df_dummy[target]\n",
    "X = preprocessing.StandardScaler().fit_transform(df_dummy)\n",
    "y = df[target]\n",
    "\n",
    "X = X[~np.isnan(y)]\n",
    "y = y[~np.isnan(y)]\n",
    "y = np.log(y).reshape(-1, 1)\n",
    "\n",
    "X_train, X_test, y_train, y_test = model_selection.train_test_split(X, y, \n",
    "                                    test_size = 0.3, random_state = 1)\n",
    "\n",
    "est = linear_model.Lasso(random_state=1, alpha=0.01, max_iter=10000)\n",
    "est.fit(X_train, y_train)\n",
    "print(\"train mse: \", metrics.mean_squared_error(y_train, est.predict(X_train)), \n",
    "      \"test mse:\", metrics.mean_squared_error(y_test, est.predict(X_test)))"
   ]
  },
  {
   "cell_type": "code",
   "execution_count": 166,
   "metadata": {},
   "outputs": [
    {
     "data": {
      "text/plain": [
       "((1022, 259), (438, 259), (1022, 1), (438, 1))"
      ]
     },
     "execution_count": 166,
     "metadata": {},
     "output_type": "execute_result"
    }
   ],
   "source": [
    "X_train.shape, X_test.shape, y_train.shape, y_test.shape"
   ]
  },
  {
   "cell_type": "code",
   "execution_count": 171,
   "metadata": {},
   "outputs": [
    {
     "name": "stdout",
     "output_type": "stream",
     "text": [
      "X: Tensor(\"X:0\", shape=(?, 259), dtype=float32)\n",
      "y: Tensor(\"y:0\", shape=(?, 1), dtype=float32)\n",
      "W: <tf.Variable 'W:0' shape=(259, 1) dtype=float32_ref>\n",
      "Z:  Tensor(\"add:0\", shape=(?, 1), dtype=float32)\n",
      "residual Tensor(\"sub:0\", shape=(?, 1), dtype=float32)\n",
      "MSE Tensor(\"Mean:0\", shape=(), dtype=float32)\n",
      "146.995\n",
      "0.0190361\n",
      "0.0118041\n",
      "0.0109312\n",
      "0.0108118\n",
      "0.0107951\n",
      "0.0107927\n",
      "0.0107924\n",
      "0.0107924\n",
      "0.0107923\n",
      "Test MSE 0.0232509\n"
     ]
    }
   ],
   "source": [
    "tf.reset_default_graph()\n",
    "n_x, n_y = X_train.shape[1], 1 # number of features of df is 4, and output is single value \n",
    "max_iter = 10000\n",
    "alpha = 100\n",
    "\n",
    "X = tf.placeholder(dtype=tf.float32, shape=[None, n_x], name = \"X\")\n",
    "y = tf.placeholder(dtype=tf.float32, shape=[None, n_y], name = \"y\")\n",
    "\n",
    "print(\"X:\", X)\n",
    "print(\"y:\", y)\n",
    "\n",
    "#W = tf.Variable(initial_value = tf.zeros([n_x, n_y], dtype=tf.float32), name=\"W\")\n",
    "W = tf.Variable(tf.truncated_normal([n_x, n_y], stddev=0.1, seed = 1, dtype=tf.float32), name = \"W\")\n",
    "\n",
    "print(\"W:\", W)\n",
    "\n",
    "b = tf.Variable(0.0, dtype=tf.float32, name=\"b\")\n",
    "\n",
    "Z = tf.matmul(X, W) + b\n",
    "print(\"Z: \", Z)\n",
    "\n",
    "#y_pred = tf.nn.relu(Z)\n",
    "y_pred = Z\n",
    "\n",
    "\n",
    "residual = (y_pred - y)\n",
    "print(\"residual\", residual)\n",
    "\n",
    "mse = tf.reduce_mean(tf.square(residual))\n",
    "print(\"MSE\", mse)\n",
    "\n",
    "regularization = tf.nn.l2_loss(W) / tf.cast(tf.shape(X)[0], tf.float32)\n",
    "\n",
    "cost = mse + alpha * regularization\n",
    "\n",
    "optimizer = tf.train.GradientDescentOptimizer(learning_rate=0.01).minimize(cost)\n",
    "\n",
    "\n",
    "with tf.Session() as sess:\n",
    "    sess.run(tf.global_variables_initializer())\n",
    "    \n",
    "    for i in range(max_iter):\n",
    "        cost_, _ = sess.run([cost, optimizer], feed_dict={X: X_train, y: y_train})\n",
    "        if i % (max_iter//10) ==0:\n",
    "            print(cost_)\n",
    "    \n",
    "    mse_, y_test_pred = sess.run([mse, y_pred], feed_dict={X: X_test, y: y_test})\n",
    "    print(\"Test MSE\", mse_)"
   ]
  },
  {
   "cell_type": "code",
   "execution_count": 175,
   "metadata": {},
   "outputs": [
    {
     "name": "stderr",
     "output_type": "stream",
     "text": [
      "/Users/abulbasar/anaconda/lib/python3.6/site-packages/sklearn/utils/validation.py:578: DataConversionWarning: A column-vector y was passed when a 1d array was expected. Please change the shape of y to (n_samples, ), for example using ravel().\n",
      "  y = column_or_1d(y, warn=True)\n"
     ]
    },
    {
     "data": {
      "text/plain": [
       "0.75666666666666671"
      ]
     },
     "execution_count": 175,
     "metadata": {},
     "output_type": "execute_result"
    }
   ],
   "source": [
    "df = pd.read_csv(\"/data/credit-default.csv\")\n",
    "y = np.where(df.default == 2, 1, 0).reshape(-1, 1)\n",
    "X = df.copy()\n",
    "target = \"default\"\n",
    "del X[target]\n",
    "X = pd.get_dummies(X, drop_first=True)\n",
    "columns = X.columns\n",
    "X = preprocessing.StandardScaler().fit_transform(X)\n",
    "X_train, X_test, y_train, y_test = model_selection.train_test_split(X, y, \n",
    "                                    test_size = 0.3, random_state = 1)\n",
    "\n",
    "lr = linear_model.LogisticRegression()\n",
    "lr.fit(X_train, y_train)\n",
    "lr.score(X_test, y_test)"
   ]
  },
  {
   "cell_type": "code",
   "execution_count": 176,
   "metadata": {},
   "outputs": [
    {
     "data": {
      "text/plain": [
       "((700, 48), (300, 48), (700, 1), (300, 1))"
      ]
     },
     "execution_count": 176,
     "metadata": {},
     "output_type": "execute_result"
    }
   ],
   "source": [
    "X_train.shape, X_test.shape, y_train.shape, y_test.shape"
   ]
  },
  {
   "cell_type": "code",
   "execution_count": 198,
   "metadata": {
    "scrolled": false
   },
   "outputs": [
    {
     "name": "stdout",
     "output_type": "stream",
     "text": [
      "X: Tensor(\"X:0\", shape=(?, 48), dtype=float32)\n",
      "y: Tensor(\"y:0\", shape=(?, 1), dtype=float32)\n",
      "W: <tf.Variable 'W:0' shape=(48, 1) dtype=float32_ref>\n",
      "Z:  Tensor(\"add:0\", shape=(?, 1), dtype=float32)\n",
      "0 0.764089\n",
      "25 0.525097\n",
      "50 0.480178\n",
      "75 0.459155\n",
      "100 0.447479\n",
      "125 0.440619\n",
      "150 0.436585\n",
      "175 0.434221\n",
      "200 0.432845\n",
      "225 0.432051\n",
      "Test log loss:  0.526942\n",
      "Test accuracy: 0.76\n"
     ]
    },
    {
     "data": {
      "text/plain": [
       "<matplotlib.axes._subplots.AxesSubplot at 0x1a18d65630>"
      ]
     },
     "execution_count": 198,
     "metadata": {},
     "output_type": "execute_result"
    },
    {
     "data": {
      "image/png": "[encoded data removed]",
      "text/plain": [
       "<matplotlib.figure.Figure at 0x1a242e3278>"
      ]
     },
     "metadata": {},
     "output_type": "display_data"
    }
   ],
   "source": [
    "tf.reset_default_graph()\n",
    "n_x, n_y = X_train.shape[1], 1 # number of features of df is 4, and output is single value \n",
    "max_iter = 250\n",
    "alpha = 100\n",
    "\n",
    "X = tf.placeholder(dtype=tf.float32, shape=[None, n_x], name = \"X\")\n",
    "y = tf.placeholder(dtype=tf.float32, shape=[None, n_y], name = \"y\")\n",
    "\n",
    "print(\"X:\", X)\n",
    "print(\"y:\", y)\n",
    "\n",
    "#W = tf.Variable(initial_value = tf.zeros([n_x, n_y], dtype=tf.float32), name=\"W\")\n",
    "W = tf.Variable(tf.truncated_normal([n_x, n_y], stddev=0.1, seed = 1, dtype=tf.float32), name = \"W\")\n",
    "\n",
    "print(\"W:\", W)\n",
    "\n",
    "b = tf.Variable(0.0, dtype=tf.float32, name=\"b\")\n",
    "\n",
    "Z = tf.matmul(X, W) + b\n",
    "print(\"Z: \", Z)\n",
    "\n",
    "y_prob = tf.nn.sigmoid(Z)\n",
    "\n",
    "\n",
    "cost = tf.reduce_mean(tf.nn.sigmoid_cross_entropy_with_logits(labels=y, logits=Z))\n",
    "\n",
    "optimizer = tf.train.AdamOptimizer(learning_rate=0.01).minimize(cost)\n",
    "\n",
    "\n",
    "with tf.Session() as sess:\n",
    "    sess.run(tf.global_variables_initializer())\n",
    "    scores = {}\n",
    "    for i in range(max_iter):\n",
    "        cost_, _ = sess.run([cost, optimizer], feed_dict={X: X_train, y: y_train})\n",
    "        scores[i] = cost_\n",
    "        if i % (max_iter//10) ==0:\n",
    "            print(i, cost_)\n",
    "    \n",
    "    cost_, y_test_prob = sess.run([cost, y_prob], feed_dict={X: X_test, y: y_test})\n",
    "    print(\"Test log loss: \", cost_)\n",
    "    \n",
    "y_test_pred = np.where(y_test_prob > 0.5, 1, 0)\n",
    "print(\"Test accuracy:\", metrics.accuracy_score(y_test_pred, y_test))\n",
    "\n",
    "pd.Series(scores).plot()"
   ]
  },
  {
   "cell_type": "code",
   "execution_count": null,
   "metadata": {},
   "outputs": [],
   "source": []
  }
 ],
 "metadata": {
  "kernelspec": {
   "display_name": "Python 3",
   "language": "python",
   "name": "python3"
  },
  "language_info": {
   "codemirror_mode": {
    "name": "ipython",
    "version": 3
   },
   "file_extension": ".py",
   "mimetype": "text/x-python",
   "name": "python",
   "nbconvert_exporter": "python",
   "pygments_lexer": "ipython3",
   "version": "3.6.3"
  }
 },
 "nbformat": 4,
 "nbformat_minor": 2
}
