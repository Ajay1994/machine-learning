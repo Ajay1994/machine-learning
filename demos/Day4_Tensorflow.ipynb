{
 "cells": [
  {
   "cell_type": "code",
   "execution_count": 92,
   "metadata": {},
   "outputs": [],
   "source": [
    "import tensorflow as tf\n",
    "import pandas as pd\n",
    "from sklearn import *\n",
    "import numpy as np"
   ]
  },
  {
   "cell_type": "code",
   "execution_count": 2,
   "metadata": {},
   "outputs": [
    {
     "data": {
      "text/plain": [
       "'1.4.0'"
      ]
     },
     "execution_count": 2,
     "metadata": {},
     "output_type": "execute_result"
    }
   ],
   "source": [
    "tf.__version__"
   ]
  },
  {
   "cell_type": "code",
   "execution_count": 119,
   "metadata": {},
   "outputs": [
    {
     "name": "stdout",
     "output_type": "stream",
     "text": [
      "(47840, 4) (47840, 1)\n"
     ]
    }
   ],
   "source": [
    "df = pd.read_csv(\"/data/Combined_Cycle_Power_Plant.csv\")\n",
    "df.head()\n",
    "y = df.PE.values.reshape(-1, 1)\n",
    "X = df.iloc[:, :-1].values.astype(np.float32)\n",
    "X = preprocessing.StandardScaler().fit_transform(X)\n",
    "print(X.shape, y.shape)\n",
    "X_train, X_test, y_train, y_test = model_selection.train_test_split(X, y, test_size = 0.3, random_state = 134)"
   ]
  },
  {
   "cell_type": "code",
   "execution_count": 120,
   "metadata": {},
   "outputs": [
    {
     "name": "stdout",
     "output_type": "stream",
     "text": [
      "MSE:  20.8099125274\n"
     ]
    },
    {
     "data": {
      "text/plain": [
       "(array([ 454.35983276], dtype=float32),\n",
       " array([[-14.69581604,  -3.0020566 ,   0.38572252,  -2.29661846]], dtype=float32))"
      ]
     },
     "execution_count": 120,
     "metadata": {},
     "output_type": "execute_result"
    }
   ],
   "source": [
    "lr = linear_model.LinearRegression()\n",
    "lr.fit(X_train, y_train)\n",
    "print(\"MSE: \", metrics.mean_squared_error(y_test, lr.predict(X_test)))\n",
    "lr.intercept_, lr.coef_"
   ]
  },
  {
   "cell_type": "code",
   "execution_count": 135,
   "metadata": {
    "scrolled": false
   },
   "outputs": [
    {
     "name": "stdout",
     "output_type": "stream",
     "text": [
      "X: Tensor(\"X:0\", shape=(?, 4), dtype=float32)\n",
      "y: Tensor(\"y:0\", shape=(?, 1), dtype=float32)\n",
      "W: <tf.Variable 'W:0' shape=(4, 1) dtype=float32_ref>\n",
      "Z:  Tensor(\"add:0\", shape=(?, 1), dtype=float32)\n",
      "residual Tensor(\"sub:0\", shape=(?, 1), dtype=float32)\n",
      "MSE Tensor(\"Mean:0\", shape=(), dtype=float32)\n",
      "206616.0\n",
      "20.7549\n",
      "20.7549\n",
      "20.7549\n",
      "20.7549\n",
      "20.7549\n",
      "20.7549\n",
      "20.7549\n",
      "20.7549\n",
      "20.7549\n",
      "Test MSE 20.8099\n"
     ]
    }
   ],
   "source": [
    "tf.reset_default_graph()\n",
    "n_x, n_y = 4, 1 # number of features of df is 4, and output is single value \n",
    "max_iter = 10000\n",
    "\n",
    "X = tf.placeholder(dtype=tf.float32, shape=[None, n_x], name = \"X\")\n",
    "y = tf.placeholder(dtype=tf.float32, shape=[None, n_y], name = \"y\")\n",
    "\n",
    "print(\"X:\", X)\n",
    "print(\"y:\", y)\n",
    "\n",
    "#W = tf.Variable(initial_value = tf.zeros([n_x, n_y], dtype=tf.float32), name=\"W\")\n",
    "W = tf.Variable(tf.truncated_normal([n_x, n_y], stddev=0.1, seed = 1, dtype=tf.float32), name = \"W\")\n",
    "\n",
    "print(\"W:\", W)\n",
    "\n",
    "b = tf.Variable(0.0, dtype=tf.float32, name=\"b\")\n",
    "\n",
    "Z = tf.matmul(X, W) + b\n",
    "print(\"Z: \", Z)\n",
    "\n",
    "y_pred = tf.nn.relu(Z)\n",
    "\n",
    "residual = (y_pred - y)\n",
    "print(\"residual\", residual)\n",
    "\n",
    "mse = tf.reduce_mean(tf.square(residual))\n",
    "print(\"MSE\", mse)\n",
    "\n",
    "cost = mse\n",
    "\n",
    "optimizer = tf.train.GradientDescentOptimizer(learning_rate=0.1).minimize(cost)\n",
    "\n",
    "\n",
    "with tf.Session() as sess:\n",
    "    sess.run(tf.global_variables_initializer())\n",
    "    \n",
    "    for i in range(max_iter):\n",
    "        cost_, _ = sess.run([cost, optimizer], feed_dict={X: X_train, y: y_train})\n",
    "        if i % (max_iter//10) ==0:\n",
    "            print(cost_)\n",
    "    \n",
    "    mse_ = sess.run(mse, feed_dict={X: X_test, y: y_test})\n",
    "    print(\"Test MSE\", mse_)"
   ]
  },
  {
   "cell_type": "code",
   "execution_count": 122,
   "metadata": {},
   "outputs": [
    {
     "data": {
      "text/plain": [
       "<tf.Tensor 'zeros:0' shape=(4, 1) dtype=float32>"
      ]
     },
     "execution_count": 122,
     "metadata": {},
     "output_type": "execute_result"
    }
   ],
   "source": [
    "tf.zeros(shape= [n_x, n_y])"
   ]
  },
  {
   "cell_type": "code",
   "execution_count": 79,
   "metadata": {},
   "outputs": [],
   "source": [
    "tf.zeros?"
   ]
  },
  {
   "cell_type": "code",
   "execution_count": null,
   "metadata": {},
   "outputs": [],
   "source": []
  }
 ],
 "metadata": {
  "kernelspec": {
   "display_name": "Python 3",
   "language": "python",
   "name": "python3"
  },
  "language_info": {
   "codemirror_mode": {
    "name": "ipython",
    "version": 3
   },
   "file_extension": ".py",
   "mimetype": "text/x-python",
   "name": "python",
   "nbconvert_exporter": "python",
   "pygments_lexer": "ipython3",
   "version": "3.6.3"
  }
 },
 "nbformat": 4,
 "nbformat_minor": 2
}
